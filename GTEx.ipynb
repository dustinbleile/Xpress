{
 "cells": [
  {
   "cell_type": "code",
   "execution_count": 1,
   "metadata": {},
   "outputs": [],
   "source": [
    "import os, sys, glob, logging\n",
    "\n",
    "import pandas, scipy, numpy\n",
    "\n",
    "import time, datetime, pprint\n"
   ]
  },
  {
   "cell_type": "code",
   "execution_count": 2,
   "metadata": {},
   "outputs": [
    {
     "data": {
      "text/html": [
       "<script type=\"text/javascript\">window.PlotlyConfig = {MathJaxConfig: 'local'};</script><script type=\"text/javascript\">if (window.MathJax) {MathJax.Hub.Config({SVG: {font: \"STIX-Web\"}});}</script><script>requirejs.config({paths: { 'plotly': ['https://cdn.plot.ly/plotly-latest.min']},});if(!window._Plotly) {require(['plotly'],function(plotly) {window._Plotly=plotly;});}</script>"
      ],
      "text/vnd.plotly.v1+html": [
       "<script type=\"text/javascript\">window.PlotlyConfig = {MathJaxConfig: 'local'};</script><script type=\"text/javascript\">if (window.MathJax) {MathJax.Hub.Config({SVG: {font: \"STIX-Web\"}});}</script><script>requirejs.config({paths: { 'plotly': ['https://cdn.plot.ly/plotly-latest.min']},});if(!window._Plotly) {require(['plotly'],function(plotly) {window._Plotly=plotly;});}</script>"
      ]
     },
     "metadata": {},
     "output_type": "display_data"
    },
    {
     "data": {
      "text/html": [
       "<script type=\"text/javascript\">window.PlotlyConfig = {MathJaxConfig: 'local'};</script><script type=\"text/javascript\">if (window.MathJax) {MathJax.Hub.Config({SVG: {font: \"STIX-Web\"}});}</script><script>requirejs.config({paths: { 'plotly': ['https://cdn.plot.ly/plotly-latest.min']},});if(!window._Plotly) {require(['plotly'],function(plotly) {window._Plotly=plotly;});}</script>"
      ],
      "text/vnd.plotly.v1+html": [
       "<script type=\"text/javascript\">window.PlotlyConfig = {MathJaxConfig: 'local'};</script><script type=\"text/javascript\">if (window.MathJax) {MathJax.Hub.Config({SVG: {font: \"STIX-Web\"}});}</script><script>requirejs.config({paths: { 'plotly': ['https://cdn.plot.ly/plotly-latest.min']},});if(!window._Plotly) {require(['plotly'],function(plotly) {window._Plotly=plotly;});}</script>"
      ]
     },
     "metadata": {},
     "output_type": "display_data"
    }
   ],
   "source": [
    "logging.basicConfig(level=logging.INFO)\n",
    "# logging.info('logging info')\n",
    "# logging.warning('logging.warning')\n",
    "\n",
    "\n",
    "import plotly\n",
    "import plotly.plotly as py\n",
    "import plotly.graph_objs as go\n",
    "from plotly.offline import iplot, init_notebook_mode\n",
    "\n",
    "# Using plotly + cufflinks in offline mode\n",
    "import cufflinks\n",
    "cufflinks.go_offline(connected=True)\n",
    "init_notebook_mode(connected=True)"
   ]
  },
  {
   "cell_type": "code",
   "execution_count": 3,
   "metadata": {},
   "outputs": [
    {
     "name": "stderr",
     "output_type": "stream",
     "text": [
      "INFO:root:logging\n"
     ]
    },
    {
     "name": "stdout",
     "output_type": "stream",
     "text": [
      "['Adipose Tissue', 'Adrenal Gland', 'Bladder', 'Blood', 'Blood Vessel', 'Bone Marrow', 'Brain', 'Breast', 'Cervix Uteri', 'Colon', 'Esophagus', 'Fallopian Tube', 'Heart', 'Kidney', 'Liver', 'Lung', 'Muscle', 'Nerve', 'Ovary', 'Pancreas', 'Pituitary', 'Prostate', 'Salivary Gland', 'Skin', 'Small Intestine', 'Spleen', 'Stomach', 'Testis', 'Thyroid', 'Uterus', 'Vagina']\n"
     ]
    }
   ],
   "source": [
    "\n",
    "logging.info(\"logging\")\n",
    "\n",
    "\n",
    "# GTEx data from https://gtexportal.org/home/datasets\n",
    "# Gene transcripts per million data\n",
    "cache_dir = '/home/zeno/c_drive/Users/Zeno/Downloads'\n",
    "\n",
    "# Detailed data file:\n",
    "# https://storage.googleapis.com/gtex_analysis_v7/rna_seq_data/GTEx_Analysis_2016-01-15_v7_RNASeQCv1.1.8_gene_tpm.gct.gz\n",
    "gtex_tpm_fn = os.path.join(cache_dir, 'GTEx_Analysis_2016-01-15_v7_RNASeQCv1.1.8_gene_tpm.gct.gz')\n",
    "\n",
    "# Sample annotation data\n",
    "# Main sample data of interest is:\n",
    "# 'SMTS': 'Tissue Type, area from which the tissue sample was taken.  This is a parent value to SMTSD.'\n",
    "# 'SMTSD': 'SMTS Detailed'\n",
    "gtex_attr_fn = os.path.join(cache_dir, 'GTEx_v7_Annotations_SampleAttributesDS.txt')\n",
    "gs = pandas.read_csv(gtex_attr_fn, sep='\\t')\n",
    "\n",
    "tissue_types = sorted(gs['SMTS'].unique())\n",
    "\n",
    "tissue_dict = dict()\n",
    "for tissue in tissue_types:\n",
    "    tissue_dict[tissue] = sorted(gs[gs['SMTS'] == tissue]['SMTSD'].unique())\n",
    "\n",
    "tissue_subtypes = sorted(gs['SMTSD'].unique())\n",
    "\n",
    "print(tissue_types)\n",
    "\n",
    "# Just getting a few rows of this giant file\n",
    "#gtpm_head = pandas.read_table(gtex_tpm_fn, skiprows=2, sep='\\t', nrows=1000, usecols=range(3))\n",
    "GTPM_SKIP = 2\n",
    "gtpm_ = pandas.read_table(gtex_tpm_fn, skiprows=2, sep='\\t', usecols=range(4))\n",
    "\n",
    "# Other annotation data\n",
    "\n",
    "# Mutually exclusive \n",
    "# Which study was this from?\n",
    "mut_info_fn = os.path.join(cache_dir, 'enrichments-analysis-result.txt')\n",
    "#mut_info = pandas.read_csv(mut_info_fn, sep='\\t')\n",
    "\n",
    "\n",
    "# Genes of interest\n",
    "TEST_GENES = [\n",
    "    'FAM138A',  # highly expressed\n",
    "    'TP53'\n",
    "]"
   ]
  },
  {
   "cell_type": "code",
   "execution_count": 4,
   "metadata": {},
   "outputs": [
    {
     "name": "stdout",
     "output_type": "stream",
     "text": [
      "['FAM138A', 'TP53']\n",
      "[2, 6, 43806]\n"
     ]
    }
   ],
   "source": [
    "def gtpm_row_by_genename(gene_name):\n",
    "    sub_table = gtpm_[gtpm_['Description'] == gene_name]\n",
    "    return [GTPM_SKIP + 1 + i for i in sub_table.index][0]\n",
    "\n",
    "def gtpm_skip_rows(row_ndx, gene_list=TEST_GENES):\n",
    "    if row_ndx == GTPM_SKIP:\n",
    "        return False  # header\n",
    "    if row_ndx in range(GTPM_SKIP):\n",
    "        return True\n",
    "    for gn in gene_list:\n",
    "        if row_ndx in gtpm_row_by_genename(gn):\n",
    "            return False\n",
    "    return True\n",
    "\n",
    "def gtpm_keep_rows(gene_list=TEST_GENES):\n",
    "    print(gene_list)\n",
    "    return [GTPM_SKIP] + [gtpm_row_by_genename(gene) for gene in gene_list]\n",
    "\n",
    "keep_rows = gtpm_keep_rows()\n",
    "print(keep_rows)"
   ]
  },
  {
   "cell_type": "code",
   "execution_count": 10,
   "metadata": {},
   "outputs": [
    {
     "name": "stdout",
     "output_type": "stream",
     "text": [
      "[2, 6, 43806]\n",
      "Tmp table took 0.6716208497683207 minutes\n"
     ]
    }
   ],
   "source": [
    "print(keep_rows)\n",
    "\n",
    "start_time = time.time()\n",
    "gtpm = pandas.read_table(gtex_tpm_fn, skiprows=lambda x: x not in keep_rows, sep='\\t', header=0, usecols=range(100))\n",
    "\n",
    "#gtpm = pandas.read_table(gtex_tpm_fn, skiprows=gtpm_skip_rows, sep='\\t',)\n",
    "end_time = time.time()\n",
    "\n",
    "print(\"Tmp table took {} minutes\".format((end_time - start_time)/60))\n"
   ]
  },
  {
   "cell_type": "code",
   "execution_count": 11,
   "metadata": {
    "scrolled": true
   },
   "outputs": [
    {
     "data": {
      "text/html": [
       "<div>\n",
       "<style scoped>\n",
       "    .dataframe tbody tr th:only-of-type {\n",
       "        vertical-align: middle;\n",
       "    }\n",
       "\n",
       "    .dataframe tbody tr th {\n",
       "        vertical-align: top;\n",
       "    }\n",
       "\n",
       "    .dataframe thead th {\n",
       "        text-align: right;\n",
       "    }\n",
       "</style>\n",
       "<table border=\"1\" class=\"dataframe\">\n",
       "  <thead>\n",
       "    <tr style=\"text-align: right;\">\n",
       "      <th></th>\n",
       "      <th>Name</th>\n",
       "      <th>Description</th>\n",
       "      <th>GTEX-1117F-0226-SM-5GZZ7</th>\n",
       "      <th>GTEX-111CU-1826-SM-5GZYN</th>\n",
       "      <th>GTEX-111FC-0226-SM-5N9B8</th>\n",
       "      <th>GTEX-111VG-2326-SM-5N9BK</th>\n",
       "      <th>GTEX-111YS-2426-SM-5GZZQ</th>\n",
       "      <th>GTEX-1122O-2026-SM-5NQ91</th>\n",
       "      <th>GTEX-1128S-2126-SM-5H12U</th>\n",
       "      <th>GTEX-113IC-0226-SM-5HL5C</th>\n",
       "      <th>...</th>\n",
       "      <th>GTEX-13IVO-0226-SM-5LZXU</th>\n",
       "      <th>GTEX-13JUV-2826-SM-5LZWU</th>\n",
       "      <th>GTEX-13JVG-0226-SM-5J1MW</th>\n",
       "      <th>GTEX-13N11-2626-SM-5K7UQ</th>\n",
       "      <th>GTEX-13N1W-0226-SM-5K7W6</th>\n",
       "      <th>GTEX-13N2G-2726-SM-5J1MG</th>\n",
       "      <th>GTEX-13NYS-0226-SM-5MR49</th>\n",
       "      <th>GTEX-13NZ8-0926-SM-5MR3U</th>\n",
       "      <th>GTEX-13NZ9-0526-SM-5J1OX</th>\n",
       "      <th>GTEX-13NZA-0126-SM-5K7UH</th>\n",
       "    </tr>\n",
       "  </thead>\n",
       "  <tbody>\n",
       "    <tr>\n",
       "      <th>0</th>\n",
       "      <td>ENSG00000237613.2</td>\n",
       "      <td>FAM138A</td>\n",
       "      <td>0.05045</td>\n",
       "      <td>0.00</td>\n",
       "      <td>0.02945</td>\n",
       "      <td>0.0326</td>\n",
       "      <td>0.00</td>\n",
       "      <td>0.0</td>\n",
       "      <td>0.0861</td>\n",
       "      <td>0.131</td>\n",
       "      <td>...</td>\n",
       "      <td>0.06036</td>\n",
       "      <td>0.0411</td>\n",
       "      <td>0.06147</td>\n",
       "      <td>0.032</td>\n",
       "      <td>0.02942</td>\n",
       "      <td>0.00</td>\n",
       "      <td>0.00</td>\n",
       "      <td>0.00</td>\n",
       "      <td>0.03722</td>\n",
       "      <td>0.06112</td>\n",
       "    </tr>\n",
       "    <tr>\n",
       "      <th>1</th>\n",
       "      <td>ENSG00000141510.11</td>\n",
       "      <td>TP53</td>\n",
       "      <td>24.98000</td>\n",
       "      <td>35.05</td>\n",
       "      <td>40.62000</td>\n",
       "      <td>29.1500</td>\n",
       "      <td>20.39</td>\n",
       "      <td>19.8</td>\n",
       "      <td>25.2900</td>\n",
       "      <td>35.170</td>\n",
       "      <td>...</td>\n",
       "      <td>30.19000</td>\n",
       "      <td>38.7800</td>\n",
       "      <td>24.45000</td>\n",
       "      <td>26.600</td>\n",
       "      <td>22.83000</td>\n",
       "      <td>27.28</td>\n",
       "      <td>21.28</td>\n",
       "      <td>25.23</td>\n",
       "      <td>40.54000</td>\n",
       "      <td>26.52000</td>\n",
       "    </tr>\n",
       "  </tbody>\n",
       "</table>\n",
       "<p>2 rows × 100 columns</p>\n",
       "</div>"
      ],
      "text/plain": [
       "                 Name Description  GTEX-1117F-0226-SM-5GZZ7  \\\n",
       "0   ENSG00000237613.2     FAM138A                   0.05045   \n",
       "1  ENSG00000141510.11        TP53                  24.98000   \n",
       "\n",
       "   GTEX-111CU-1826-SM-5GZYN  GTEX-111FC-0226-SM-5N9B8  \\\n",
       "0                      0.00                   0.02945   \n",
       "1                     35.05                  40.62000   \n",
       "\n",
       "   GTEX-111VG-2326-SM-5N9BK  GTEX-111YS-2426-SM-5GZZQ  \\\n",
       "0                    0.0326                      0.00   \n",
       "1                   29.1500                     20.39   \n",
       "\n",
       "   GTEX-1122O-2026-SM-5NQ91  GTEX-1128S-2126-SM-5H12U  \\\n",
       "0                       0.0                    0.0861   \n",
       "1                      19.8                   25.2900   \n",
       "\n",
       "   GTEX-113IC-0226-SM-5HL5C            ...             \\\n",
       "0                     0.131            ...              \n",
       "1                    35.170            ...              \n",
       "\n",
       "   GTEX-13IVO-0226-SM-5LZXU  GTEX-13JUV-2826-SM-5LZWU  \\\n",
       "0                   0.06036                    0.0411   \n",
       "1                  30.19000                   38.7800   \n",
       "\n",
       "   GTEX-13JVG-0226-SM-5J1MW  GTEX-13N11-2626-SM-5K7UQ  \\\n",
       "0                   0.06147                     0.032   \n",
       "1                  24.45000                    26.600   \n",
       "\n",
       "   GTEX-13N1W-0226-SM-5K7W6  GTEX-13N2G-2726-SM-5J1MG  \\\n",
       "0                   0.02942                      0.00   \n",
       "1                  22.83000                     27.28   \n",
       "\n",
       "   GTEX-13NYS-0226-SM-5MR49  GTEX-13NZ8-0926-SM-5MR3U  \\\n",
       "0                      0.00                      0.00   \n",
       "1                     21.28                     25.23   \n",
       "\n",
       "   GTEX-13NZ9-0526-SM-5J1OX  GTEX-13NZA-0126-SM-5K7UH  \n",
       "0                   0.03722                   0.06112  \n",
       "1                  40.54000                  26.52000  \n",
       "\n",
       "[2 rows x 100 columns]"
      ]
     },
     "execution_count": 11,
     "metadata": {},
     "output_type": "execute_result"
    }
   ],
   "source": [
    "gtpm"
   ]
  },
  {
   "cell_type": "code",
   "execution_count": null,
   "metadata": {},
   "outputs": [],
   "source": [
    "start_time = time.time()\n",
    "time.sleep(3)\n",
    "print(time.time() - start_time)"
   ]
  },
  {
   "cell_type": "code",
   "execution_count": 12,
   "metadata": {},
   "outputs": [
    {
     "data": {
      "text/html": [
       "<div>\n",
       "<style scoped>\n",
       "    .dataframe tbody tr th:only-of-type {\n",
       "        vertical-align: middle;\n",
       "    }\n",
       "\n",
       "    .dataframe tbody tr th {\n",
       "        vertical-align: top;\n",
       "    }\n",
       "\n",
       "    .dataframe thead th {\n",
       "        text-align: right;\n",
       "    }\n",
       "</style>\n",
       "<table border=\"1\" class=\"dataframe\">\n",
       "  <thead>\n",
       "    <tr style=\"text-align: right;\">\n",
       "      <th>Description</th>\n",
       "      <th>FAM138A</th>\n",
       "      <th>TP53</th>\n",
       "    </tr>\n",
       "  </thead>\n",
       "  <tbody>\n",
       "    <tr>\n",
       "      <th>GTEX-1117F-0226-SM-5GZZ7</th>\n",
       "      <td>0.05045</td>\n",
       "      <td>24.98</td>\n",
       "    </tr>\n",
       "    <tr>\n",
       "      <th>GTEX-111CU-1826-SM-5GZYN</th>\n",
       "      <td>0.00000</td>\n",
       "      <td>35.05</td>\n",
       "    </tr>\n",
       "    <tr>\n",
       "      <th>GTEX-111FC-0226-SM-5N9B8</th>\n",
       "      <td>0.02945</td>\n",
       "      <td>40.62</td>\n",
       "    </tr>\n",
       "    <tr>\n",
       "      <th>GTEX-111VG-2326-SM-5N9BK</th>\n",
       "      <td>0.03260</td>\n",
       "      <td>29.15</td>\n",
       "    </tr>\n",
       "    <tr>\n",
       "      <th>GTEX-111YS-2426-SM-5GZZQ</th>\n",
       "      <td>0.00000</td>\n",
       "      <td>20.39</td>\n",
       "    </tr>\n",
       "  </tbody>\n",
       "</table>\n",
       "</div>"
      ],
      "text/plain": [
       "Description               FAM138A   TP53\n",
       "GTEX-1117F-0226-SM-5GZZ7  0.05045  24.98\n",
       "GTEX-111CU-1826-SM-5GZYN  0.00000  35.05\n",
       "GTEX-111FC-0226-SM-5N9B8  0.02945  40.62\n",
       "GTEX-111VG-2326-SM-5N9BK  0.03260  29.15\n",
       "GTEX-111YS-2426-SM-5GZZQ  0.00000  20.39"
      ]
     },
     "execution_count": 12,
     "metadata": {},
     "output_type": "execute_result"
    }
   ],
   "source": [
    "\n",
    "gt = gtpm[gtpm.columns[1:]]\n",
    "gt.set_index('Description', inplace=True)\n",
    "gtt = gt.transpose()\n",
    "gtt.head()"
   ]
  },
  {
   "cell_type": "code",
   "execution_count": 8,
   "metadata": {},
   "outputs": [
    {
     "data": {
      "application/vnd.plotly.v1+json": {
       "config": {
        "linkText": "Export to plot.ly",
        "plotlyServerURL": "https://plot.ly",
        "showLink": true
       },
       "data": [
        {
         "histfunc": "count",
         "histnorm": "",
         "marker": {
          "color": "rgba(255, 153, 51, 1.0)",
          "line": {
           "color": "#4D5663",
           "width": 1.3
          }
         },
         "name": "FAM138A",
         "opacity": 0.8,
         "orientation": "v",
         "type": "histogram",
         "uid": "5bdd8746-c4fc-428e-a19f-93ed2632b2cd",
         "x": [
          0.05045,
          0,
          0.02945,
          0.0326,
          0
         ]
        },
        {
         "histfunc": "count",
         "histnorm": "",
         "marker": {
          "color": "rgba(55, 128, 191, 1.0)",
          "line": {
           "color": "#4D5663",
           "width": 1.3
          }
         },
         "name": "TP53",
         "opacity": 0.8,
         "orientation": "v",
         "type": "histogram",
         "uid": "f38ad273-3150-47e3-bdad-ceaeb554c2ca",
         "x": [
          24.98,
          35.05,
          40.62,
          29.15,
          20.39
         ]
        }
       ],
       "layout": {
        "barmode": "overlay",
        "legend": {
         "bgcolor": "#F5F6F9",
         "font": {
          "color": "#4D5663"
         }
        },
        "paper_bgcolor": "#F5F6F9",
        "plot_bgcolor": "#F5F6F9",
        "title": {
         "font": {
          "color": "#4D5663"
         }
        },
        "xaxis": {
         "gridcolor": "#E1E5ED",
         "showgrid": true,
         "tickfont": {
          "color": "#4D5663"
         },
         "title": {
          "font": {
           "color": "#4D5663"
          },
          "text": ""
         },
         "zerolinecolor": "#E1E5ED"
        },
        "yaxis": {
         "gridcolor": "#E1E5ED",
         "showgrid": true,
         "tickfont": {
          "color": "#4D5663"
         },
         "title": {
          "font": {
           "color": "#4D5663"
          },
          "text": "TPM"
         },
         "zerolinecolor": "#E1E5ED"
        }
       }
      },
      "text/html": [
       "<div id=\"412312fb-6722-4c48-a9c7-532868919d5a\" style=\"height: 525px; width: 100%;\" class=\"plotly-graph-div\"></div><script type=\"text/javascript\">require([\"plotly\"], function(Plotly) { window.PLOTLYENV=window.PLOTLYENV || {};window.PLOTLYENV.BASE_URL=\"https://plot.ly\";Plotly.newPlot(\"412312fb-6722-4c48-a9c7-532868919d5a\", [{\"histfunc\": \"count\", \"histnorm\": \"\", \"marker\": {\"color\": \"rgba(255, 153, 51, 1.0)\", \"line\": {\"color\": \"#4D5663\", \"width\": 1.3}}, \"name\": \"FAM138A\", \"opacity\": 0.8, \"orientation\": \"v\", \"x\": [0.05045, 0.0, 0.02945, 0.0326, 0.0], \"type\": \"histogram\", \"uid\": \"04bac671-199c-4906-8668-c9a76fa8662f\"}, {\"histfunc\": \"count\", \"histnorm\": \"\", \"marker\": {\"color\": \"rgba(55, 128, 191, 1.0)\", \"line\": {\"color\": \"#4D5663\", \"width\": 1.3}}, \"name\": \"TP53\", \"opacity\": 0.8, \"orientation\": \"v\", \"x\": [24.98, 35.05, 40.62, 29.15, 20.39], \"type\": \"histogram\", \"uid\": \"caf43a38-e07f-430e-bd84-49843bb1d54a\"}], {\"barmode\": \"overlay\", \"legend\": {\"bgcolor\": \"#F5F6F9\", \"font\": {\"color\": \"#4D5663\"}}, \"paper_bgcolor\": \"#F5F6F9\", \"plot_bgcolor\": \"#F5F6F9\", \"title\": {\"font\": {\"color\": \"#4D5663\"}}, \"xaxis\": {\"gridcolor\": \"#E1E5ED\", \"showgrid\": true, \"tickfont\": {\"color\": \"#4D5663\"}, \"title\": {\"text\": \"\", \"font\": {\"color\": \"#4D5663\"}}, \"zerolinecolor\": \"#E1E5ED\"}, \"yaxis\": {\"gridcolor\": \"#E1E5ED\", \"showgrid\": true, \"tickfont\": {\"color\": \"#4D5663\"}, \"title\": {\"text\": \"TPM\", \"font\": {\"color\": \"#4D5663\"}}, \"zerolinecolor\": \"#E1E5ED\"}}, {\"showLink\": true, \"linkText\": \"Export to plot.ly\", \"plotlyServerURL\": \"https://plot.ly\"})});</script><script type=\"text/javascript\">window.addEventListener(\"resize\", function(){window._Plotly.Plots.resize(document.getElementById(\"412312fb-6722-4c48-a9c7-532868919d5a\"));});</script>"
      ],
      "text/vnd.plotly.v1+html": [
       "<div id=\"412312fb-6722-4c48-a9c7-532868919d5a\" style=\"height: 525px; width: 100%;\" class=\"plotly-graph-div\"></div><script type=\"text/javascript\">require([\"plotly\"], function(Plotly) { window.PLOTLYENV=window.PLOTLYENV || {};window.PLOTLYENV.BASE_URL=\"https://plot.ly\";Plotly.newPlot(\"412312fb-6722-4c48-a9c7-532868919d5a\", [{\"histfunc\": \"count\", \"histnorm\": \"\", \"marker\": {\"color\": \"rgba(255, 153, 51, 1.0)\", \"line\": {\"color\": \"#4D5663\", \"width\": 1.3}}, \"name\": \"FAM138A\", \"opacity\": 0.8, \"orientation\": \"v\", \"x\": [0.05045, 0.0, 0.02945, 0.0326, 0.0], \"type\": \"histogram\", \"uid\": \"04bac671-199c-4906-8668-c9a76fa8662f\"}, {\"histfunc\": \"count\", \"histnorm\": \"\", \"marker\": {\"color\": \"rgba(55, 128, 191, 1.0)\", \"line\": {\"color\": \"#4D5663\", \"width\": 1.3}}, \"name\": \"TP53\", \"opacity\": 0.8, \"orientation\": \"v\", \"x\": [24.98, 35.05, 40.62, 29.15, 20.39], \"type\": \"histogram\", \"uid\": \"caf43a38-e07f-430e-bd84-49843bb1d54a\"}], {\"barmode\": \"overlay\", \"legend\": {\"bgcolor\": \"#F5F6F9\", \"font\": {\"color\": \"#4D5663\"}}, \"paper_bgcolor\": \"#F5F6F9\", \"plot_bgcolor\": \"#F5F6F9\", \"title\": {\"font\": {\"color\": \"#4D5663\"}}, \"xaxis\": {\"gridcolor\": \"#E1E5ED\", \"showgrid\": true, \"tickfont\": {\"color\": \"#4D5663\"}, \"title\": {\"text\": \"\", \"font\": {\"color\": \"#4D5663\"}}, \"zerolinecolor\": \"#E1E5ED\"}, \"yaxis\": {\"gridcolor\": \"#E1E5ED\", \"showgrid\": true, \"tickfont\": {\"color\": \"#4D5663\"}, \"title\": {\"text\": \"TPM\", \"font\": {\"color\": \"#4D5663\"}}, \"zerolinecolor\": \"#E1E5ED\"}}, {\"showLink\": true, \"linkText\": \"Export to plot.ly\", \"plotlyServerURL\": \"https://plot.ly\"})});</script><script type=\"text/javascript\">window.addEventListener(\"resize\", function(){window._Plotly.Plots.resize(document.getElementById(\"412312fb-6722-4c48-a9c7-532868919d5a\"));});</script>"
      ]
     },
     "metadata": {},
     "output_type": "display_data"
    }
   ],
   "source": [
    "gtt.head().iplot(kind='hist', yTitle='TPM')"
   ]
  },
  {
   "cell_type": "code",
   "execution_count": 15,
   "metadata": {},
   "outputs": [
    {
     "name": "stdout",
     "output_type": "stream",
     "text": [
      "             GTEX-1117F-0226-SM-5GZZ7  GTEX-111CU-1826-SM-5GZYN  \\\n",
      "Description                                                       \n",
      "FAM138A                       0.05045                      0.00   \n",
      "TP53                         24.98000                     35.05   \n",
      "\n",
      "             GTEX-111FC-0226-SM-5N9B8  GTEX-111VG-2326-SM-5N9BK  \\\n",
      "Description                                                       \n",
      "FAM138A                       0.02945                    0.0326   \n",
      "TP53                         40.62000                   29.1500   \n",
      "\n",
      "             GTEX-111YS-2426-SM-5GZZQ  GTEX-1122O-2026-SM-5NQ91  \\\n",
      "Description                                                       \n",
      "FAM138A                          0.00                       0.0   \n",
      "TP53                            20.39                      19.8   \n",
      "\n",
      "             GTEX-1128S-2126-SM-5H12U  GTEX-113IC-0226-SM-5HL5C  \\\n",
      "Description                                                       \n",
      "FAM138A                        0.0861                     0.131   \n",
      "TP53                          25.2900                    35.170   \n",
      "\n",
      "             GTEX-117YX-2226-SM-5EGJJ  GTEX-11DXW-0326-SM-5H11W  \\\n",
      "Description                                                       \n",
      "FAM138A                       0.06773                      0.00   \n",
      "TP53                         18.94000                     32.63   \n",
      "\n",
      "                       ...             GTEX-13IVO-0226-SM-5LZXU  \\\n",
      "Description            ...                                        \n",
      "FAM138A                ...                              0.06036   \n",
      "TP53                   ...                             30.19000   \n",
      "\n",
      "             GTEX-13JUV-2826-SM-5LZWU  GTEX-13JVG-0226-SM-5J1MW  \\\n",
      "Description                                                       \n",
      "FAM138A                        0.0411                   0.06147   \n",
      "TP53                          38.7800                  24.45000   \n",
      "\n",
      "             GTEX-13N11-2626-SM-5K7UQ  GTEX-13N1W-0226-SM-5K7W6  \\\n",
      "Description                                                       \n",
      "FAM138A                         0.032                   0.02942   \n",
      "TP53                           26.600                  22.83000   \n",
      "\n",
      "             GTEX-13N2G-2726-SM-5J1MG  GTEX-13NYS-0226-SM-5MR49  \\\n",
      "Description                                                       \n",
      "FAM138A                          0.00                      0.00   \n",
      "TP53                            27.28                     21.28   \n",
      "\n",
      "             GTEX-13NZ8-0926-SM-5MR3U  GTEX-13NZ9-0526-SM-5J1OX  \\\n",
      "Description                                                       \n",
      "FAM138A                          0.00                   0.03722   \n",
      "TP53                            25.23                  40.54000   \n",
      "\n",
      "             GTEX-13NZA-0126-SM-5K7UH  \n",
      "Description                            \n",
      "FAM138A                       0.06112  \n",
      "TP53                         26.52000  \n",
      "\n",
      "[2 rows x 98 columns]\n"
     ]
    },
    {
     "data": {
      "application/vnd.plotly.v1+json": {
       "config": {
        "linkText": "Export to plot.ly",
        "plotlyServerURL": "https://plot.ly",
        "showLink": true
       },
       "data": [
        {
         "histfunc": "count",
         "histnorm": "",
         "marker": {
          "color": "rgba(255, 153, 51, 1.0)",
          "line": {
           "color": "#4D5663",
           "width": 1.3
          }
         },
         "name": "GTEX-1117F-0226-SM-5GZZ7",
         "opacity": 0.8,
         "orientation": "v",
         "type": "histogram",
         "uid": "a375ecab-da04-4972-a395-e8a20ee2c2b9",
         "x": [
          0.05045,
          24.98
         ]
        },
        {
         "histfunc": "count",
         "histnorm": "",
         "marker": {
          "color": "rgba(55, 128, 191, 1.0)",
          "line": {
           "color": "#4D5663",
           "width": 1.3
          }
         },
         "name": "GTEX-111CU-1826-SM-5GZYN",
         "opacity": 0.8,
         "orientation": "v",
         "type": "histogram",
         "uid": "fad92687-3cbb-402e-a6f5-7412ea1b297a",
         "x": [
          0,
          35.05
         ]
        },
        {
         "histfunc": "count",
         "histnorm": "",
         "marker": {
          "color": "rgba(50, 171, 96, 1.0)",
          "line": {
           "color": "#4D5663",
           "width": 1.3
          }
         },
         "name": "GTEX-111FC-0226-SM-5N9B8",
         "opacity": 0.8,
         "orientation": "v",
         "type": "histogram",
         "uid": "3804b208-55bc-4e84-a560-12b62319ce18",
         "x": [
          0.02945,
          40.62
         ]
        },
        {
         "histfunc": "count",
         "histnorm": "",
         "marker": {
          "color": "rgba(128, 0, 128, 1.0)",
          "line": {
           "color": "#4D5663",
           "width": 1.3
          }
         },
         "name": "GTEX-111VG-2326-SM-5N9BK",
         "opacity": 0.8,
         "orientation": "v",
         "type": "histogram",
         "uid": "94c4b983-0f33-4f9c-b069-9210be3955dc",
         "x": [
          0.0326,
          29.15
         ]
        },
        {
         "histfunc": "count",
         "histnorm": "",
         "marker": {
          "color": "rgba(219, 64, 82, 1.0)",
          "line": {
           "color": "#4D5663",
           "width": 1.3
          }
         },
         "name": "GTEX-111YS-2426-SM-5GZZQ",
         "opacity": 0.8,
         "orientation": "v",
         "type": "histogram",
         "uid": "876bef20-dbf7-4d5a-8f69-a0a36704193b",
         "x": [
          0,
          20.39
         ]
        },
        {
         "histfunc": "count",
         "histnorm": "",
         "marker": {
          "color": "rgba(0, 128, 128, 1.0)",
          "line": {
           "color": "#4D5663",
           "width": 1.3
          }
         },
         "name": "GTEX-1122O-2026-SM-5NQ91",
         "opacity": 0.8,
         "orientation": "v",
         "type": "histogram",
         "uid": "511b28b1-d5e7-4907-bb70-2c9f2b7e7dc2",
         "x": [
          0,
          19.8
         ]
        },
        {
         "histfunc": "count",
         "histnorm": "",
         "marker": {
          "color": "rgba(255, 255, 51, 1.0)",
          "line": {
           "color": "#4D5663",
           "width": 1.3
          }
         },
         "name": "GTEX-1128S-2126-SM-5H12U",
         "opacity": 0.8,
         "orientation": "v",
         "type": "histogram",
         "uid": "e72c909e-f89a-41bd-bfa7-7df4a9d9fa89",
         "x": [
          0.0861,
          25.29
         ]
        },
        {
         "histfunc": "count",
         "histnorm": "",
         "marker": {
          "color": "rgba(128, 128, 0, 1.0)",
          "line": {
           "color": "#4D5663",
           "width": 1.3
          }
         },
         "name": "GTEX-113IC-0226-SM-5HL5C",
         "opacity": 0.8,
         "orientation": "v",
         "type": "histogram",
         "uid": "ff6c7b5f-5c8a-4544-aa94-f80469ebdbbc",
         "x": [
          0.131,
          35.17
         ]
        },
        {
         "histfunc": "count",
         "histnorm": "",
         "marker": {
          "color": "rgba(251, 128, 114, 1.0)",
          "line": {
           "color": "#4D5663",
           "width": 1.3
          }
         },
         "name": "GTEX-117YX-2226-SM-5EGJJ",
         "opacity": 0.8,
         "orientation": "v",
         "type": "histogram",
         "uid": "d16036cc-a33c-4bbd-980d-040d4c27c98b",
         "x": [
          0.06773,
          18.94
         ]
        },
        {
         "histfunc": "count",
         "histnorm": "",
         "marker": {
          "color": "rgba(128, 177, 211, 1.0)",
          "line": {
           "color": "#4D5663",
           "width": 1.3
          }
         },
         "name": "GTEX-11DXW-0326-SM-5H11W",
         "opacity": 0.8,
         "orientation": "v",
         "type": "histogram",
         "uid": "4240002f-118b-419c-9bd2-587e146aa67b",
         "x": [
          0,
          32.63
         ]
        },
        {
         "histfunc": "count",
         "histnorm": "",
         "marker": {
          "color": "rgba(128, 177, 211, 0.9183673469387754)",
          "line": {
           "color": "#4D5663",
           "width": 1.3
          }
         },
         "name": "GTEX-11DXX-2326-SM-5Q5A2",
         "opacity": 0.8,
         "orientation": "v",
         "type": "histogram",
         "uid": "41e48440-caa1-4e85-83eb-d7bb2cfea621",
         "x": [
          0.03199,
          26.12
         ]
        },
        {
         "histfunc": "count",
         "histnorm": "",
         "marker": {
          "color": "rgba(255, 153, 51, 0.9183673469387754)",
          "line": {
           "color": "#4D5663",
           "width": 1.3
          }
         },
         "name": "GTEX-11DZ1-0226-SM-5A5KF",
         "opacity": 0.8,
         "orientation": "v",
         "type": "histogram",
         "uid": "680f61a7-3fa8-43f2-bb58-b6a6e8fe7eee",
         "x": [
          0.06642,
          49.64
         ]
        },
        {
         "histfunc": "count",
         "histnorm": "",
         "marker": {
          "color": "rgba(55, 128, 191, 0.9183673469387754)",
          "line": {
           "color": "#4D5663",
           "width": 1.3
          }
         },
         "name": "GTEX-11EI6-0226-SM-5EQ64",
         "opacity": 0.8,
         "orientation": "v",
         "type": "histogram",
         "uid": "169c2c3b-ebe5-4e7b-9822-83ccaf948176",
         "x": [
          0,
          32.93
         ]
        },
        {
         "histfunc": "count",
         "histnorm": "",
         "marker": {
          "color": "rgba(50, 171, 96, 0.9183673469387754)",
          "line": {
           "color": "#4D5663",
           "width": 1.3
          }
         },
         "name": "GTEX-11EM3-2326-SM-5H12B",
         "opacity": 0.8,
         "orientation": "v",
         "type": "histogram",
         "uid": "43402e18-157d-4971-b464-7df1b4f0acd9",
         "x": [
          0.06246,
          20.3
         ]
        },
        {
         "histfunc": "count",
         "histnorm": "",
         "marker": {
          "color": "rgba(128, 0, 128, 0.9183673469387754)",
          "line": {
           "color": "#4D5663",
           "width": 1.3
          }
         },
         "name": "GTEX-11EMC-2826-SM-5PNY6",
         "opacity": 0.8,
         "orientation": "v",
         "type": "histogram",
         "uid": "6e57092f-84a0-4260-a33a-58c93cbcdb55",
         "x": [
          0.02645,
          32.6
         ]
        },
        {
         "histfunc": "count",
         "histnorm": "",
         "marker": {
          "color": "rgba(219, 64, 82, 0.9183673469387754)",
          "line": {
           "color": "#4D5663",
           "width": 1.3
          }
         },
         "name": "GTEX-11EQ8-0226-SM-5EQ5G",
         "opacity": 0.8,
         "orientation": "v",
         "type": "histogram",
         "uid": "758538f5-2fb6-4d93-9f73-6f22c01ad2bb",
         "x": [
          0.08686,
          43.81
         ]
        },
        {
         "histfunc": "count",
         "histnorm": "",
         "marker": {
          "color": "rgba(0, 128, 128, 0.9183673469387754)",
          "line": {
           "color": "#4D5663",
           "width": 1.3
          }
         },
         "name": "GTEX-11EQ9-2526-SM-5HL66",
         "opacity": 0.8,
         "orientation": "v",
         "type": "histogram",
         "uid": "ba0de82b-69e6-4b10-8805-bdd0eafb4691",
         "x": [
          0,
          17
         ]
        },
        {
         "histfunc": "count",
         "histnorm": "",
         "marker": {
          "color": "rgba(255, 255, 51, 0.9183673469387754)",
          "line": {
           "color": "#4D5663",
           "width": 1.3
          }
         },
         "name": "GTEX-11GS4-2626-SM-5A5LD",
         "opacity": 0.8,
         "orientation": "v",
         "type": "histogram",
         "uid": "aacd0b8a-75e4-4812-835d-0f5ce31adca0",
         "x": [
          0.07443,
          27.56
         ]
        },
        {
         "histfunc": "count",
         "histnorm": "",
         "marker": {
          "color": "rgba(128, 128, 0, 0.9183673469387754)",
          "line": {
           "color": "#4D5663",
           "width": 1.3
          }
         },
         "name": "GTEX-11GSO-2326-SM-5A5LX",
         "opacity": 0.8,
         "orientation": "v",
         "type": "histogram",
         "uid": "3798ce10-2d43-4cfc-92d7-96a97d0a75a4",
         "x": [
          0.08205,
          22.77
         ]
        },
        {
         "histfunc": "count",
         "histnorm": "",
         "marker": {
          "color": "rgba(251, 128, 114, 0.9183673469387754)",
          "line": {
           "color": "#4D5663",
           "width": 1.3
          }
         },
         "name": "GTEX-11H98-0226-SM-5NQ89",
         "opacity": 0.8,
         "orientation": "v",
         "type": "histogram",
         "uid": "10e24d25-13ec-4aa1-8335-8ef8239d9ac6",
         "x": [
          0,
          36.67
         ]
        },
        {
         "histfunc": "count",
         "histnorm": "",
         "marker": {
          "color": "rgba(251, 128, 114, 0.8367346938775511)",
          "line": {
           "color": "#4D5663",
           "width": 1.3
          }
         },
         "name": "GTEX-11I78-2626-SM-5Q5AI",
         "opacity": 0.8,
         "orientation": "v",
         "type": "histogram",
         "uid": "2496ee26-192a-4217-8e7f-d50b93cdd7c1",
         "x": [
          0,
          30.1
         ]
        },
        {
         "histfunc": "count",
         "histnorm": "",
         "marker": {
          "color": "rgba(128, 177, 211, 0.8367346938775511)",
          "line": {
           "color": "#4D5663",
           "width": 1.3
          }
         },
         "name": "GTEX-11LCK-1126-SM-5A5KC",
         "opacity": 0.8,
         "orientation": "v",
         "type": "histogram",
         "uid": "a6b12b93-2850-4e4a-82cc-2f9d44c349ba",
         "x": [
          0,
          37.39
         ]
        },
        {
         "histfunc": "count",
         "histnorm": "",
         "marker": {
          "color": "rgba(255, 153, 51, 0.8367346938775511)",
          "line": {
           "color": "#4D5663",
           "width": 1.3
          }
         },
         "name": "GTEX-11O72-0226-SM-59869",
         "opacity": 0.8,
         "orientation": "v",
         "type": "histogram",
         "uid": "326df021-3c49-42ff-9cb6-34092ae50c76",
         "x": [
          0.03653,
          39.21
         ]
        },
        {
         "histfunc": "count",
         "histnorm": "",
         "marker": {
          "color": "rgba(55, 128, 191, 0.8367346938775511)",
          "line": {
           "color": "#4D5663",
           "width": 1.3
          }
         },
         "name": "GTEX-11OF3-2426-SM-5Q5AS",
         "opacity": 0.8,
         "orientation": "v",
         "type": "histogram",
         "uid": "edf91f67-427a-4094-86b3-f91a501a3b41",
         "x": [
          0.1083,
          35.51
         ]
        },
        {
         "histfunc": "count",
         "histnorm": "",
         "marker": {
          "color": "rgba(50, 171, 96, 0.8367346938775511)",
          "line": {
           "color": "#4D5663",
           "width": 1.3
          }
         },
         "name": "GTEX-11ONC-2526-SM-5986W",
         "opacity": 0.8,
         "orientation": "v",
         "type": "histogram",
         "uid": "88c13a5f-8d9a-4747-810d-ffdd93ad0792",
         "x": [
          0.09917999999999999,
          29.21
         ]
        },
        {
         "histfunc": "count",
         "histnorm": "",
         "marker": {
          "color": "rgba(128, 0, 128, 0.8367346938775511)",
          "line": {
           "color": "#4D5663",
           "width": 1.3
          }
         },
         "name": "GTEX-11P7K-2026-SM-5GU74",
         "opacity": 0.8,
         "orientation": "v",
         "type": "histogram",
         "uid": "dd18ff58-c4b8-4a59-859e-0d0e9a5580c3",
         "x": [
          0.0879,
          21.13
         ]
        },
        {
         "histfunc": "count",
         "histnorm": "",
         "marker": {
          "color": "rgba(219, 64, 82, 0.8367346938775511)",
          "line": {
           "color": "#4D5663",
           "width": 1.3
          }
         },
         "name": "GTEX-11P81-2426-SM-5GU65",
         "opacity": 0.8,
         "orientation": "v",
         "type": "histogram",
         "uid": "3dae8cd3-126f-48b1-93a9-d896f4a21602",
         "x": [
          0,
          29.03
         ]
        },
        {
         "histfunc": "count",
         "histnorm": "",
         "marker": {
          "color": "rgba(0, 128, 128, 0.8367346938775511)",
          "line": {
           "color": "#4D5663",
           "width": 1.3
          }
         },
         "name": "GTEX-11P82-1726-SM-5Q5AT",
         "opacity": 0.8,
         "orientation": "v",
         "type": "histogram",
         "uid": "f926697b-d366-48a4-b0ee-56cb76417d5f",
         "x": [
          0,
          27.05
         ]
        },
        {
         "histfunc": "count",
         "histnorm": "",
         "marker": {
          "color": "rgba(255, 255, 51, 0.8367346938775511)",
          "line": {
           "color": "#4D5663",
           "width": 1.3
          }
         },
         "name": "GTEX-11PRG-0626-SM-5BC56",
         "opacity": 0.8,
         "orientation": "v",
         "type": "histogram",
         "uid": "385f3656-4894-48a5-93d2-9bafad0b3ab9",
         "x": [
          0.04738,
          36.6
         ]
        },
        {
         "histfunc": "count",
         "histnorm": "",
         "marker": {
          "color": "rgba(128, 128, 0, 0.8367346938775511)",
          "line": {
           "color": "#4D5663",
           "width": 1.3
          }
         },
         "name": "GTEX-11TT1-2426-SM-5EQMK",
         "opacity": 0.8,
         "orientation": "v",
         "type": "histogram",
         "uid": "1540390b-ffff-409c-928d-b298494843b9",
         "x": [
          0.041280000000000004,
          14.49
         ]
        },
        {
         "histfunc": "count",
         "histnorm": "",
         "marker": {
          "color": "rgba(128, 128, 0, 0.7551020408163265)",
          "line": {
           "color": "#4D5663",
           "width": 1.3
          }
         },
         "name": "GTEX-11TTK-0226-SM-5N9EC",
         "opacity": 0.8,
         "orientation": "v",
         "type": "histogram",
         "uid": "9c626def-65c2-4168-b89c-439bc3d1ab14",
         "x": [
          0.08281000000000001,
          28.01
         ]
        },
        {
         "histfunc": "count",
         "histnorm": "",
         "marker": {
          "color": "rgba(251, 128, 114, 0.7551020408163265)",
          "line": {
           "color": "#4D5663",
           "width": 1.3
          }
         },
         "name": "GTEX-11TUW-2626-SM-5EQKZ",
         "opacity": 0.8,
         "orientation": "v",
         "type": "histogram",
         "uid": "03e03403-eec1-439a-ab75-1e36003b7c60",
         "x": [
          0,
          28.42
         ]
        },
        {
         "histfunc": "count",
         "histnorm": "",
         "marker": {
          "color": "rgba(128, 177, 211, 0.7551020408163265)",
          "line": {
           "color": "#4D5663",
           "width": 1.3
          }
         },
         "name": "GTEX-11UD1-0226-SM-5EQKL",
         "opacity": 0.8,
         "orientation": "v",
         "type": "histogram",
         "uid": "818523ee-a022-44b5-afa9-c120b009c9d1",
         "x": [
          0,
          36.02
         ]
        },
        {
         "histfunc": "count",
         "histnorm": "",
         "marker": {
          "color": "rgba(255, 153, 51, 0.7551020408163265)",
          "line": {
           "color": "#4D5663",
           "width": 1.3
          }
         },
         "name": "GTEX-11UD2-0126-SM-5EQL2",
         "opacity": 0.8,
         "orientation": "v",
         "type": "histogram",
         "uid": "a9713616-6f2c-4f7e-972f-c06899a751bb",
         "x": [
          0,
          30.37
         ]
        },
        {
         "histfunc": "count",
         "histnorm": "",
         "marker": {
          "color": "rgba(55, 128, 191, 0.7551020408163265)",
          "line": {
           "color": "#4D5663",
           "width": 1.3
          }
         },
         "name": "GTEX-11WQC-2426-SM-5EQKQ",
         "opacity": 0.8,
         "orientation": "v",
         "type": "histogram",
         "uid": "00da78e3-508a-4137-9c74-569c9d87cd4c",
         "x": [
          0.03901,
          29.76
         ]
        },
        {
         "histfunc": "count",
         "histnorm": "",
         "marker": {
          "color": "rgba(50, 171, 96, 0.7551020408163265)",
          "line": {
           "color": "#4D5663",
           "width": 1.3
          }
         },
         "name": "GTEX-11XUK-2126-SM-5EQLR",
         "opacity": 0.8,
         "orientation": "v",
         "type": "histogram",
         "uid": "873713fe-b291-4f32-862a-b9c7bb9e968a",
         "x": [
          0,
          32.71
         ]
        },
        {
         "histfunc": "count",
         "histnorm": "",
         "marker": {
          "color": "rgba(128, 0, 128, 0.7551020408163265)",
          "line": {
           "color": "#4D5663",
           "width": 1.3
          }
         },
         "name": "GTEX-11ZTS-0226-SM-5EQKD",
         "opacity": 0.8,
         "orientation": "v",
         "type": "histogram",
         "uid": "cfa5243a-ad6e-40d5-9294-7c7537c1850b",
         "x": [
          0.037239999999999995,
          28.62
         ]
        },
        {
         "histfunc": "count",
         "histnorm": "",
         "marker": {
          "color": "rgba(219, 64, 82, 0.7551020408163265)",
          "line": {
           "color": "#4D5663",
           "width": 1.3
          }
         },
         "name": "GTEX-11ZTT-2526-SM-5EQM9",
         "opacity": 0.8,
         "orientation": "v",
         "type": "histogram",
         "uid": "135745ad-5fbe-40d5-a780-27fecfb6f8b4",
         "x": [
          0.030010000000000002,
          22.16
         ]
        },
        {
         "histfunc": "count",
         "histnorm": "",
         "marker": {
          "color": "rgba(0, 128, 128, 0.7551020408163265)",
          "line": {
           "color": "#4D5663",
           "width": 1.3
          }
         },
         "name": "GTEX-11ZU8-2426-SM-5EQMV",
         "opacity": 0.8,
         "orientation": "v",
         "type": "histogram",
         "uid": "96e4d0ad-ea23-4c9d-bf95-631625387439",
         "x": [
          0.0401,
          25.78
         ]
        },
        {
         "histfunc": "count",
         "histnorm": "",
         "marker": {
          "color": "rgba(255, 255, 51, 0.7551020408163265)",
          "line": {
           "color": "#4D5663",
           "width": 1.3
          }
         },
         "name": "GTEX-11ZUS-0726-SM-59886",
         "opacity": 0.8,
         "orientation": "v",
         "type": "histogram",
         "uid": "7090b141-97d7-4dd6-8c8d-3069e7181098",
         "x": [
          0.03687,
          26.58
         ]
        },
        {
         "histfunc": "count",
         "histnorm": "",
         "marker": {
          "color": "rgba(255, 255, 51, 0.6734693877551021)",
          "line": {
           "color": "#4D5663",
           "width": 1.3
          }
         },
         "name": "GTEX-11ZVC-2626-SM-5FQTA",
         "opacity": 0.8,
         "orientation": "v",
         "type": "histogram",
         "uid": "e481cdff-2b56-4ccf-bbf5-acb26d4e774b",
         "x": [
          0.1009,
          26.43
         ]
        },
        {
         "histfunc": "count",
         "histnorm": "",
         "marker": {
          "color": "rgba(128, 128, 0, 0.6734693877551021)",
          "line": {
           "color": "#4D5663",
           "width": 1.3
          }
         },
         "name": "GTEX-1211K-2226-SM-5FQU6",
         "opacity": 0.8,
         "orientation": "v",
         "type": "histogram",
         "uid": "7324d11a-c66a-4034-bf9e-0f250cc07409",
         "x": [
          0.1369,
          31.96
         ]
        },
        {
         "histfunc": "count",
         "histnorm": "",
         "marker": {
          "color": "rgba(251, 128, 114, 0.6734693877551021)",
          "line": {
           "color": "#4D5663",
           "width": 1.3
          }
         },
         "name": "GTEX-12126-0426-SM-5Q5AP",
         "opacity": 0.8,
         "orientation": "v",
         "type": "histogram",
         "uid": "41ee00ea-1a1e-4383-9618-3761e9eb9ac1",
         "x": [
          0.04272,
          26.2
         ]
        },
        {
         "histfunc": "count",
         "histnorm": "",
         "marker": {
          "color": "rgba(128, 177, 211, 0.6734693877551021)",
          "line": {
           "color": "#4D5663",
           "width": 1.3
          }
         },
         "name": "GTEX-1212Z-2426-SM-5EQ5D",
         "opacity": 0.8,
         "orientation": "v",
         "type": "histogram",
         "uid": "a839571c-b388-4ba2-a886-1d499f844503",
         "x": [
          0.06779,
          40.93
         ]
        },
        {
         "histfunc": "count",
         "histnorm": "",
         "marker": {
          "color": "rgba(255, 153, 51, 0.6734693877551021)",
          "line": {
           "color": "#4D5663",
           "width": 1.3
          }
         },
         "name": "GTEX-12584-0226-SM-5EQL5",
         "opacity": 0.8,
         "orientation": "v",
         "type": "histogram",
         "uid": "f08a6795-0c60-4274-a04e-d099b71027d5",
         "x": [
          0.03108,
          35.03
         ]
        },
        {
         "histfunc": "count",
         "histnorm": "",
         "marker": {
          "color": "rgba(55, 128, 191, 0.6734693877551021)",
          "line": {
           "color": "#4D5663",
           "width": 1.3
          }
         },
         "name": "GTEX-12696-2526-SM-5EQLN",
         "opacity": 0.8,
         "orientation": "v",
         "type": "histogram",
         "uid": "5199c783-3807-4ba3-8ee1-393b76188724",
         "x": [
          0.08313999999999999,
          19.77
         ]
        },
        {
         "histfunc": "count",
         "histnorm": "",
         "marker": {
          "color": "rgba(50, 171, 96, 0.6734693877551021)",
          "line": {
           "color": "#4D5663",
           "width": 1.3
          }
         },
         "name": "GTEX-1269C-2726-SM-5EGJ4",
         "opacity": 0.8,
         "orientation": "v",
         "type": "histogram",
         "uid": "edcb4804-e26e-4cf3-ae6a-163f4d2a29e4",
         "x": [
          0.06559,
          28.25
         ]
        },
        {
         "histfunc": "count",
         "histnorm": "",
         "marker": {
          "color": "rgba(128, 0, 128, 0.6734693877551021)",
          "line": {
           "color": "#4D5663",
           "width": 1.3
          }
         },
         "name": "GTEX-12C56-1626-SM-5FQUO",
         "opacity": 0.8,
         "orientation": "v",
         "type": "histogram",
         "uid": "583aa445-7c73-4301-9ada-87362baeabbb",
         "x": [
          0.02792,
          34.9
         ]
        },
        {
         "histfunc": "count",
         "histnorm": "",
         "marker": {
          "color": "rgba(219, 64, 82, 0.6734693877551021)",
          "line": {
           "color": "#4D5663",
           "width": 1.3
          }
         },
         "name": "GTEX-12KS4-0426-SM-5EQMC",
         "opacity": 0.8,
         "orientation": "v",
         "type": "histogram",
         "uid": "4fe67f59-bfce-4afd-a0cd-f9123037332b",
         "x": [
          0.035519999999999996,
          22.95
         ]
        },
        {
         "histfunc": "count",
         "histnorm": "",
         "marker": {
          "color": "rgba(0, 128, 128, 0.6734693877551021)",
          "line": {
           "color": "#4D5663",
           "width": 1.3
          }
         },
         "name": "GTEX-12WSA-0326-SM-5BC6I",
         "opacity": 0.8,
         "orientation": "v",
         "type": "histogram",
         "uid": "a7e11a8b-3438-4332-8f02-ef0eb313df8b",
         "x": [
          0.04585,
          26.49
         ]
        },
        {
         "histfunc": "count",
         "histnorm": "",
         "marker": {
          "color": "rgba(0, 128, 128, 0.5918367346938775)",
          "line": {
           "color": "#4D5663",
           "width": 1.3
          }
         },
         "name": "GTEX-12WSC-0226-SM-5EQ52",
         "opacity": 0.8,
         "orientation": "v",
         "type": "histogram",
         "uid": "a3b56eda-888a-43f6-8e10-667c0196649a",
         "x": [
          0.03925,
          28.08
         ]
        },
        {
         "histfunc": "count",
         "histnorm": "",
         "marker": {
          "color": "rgba(255, 255, 51, 0.5918367346938775)",
          "line": {
           "color": "#4D5663",
           "width": 1.3
          }
         },
         "name": "GTEX-12WSD-0226-SM-59HKO",
         "opacity": 0.8,
         "orientation": "v",
         "type": "histogram",
         "uid": "bf02880b-ea71-4ef6-a1ac-881e2eb8dba4",
         "x": [
          0.1092,
          33
         ]
        },
        {
         "histfunc": "count",
         "histnorm": "",
         "marker": {
          "color": "rgba(128, 128, 0, 0.5918367346938775)",
          "line": {
           "color": "#4D5663",
           "width": 1.3
          }
         },
         "name": "GTEX-12WSL-2426-SM-5GCN7",
         "opacity": 0.8,
         "orientation": "v",
         "type": "histogram",
         "uid": "0264a54a-3c31-4790-95dd-9518156ae28b",
         "x": [
          0.036289999999999996,
          35.31
         ]
        },
        {
         "histfunc": "count",
         "histnorm": "",
         "marker": {
          "color": "rgba(251, 128, 114, 0.5918367346938775)",
          "line": {
           "color": "#4D5663",
           "width": 1.3
          }
         },
         "name": "GTEX-12WSM-0226-SM-5LZV6",
         "opacity": 0.8,
         "orientation": "v",
         "type": "histogram",
         "uid": "7b84ff13-1178-45f5-bf73-a9274c005b15",
         "x": [
          0.036160000000000005,
          42.74
         ]
        },
        {
         "histfunc": "count",
         "histnorm": "",
         "marker": {
          "color": "rgba(128, 177, 211, 0.5918367346938775)",
          "line": {
           "color": "#4D5663",
           "width": 1.3
          }
         },
         "name": "GTEX-12ZZX-0226-SM-5DUXU",
         "opacity": 0.8,
         "orientation": "v",
         "type": "histogram",
         "uid": "f3c80b5b-bd1e-488c-9518-3384b9c91b9a",
         "x": [
          0.08207,
          30.49
         ]
        },
        {
         "histfunc": "count",
         "histnorm": "",
         "marker": {
          "color": "rgba(255, 153, 51, 0.5918367346938775)",
          "line": {
           "color": "#4D5663",
           "width": 1.3
          }
         },
         "name": "GTEX-12ZZY-0326-SM-5LZVQ",
         "opacity": 0.8,
         "orientation": "v",
         "type": "histogram",
         "uid": "de750b7f-44fb-43ae-9b4a-446c001c1b49",
         "x": [
          0,
          28.72
         ]
        },
        {
         "histfunc": "count",
         "histnorm": "",
         "marker": {
          "color": "rgba(55, 128, 191, 0.5918367346938775)",
          "line": {
           "color": "#4D5663",
           "width": 1.3
          }
         },
         "name": "GTEX-12ZZZ-0526-SM-5DUX6",
         "opacity": 0.8,
         "orientation": "v",
         "type": "histogram",
         "uid": "eb868fed-5c3f-44fe-9550-ed1b37b48d61",
         "x": [
          0,
          31.26
         ]
        },
        {
         "histfunc": "count",
         "histnorm": "",
         "marker": {
          "color": "rgba(50, 171, 96, 0.5918367346938775)",
          "line": {
           "color": "#4D5663",
           "width": 1.3
          }
         },
         "name": "GTEX-13111-1726-SM-5EGJZ",
         "opacity": 0.8,
         "orientation": "v",
         "type": "histogram",
         "uid": "7ab8d9ac-3098-47cb-b63e-250e49c96728",
         "x": [
          0,
          27.18
         ]
        },
        {
         "histfunc": "count",
         "histnorm": "",
         "marker": {
          "color": "rgba(128, 0, 128, 0.5918367346938775)",
          "line": {
           "color": "#4D5663",
           "width": 1.3
          }
         },
         "name": "GTEX-13112-2726-SM-5DUW5",
         "opacity": 0.8,
         "orientation": "v",
         "type": "histogram",
         "uid": "47055d1a-6ab7-4761-a81b-307217852843",
         "x": [
          0.07969,
          25.46
         ]
        },
        {
         "histfunc": "count",
         "histnorm": "",
         "marker": {
          "color": "rgba(219, 64, 82, 0.5918367346938775)",
          "line": {
           "color": "#4D5663",
           "width": 1.3
          }
         },
         "name": "GTEX-13113-1826-SM-5LZW4",
         "opacity": 0.8,
         "orientation": "v",
         "type": "histogram",
         "uid": "5a7dbb0d-746f-42ae-a34e-bb77ec9e8af8",
         "x": [
          0.08229,
          18.37
         ]
        },
        {
         "histfunc": "count",
         "histnorm": "",
         "marker": {
          "color": "rgba(219, 64, 82, 0.5102040816326532)",
          "line": {
           "color": "#4D5663",
           "width": 1.3
          }
         },
         "name": "GTEX-1313W-0226-SM-5LZV7",
         "opacity": 0.8,
         "orientation": "v",
         "type": "histogram",
         "uid": "06a5fca3-d5bb-4d6c-bf78-0eb7566b4602",
         "x": [
          0,
          24.37
         ]
        },
        {
         "histfunc": "count",
         "histnorm": "",
         "marker": {
          "color": "rgba(0, 128, 128, 0.5102040816326532)",
          "line": {
           "color": "#4D5663",
           "width": 1.3
          }
         },
         "name": "GTEX-1314G-1626-SM-5EQ67",
         "opacity": 0.8,
         "orientation": "v",
         "type": "histogram",
         "uid": "7fb393a2-76c9-4892-b289-8e0046c4919e",
         "x": [
          0,
          23.27
         ]
        },
        {
         "histfunc": "count",
         "histnorm": "",
         "marker": {
          "color": "rgba(255, 255, 51, 0.5102040816326532)",
          "line": {
           "color": "#4D5663",
           "width": 1.3
          }
         },
         "name": "GTEX-131XE-2426-SM-5EQ5V",
         "opacity": 0.8,
         "orientation": "v",
         "type": "histogram",
         "uid": "5aab5d94-6dc4-4e64-beb9-f353378da171",
         "x": [
          0,
          52.56
         ]
        },
        {
         "histfunc": "count",
         "histnorm": "",
         "marker": {
          "color": "rgba(128, 128, 0, 0.5102040816326532)",
          "line": {
           "color": "#4D5663",
           "width": 1.3
          }
         },
         "name": "GTEX-131XF-2226-SM-5EQKG",
         "opacity": 0.8,
         "orientation": "v",
         "type": "histogram",
         "uid": "521a68cc-d25a-49ed-8df5-4168d47d846f",
         "x": [
          0,
          27.11
         ]
        },
        {
         "histfunc": "count",
         "histnorm": "",
         "marker": {
          "color": "rgba(251, 128, 114, 0.5102040816326532)",
          "line": {
           "color": "#4D5663",
           "width": 1.3
          }
         },
         "name": "GTEX-131XW-0526-SM-5PNXZ",
         "opacity": 0.8,
         "orientation": "v",
         "type": "histogram",
         "uid": "ff87b5f6-62ac-4baf-a11e-503f5d3ec96a",
         "x": [
          0,
          34.35
         ]
        },
        {
         "histfunc": "count",
         "histnorm": "",
         "marker": {
          "color": "rgba(128, 177, 211, 0.5102040816326532)",
          "line": {
           "color": "#4D5663",
           "width": 1.3
          }
         },
         "name": "GTEX-131YS-0226-SM-5IJEH",
         "opacity": 0.8,
         "orientation": "v",
         "type": "histogram",
         "uid": "1e3f67bf-59bc-46b5-b5f0-c821f5299f5d",
         "x": [
          0.0284,
          31.8
         ]
        },
        {
         "histfunc": "count",
         "histnorm": "",
         "marker": {
          "color": "rgba(255, 153, 51, 0.5102040816326532)",
          "line": {
           "color": "#4D5663",
           "width": 1.3
          }
         },
         "name": "GTEX-132AR-0226-SM-5IJBE",
         "opacity": 0.8,
         "orientation": "v",
         "type": "histogram",
         "uid": "1e4f97c7-4671-4c88-870b-6a4e01489a7a",
         "x": [
          0,
          30.77
         ]
        },
        {
         "histfunc": "count",
         "histnorm": "",
         "marker": {
          "color": "rgba(55, 128, 191, 0.5102040816326532)",
          "line": {
           "color": "#4D5663",
           "width": 1.3
          }
         },
         "name": "GTEX-132QS-2526-SM-62LFJ",
         "opacity": 0.8,
         "orientation": "v",
         "type": "histogram",
         "uid": "c4ad00f6-e5ad-4a82-8c19-5ba898776d1b",
         "x": [
          0,
          28.06
         ]
        },
        {
         "histfunc": "count",
         "histnorm": "",
         "marker": {
          "color": "rgba(50, 171, 96, 0.5102040816326532)",
          "line": {
           "color": "#4D5663",
           "width": 1.3
          }
         },
         "name": "GTEX-133LE-1926-SM-5N9FV",
         "opacity": 0.8,
         "orientation": "v",
         "type": "histogram",
         "uid": "7ea463f5-425c-4e35-92a5-c7b4d5d87e7a",
         "x": [
          0.02647,
          43.71
         ]
        },
        {
         "histfunc": "count",
         "histnorm": "",
         "marker": {
          "color": "rgba(128, 0, 128, 0.5102040816326532)",
          "line": {
           "color": "#4D5663",
           "width": 1.3
          }
         },
         "name": "GTEX-1399R-2626-SM-5KLZ7",
         "opacity": 0.8,
         "orientation": "v",
         "type": "histogram",
         "uid": "7394945e-864a-45bc-81f7-ebd6c8d648c2",
         "x": [
          0.1117,
          26.11
         ]
        },
        {
         "histfunc": "count",
         "histnorm": "",
         "marker": {
          "color": "rgba(128, 0, 128, 0.42857142857142866)",
          "line": {
           "color": "#4D5663",
           "width": 1.3
          }
         },
         "name": "GTEX-1399T-2726-SM-5K7XK",
         "opacity": 0.8,
         "orientation": "v",
         "type": "histogram",
         "uid": "7a54bebc-73bd-4c2b-b56f-9c08f4142105",
         "x": [
          0.1231,
          37.92
         ]
        },
        {
         "histfunc": "count",
         "histnorm": "",
         "marker": {
          "color": "rgba(219, 64, 82, 0.42857142857142866)",
          "line": {
           "color": "#4D5663",
           "width": 1.3
          }
         },
         "name": "GTEX-1399U-2426-SM-5K7XB",
         "opacity": 0.8,
         "orientation": "v",
         "type": "histogram",
         "uid": "02fc55c4-93e8-480a-a013-994d7e385474",
         "x": [
          0,
          27.58
         ]
        },
        {
         "histfunc": "count",
         "histnorm": "",
         "marker": {
          "color": "rgba(0, 128, 128, 0.42857142857142866)",
          "line": {
           "color": "#4D5663",
           "width": 1.3
          }
         },
         "name": "GTEX-139D8-0326-SM-5IJCJ",
         "opacity": 0.8,
         "orientation": "v",
         "type": "histogram",
         "uid": "c5c4bb4c-a550-4127-88ff-37171111a50c",
         "x": [
          0.07404,
          18.86
         ]
        },
        {
         "histfunc": "count",
         "histnorm": "",
         "marker": {
          "color": "rgba(255, 255, 51, 0.42857142857142866)",
          "line": {
           "color": "#4D5663",
           "width": 1.3
          }
         },
         "name": "GTEX-139T4-0126-SM-5HL5G",
         "opacity": 0.8,
         "orientation": "v",
         "type": "histogram",
         "uid": "bc44022d-ff0f-4c93-9c2b-61acc007d3f2",
         "x": [
          0,
          38.54
         ]
        },
        {
         "histfunc": "count",
         "histnorm": "",
         "marker": {
          "color": "rgba(128, 128, 0, 0.42857142857142866)",
          "line": {
           "color": "#4D5663",
           "width": 1.3
          }
         },
         "name": "GTEX-139T6-2126-SM-5KM37",
         "opacity": 0.8,
         "orientation": "v",
         "type": "histogram",
         "uid": "485cd531-c596-4a7c-b9bf-db26fcea5ff6",
         "x": [
          0.08957000000000001,
          23.14
         ]
        },
        {
         "histfunc": "count",
         "histnorm": "",
         "marker": {
          "color": "rgba(251, 128, 114, 0.42857142857142866)",
          "line": {
           "color": "#4D5663",
           "width": 1.3
          }
         },
         "name": "GTEX-139T8-0226-SM-5L3EA",
         "opacity": 0.8,
         "orientation": "v",
         "type": "histogram",
         "uid": "3652f306-0d9d-42fa-9075-f537ba14feaa",
         "x": [
          0,
          22.73
         ]
        },
        {
         "histfunc": "count",
         "histnorm": "",
         "marker": {
          "color": "rgba(128, 177, 211, 0.42857142857142866)",
          "line": {
           "color": "#4D5663",
           "width": 1.3
          }
         },
         "name": "GTEX-139TT-0226-SM-5K7YH",
         "opacity": 0.8,
         "orientation": "v",
         "type": "histogram",
         "uid": "b577a495-b859-4e25-9eb7-2b3c37d2b7d9",
         "x": [
          0,
          30.17
         ]
        },
        {
         "histfunc": "count",
         "histnorm": "",
         "marker": {
          "color": "rgba(255, 153, 51, 0.42857142857142866)",
          "line": {
           "color": "#4D5663",
           "width": 1.3
          }
         },
         "name": "GTEX-139TU-0226-SM-5J1NM",
         "opacity": 0.8,
         "orientation": "v",
         "type": "histogram",
         "uid": "9710522a-0f6d-4bf8-a13d-43adc820b061",
         "x": [
          0,
          46.89
         ]
        },
        {
         "histfunc": "count",
         "histnorm": "",
         "marker": {
          "color": "rgba(55, 128, 191, 0.42857142857142866)",
          "line": {
           "color": "#4D5663",
           "width": 1.3
          }
         },
         "name": "GTEX-139YR-2426-SM-5J1OB",
         "opacity": 0.8,
         "orientation": "v",
         "type": "histogram",
         "uid": "38d7d190-1dea-42ad-b94c-4c0843c56106",
         "x": [
          0.08592999999999999,
          26.95
         ]
        },
        {
         "histfunc": "count",
         "histnorm": "",
         "marker": {
          "color": "rgba(50, 171, 96, 0.42857142857142866)",
          "line": {
           "color": "#4D5663",
           "width": 1.3
          }
         },
         "name": "GTEX-13CF2-2626-SM-5LZZA",
         "opacity": 0.8,
         "orientation": "v",
         "type": "histogram",
         "uid": "2e83e1a3-ca17-4357-ab4a-7dcdc5082aa5",
         "x": [
          0.1001,
          39.83
         ]
        },
        {
         "histfunc": "count",
         "histnorm": "",
         "marker": {
          "color": "rgba(50, 171, 96, 0.3469387755102043)",
          "line": {
           "color": "#4D5663",
           "width": 1.3
          }
         },
         "name": "GTEX-13CF3-2326-SM-5IFGL",
         "opacity": 0.8,
         "orientation": "v",
         "type": "histogram",
         "uid": "9bf9093d-8576-4c3a-a234-e9b857409724",
         "x": [
          0.07153,
          24.02
         ]
        },
        {
         "histfunc": "count",
         "histnorm": "",
         "marker": {
          "color": "rgba(128, 0, 128, 0.3469387755102043)",
          "line": {
           "color": "#4D5663",
           "width": 1.3
          }
         },
         "name": "GTEX-13D11-2326-SM-5IJCY",
         "opacity": 0.8,
         "orientation": "v",
         "type": "histogram",
         "uid": "3b6a8108-c876-4929-b751-c717cccc64a1",
         "x": [
          0.07486,
          19.83
         ]
        },
        {
         "histfunc": "count",
         "histnorm": "",
         "marker": {
          "color": "rgba(219, 64, 82, 0.3469387755102043)",
          "line": {
           "color": "#4D5663",
           "width": 1.3
          }
         },
         "name": "GTEX-13FH7-2226-SM-5IJD4",
         "opacity": 0.8,
         "orientation": "v",
         "type": "histogram",
         "uid": "dd973b91-35af-43af-a903-2103c7b5a263",
         "x": [
          0.04097,
          25.81
         ]
        },
        {
         "histfunc": "count",
         "histnorm": "",
         "marker": {
          "color": "rgba(0, 128, 128, 0.3469387755102043)",
          "line": {
           "color": "#4D5663",
           "width": 1.3
          }
         },
         "name": "GTEX-13FHO-0326-SM-5IJBH",
         "opacity": 0.8,
         "orientation": "v",
         "type": "histogram",
         "uid": "58c795fd-5679-4279-b079-1f081035b3f9",
         "x": [
          0.0346,
          38.34
         ]
        },
        {
         "histfunc": "count",
         "histnorm": "",
         "marker": {
          "color": "rgba(255, 255, 51, 0.3469387755102043)",
          "line": {
           "color": "#4D5663",
           "width": 1.3
          }
         },
         "name": "GTEX-13FHP-0226-SM-5K7WD",
         "opacity": 0.8,
         "orientation": "v",
         "type": "histogram",
         "uid": "14d83a23-4879-4a6e-badc-93559e2f58fd",
         "x": [
          0,
          58.05
         ]
        },
        {
         "histfunc": "count",
         "histnorm": "",
         "marker": {
          "color": "rgba(128, 128, 0, 0.3469387755102043)",
          "line": {
           "color": "#4D5663",
           "width": 1.3
          }
         },
         "name": "GTEX-13FTW-2526-SM-5IJC8",
         "opacity": 0.8,
         "orientation": "v",
         "type": "histogram",
         "uid": "4ed6d9bc-50ee-42fe-b8c0-906106657a11",
         "x": [
          0,
          37.64
         ]
        },
        {
         "histfunc": "count",
         "histnorm": "",
         "marker": {
          "color": "rgba(251, 128, 114, 0.3469387755102043)",
          "line": {
           "color": "#4D5663",
           "width": 1.3
          }
         },
         "name": "GTEX-13FTY-0626-SM-5L3F8",
         "opacity": 0.8,
         "orientation": "v",
         "type": "histogram",
         "uid": "41d55c34-fa2e-43d6-997d-fe8d6177ce9c",
         "x": [
          0,
          34.93
         ]
        },
        {
         "histfunc": "count",
         "histnorm": "",
         "marker": {
          "color": "rgba(128, 177, 211, 0.3469387755102043)",
          "line": {
           "color": "#4D5663",
           "width": 1.3
          }
         },
         "name": "GTEX-13G51-2626-SM-5LZYW",
         "opacity": 0.8,
         "orientation": "v",
         "type": "histogram",
         "uid": "d5021b63-c983-4eff-8554-e490a4c8ab06",
         "x": [
          0.04133,
          34.11
         ]
        },
        {
         "histfunc": "count",
         "histnorm": "",
         "marker": {
          "color": "rgba(255, 153, 51, 0.3469387755102043)",
          "line": {
           "color": "#4D5663",
           "width": 1.3
          }
         },
         "name": "GTEX-13IVO-0226-SM-5LZXU",
         "opacity": 0.8,
         "orientation": "v",
         "type": "histogram",
         "uid": "4fc62487-de40-4508-a02b-2d55e05195e5",
         "x": [
          0.060360000000000004,
          30.19
         ]
        },
        {
         "histfunc": "count",
         "histnorm": "",
         "marker": {
          "color": "rgba(55, 128, 191, 0.3469387755102043)",
          "line": {
           "color": "#4D5663",
           "width": 1.3
          }
         },
         "name": "GTEX-13JUV-2826-SM-5LZWU",
         "opacity": 0.8,
         "orientation": "v",
         "type": "histogram",
         "uid": "680fddfe-acd6-4355-9cfb-281c6f906491",
         "x": [
          0.0411,
          38.78
         ]
        },
        {
         "histfunc": "count",
         "histnorm": "",
         "marker": {
          "color": "rgba(55, 128, 191, 0.2653061224489797)",
          "line": {
           "color": "#4D5663",
           "width": 1.3
          }
         },
         "name": "GTEX-13JVG-0226-SM-5J1MW",
         "opacity": 0.8,
         "orientation": "v",
         "type": "histogram",
         "uid": "68f43324-1b92-4d26-b64e-ddb674918702",
         "x": [
          0.061470000000000004,
          24.45
         ]
        },
        {
         "histfunc": "count",
         "histnorm": "",
         "marker": {
          "color": "rgba(50, 171, 96, 0.2653061224489797)",
          "line": {
           "color": "#4D5663",
           "width": 1.3
          }
         },
         "name": "GTEX-13N11-2626-SM-5K7UQ",
         "opacity": 0.8,
         "orientation": "v",
         "type": "histogram",
         "uid": "a68a1c8b-33c3-4ddc-b863-1d6f4d91411f",
         "x": [
          0.032,
          26.6
         ]
        },
        {
         "histfunc": "count",
         "histnorm": "",
         "marker": {
          "color": "rgba(128, 0, 128, 0.2653061224489797)",
          "line": {
           "color": "#4D5663",
           "width": 1.3
          }
         },
         "name": "GTEX-13N1W-0226-SM-5K7W6",
         "opacity": 0.8,
         "orientation": "v",
         "type": "histogram",
         "uid": "d2bf58c5-8591-43ab-9815-459f5e73ec2a",
         "x": [
          0.029419999999999998,
          22.83
         ]
        },
        {
         "histfunc": "count",
         "histnorm": "",
         "marker": {
          "color": "rgba(219, 64, 82, 0.2653061224489797)",
          "line": {
           "color": "#4D5663",
           "width": 1.3
          }
         },
         "name": "GTEX-13N2G-2726-SM-5J1MG",
         "opacity": 0.8,
         "orientation": "v",
         "type": "histogram",
         "uid": "87f7e675-cd86-4e49-861c-6e159c3a643f",
         "x": [
          0,
          27.28
         ]
        },
        {
         "histfunc": "count",
         "histnorm": "",
         "marker": {
          "color": "rgba(0, 128, 128, 0.2653061224489797)",
          "line": {
           "color": "#4D5663",
           "width": 1.3
          }
         },
         "name": "GTEX-13NYS-0226-SM-5MR49",
         "opacity": 0.8,
         "orientation": "v",
         "type": "histogram",
         "uid": "4b930054-7711-4a48-83fa-46cbf86984c5",
         "x": [
          0,
          21.28
         ]
        },
        {
         "histfunc": "count",
         "histnorm": "",
         "marker": {
          "color": "rgba(255, 255, 51, 0.2653061224489797)",
          "line": {
           "color": "#4D5663",
           "width": 1.3
          }
         },
         "name": "GTEX-13NZ8-0926-SM-5MR3U",
         "opacity": 0.8,
         "orientation": "v",
         "type": "histogram",
         "uid": "ee89c9e3-c33a-4053-acf5-08e987aba352",
         "x": [
          0,
          25.23
         ]
        },
        {
         "histfunc": "count",
         "histnorm": "",
         "marker": {
          "color": "rgba(128, 128, 0, 0.2653061224489797)",
          "line": {
           "color": "#4D5663",
           "width": 1.3
          }
         },
         "name": "GTEX-13NZ9-0526-SM-5J1OX",
         "opacity": 0.8,
         "orientation": "v",
         "type": "histogram",
         "uid": "0a40b2e9-64b5-4a2e-be2d-64e005585c8b",
         "x": [
          0.037219999999999996,
          40.54
         ]
        },
        {
         "histfunc": "count",
         "histnorm": "",
         "marker": {
          "color": "rgba(251, 128, 114, 0.2653061224489797)",
          "line": {
           "color": "#4D5663",
           "width": 1.3
          }
         },
         "name": "GTEX-13NZA-0126-SM-5K7UH",
         "opacity": 0.8,
         "orientation": "v",
         "type": "histogram",
         "uid": "0b9d0044-02e2-40dd-87f6-00f97a03f353",
         "x": [
          0.06112000000000001,
          26.52
         ]
        }
       ],
       "layout": {
        "barmode": "overlay",
        "legend": {
         "bgcolor": "#F5F6F9",
         "font": {
          "color": "#4D5663"
         }
        },
        "paper_bgcolor": "#F5F6F9",
        "plot_bgcolor": "#F5F6F9",
        "title": {
         "font": {
          "color": "#4D5663"
         }
        },
        "xaxis": {
         "gridcolor": "#E1E5ED",
         "showgrid": true,
         "tickfont": {
          "color": "#4D5663"
         },
         "title": {
          "font": {
           "color": "#4D5663"
          },
          "text": ""
         },
         "zerolinecolor": "#E1E5ED"
        },
        "yaxis": {
         "gridcolor": "#E1E5ED",
         "showgrid": true,
         "tickfont": {
          "color": "#4D5663"
         },
         "title": {
          "font": {
           "color": "#4D5663"
          },
          "text": "TPM"
         },
         "zerolinecolor": "#E1E5ED"
        }
       }
      },
      "text/html": [
       "<div id=\"11a6f2da-b29f-4ae1-a3ce-c94246b07449\" style=\"height: 525px; width: 100%;\" class=\"plotly-graph-div\"></div><script type=\"text/javascript\">require([\"plotly\"], function(Plotly) { window.PLOTLYENV=window.PLOTLYENV || {};window.PLOTLYENV.BASE_URL=\"https://plot.ly\";Plotly.newPlot(\"11a6f2da-b29f-4ae1-a3ce-c94246b07449\", [{\"histfunc\": \"count\", \"histnorm\": \"\", \"marker\": {\"color\": \"rgba(255, 153, 51, 1.0)\", \"line\": {\"color\": \"#4D5663\", \"width\": 1.3}}, \"name\": \"GTEX-1117F-0226-SM-5GZZ7\", \"opacity\": 0.8, \"orientation\": \"v\", \"x\": [0.05045, 24.98], \"type\": \"histogram\", \"uid\": \"46c14560-11e4-4697-8229-b45ab33c1e50\"}, {\"histfunc\": \"count\", \"histnorm\": \"\", \"marker\": {\"color\": \"rgba(55, 128, 191, 1.0)\", \"line\": {\"color\": \"#4D5663\", \"width\": 1.3}}, \"name\": \"GTEX-111CU-1826-SM-5GZYN\", \"opacity\": 0.8, \"orientation\": \"v\", \"x\": [0.0, 35.05], \"type\": \"histogram\", \"uid\": \"6d6f8c69-afae-4abf-b977-872b98a71e88\"}, {\"histfunc\": \"count\", \"histnorm\": \"\", \"marker\": {\"color\": \"rgba(50, 171, 96, 1.0)\", \"line\": {\"color\": \"#4D5663\", \"width\": 1.3}}, \"name\": \"GTEX-111FC-0226-SM-5N9B8\", \"opacity\": 0.8, \"orientation\": \"v\", \"x\": [0.02945, 40.62], \"type\": \"histogram\", \"uid\": \"373c658b-be36-4138-9e89-209763490099\"}, {\"histfunc\": \"count\", \"histnorm\": \"\", \"marker\": {\"color\": \"rgba(128, 0, 128, 1.0)\", \"line\": {\"color\": \"#4D5663\", \"width\": 1.3}}, \"name\": \"GTEX-111VG-2326-SM-5N9BK\", \"opacity\": 0.8, \"orientation\": \"v\", \"x\": [0.0326, 29.15], \"type\": \"histogram\", \"uid\": \"2a7e5495-2aef-47fd-90fe-f3f40e0212ff\"}, {\"histfunc\": \"count\", \"histnorm\": \"\", \"marker\": {\"color\": \"rgba(219, 64, 82, 1.0)\", \"line\": {\"color\": \"#4D5663\", \"width\": 1.3}}, \"name\": \"GTEX-111YS-2426-SM-5GZZQ\", \"opacity\": 0.8, \"orientation\": \"v\", \"x\": [0.0, 20.39], \"type\": \"histogram\", \"uid\": \"d4c11522-7e66-49ce-899d-a68f0b50ced0\"}, {\"histfunc\": \"count\", \"histnorm\": \"\", \"marker\": {\"color\": \"rgba(0, 128, 128, 1.0)\", \"line\": {\"color\": \"#4D5663\", \"width\": 1.3}}, \"name\": \"GTEX-1122O-2026-SM-5NQ91\", \"opacity\": 0.8, \"orientation\": \"v\", \"x\": [0.0, 19.8], \"type\": \"histogram\", \"uid\": \"240eb62b-3e18-42fc-b6d2-3c5ccd061828\"}, {\"histfunc\": \"count\", \"histnorm\": \"\", \"marker\": {\"color\": \"rgba(255, 255, 51, 1.0)\", \"line\": {\"color\": \"#4D5663\", \"width\": 1.3}}, \"name\": \"GTEX-1128S-2126-SM-5H12U\", \"opacity\": 0.8, \"orientation\": \"v\", \"x\": [0.0861, 25.29], \"type\": \"histogram\", \"uid\": \"9aa5a458-cf1d-4daa-8f52-e1bfc38b96e4\"}, {\"histfunc\": \"count\", \"histnorm\": \"\", \"marker\": {\"color\": \"rgba(128, 128, 0, 1.0)\", \"line\": {\"color\": \"#4D5663\", \"width\": 1.3}}, \"name\": \"GTEX-113IC-0226-SM-5HL5C\", \"opacity\": 0.8, \"orientation\": \"v\", \"x\": [0.131, 35.17], \"type\": \"histogram\", \"uid\": \"041d5951-1dfb-4898-8230-5d10e1b502a1\"}, {\"histfunc\": \"count\", \"histnorm\": \"\", \"marker\": {\"color\": \"rgba(251, 128, 114, 1.0)\", \"line\": {\"color\": \"#4D5663\", \"width\": 1.3}}, \"name\": \"GTEX-117YX-2226-SM-5EGJJ\", \"opacity\": 0.8, \"orientation\": \"v\", \"x\": [0.06773, 18.94], \"type\": \"histogram\", \"uid\": \"65d23dd9-26dc-4f15-9871-f6026360a8cb\"}, {\"histfunc\": \"count\", \"histnorm\": \"\", \"marker\": {\"color\": \"rgba(128, 177, 211, 1.0)\", \"line\": {\"color\": \"#4D5663\", \"width\": 1.3}}, \"name\": \"GTEX-11DXW-0326-SM-5H11W\", \"opacity\": 0.8, \"orientation\": \"v\", \"x\": [0.0, 32.63], \"type\": \"histogram\", \"uid\": \"0114e549-98ab-4392-9cfe-f44cc004c5be\"}, {\"histfunc\": \"count\", \"histnorm\": \"\", \"marker\": {\"color\": \"rgba(128, 177, 211, 0.9183673469387754)\", \"line\": {\"color\": \"#4D5663\", \"width\": 1.3}}, \"name\": \"GTEX-11DXX-2326-SM-5Q5A2\", \"opacity\": 0.8, \"orientation\": \"v\", \"x\": [0.03199, 26.12], \"type\": \"histogram\", \"uid\": \"314c083a-7b4b-40a9-b080-53025116bd77\"}, {\"histfunc\": \"count\", \"histnorm\": \"\", \"marker\": {\"color\": \"rgba(255, 153, 51, 0.9183673469387754)\", \"line\": {\"color\": \"#4D5663\", \"width\": 1.3}}, \"name\": \"GTEX-11DZ1-0226-SM-5A5KF\", \"opacity\": 0.8, \"orientation\": \"v\", \"x\": [0.06642, 49.64], \"type\": \"histogram\", \"uid\": \"3b1964d0-cf1f-4f2c-8c86-efdef2de06a3\"}, {\"histfunc\": \"count\", \"histnorm\": \"\", \"marker\": {\"color\": \"rgba(55, 128, 191, 0.9183673469387754)\", \"line\": {\"color\": \"#4D5663\", \"width\": 1.3}}, \"name\": \"GTEX-11EI6-0226-SM-5EQ64\", \"opacity\": 0.8, \"orientation\": \"v\", \"x\": [0.0, 32.93], \"type\": \"histogram\", \"uid\": \"81e09012-299d-45a0-aef9-ca036baeefaf\"}, {\"histfunc\": \"count\", \"histnorm\": \"\", \"marker\": {\"color\": \"rgba(50, 171, 96, 0.9183673469387754)\", \"line\": {\"color\": \"#4D5663\", \"width\": 1.3}}, \"name\": \"GTEX-11EM3-2326-SM-5H12B\", \"opacity\": 0.8, \"orientation\": \"v\", \"x\": [0.06246, 20.3], \"type\": \"histogram\", \"uid\": \"c87728dd-8c08-4e0f-ad6c-3b4ae9a51a49\"}, {\"histfunc\": \"count\", \"histnorm\": \"\", \"marker\": {\"color\": \"rgba(128, 0, 128, 0.9183673469387754)\", \"line\": {\"color\": \"#4D5663\", \"width\": 1.3}}, \"name\": \"GTEX-11EMC-2826-SM-5PNY6\", \"opacity\": 0.8, \"orientation\": \"v\", \"x\": [0.02645, 32.6], \"type\": \"histogram\", \"uid\": \"6456defc-3acd-42de-8ca7-938573364cab\"}, {\"histfunc\": \"count\", \"histnorm\": \"\", \"marker\": {\"color\": \"rgba(219, 64, 82, 0.9183673469387754)\", \"line\": {\"color\": \"#4D5663\", \"width\": 1.3}}, \"name\": \"GTEX-11EQ8-0226-SM-5EQ5G\", \"opacity\": 0.8, \"orientation\": \"v\", \"x\": [0.08686, 43.81], \"type\": \"histogram\", \"uid\": \"d5451618-2a2d-41c2-b165-3df7e324e168\"}, {\"histfunc\": \"count\", \"histnorm\": \"\", \"marker\": {\"color\": \"rgba(0, 128, 128, 0.9183673469387754)\", \"line\": {\"color\": \"#4D5663\", \"width\": 1.3}}, \"name\": \"GTEX-11EQ9-2526-SM-5HL66\", \"opacity\": 0.8, \"orientation\": \"v\", \"x\": [0, 17], \"type\": \"histogram\", \"uid\": \"f4f3f402-adfd-4e84-888f-12916c91a34d\"}, {\"histfunc\": \"count\", \"histnorm\": \"\", \"marker\": {\"color\": \"rgba(255, 255, 51, 0.9183673469387754)\", \"line\": {\"color\": \"#4D5663\", \"width\": 1.3}}, \"name\": \"GTEX-11GS4-2626-SM-5A5LD\", \"opacity\": 0.8, \"orientation\": \"v\", \"x\": [0.07443, 27.56], \"type\": \"histogram\", \"uid\": \"f85eca89-bc7b-40da-b266-287b0ae4ae5e\"}, {\"histfunc\": \"count\", \"histnorm\": \"\", \"marker\": {\"color\": \"rgba(128, 128, 0, 0.9183673469387754)\", \"line\": {\"color\": \"#4D5663\", \"width\": 1.3}}, \"name\": \"GTEX-11GSO-2326-SM-5A5LX\", \"opacity\": 0.8, \"orientation\": \"v\", \"x\": [0.08205, 22.77], \"type\": \"histogram\", \"uid\": \"89e6e05c-d3c3-47d6-95bf-97142b87b02a\"}, {\"histfunc\": \"count\", \"histnorm\": \"\", \"marker\": {\"color\": \"rgba(251, 128, 114, 0.9183673469387754)\", \"line\": {\"color\": \"#4D5663\", \"width\": 1.3}}, \"name\": \"GTEX-11H98-0226-SM-5NQ89\", \"opacity\": 0.8, \"orientation\": \"v\", \"x\": [0.0, 36.67], \"type\": \"histogram\", \"uid\": \"f1471a4f-93db-4c8e-b0f7-fdca80b05097\"}, {\"histfunc\": \"count\", \"histnorm\": \"\", \"marker\": {\"color\": \"rgba(251, 128, 114, 0.8367346938775511)\", \"line\": {\"color\": \"#4D5663\", \"width\": 1.3}}, \"name\": \"GTEX-11I78-2626-SM-5Q5AI\", \"opacity\": 0.8, \"orientation\": \"v\", \"x\": [0.0, 30.1], \"type\": \"histogram\", \"uid\": \"73a8cb96-7800-4934-8193-930fdc69e98c\"}, {\"histfunc\": \"count\", \"histnorm\": \"\", \"marker\": {\"color\": \"rgba(128, 177, 211, 0.8367346938775511)\", \"line\": {\"color\": \"#4D5663\", \"width\": 1.3}}, \"name\": \"GTEX-11LCK-1126-SM-5A5KC\", \"opacity\": 0.8, \"orientation\": \"v\", \"x\": [0.0, 37.39], \"type\": \"histogram\", \"uid\": \"f402161c-cb2c-46ec-99a3-e0041762fe0b\"}, {\"histfunc\": \"count\", \"histnorm\": \"\", \"marker\": {\"color\": \"rgba(255, 153, 51, 0.8367346938775511)\", \"line\": {\"color\": \"#4D5663\", \"width\": 1.3}}, \"name\": \"GTEX-11O72-0226-SM-59869\", \"opacity\": 0.8, \"orientation\": \"v\", \"x\": [0.03653, 39.21], \"type\": \"histogram\", \"uid\": \"c84543ba-39cc-4879-8242-fda26599719b\"}, {\"histfunc\": \"count\", \"histnorm\": \"\", \"marker\": {\"color\": \"rgba(55, 128, 191, 0.8367346938775511)\", \"line\": {\"color\": \"#4D5663\", \"width\": 1.3}}, \"name\": \"GTEX-11OF3-2426-SM-5Q5AS\", \"opacity\": 0.8, \"orientation\": \"v\", \"x\": [0.1083, 35.51], \"type\": \"histogram\", \"uid\": \"525c944e-9f70-4e0e-8632-9350a62b87e3\"}, {\"histfunc\": \"count\", \"histnorm\": \"\", \"marker\": {\"color\": \"rgba(50, 171, 96, 0.8367346938775511)\", \"line\": {\"color\": \"#4D5663\", \"width\": 1.3}}, \"name\": \"GTEX-11ONC-2526-SM-5986W\", \"opacity\": 0.8, \"orientation\": \"v\", \"x\": [0.09917999999999999, 29.21], \"type\": \"histogram\", \"uid\": \"01034d2d-e439-4d31-ad46-cf606cf6dc57\"}, {\"histfunc\": \"count\", \"histnorm\": \"\", \"marker\": {\"color\": \"rgba(128, 0, 128, 0.8367346938775511)\", \"line\": {\"color\": \"#4D5663\", \"width\": 1.3}}, \"name\": \"GTEX-11P7K-2026-SM-5GU74\", \"opacity\": 0.8, \"orientation\": \"v\", \"x\": [0.0879, 21.13], \"type\": \"histogram\", \"uid\": \"be505909-5643-48fe-a557-05c5130ec929\"}, {\"histfunc\": \"count\", \"histnorm\": \"\", \"marker\": {\"color\": \"rgba(219, 64, 82, 0.8367346938775511)\", \"line\": {\"color\": \"#4D5663\", \"width\": 1.3}}, \"name\": \"GTEX-11P81-2426-SM-5GU65\", \"opacity\": 0.8, \"orientation\": \"v\", \"x\": [0.0, 29.03], \"type\": \"histogram\", \"uid\": \"5c45928c-d0e2-4462-bde9-c46be844fc69\"}, {\"histfunc\": \"count\", \"histnorm\": \"\", \"marker\": {\"color\": \"rgba(0, 128, 128, 0.8367346938775511)\", \"line\": {\"color\": \"#4D5663\", \"width\": 1.3}}, \"name\": \"GTEX-11P82-1726-SM-5Q5AT\", \"opacity\": 0.8, \"orientation\": \"v\", \"x\": [0.0, 27.05], \"type\": \"histogram\", \"uid\": \"13b7927e-a18d-479b-b596-dba82041bb4f\"}, {\"histfunc\": \"count\", \"histnorm\": \"\", \"marker\": {\"color\": \"rgba(255, 255, 51, 0.8367346938775511)\", \"line\": {\"color\": \"#4D5663\", \"width\": 1.3}}, \"name\": \"GTEX-11PRG-0626-SM-5BC56\", \"opacity\": 0.8, \"orientation\": \"v\", \"x\": [0.04738, 36.6], \"type\": \"histogram\", \"uid\": \"41381324-41da-43be-9d99-e74adfb2e418\"}, {\"histfunc\": \"count\", \"histnorm\": \"\", \"marker\": {\"color\": \"rgba(128, 128, 0, 0.8367346938775511)\", \"line\": {\"color\": \"#4D5663\", \"width\": 1.3}}, \"name\": \"GTEX-11TT1-2426-SM-5EQMK\", \"opacity\": 0.8, \"orientation\": \"v\", \"x\": [0.041280000000000004, 14.49], \"type\": \"histogram\", \"uid\": \"8dc5cd44-651a-4a0b-92d5-6f38d423fed9\"}, {\"histfunc\": \"count\", \"histnorm\": \"\", \"marker\": {\"color\": \"rgba(128, 128, 0, 0.7551020408163265)\", \"line\": {\"color\": \"#4D5663\", \"width\": 1.3}}, \"name\": \"GTEX-11TTK-0226-SM-5N9EC\", \"opacity\": 0.8, \"orientation\": \"v\", \"x\": [0.08281000000000001, 28.01], \"type\": \"histogram\", \"uid\": \"1a54ea73-d7ce-4af9-9f67-4e8c11286193\"}, {\"histfunc\": \"count\", \"histnorm\": \"\", \"marker\": {\"color\": \"rgba(251, 128, 114, 0.7551020408163265)\", \"line\": {\"color\": \"#4D5663\", \"width\": 1.3}}, \"name\": \"GTEX-11TUW-2626-SM-5EQKZ\", \"opacity\": 0.8, \"orientation\": \"v\", \"x\": [0.0, 28.42], \"type\": \"histogram\", \"uid\": \"203b5501-9e41-47b6-ab8b-bba2fcce49ae\"}, {\"histfunc\": \"count\", \"histnorm\": \"\", \"marker\": {\"color\": \"rgba(128, 177, 211, 0.7551020408163265)\", \"line\": {\"color\": \"#4D5663\", \"width\": 1.3}}, \"name\": \"GTEX-11UD1-0226-SM-5EQKL\", \"opacity\": 0.8, \"orientation\": \"v\", \"x\": [0.0, 36.02], \"type\": \"histogram\", \"uid\": \"2a959662-db50-4846-ad6b-6a4932c12c65\"}, {\"histfunc\": \"count\", \"histnorm\": \"\", \"marker\": {\"color\": \"rgba(255, 153, 51, 0.7551020408163265)\", \"line\": {\"color\": \"#4D5663\", \"width\": 1.3}}, \"name\": \"GTEX-11UD2-0126-SM-5EQL2\", \"opacity\": 0.8, \"orientation\": \"v\", \"x\": [0.0, 30.37], \"type\": \"histogram\", \"uid\": \"1b4d0e65-936b-4e24-b283-06b56f41ed88\"}, {\"histfunc\": \"count\", \"histnorm\": \"\", \"marker\": {\"color\": \"rgba(55, 128, 191, 0.7551020408163265)\", \"line\": {\"color\": \"#4D5663\", \"width\": 1.3}}, \"name\": \"GTEX-11WQC-2426-SM-5EQKQ\", \"opacity\": 0.8, \"orientation\": \"v\", \"x\": [0.03901, 29.76], \"type\": \"histogram\", \"uid\": \"443bbf3c-7486-446a-b49c-98e8045cf5b7\"}, {\"histfunc\": \"count\", \"histnorm\": \"\", \"marker\": {\"color\": \"rgba(50, 171, 96, 0.7551020408163265)\", \"line\": {\"color\": \"#4D5663\", \"width\": 1.3}}, \"name\": \"GTEX-11XUK-2126-SM-5EQLR\", \"opacity\": 0.8, \"orientation\": \"v\", \"x\": [0.0, 32.71], \"type\": \"histogram\", \"uid\": \"e369aac5-530d-48df-b3b3-bba001a95b12\"}, {\"histfunc\": \"count\", \"histnorm\": \"\", \"marker\": {\"color\": \"rgba(128, 0, 128, 0.7551020408163265)\", \"line\": {\"color\": \"#4D5663\", \"width\": 1.3}}, \"name\": \"GTEX-11ZTS-0226-SM-5EQKD\", \"opacity\": 0.8, \"orientation\": \"v\", \"x\": [0.037239999999999995, 28.62], \"type\": \"histogram\", \"uid\": \"7f933ccd-94ba-47dc-9df6-fcc7a7a00c4e\"}, {\"histfunc\": \"count\", \"histnorm\": \"\", \"marker\": {\"color\": \"rgba(219, 64, 82, 0.7551020408163265)\", \"line\": {\"color\": \"#4D5663\", \"width\": 1.3}}, \"name\": \"GTEX-11ZTT-2526-SM-5EQM9\", \"opacity\": 0.8, \"orientation\": \"v\", \"x\": [0.030010000000000002, 22.16], \"type\": \"histogram\", \"uid\": \"1cf35bb9-e9a8-4553-b543-108b11088568\"}, {\"histfunc\": \"count\", \"histnorm\": \"\", \"marker\": {\"color\": \"rgba(0, 128, 128, 0.7551020408163265)\", \"line\": {\"color\": \"#4D5663\", \"width\": 1.3}}, \"name\": \"GTEX-11ZU8-2426-SM-5EQMV\", \"opacity\": 0.8, \"orientation\": \"v\", \"x\": [0.0401, 25.78], \"type\": \"histogram\", \"uid\": \"b0b6ac6f-8565-4f29-bd8f-72b5fc5780a1\"}, {\"histfunc\": \"count\", \"histnorm\": \"\", \"marker\": {\"color\": \"rgba(255, 255, 51, 0.7551020408163265)\", \"line\": {\"color\": \"#4D5663\", \"width\": 1.3}}, \"name\": \"GTEX-11ZUS-0726-SM-59886\", \"opacity\": 0.8, \"orientation\": \"v\", \"x\": [0.03687, 26.58], \"type\": \"histogram\", \"uid\": \"b052e237-b462-46c3-a94f-cc7a7ac3cece\"}, {\"histfunc\": \"count\", \"histnorm\": \"\", \"marker\": {\"color\": \"rgba(255, 255, 51, 0.6734693877551021)\", \"line\": {\"color\": \"#4D5663\", \"width\": 1.3}}, \"name\": \"GTEX-11ZVC-2626-SM-5FQTA\", \"opacity\": 0.8, \"orientation\": \"v\", \"x\": [0.1009, 26.43], \"type\": \"histogram\", \"uid\": \"d6502789-1b14-4522-8974-31586625e712\"}, {\"histfunc\": \"count\", \"histnorm\": \"\", \"marker\": {\"color\": \"rgba(128, 128, 0, 0.6734693877551021)\", \"line\": {\"color\": \"#4D5663\", \"width\": 1.3}}, \"name\": \"GTEX-1211K-2226-SM-5FQU6\", \"opacity\": 0.8, \"orientation\": \"v\", \"x\": [0.1369, 31.96], \"type\": \"histogram\", \"uid\": \"0f32df27-628d-46d1-865f-a81cec83bebe\"}, {\"histfunc\": \"count\", \"histnorm\": \"\", \"marker\": {\"color\": \"rgba(251, 128, 114, 0.6734693877551021)\", \"line\": {\"color\": \"#4D5663\", \"width\": 1.3}}, \"name\": \"GTEX-12126-0426-SM-5Q5AP\", \"opacity\": 0.8, \"orientation\": \"v\", \"x\": [0.04272, 26.2], \"type\": \"histogram\", \"uid\": \"0f6241ca-2438-4d85-9bcb-2dd6d797ad8a\"}, {\"histfunc\": \"count\", \"histnorm\": \"\", \"marker\": {\"color\": \"rgba(128, 177, 211, 0.6734693877551021)\", \"line\": {\"color\": \"#4D5663\", \"width\": 1.3}}, \"name\": \"GTEX-1212Z-2426-SM-5EQ5D\", \"opacity\": 0.8, \"orientation\": \"v\", \"x\": [0.06779, 40.93], \"type\": \"histogram\", \"uid\": \"57362863-ca2b-43ce-8e8a-e17238691ff0\"}, {\"histfunc\": \"count\", \"histnorm\": \"\", \"marker\": {\"color\": \"rgba(255, 153, 51, 0.6734693877551021)\", \"line\": {\"color\": \"#4D5663\", \"width\": 1.3}}, \"name\": \"GTEX-12584-0226-SM-5EQL5\", \"opacity\": 0.8, \"orientation\": \"v\", \"x\": [0.03108, 35.03], \"type\": \"histogram\", \"uid\": \"5fdb0d24-38b3-4616-92a8-7fa9ab287521\"}, {\"histfunc\": \"count\", \"histnorm\": \"\", \"marker\": {\"color\": \"rgba(55, 128, 191, 0.6734693877551021)\", \"line\": {\"color\": \"#4D5663\", \"width\": 1.3}}, \"name\": \"GTEX-12696-2526-SM-5EQLN\", \"opacity\": 0.8, \"orientation\": \"v\", \"x\": [0.08313999999999999, 19.77], \"type\": \"histogram\", \"uid\": \"0e4d8585-e832-42b7-bbf9-cb0df3543eb6\"}, {\"histfunc\": \"count\", \"histnorm\": \"\", \"marker\": {\"color\": \"rgba(50, 171, 96, 0.6734693877551021)\", \"line\": {\"color\": \"#4D5663\", \"width\": 1.3}}, \"name\": \"GTEX-1269C-2726-SM-5EGJ4\", \"opacity\": 0.8, \"orientation\": \"v\", \"x\": [0.06559, 28.25], \"type\": \"histogram\", \"uid\": \"ad8d16ae-6c13-498d-8fa3-56811992a46b\"}, {\"histfunc\": \"count\", \"histnorm\": \"\", \"marker\": {\"color\": \"rgba(128, 0, 128, 0.6734693877551021)\", \"line\": {\"color\": \"#4D5663\", \"width\": 1.3}}, \"name\": \"GTEX-12C56-1626-SM-5FQUO\", \"opacity\": 0.8, \"orientation\": \"v\", \"x\": [0.02792, 34.9], \"type\": \"histogram\", \"uid\": \"c14facde-af73-4dd4-8389-90177600b4ae\"}, {\"histfunc\": \"count\", \"histnorm\": \"\", \"marker\": {\"color\": \"rgba(219, 64, 82, 0.6734693877551021)\", \"line\": {\"color\": \"#4D5663\", \"width\": 1.3}}, \"name\": \"GTEX-12KS4-0426-SM-5EQMC\", \"opacity\": 0.8, \"orientation\": \"v\", \"x\": [0.035519999999999996, 22.95], \"type\": \"histogram\", \"uid\": \"ff32d037-9f8f-45dc-a801-e3c01a44747f\"}, {\"histfunc\": \"count\", \"histnorm\": \"\", \"marker\": {\"color\": \"rgba(0, 128, 128, 0.6734693877551021)\", \"line\": {\"color\": \"#4D5663\", \"width\": 1.3}}, \"name\": \"GTEX-12WSA-0326-SM-5BC6I\", \"opacity\": 0.8, \"orientation\": \"v\", \"x\": [0.04585, 26.49], \"type\": \"histogram\", \"uid\": \"83e16aa5-5896-4e66-b18f-5c16bf81652e\"}, {\"histfunc\": \"count\", \"histnorm\": \"\", \"marker\": {\"color\": \"rgba(0, 128, 128, 0.5918367346938775)\", \"line\": {\"color\": \"#4D5663\", \"width\": 1.3}}, \"name\": \"GTEX-12WSC-0226-SM-5EQ52\", \"opacity\": 0.8, \"orientation\": \"v\", \"x\": [0.03925, 28.08], \"type\": \"histogram\", \"uid\": \"817b9572-5c79-48e1-a03b-80e07836df48\"}, {\"histfunc\": \"count\", \"histnorm\": \"\", \"marker\": {\"color\": \"rgba(255, 255, 51, 0.5918367346938775)\", \"line\": {\"color\": \"#4D5663\", \"width\": 1.3}}, \"name\": \"GTEX-12WSD-0226-SM-59HKO\", \"opacity\": 0.8, \"orientation\": \"v\", \"x\": [0.1092, 33.0], \"type\": \"histogram\", \"uid\": \"6bfe2eb3-368e-471c-9c35-7b4d68d200ef\"}, {\"histfunc\": \"count\", \"histnorm\": \"\", \"marker\": {\"color\": \"rgba(128, 128, 0, 0.5918367346938775)\", \"line\": {\"color\": \"#4D5663\", \"width\": 1.3}}, \"name\": \"GTEX-12WSL-2426-SM-5GCN7\", \"opacity\": 0.8, \"orientation\": \"v\", \"x\": [0.036289999999999996, 35.31], \"type\": \"histogram\", \"uid\": \"e97f553f-484e-4d71-a31b-8e864939d710\"}, {\"histfunc\": \"count\", \"histnorm\": \"\", \"marker\": {\"color\": \"rgba(251, 128, 114, 0.5918367346938775)\", \"line\": {\"color\": \"#4D5663\", \"width\": 1.3}}, \"name\": \"GTEX-12WSM-0226-SM-5LZV6\", \"opacity\": 0.8, \"orientation\": \"v\", \"x\": [0.036160000000000005, 42.74], \"type\": \"histogram\", \"uid\": \"1ff0c1b6-b6bf-4818-9776-341e5536267e\"}, {\"histfunc\": \"count\", \"histnorm\": \"\", \"marker\": {\"color\": \"rgba(128, 177, 211, 0.5918367346938775)\", \"line\": {\"color\": \"#4D5663\", \"width\": 1.3}}, \"name\": \"GTEX-12ZZX-0226-SM-5DUXU\", \"opacity\": 0.8, \"orientation\": \"v\", \"x\": [0.08207, 30.49], \"type\": \"histogram\", \"uid\": \"bd290b9a-426d-4383-af67-67cc1cbc0ac3\"}, {\"histfunc\": \"count\", \"histnorm\": \"\", \"marker\": {\"color\": \"rgba(255, 153, 51, 0.5918367346938775)\", \"line\": {\"color\": \"#4D5663\", \"width\": 1.3}}, \"name\": \"GTEX-12ZZY-0326-SM-5LZVQ\", \"opacity\": 0.8, \"orientation\": \"v\", \"x\": [0.0, 28.72], \"type\": \"histogram\", \"uid\": \"a336cee7-d93d-4ec2-ad3f-631adc65a6fc\"}, {\"histfunc\": \"count\", \"histnorm\": \"\", \"marker\": {\"color\": \"rgba(55, 128, 191, 0.5918367346938775)\", \"line\": {\"color\": \"#4D5663\", \"width\": 1.3}}, \"name\": \"GTEX-12ZZZ-0526-SM-5DUX6\", \"opacity\": 0.8, \"orientation\": \"v\", \"x\": [0.0, 31.26], \"type\": \"histogram\", \"uid\": \"0628dfe7-dd17-4cda-8169-cfc3938cf7ef\"}, {\"histfunc\": \"count\", \"histnorm\": \"\", \"marker\": {\"color\": \"rgba(50, 171, 96, 0.5918367346938775)\", \"line\": {\"color\": \"#4D5663\", \"width\": 1.3}}, \"name\": \"GTEX-13111-1726-SM-5EGJZ\", \"opacity\": 0.8, \"orientation\": \"v\", \"x\": [0.0, 27.18], \"type\": \"histogram\", \"uid\": \"51ba2ec8-f31a-42fd-9738-9524c8ebff68\"}, {\"histfunc\": \"count\", \"histnorm\": \"\", \"marker\": {\"color\": \"rgba(128, 0, 128, 0.5918367346938775)\", \"line\": {\"color\": \"#4D5663\", \"width\": 1.3}}, \"name\": \"GTEX-13112-2726-SM-5DUW5\", \"opacity\": 0.8, \"orientation\": \"v\", \"x\": [0.07969, 25.46], \"type\": \"histogram\", \"uid\": \"04adbd37-2100-4093-8882-d893a5e25536\"}, {\"histfunc\": \"count\", \"histnorm\": \"\", \"marker\": {\"color\": \"rgba(219, 64, 82, 0.5918367346938775)\", \"line\": {\"color\": \"#4D5663\", \"width\": 1.3}}, \"name\": \"GTEX-13113-1826-SM-5LZW4\", \"opacity\": 0.8, \"orientation\": \"v\", \"x\": [0.08229, 18.37], \"type\": \"histogram\", \"uid\": \"93f9144c-ca2e-431a-99a2-3a1541ff6bc0\"}, {\"histfunc\": \"count\", \"histnorm\": \"\", \"marker\": {\"color\": \"rgba(219, 64, 82, 0.5102040816326532)\", \"line\": {\"color\": \"#4D5663\", \"width\": 1.3}}, \"name\": \"GTEX-1313W-0226-SM-5LZV7\", \"opacity\": 0.8, \"orientation\": \"v\", \"x\": [0.0, 24.37], \"type\": \"histogram\", \"uid\": \"88d834ba-3f3a-4dba-a2c7-a00326aeb410\"}, {\"histfunc\": \"count\", \"histnorm\": \"\", \"marker\": {\"color\": \"rgba(0, 128, 128, 0.5102040816326532)\", \"line\": {\"color\": \"#4D5663\", \"width\": 1.3}}, \"name\": \"GTEX-1314G-1626-SM-5EQ67\", \"opacity\": 0.8, \"orientation\": \"v\", \"x\": [0.0, 23.27], \"type\": \"histogram\", \"uid\": \"bcfb0d9e-c85f-45fe-be17-7ff4456d1ee1\"}, {\"histfunc\": \"count\", \"histnorm\": \"\", \"marker\": {\"color\": \"rgba(255, 255, 51, 0.5102040816326532)\", \"line\": {\"color\": \"#4D5663\", \"width\": 1.3}}, \"name\": \"GTEX-131XE-2426-SM-5EQ5V\", \"opacity\": 0.8, \"orientation\": \"v\", \"x\": [0.0, 52.56], \"type\": \"histogram\", \"uid\": \"670e4846-a9aa-47d6-9ec0-3863f7ce5cec\"}, {\"histfunc\": \"count\", \"histnorm\": \"\", \"marker\": {\"color\": \"rgba(128, 128, 0, 0.5102040816326532)\", \"line\": {\"color\": \"#4D5663\", \"width\": 1.3}}, \"name\": \"GTEX-131XF-2226-SM-5EQKG\", \"opacity\": 0.8, \"orientation\": \"v\", \"x\": [0.0, 27.11], \"type\": \"histogram\", \"uid\": \"601e2426-712e-42be-a7cb-bf54a4effaec\"}, {\"histfunc\": \"count\", \"histnorm\": \"\", \"marker\": {\"color\": \"rgba(251, 128, 114, 0.5102040816326532)\", \"line\": {\"color\": \"#4D5663\", \"width\": 1.3}}, \"name\": \"GTEX-131XW-0526-SM-5PNXZ\", \"opacity\": 0.8, \"orientation\": \"v\", \"x\": [0.0, 34.35], \"type\": \"histogram\", \"uid\": \"a30c58c3-f072-4750-8a2e-14f9482be286\"}, {\"histfunc\": \"count\", \"histnorm\": \"\", \"marker\": {\"color\": \"rgba(128, 177, 211, 0.5102040816326532)\", \"line\": {\"color\": \"#4D5663\", \"width\": 1.3}}, \"name\": \"GTEX-131YS-0226-SM-5IJEH\", \"opacity\": 0.8, \"orientation\": \"v\", \"x\": [0.0284, 31.8], \"type\": \"histogram\", \"uid\": \"d018c396-886a-46cb-be98-8bbc064bc212\"}, {\"histfunc\": \"count\", \"histnorm\": \"\", \"marker\": {\"color\": \"rgba(255, 153, 51, 0.5102040816326532)\", \"line\": {\"color\": \"#4D5663\", \"width\": 1.3}}, \"name\": \"GTEX-132AR-0226-SM-5IJBE\", \"opacity\": 0.8, \"orientation\": \"v\", \"x\": [0.0, 30.77], \"type\": \"histogram\", \"uid\": \"b953ad75-58ee-4950-bc2b-6e0bbe2dbf5f\"}, {\"histfunc\": \"count\", \"histnorm\": \"\", \"marker\": {\"color\": \"rgba(55, 128, 191, 0.5102040816326532)\", \"line\": {\"color\": \"#4D5663\", \"width\": 1.3}}, \"name\": \"GTEX-132QS-2526-SM-62LFJ\", \"opacity\": 0.8, \"orientation\": \"v\", \"x\": [0.0, 28.06], \"type\": \"histogram\", \"uid\": \"85c500d5-437b-4604-bd75-0b743224fc96\"}, {\"histfunc\": \"count\", \"histnorm\": \"\", \"marker\": {\"color\": \"rgba(50, 171, 96, 0.5102040816326532)\", \"line\": {\"color\": \"#4D5663\", \"width\": 1.3}}, \"name\": \"GTEX-133LE-1926-SM-5N9FV\", \"opacity\": 0.8, \"orientation\": \"v\", \"x\": [0.02647, 43.71], \"type\": \"histogram\", \"uid\": \"ddc539f4-d92f-42bc-b47c-37e142cf1aa6\"}, {\"histfunc\": \"count\", \"histnorm\": \"\", \"marker\": {\"color\": \"rgba(128, 0, 128, 0.5102040816326532)\", \"line\": {\"color\": \"#4D5663\", \"width\": 1.3}}, \"name\": \"GTEX-1399R-2626-SM-5KLZ7\", \"opacity\": 0.8, \"orientation\": \"v\", \"x\": [0.1117, 26.11], \"type\": \"histogram\", \"uid\": \"5aa82a62-92ac-4cd9-9eba-5f8579698473\"}, {\"histfunc\": \"count\", \"histnorm\": \"\", \"marker\": {\"color\": \"rgba(128, 0, 128, 0.42857142857142866)\", \"line\": {\"color\": \"#4D5663\", \"width\": 1.3}}, \"name\": \"GTEX-1399T-2726-SM-5K7XK\", \"opacity\": 0.8, \"orientation\": \"v\", \"x\": [0.1231, 37.92], \"type\": \"histogram\", \"uid\": \"9fd3d223-aaea-4549-9609-77c117e2a486\"}, {\"histfunc\": \"count\", \"histnorm\": \"\", \"marker\": {\"color\": \"rgba(219, 64, 82, 0.42857142857142866)\", \"line\": {\"color\": \"#4D5663\", \"width\": 1.3}}, \"name\": \"GTEX-1399U-2426-SM-5K7XB\", \"opacity\": 0.8, \"orientation\": \"v\", \"x\": [0.0, 27.58], \"type\": \"histogram\", \"uid\": \"500a1197-772a-4995-b378-8ea06c5ead16\"}, {\"histfunc\": \"count\", \"histnorm\": \"\", \"marker\": {\"color\": \"rgba(0, 128, 128, 0.42857142857142866)\", \"line\": {\"color\": \"#4D5663\", \"width\": 1.3}}, \"name\": \"GTEX-139D8-0326-SM-5IJCJ\", \"opacity\": 0.8, \"orientation\": \"v\", \"x\": [0.07404, 18.86], \"type\": \"histogram\", \"uid\": \"ca4d19b8-b3ad-4f67-be83-553823bc7e6c\"}, {\"histfunc\": \"count\", \"histnorm\": \"\", \"marker\": {\"color\": \"rgba(255, 255, 51, 0.42857142857142866)\", \"line\": {\"color\": \"#4D5663\", \"width\": 1.3}}, \"name\": \"GTEX-139T4-0126-SM-5HL5G\", \"opacity\": 0.8, \"orientation\": \"v\", \"x\": [0.0, 38.54], \"type\": \"histogram\", \"uid\": \"e1d49a4f-0fc5-4bb6-be28-ae737ba08f7e\"}, {\"histfunc\": \"count\", \"histnorm\": \"\", \"marker\": {\"color\": \"rgba(128, 128, 0, 0.42857142857142866)\", \"line\": {\"color\": \"#4D5663\", \"width\": 1.3}}, \"name\": \"GTEX-139T6-2126-SM-5KM37\", \"opacity\": 0.8, \"orientation\": \"v\", \"x\": [0.08957000000000001, 23.14], \"type\": \"histogram\", \"uid\": \"afa66db8-947f-4300-96a5-dce7b77e52be\"}, {\"histfunc\": \"count\", \"histnorm\": \"\", \"marker\": {\"color\": \"rgba(251, 128, 114, 0.42857142857142866)\", \"line\": {\"color\": \"#4D5663\", \"width\": 1.3}}, \"name\": \"GTEX-139T8-0226-SM-5L3EA\", \"opacity\": 0.8, \"orientation\": \"v\", \"x\": [0.0, 22.73], \"type\": \"histogram\", \"uid\": \"b07b27cf-d837-4aa2-a437-dd7dcbfc0b30\"}, {\"histfunc\": \"count\", \"histnorm\": \"\", \"marker\": {\"color\": \"rgba(128, 177, 211, 0.42857142857142866)\", \"line\": {\"color\": \"#4D5663\", \"width\": 1.3}}, \"name\": \"GTEX-139TT-0226-SM-5K7YH\", \"opacity\": 0.8, \"orientation\": \"v\", \"x\": [0.0, 30.17], \"type\": \"histogram\", \"uid\": \"12fde548-e0d6-4fa0-8f15-af68fc1f4bda\"}, {\"histfunc\": \"count\", \"histnorm\": \"\", \"marker\": {\"color\": \"rgba(255, 153, 51, 0.42857142857142866)\", \"line\": {\"color\": \"#4D5663\", \"width\": 1.3}}, \"name\": \"GTEX-139TU-0226-SM-5J1NM\", \"opacity\": 0.8, \"orientation\": \"v\", \"x\": [0.0, 46.89], \"type\": \"histogram\", \"uid\": \"612056d9-613b-4af2-b03f-7ab6bd422534\"}, {\"histfunc\": \"count\", \"histnorm\": \"\", \"marker\": {\"color\": \"rgba(55, 128, 191, 0.42857142857142866)\", \"line\": {\"color\": \"#4D5663\", \"width\": 1.3}}, \"name\": \"GTEX-139YR-2426-SM-5J1OB\", \"opacity\": 0.8, \"orientation\": \"v\", \"x\": [0.08592999999999999, 26.95], \"type\": \"histogram\", \"uid\": \"6d857714-4c1a-4cde-8bc2-87527b731568\"}, {\"histfunc\": \"count\", \"histnorm\": \"\", \"marker\": {\"color\": \"rgba(50, 171, 96, 0.42857142857142866)\", \"line\": {\"color\": \"#4D5663\", \"width\": 1.3}}, \"name\": \"GTEX-13CF2-2626-SM-5LZZA\", \"opacity\": 0.8, \"orientation\": \"v\", \"x\": [0.1001, 39.83], \"type\": \"histogram\", \"uid\": \"bb3669d5-679f-482f-b695-0b9839ed6175\"}, {\"histfunc\": \"count\", \"histnorm\": \"\", \"marker\": {\"color\": \"rgba(50, 171, 96, 0.3469387755102043)\", \"line\": {\"color\": \"#4D5663\", \"width\": 1.3}}, \"name\": \"GTEX-13CF3-2326-SM-5IFGL\", \"opacity\": 0.8, \"orientation\": \"v\", \"x\": [0.07153, 24.02], \"type\": \"histogram\", \"uid\": \"529443df-bad5-4fea-8c5e-ed2a35dbbc42\"}, {\"histfunc\": \"count\", \"histnorm\": \"\", \"marker\": {\"color\": \"rgba(128, 0, 128, 0.3469387755102043)\", \"line\": {\"color\": \"#4D5663\", \"width\": 1.3}}, \"name\": \"GTEX-13D11-2326-SM-5IJCY\", \"opacity\": 0.8, \"orientation\": \"v\", \"x\": [0.07486, 19.83], \"type\": \"histogram\", \"uid\": \"19af42bf-e2a7-40d1-890d-e00e3a40161f\"}, {\"histfunc\": \"count\", \"histnorm\": \"\", \"marker\": {\"color\": \"rgba(219, 64, 82, 0.3469387755102043)\", \"line\": {\"color\": \"#4D5663\", \"width\": 1.3}}, \"name\": \"GTEX-13FH7-2226-SM-5IJD4\", \"opacity\": 0.8, \"orientation\": \"v\", \"x\": [0.04097, 25.81], \"type\": \"histogram\", \"uid\": \"b6fefef5-5a4c-4ed2-917a-0284188e5020\"}, {\"histfunc\": \"count\", \"histnorm\": \"\", \"marker\": {\"color\": \"rgba(0, 128, 128, 0.3469387755102043)\", \"line\": {\"color\": \"#4D5663\", \"width\": 1.3}}, \"name\": \"GTEX-13FHO-0326-SM-5IJBH\", \"opacity\": 0.8, \"orientation\": \"v\", \"x\": [0.0346, 38.34], \"type\": \"histogram\", \"uid\": \"e1f5c22d-2c79-4d68-b327-d574fa4046cd\"}, {\"histfunc\": \"count\", \"histnorm\": \"\", \"marker\": {\"color\": \"rgba(255, 255, 51, 0.3469387755102043)\", \"line\": {\"color\": \"#4D5663\", \"width\": 1.3}}, \"name\": \"GTEX-13FHP-0226-SM-5K7WD\", \"opacity\": 0.8, \"orientation\": \"v\", \"x\": [0.0, 58.05], \"type\": \"histogram\", \"uid\": \"7edb4c7d-3b83-410a-99f4-4a50761ddf5a\"}, {\"histfunc\": \"count\", \"histnorm\": \"\", \"marker\": {\"color\": \"rgba(128, 128, 0, 0.3469387755102043)\", \"line\": {\"color\": \"#4D5663\", \"width\": 1.3}}, \"name\": \"GTEX-13FTW-2526-SM-5IJC8\", \"opacity\": 0.8, \"orientation\": \"v\", \"x\": [0.0, 37.64], \"type\": \"histogram\", \"uid\": \"04f557b7-8a3e-4f17-b162-bedd84e1e8e3\"}, {\"histfunc\": \"count\", \"histnorm\": \"\", \"marker\": {\"color\": \"rgba(251, 128, 114, 0.3469387755102043)\", \"line\": {\"color\": \"#4D5663\", \"width\": 1.3}}, \"name\": \"GTEX-13FTY-0626-SM-5L3F8\", \"opacity\": 0.8, \"orientation\": \"v\", \"x\": [0.0, 34.93], \"type\": \"histogram\", \"uid\": \"ccfadb30-7791-466b-a674-5e4318acad17\"}, {\"histfunc\": \"count\", \"histnorm\": \"\", \"marker\": {\"color\": \"rgba(128, 177, 211, 0.3469387755102043)\", \"line\": {\"color\": \"#4D5663\", \"width\": 1.3}}, \"name\": \"GTEX-13G51-2626-SM-5LZYW\", \"opacity\": 0.8, \"orientation\": \"v\", \"x\": [0.04133, 34.11], \"type\": \"histogram\", \"uid\": \"4fab6c89-db7b-4573-9021-4608f7e78811\"}, {\"histfunc\": \"count\", \"histnorm\": \"\", \"marker\": {\"color\": \"rgba(255, 153, 51, 0.3469387755102043)\", \"line\": {\"color\": \"#4D5663\", \"width\": 1.3}}, \"name\": \"GTEX-13IVO-0226-SM-5LZXU\", \"opacity\": 0.8, \"orientation\": \"v\", \"x\": [0.060360000000000004, 30.19], \"type\": \"histogram\", \"uid\": \"b545cbef-e3ab-46d2-b206-8b757488f7f3\"}, {\"histfunc\": \"count\", \"histnorm\": \"\", \"marker\": {\"color\": \"rgba(55, 128, 191, 0.3469387755102043)\", \"line\": {\"color\": \"#4D5663\", \"width\": 1.3}}, \"name\": \"GTEX-13JUV-2826-SM-5LZWU\", \"opacity\": 0.8, \"orientation\": \"v\", \"x\": [0.0411, 38.78], \"type\": \"histogram\", \"uid\": \"0db3e91d-0b85-4094-902f-dffb05062a67\"}, {\"histfunc\": \"count\", \"histnorm\": \"\", \"marker\": {\"color\": \"rgba(55, 128, 191, 0.2653061224489797)\", \"line\": {\"color\": \"#4D5663\", \"width\": 1.3}}, \"name\": \"GTEX-13JVG-0226-SM-5J1MW\", \"opacity\": 0.8, \"orientation\": \"v\", \"x\": [0.061470000000000004, 24.45], \"type\": \"histogram\", \"uid\": \"e889e88f-16d8-41b3-9f12-dfe103c11d91\"}, {\"histfunc\": \"count\", \"histnorm\": \"\", \"marker\": {\"color\": \"rgba(50, 171, 96, 0.2653061224489797)\", \"line\": {\"color\": \"#4D5663\", \"width\": 1.3}}, \"name\": \"GTEX-13N11-2626-SM-5K7UQ\", \"opacity\": 0.8, \"orientation\": \"v\", \"x\": [0.032, 26.6], \"type\": \"histogram\", \"uid\": \"c228ee99-8296-4e0f-b85a-97820aee5fb4\"}, {\"histfunc\": \"count\", \"histnorm\": \"\", \"marker\": {\"color\": \"rgba(128, 0, 128, 0.2653061224489797)\", \"line\": {\"color\": \"#4D5663\", \"width\": 1.3}}, \"name\": \"GTEX-13N1W-0226-SM-5K7W6\", \"opacity\": 0.8, \"orientation\": \"v\", \"x\": [0.029419999999999998, 22.83], \"type\": \"histogram\", \"uid\": \"ed869b97-3db2-4f09-9e03-b1201de3e6b6\"}, {\"histfunc\": \"count\", \"histnorm\": \"\", \"marker\": {\"color\": \"rgba(219, 64, 82, 0.2653061224489797)\", \"line\": {\"color\": \"#4D5663\", \"width\": 1.3}}, \"name\": \"GTEX-13N2G-2726-SM-5J1MG\", \"opacity\": 0.8, \"orientation\": \"v\", \"x\": [0.0, 27.28], \"type\": \"histogram\", \"uid\": \"c9ee000b-d28b-4153-9cd8-a1d48c75e00e\"}, {\"histfunc\": \"count\", \"histnorm\": \"\", \"marker\": {\"color\": \"rgba(0, 128, 128, 0.2653061224489797)\", \"line\": {\"color\": \"#4D5663\", \"width\": 1.3}}, \"name\": \"GTEX-13NYS-0226-SM-5MR49\", \"opacity\": 0.8, \"orientation\": \"v\", \"x\": [0.0, 21.28], \"type\": \"histogram\", \"uid\": \"568e61c7-02ec-4120-82c8-f9241721aa56\"}, {\"histfunc\": \"count\", \"histnorm\": \"\", \"marker\": {\"color\": \"rgba(255, 255, 51, 0.2653061224489797)\", \"line\": {\"color\": \"#4D5663\", \"width\": 1.3}}, \"name\": \"GTEX-13NZ8-0926-SM-5MR3U\", \"opacity\": 0.8, \"orientation\": \"v\", \"x\": [0.0, 25.23], \"type\": \"histogram\", \"uid\": \"3ce1bef4-3b0c-40da-90ff-db5c73d9bbcd\"}, {\"histfunc\": \"count\", \"histnorm\": \"\", \"marker\": {\"color\": \"rgba(128, 128, 0, 0.2653061224489797)\", \"line\": {\"color\": \"#4D5663\", \"width\": 1.3}}, \"name\": \"GTEX-13NZ9-0526-SM-5J1OX\", \"opacity\": 0.8, \"orientation\": \"v\", \"x\": [0.037219999999999996, 40.54], \"type\": \"histogram\", \"uid\": \"90844803-441a-4005-a573-12326d0b29b8\"}, {\"histfunc\": \"count\", \"histnorm\": \"\", \"marker\": {\"color\": \"rgba(251, 128, 114, 0.2653061224489797)\", \"line\": {\"color\": \"#4D5663\", \"width\": 1.3}}, \"name\": \"GTEX-13NZA-0126-SM-5K7UH\", \"opacity\": 0.8, \"orientation\": \"v\", \"x\": [0.06112000000000001, 26.52], \"type\": \"histogram\", \"uid\": \"a064f2a7-7159-4b1a-b16b-cf730e32a7c8\"}], {\"barmode\": \"overlay\", \"legend\": {\"bgcolor\": \"#F5F6F9\", \"font\": {\"color\": \"#4D5663\"}}, \"paper_bgcolor\": \"#F5F6F9\", \"plot_bgcolor\": \"#F5F6F9\", \"title\": {\"font\": {\"color\": \"#4D5663\"}}, \"xaxis\": {\"gridcolor\": \"#E1E5ED\", \"showgrid\": true, \"tickfont\": {\"color\": \"#4D5663\"}, \"title\": {\"text\": \"\", \"font\": {\"color\": \"#4D5663\"}}, \"zerolinecolor\": \"#E1E5ED\"}, \"yaxis\": {\"gridcolor\": \"#E1E5ED\", \"showgrid\": true, \"tickfont\": {\"color\": \"#4D5663\"}, \"title\": {\"text\": \"TPM\", \"font\": {\"color\": \"#4D5663\"}}, \"zerolinecolor\": \"#E1E5ED\"}}, {\"showLink\": true, \"linkText\": \"Export to plot.ly\", \"plotlyServerURL\": \"https://plot.ly\"})});</script><script type=\"text/javascript\">window.addEventListener(\"resize\", function(){window._Plotly.Plots.resize(document.getElementById(\"11a6f2da-b29f-4ae1-a3ce-c94246b07449\"));});</script>"
      ],
      "text/vnd.plotly.v1+html": [
       "<div id=\"11a6f2da-b29f-4ae1-a3ce-c94246b07449\" style=\"height: 525px; width: 100%;\" class=\"plotly-graph-div\"></div><script type=\"text/javascript\">require([\"plotly\"], function(Plotly) { window.PLOTLYENV=window.PLOTLYENV || {};window.PLOTLYENV.BASE_URL=\"https://plot.ly\";Plotly.newPlot(\"11a6f2da-b29f-4ae1-a3ce-c94246b07449\", [{\"histfunc\": \"count\", \"histnorm\": \"\", \"marker\": {\"color\": \"rgba(255, 153, 51, 1.0)\", \"line\": {\"color\": \"#4D5663\", \"width\": 1.3}}, \"name\": \"GTEX-1117F-0226-SM-5GZZ7\", \"opacity\": 0.8, \"orientation\": \"v\", \"x\": [0.05045, 24.98], \"type\": \"histogram\", \"uid\": \"46c14560-11e4-4697-8229-b45ab33c1e50\"}, {\"histfunc\": \"count\", \"histnorm\": \"\", \"marker\": {\"color\": \"rgba(55, 128, 191, 1.0)\", \"line\": {\"color\": \"#4D5663\", \"width\": 1.3}}, \"name\": \"GTEX-111CU-1826-SM-5GZYN\", \"opacity\": 0.8, \"orientation\": \"v\", \"x\": [0.0, 35.05], \"type\": \"histogram\", \"uid\": \"6d6f8c69-afae-4abf-b977-872b98a71e88\"}, {\"histfunc\": \"count\", \"histnorm\": \"\", \"marker\": {\"color\": \"rgba(50, 171, 96, 1.0)\", \"line\": {\"color\": \"#4D5663\", \"width\": 1.3}}, \"name\": \"GTEX-111FC-0226-SM-5N9B8\", \"opacity\": 0.8, \"orientation\": \"v\", \"x\": [0.02945, 40.62], \"type\": \"histogram\", \"uid\": \"373c658b-be36-4138-9e89-209763490099\"}, {\"histfunc\": \"count\", \"histnorm\": \"\", \"marker\": {\"color\": \"rgba(128, 0, 128, 1.0)\", \"line\": {\"color\": \"#4D5663\", \"width\": 1.3}}, \"name\": \"GTEX-111VG-2326-SM-5N9BK\", \"opacity\": 0.8, \"orientation\": \"v\", \"x\": [0.0326, 29.15], \"type\": \"histogram\", \"uid\": \"2a7e5495-2aef-47fd-90fe-f3f40e0212ff\"}, {\"histfunc\": \"count\", \"histnorm\": \"\", \"marker\": {\"color\": \"rgba(219, 64, 82, 1.0)\", \"line\": {\"color\": \"#4D5663\", \"width\": 1.3}}, \"name\": \"GTEX-111YS-2426-SM-5GZZQ\", \"opacity\": 0.8, \"orientation\": \"v\", \"x\": [0.0, 20.39], \"type\": \"histogram\", \"uid\": \"d4c11522-7e66-49ce-899d-a68f0b50ced0\"}, {\"histfunc\": \"count\", \"histnorm\": \"\", \"marker\": {\"color\": \"rgba(0, 128, 128, 1.0)\", \"line\": {\"color\": \"#4D5663\", \"width\": 1.3}}, \"name\": \"GTEX-1122O-2026-SM-5NQ91\", \"opacity\": 0.8, \"orientation\": \"v\", \"x\": [0.0, 19.8], \"type\": \"histogram\", \"uid\": \"240eb62b-3e18-42fc-b6d2-3c5ccd061828\"}, {\"histfunc\": \"count\", \"histnorm\": \"\", \"marker\": {\"color\": \"rgba(255, 255, 51, 1.0)\", \"line\": {\"color\": \"#4D5663\", \"width\": 1.3}}, \"name\": \"GTEX-1128S-2126-SM-5H12U\", \"opacity\": 0.8, \"orientation\": \"v\", \"x\": [0.0861, 25.29], \"type\": \"histogram\", \"uid\": \"9aa5a458-cf1d-4daa-8f52-e1bfc38b96e4\"}, {\"histfunc\": \"count\", \"histnorm\": \"\", \"marker\": {\"color\": \"rgba(128, 128, 0, 1.0)\", \"line\": {\"color\": \"#4D5663\", \"width\": 1.3}}, \"name\": \"GTEX-113IC-0226-SM-5HL5C\", \"opacity\": 0.8, \"orientation\": \"v\", \"x\": [0.131, 35.17], \"type\": \"histogram\", \"uid\": \"041d5951-1dfb-4898-8230-5d10e1b502a1\"}, {\"histfunc\": \"count\", \"histnorm\": \"\", \"marker\": {\"color\": \"rgba(251, 128, 114, 1.0)\", \"line\": {\"color\": \"#4D5663\", \"width\": 1.3}}, \"name\": \"GTEX-117YX-2226-SM-5EGJJ\", \"opacity\": 0.8, \"orientation\": \"v\", \"x\": [0.06773, 18.94], \"type\": \"histogram\", \"uid\": \"65d23dd9-26dc-4f15-9871-f6026360a8cb\"}, {\"histfunc\": \"count\", \"histnorm\": \"\", \"marker\": {\"color\": \"rgba(128, 177, 211, 1.0)\", \"line\": {\"color\": \"#4D5663\", \"width\": 1.3}}, \"name\": \"GTEX-11DXW-0326-SM-5H11W\", \"opacity\": 0.8, \"orientation\": \"v\", \"x\": [0.0, 32.63], \"type\": \"histogram\", \"uid\": \"0114e549-98ab-4392-9cfe-f44cc004c5be\"}, {\"histfunc\": \"count\", \"histnorm\": \"\", \"marker\": {\"color\": \"rgba(128, 177, 211, 0.9183673469387754)\", \"line\": {\"color\": \"#4D5663\", \"width\": 1.3}}, \"name\": \"GTEX-11DXX-2326-SM-5Q5A2\", \"opacity\": 0.8, \"orientation\": \"v\", \"x\": [0.03199, 26.12], \"type\": \"histogram\", \"uid\": \"314c083a-7b4b-40a9-b080-53025116bd77\"}, {\"histfunc\": \"count\", \"histnorm\": \"\", \"marker\": {\"color\": \"rgba(255, 153, 51, 0.9183673469387754)\", \"line\": {\"color\": \"#4D5663\", \"width\": 1.3}}, \"name\": \"GTEX-11DZ1-0226-SM-5A5KF\", \"opacity\": 0.8, \"orientation\": \"v\", \"x\": [0.06642, 49.64], \"type\": \"histogram\", \"uid\": \"3b1964d0-cf1f-4f2c-8c86-efdef2de06a3\"}, {\"histfunc\": \"count\", \"histnorm\": \"\", \"marker\": {\"color\": \"rgba(55, 128, 191, 0.9183673469387754)\", \"line\": {\"color\": \"#4D5663\", \"width\": 1.3}}, \"name\": \"GTEX-11EI6-0226-SM-5EQ64\", \"opacity\": 0.8, \"orientation\": \"v\", \"x\": [0.0, 32.93], \"type\": \"histogram\", \"uid\": \"81e09012-299d-45a0-aef9-ca036baeefaf\"}, {\"histfunc\": \"count\", \"histnorm\": \"\", \"marker\": {\"color\": \"rgba(50, 171, 96, 0.9183673469387754)\", \"line\": {\"color\": \"#4D5663\", \"width\": 1.3}}, \"name\": \"GTEX-11EM3-2326-SM-5H12B\", \"opacity\": 0.8, \"orientation\": \"v\", \"x\": [0.06246, 20.3], \"type\": \"histogram\", \"uid\": \"c87728dd-8c08-4e0f-ad6c-3b4ae9a51a49\"}, {\"histfunc\": \"count\", \"histnorm\": \"\", \"marker\": {\"color\": \"rgba(128, 0, 128, 0.9183673469387754)\", \"line\": {\"color\": \"#4D5663\", \"width\": 1.3}}, \"name\": \"GTEX-11EMC-2826-SM-5PNY6\", \"opacity\": 0.8, \"orientation\": \"v\", \"x\": [0.02645, 32.6], \"type\": \"histogram\", \"uid\": \"6456defc-3acd-42de-8ca7-938573364cab\"}, {\"histfunc\": \"count\", \"histnorm\": \"\", \"marker\": {\"color\": \"rgba(219, 64, 82, 0.9183673469387754)\", \"line\": {\"color\": \"#4D5663\", \"width\": 1.3}}, \"name\": \"GTEX-11EQ8-0226-SM-5EQ5G\", \"opacity\": 0.8, \"orientation\": \"v\", \"x\": [0.08686, 43.81], \"type\": \"histogram\", \"uid\": \"d5451618-2a2d-41c2-b165-3df7e324e168\"}, {\"histfunc\": \"count\", \"histnorm\": \"\", \"marker\": {\"color\": \"rgba(0, 128, 128, 0.9183673469387754)\", \"line\": {\"color\": \"#4D5663\", \"width\": 1.3}}, \"name\": \"GTEX-11EQ9-2526-SM-5HL66\", \"opacity\": 0.8, \"orientation\": \"v\", \"x\": [0, 17], \"type\": \"histogram\", \"uid\": \"f4f3f402-adfd-4e84-888f-12916c91a34d\"}, {\"histfunc\": \"count\", \"histnorm\": \"\", \"marker\": {\"color\": \"rgba(255, 255, 51, 0.9183673469387754)\", \"line\": {\"color\": \"#4D5663\", \"width\": 1.3}}, \"name\": \"GTEX-11GS4-2626-SM-5A5LD\", \"opacity\": 0.8, \"orientation\": \"v\", \"x\": [0.07443, 27.56], \"type\": \"histogram\", \"uid\": \"f85eca89-bc7b-40da-b266-287b0ae4ae5e\"}, {\"histfunc\": \"count\", \"histnorm\": \"\", \"marker\": {\"color\": \"rgba(128, 128, 0, 0.9183673469387754)\", \"line\": {\"color\": \"#4D5663\", \"width\": 1.3}}, \"name\": \"GTEX-11GSO-2326-SM-5A5LX\", \"opacity\": 0.8, \"orientation\": \"v\", \"x\": [0.08205, 22.77], \"type\": \"histogram\", \"uid\": \"89e6e05c-d3c3-47d6-95bf-97142b87b02a\"}, {\"histfunc\": \"count\", \"histnorm\": \"\", \"marker\": {\"color\": \"rgba(251, 128, 114, 0.9183673469387754)\", \"line\": {\"color\": \"#4D5663\", \"width\": 1.3}}, \"name\": \"GTEX-11H98-0226-SM-5NQ89\", \"opacity\": 0.8, \"orientation\": \"v\", \"x\": [0.0, 36.67], \"type\": \"histogram\", \"uid\": \"f1471a4f-93db-4c8e-b0f7-fdca80b05097\"}, {\"histfunc\": \"count\", \"histnorm\": \"\", \"marker\": {\"color\": \"rgba(251, 128, 114, 0.8367346938775511)\", \"line\": {\"color\": \"#4D5663\", \"width\": 1.3}}, \"name\": \"GTEX-11I78-2626-SM-5Q5AI\", \"opacity\": 0.8, \"orientation\": \"v\", \"x\": [0.0, 30.1], \"type\": \"histogram\", \"uid\": \"73a8cb96-7800-4934-8193-930fdc69e98c\"}, {\"histfunc\": \"count\", \"histnorm\": \"\", \"marker\": {\"color\": \"rgba(128, 177, 211, 0.8367346938775511)\", \"line\": {\"color\": \"#4D5663\", \"width\": 1.3}}, \"name\": \"GTEX-11LCK-1126-SM-5A5KC\", \"opacity\": 0.8, \"orientation\": \"v\", \"x\": [0.0, 37.39], \"type\": \"histogram\", \"uid\": \"f402161c-cb2c-46ec-99a3-e0041762fe0b\"}, {\"histfunc\": \"count\", \"histnorm\": \"\", \"marker\": {\"color\": \"rgba(255, 153, 51, 0.8367346938775511)\", \"line\": {\"color\": \"#4D5663\", \"width\": 1.3}}, \"name\": \"GTEX-11O72-0226-SM-59869\", \"opacity\": 0.8, \"orientation\": \"v\", \"x\": [0.03653, 39.21], \"type\": \"histogram\", \"uid\": \"c84543ba-39cc-4879-8242-fda26599719b\"}, {\"histfunc\": \"count\", \"histnorm\": \"\", \"marker\": {\"color\": \"rgba(55, 128, 191, 0.8367346938775511)\", \"line\": {\"color\": \"#4D5663\", \"width\": 1.3}}, \"name\": \"GTEX-11OF3-2426-SM-5Q5AS\", \"opacity\": 0.8, \"orientation\": \"v\", \"x\": [0.1083, 35.51], \"type\": \"histogram\", \"uid\": \"525c944e-9f70-4e0e-8632-9350a62b87e3\"}, {\"histfunc\": \"count\", \"histnorm\": \"\", \"marker\": {\"color\": \"rgba(50, 171, 96, 0.8367346938775511)\", \"line\": {\"color\": \"#4D5663\", \"width\": 1.3}}, \"name\": \"GTEX-11ONC-2526-SM-5986W\", \"opacity\": 0.8, \"orientation\": \"v\", \"x\": [0.09917999999999999, 29.21], \"type\": \"histogram\", \"uid\": \"01034d2d-e439-4d31-ad46-cf606cf6dc57\"}, {\"histfunc\": \"count\", \"histnorm\": \"\", \"marker\": {\"color\": \"rgba(128, 0, 128, 0.8367346938775511)\", \"line\": {\"color\": \"#4D5663\", \"width\": 1.3}}, \"name\": \"GTEX-11P7K-2026-SM-5GU74\", \"opacity\": 0.8, \"orientation\": \"v\", \"x\": [0.0879, 21.13], \"type\": \"histogram\", \"uid\": \"be505909-5643-48fe-a557-05c5130ec929\"}, {\"histfunc\": \"count\", \"histnorm\": \"\", \"marker\": {\"color\": \"rgba(219, 64, 82, 0.8367346938775511)\", \"line\": {\"color\": \"#4D5663\", \"width\": 1.3}}, \"name\": \"GTEX-11P81-2426-SM-5GU65\", \"opacity\": 0.8, \"orientation\": \"v\", \"x\": [0.0, 29.03], \"type\": \"histogram\", \"uid\": \"5c45928c-d0e2-4462-bde9-c46be844fc69\"}, {\"histfunc\": \"count\", \"histnorm\": \"\", \"marker\": {\"color\": \"rgba(0, 128, 128, 0.8367346938775511)\", \"line\": {\"color\": \"#4D5663\", \"width\": 1.3}}, \"name\": \"GTEX-11P82-1726-SM-5Q5AT\", \"opacity\": 0.8, \"orientation\": \"v\", \"x\": [0.0, 27.05], \"type\": \"histogram\", \"uid\": \"13b7927e-a18d-479b-b596-dba82041bb4f\"}, {\"histfunc\": \"count\", \"histnorm\": \"\", \"marker\": {\"color\": \"rgba(255, 255, 51, 0.8367346938775511)\", \"line\": {\"color\": \"#4D5663\", \"width\": 1.3}}, \"name\": \"GTEX-11PRG-0626-SM-5BC56\", \"opacity\": 0.8, \"orientation\": \"v\", \"x\": [0.04738, 36.6], \"type\": \"histogram\", \"uid\": \"41381324-41da-43be-9d99-e74adfb2e418\"}, {\"histfunc\": \"count\", \"histnorm\": \"\", \"marker\": {\"color\": \"rgba(128, 128, 0, 0.8367346938775511)\", \"line\": {\"color\": \"#4D5663\", \"width\": 1.3}}, \"name\": \"GTEX-11TT1-2426-SM-5EQMK\", \"opacity\": 0.8, \"orientation\": \"v\", \"x\": [0.041280000000000004, 14.49], \"type\": \"histogram\", \"uid\": \"8dc5cd44-651a-4a0b-92d5-6f38d423fed9\"}, {\"histfunc\": \"count\", \"histnorm\": \"\", \"marker\": {\"color\": \"rgba(128, 128, 0, 0.7551020408163265)\", \"line\": {\"color\": \"#4D5663\", \"width\": 1.3}}, \"name\": \"GTEX-11TTK-0226-SM-5N9EC\", \"opacity\": 0.8, \"orientation\": \"v\", \"x\": [0.08281000000000001, 28.01], \"type\": \"histogram\", \"uid\": \"1a54ea73-d7ce-4af9-9f67-4e8c11286193\"}, {\"histfunc\": \"count\", \"histnorm\": \"\", \"marker\": {\"color\": \"rgba(251, 128, 114, 0.7551020408163265)\", \"line\": {\"color\": \"#4D5663\", \"width\": 1.3}}, \"name\": \"GTEX-11TUW-2626-SM-5EQKZ\", \"opacity\": 0.8, \"orientation\": \"v\", \"x\": [0.0, 28.42], \"type\": \"histogram\", \"uid\": \"203b5501-9e41-47b6-ab8b-bba2fcce49ae\"}, {\"histfunc\": \"count\", \"histnorm\": \"\", \"marker\": {\"color\": \"rgba(128, 177, 211, 0.7551020408163265)\", \"line\": {\"color\": \"#4D5663\", \"width\": 1.3}}, \"name\": \"GTEX-11UD1-0226-SM-5EQKL\", \"opacity\": 0.8, \"orientation\": \"v\", \"x\": [0.0, 36.02], \"type\": \"histogram\", \"uid\": \"2a959662-db50-4846-ad6b-6a4932c12c65\"}, {\"histfunc\": \"count\", \"histnorm\": \"\", \"marker\": {\"color\": \"rgba(255, 153, 51, 0.7551020408163265)\", \"line\": {\"color\": \"#4D5663\", \"width\": 1.3}}, \"name\": \"GTEX-11UD2-0126-SM-5EQL2\", \"opacity\": 0.8, \"orientation\": \"v\", \"x\": [0.0, 30.37], \"type\": \"histogram\", \"uid\": \"1b4d0e65-936b-4e24-b283-06b56f41ed88\"}, {\"histfunc\": \"count\", \"histnorm\": \"\", \"marker\": {\"color\": \"rgba(55, 128, 191, 0.7551020408163265)\", \"line\": {\"color\": \"#4D5663\", \"width\": 1.3}}, \"name\": \"GTEX-11WQC-2426-SM-5EQKQ\", \"opacity\": 0.8, \"orientation\": \"v\", \"x\": [0.03901, 29.76], \"type\": \"histogram\", \"uid\": \"443bbf3c-7486-446a-b49c-98e8045cf5b7\"}, {\"histfunc\": \"count\", \"histnorm\": \"\", \"marker\": {\"color\": \"rgba(50, 171, 96, 0.7551020408163265)\", \"line\": {\"color\": \"#4D5663\", \"width\": 1.3}}, \"name\": \"GTEX-11XUK-2126-SM-5EQLR\", \"opacity\": 0.8, \"orientation\": \"v\", \"x\": [0.0, 32.71], \"type\": \"histogram\", \"uid\": \"e369aac5-530d-48df-b3b3-bba001a95b12\"}, {\"histfunc\": \"count\", \"histnorm\": \"\", \"marker\": {\"color\": \"rgba(128, 0, 128, 0.7551020408163265)\", \"line\": {\"color\": \"#4D5663\", \"width\": 1.3}}, \"name\": \"GTEX-11ZTS-0226-SM-5EQKD\", \"opacity\": 0.8, \"orientation\": \"v\", \"x\": [0.037239999999999995, 28.62], \"type\": \"histogram\", \"uid\": \"7f933ccd-94ba-47dc-9df6-fcc7a7a00c4e\"}, {\"histfunc\": \"count\", \"histnorm\": \"\", \"marker\": {\"color\": \"rgba(219, 64, 82, 0.7551020408163265)\", \"line\": {\"color\": \"#4D5663\", \"width\": 1.3}}, \"name\": \"GTEX-11ZTT-2526-SM-5EQM9\", \"opacity\": 0.8, \"orientation\": \"v\", \"x\": [0.030010000000000002, 22.16], \"type\": \"histogram\", \"uid\": \"1cf35bb9-e9a8-4553-b543-108b11088568\"}, {\"histfunc\": \"count\", \"histnorm\": \"\", \"marker\": {\"color\": \"rgba(0, 128, 128, 0.7551020408163265)\", \"line\": {\"color\": \"#4D5663\", \"width\": 1.3}}, \"name\": \"GTEX-11ZU8-2426-SM-5EQMV\", \"opacity\": 0.8, \"orientation\": \"v\", \"x\": [0.0401, 25.78], \"type\": \"histogram\", \"uid\": \"b0b6ac6f-8565-4f29-bd8f-72b5fc5780a1\"}, {\"histfunc\": \"count\", \"histnorm\": \"\", \"marker\": {\"color\": \"rgba(255, 255, 51, 0.7551020408163265)\", \"line\": {\"color\": \"#4D5663\", \"width\": 1.3}}, \"name\": \"GTEX-11ZUS-0726-SM-59886\", \"opacity\": 0.8, \"orientation\": \"v\", \"x\": [0.03687, 26.58], \"type\": \"histogram\", \"uid\": \"b052e237-b462-46c3-a94f-cc7a7ac3cece\"}, {\"histfunc\": \"count\", \"histnorm\": \"\", \"marker\": {\"color\": \"rgba(255, 255, 51, 0.6734693877551021)\", \"line\": {\"color\": \"#4D5663\", \"width\": 1.3}}, \"name\": \"GTEX-11ZVC-2626-SM-5FQTA\", \"opacity\": 0.8, \"orientation\": \"v\", \"x\": [0.1009, 26.43], \"type\": \"histogram\", \"uid\": \"d6502789-1b14-4522-8974-31586625e712\"}, {\"histfunc\": \"count\", \"histnorm\": \"\", \"marker\": {\"color\": \"rgba(128, 128, 0, 0.6734693877551021)\", \"line\": {\"color\": \"#4D5663\", \"width\": 1.3}}, \"name\": \"GTEX-1211K-2226-SM-5FQU6\", \"opacity\": 0.8, \"orientation\": \"v\", \"x\": [0.1369, 31.96], \"type\": \"histogram\", \"uid\": \"0f32df27-628d-46d1-865f-a81cec83bebe\"}, {\"histfunc\": \"count\", \"histnorm\": \"\", \"marker\": {\"color\": \"rgba(251, 128, 114, 0.6734693877551021)\", \"line\": {\"color\": \"#4D5663\", \"width\": 1.3}}, \"name\": \"GTEX-12126-0426-SM-5Q5AP\", \"opacity\": 0.8, \"orientation\": \"v\", \"x\": [0.04272, 26.2], \"type\": \"histogram\", \"uid\": \"0f6241ca-2438-4d85-9bcb-2dd6d797ad8a\"}, {\"histfunc\": \"count\", \"histnorm\": \"\", \"marker\": {\"color\": \"rgba(128, 177, 211, 0.6734693877551021)\", \"line\": {\"color\": \"#4D5663\", \"width\": 1.3}}, \"name\": \"GTEX-1212Z-2426-SM-5EQ5D\", \"opacity\": 0.8, \"orientation\": \"v\", \"x\": [0.06779, 40.93], \"type\": \"histogram\", \"uid\": \"57362863-ca2b-43ce-8e8a-e17238691ff0\"}, {\"histfunc\": \"count\", \"histnorm\": \"\", \"marker\": {\"color\": \"rgba(255, 153, 51, 0.6734693877551021)\", \"line\": {\"color\": \"#4D5663\", \"width\": 1.3}}, \"name\": \"GTEX-12584-0226-SM-5EQL5\", \"opacity\": 0.8, \"orientation\": \"v\", \"x\": [0.03108, 35.03], \"type\": \"histogram\", \"uid\": \"5fdb0d24-38b3-4616-92a8-7fa9ab287521\"}, {\"histfunc\": \"count\", \"histnorm\": \"\", \"marker\": {\"color\": \"rgba(55, 128, 191, 0.6734693877551021)\", \"line\": {\"color\": \"#4D5663\", \"width\": 1.3}}, \"name\": \"GTEX-12696-2526-SM-5EQLN\", \"opacity\": 0.8, \"orientation\": \"v\", \"x\": [0.08313999999999999, 19.77], \"type\": \"histogram\", \"uid\": \"0e4d8585-e832-42b7-bbf9-cb0df3543eb6\"}, {\"histfunc\": \"count\", \"histnorm\": \"\", \"marker\": {\"color\": \"rgba(50, 171, 96, 0.6734693877551021)\", \"line\": {\"color\": \"#4D5663\", \"width\": 1.3}}, \"name\": \"GTEX-1269C-2726-SM-5EGJ4\", \"opacity\": 0.8, \"orientation\": \"v\", \"x\": [0.06559, 28.25], \"type\": \"histogram\", \"uid\": \"ad8d16ae-6c13-498d-8fa3-56811992a46b\"}, {\"histfunc\": \"count\", \"histnorm\": \"\", \"marker\": {\"color\": \"rgba(128, 0, 128, 0.6734693877551021)\", \"line\": {\"color\": \"#4D5663\", \"width\": 1.3}}, \"name\": \"GTEX-12C56-1626-SM-5FQUO\", \"opacity\": 0.8, \"orientation\": \"v\", \"x\": [0.02792, 34.9], \"type\": \"histogram\", \"uid\": \"c14facde-af73-4dd4-8389-90177600b4ae\"}, {\"histfunc\": \"count\", \"histnorm\": \"\", \"marker\": {\"color\": \"rgba(219, 64, 82, 0.6734693877551021)\", \"line\": {\"color\": \"#4D5663\", \"width\": 1.3}}, \"name\": \"GTEX-12KS4-0426-SM-5EQMC\", \"opacity\": 0.8, \"orientation\": \"v\", \"x\": [0.035519999999999996, 22.95], \"type\": \"histogram\", \"uid\": \"ff32d037-9f8f-45dc-a801-e3c01a44747f\"}, {\"histfunc\": \"count\", \"histnorm\": \"\", \"marker\": {\"color\": \"rgba(0, 128, 128, 0.6734693877551021)\", \"line\": {\"color\": \"#4D5663\", \"width\": 1.3}}, \"name\": \"GTEX-12WSA-0326-SM-5BC6I\", \"opacity\": 0.8, \"orientation\": \"v\", \"x\": [0.04585, 26.49], \"type\": \"histogram\", \"uid\": \"83e16aa5-5896-4e66-b18f-5c16bf81652e\"}, {\"histfunc\": \"count\", \"histnorm\": \"\", \"marker\": {\"color\": \"rgba(0, 128, 128, 0.5918367346938775)\", \"line\": {\"color\": \"#4D5663\", \"width\": 1.3}}, \"name\": \"GTEX-12WSC-0226-SM-5EQ52\", \"opacity\": 0.8, \"orientation\": \"v\", \"x\": [0.03925, 28.08], \"type\": \"histogram\", \"uid\": \"817b9572-5c79-48e1-a03b-80e07836df48\"}, {\"histfunc\": \"count\", \"histnorm\": \"\", \"marker\": {\"color\": \"rgba(255, 255, 51, 0.5918367346938775)\", \"line\": {\"color\": \"#4D5663\", \"width\": 1.3}}, \"name\": \"GTEX-12WSD-0226-SM-59HKO\", \"opacity\": 0.8, \"orientation\": \"v\", \"x\": [0.1092, 33.0], \"type\": \"histogram\", \"uid\": \"6bfe2eb3-368e-471c-9c35-7b4d68d200ef\"}, {\"histfunc\": \"count\", \"histnorm\": \"\", \"marker\": {\"color\": \"rgba(128, 128, 0, 0.5918367346938775)\", \"line\": {\"color\": \"#4D5663\", \"width\": 1.3}}, \"name\": \"GTEX-12WSL-2426-SM-5GCN7\", \"opacity\": 0.8, \"orientation\": \"v\", \"x\": [0.036289999999999996, 35.31], \"type\": \"histogram\", \"uid\": \"e97f553f-484e-4d71-a31b-8e864939d710\"}, {\"histfunc\": \"count\", \"histnorm\": \"\", \"marker\": {\"color\": \"rgba(251, 128, 114, 0.5918367346938775)\", \"line\": {\"color\": \"#4D5663\", \"width\": 1.3}}, \"name\": \"GTEX-12WSM-0226-SM-5LZV6\", \"opacity\": 0.8, \"orientation\": \"v\", \"x\": [0.036160000000000005, 42.74], \"type\": \"histogram\", \"uid\": \"1ff0c1b6-b6bf-4818-9776-341e5536267e\"}, {\"histfunc\": \"count\", \"histnorm\": \"\", \"marker\": {\"color\": \"rgba(128, 177, 211, 0.5918367346938775)\", \"line\": {\"color\": \"#4D5663\", \"width\": 1.3}}, \"name\": \"GTEX-12ZZX-0226-SM-5DUXU\", \"opacity\": 0.8, \"orientation\": \"v\", \"x\": [0.08207, 30.49], \"type\": \"histogram\", \"uid\": \"bd290b9a-426d-4383-af67-67cc1cbc0ac3\"}, {\"histfunc\": \"count\", \"histnorm\": \"\", \"marker\": {\"color\": \"rgba(255, 153, 51, 0.5918367346938775)\", \"line\": {\"color\": \"#4D5663\", \"width\": 1.3}}, \"name\": \"GTEX-12ZZY-0326-SM-5LZVQ\", \"opacity\": 0.8, \"orientation\": \"v\", \"x\": [0.0, 28.72], \"type\": \"histogram\", \"uid\": \"a336cee7-d93d-4ec2-ad3f-631adc65a6fc\"}, {\"histfunc\": \"count\", \"histnorm\": \"\", \"marker\": {\"color\": \"rgba(55, 128, 191, 0.5918367346938775)\", \"line\": {\"color\": \"#4D5663\", \"width\": 1.3}}, \"name\": \"GTEX-12ZZZ-0526-SM-5DUX6\", \"opacity\": 0.8, \"orientation\": \"v\", \"x\": [0.0, 31.26], \"type\": \"histogram\", \"uid\": \"0628dfe7-dd17-4cda-8169-cfc3938cf7ef\"}, {\"histfunc\": \"count\", \"histnorm\": \"\", \"marker\": {\"color\": \"rgba(50, 171, 96, 0.5918367346938775)\", \"line\": {\"color\": \"#4D5663\", \"width\": 1.3}}, \"name\": \"GTEX-13111-1726-SM-5EGJZ\", \"opacity\": 0.8, \"orientation\": \"v\", \"x\": [0.0, 27.18], \"type\": \"histogram\", \"uid\": \"51ba2ec8-f31a-42fd-9738-9524c8ebff68\"}, {\"histfunc\": \"count\", \"histnorm\": \"\", \"marker\": {\"color\": \"rgba(128, 0, 128, 0.5918367346938775)\", \"line\": {\"color\": \"#4D5663\", \"width\": 1.3}}, \"name\": \"GTEX-13112-2726-SM-5DUW5\", \"opacity\": 0.8, \"orientation\": \"v\", \"x\": [0.07969, 25.46], \"type\": \"histogram\", \"uid\": \"04adbd37-2100-4093-8882-d893a5e25536\"}, {\"histfunc\": \"count\", \"histnorm\": \"\", \"marker\": {\"color\": \"rgba(219, 64, 82, 0.5918367346938775)\", \"line\": {\"color\": \"#4D5663\", \"width\": 1.3}}, \"name\": \"GTEX-13113-1826-SM-5LZW4\", \"opacity\": 0.8, \"orientation\": \"v\", \"x\": [0.08229, 18.37], \"type\": \"histogram\", \"uid\": \"93f9144c-ca2e-431a-99a2-3a1541ff6bc0\"}, {\"histfunc\": \"count\", \"histnorm\": \"\", \"marker\": {\"color\": \"rgba(219, 64, 82, 0.5102040816326532)\", \"line\": {\"color\": \"#4D5663\", \"width\": 1.3}}, \"name\": \"GTEX-1313W-0226-SM-5LZV7\", \"opacity\": 0.8, \"orientation\": \"v\", \"x\": [0.0, 24.37], \"type\": \"histogram\", \"uid\": \"88d834ba-3f3a-4dba-a2c7-a00326aeb410\"}, {\"histfunc\": \"count\", \"histnorm\": \"\", \"marker\": {\"color\": \"rgba(0, 128, 128, 0.5102040816326532)\", \"line\": {\"color\": \"#4D5663\", \"width\": 1.3}}, \"name\": \"GTEX-1314G-1626-SM-5EQ67\", \"opacity\": 0.8, \"orientation\": \"v\", \"x\": [0.0, 23.27], \"type\": \"histogram\", \"uid\": \"bcfb0d9e-c85f-45fe-be17-7ff4456d1ee1\"}, {\"histfunc\": \"count\", \"histnorm\": \"\", \"marker\": {\"color\": \"rgba(255, 255, 51, 0.5102040816326532)\", \"line\": {\"color\": \"#4D5663\", \"width\": 1.3}}, \"name\": \"GTEX-131XE-2426-SM-5EQ5V\", \"opacity\": 0.8, \"orientation\": \"v\", \"x\": [0.0, 52.56], \"type\": \"histogram\", \"uid\": \"670e4846-a9aa-47d6-9ec0-3863f7ce5cec\"}, {\"histfunc\": \"count\", \"histnorm\": \"\", \"marker\": {\"color\": \"rgba(128, 128, 0, 0.5102040816326532)\", \"line\": {\"color\": \"#4D5663\", \"width\": 1.3}}, \"name\": \"GTEX-131XF-2226-SM-5EQKG\", \"opacity\": 0.8, \"orientation\": \"v\", \"x\": [0.0, 27.11], \"type\": \"histogram\", \"uid\": \"601e2426-712e-42be-a7cb-bf54a4effaec\"}, {\"histfunc\": \"count\", \"histnorm\": \"\", \"marker\": {\"color\": \"rgba(251, 128, 114, 0.5102040816326532)\", \"line\": {\"color\": \"#4D5663\", \"width\": 1.3}}, \"name\": \"GTEX-131XW-0526-SM-5PNXZ\", \"opacity\": 0.8, \"orientation\": \"v\", \"x\": [0.0, 34.35], \"type\": \"histogram\", \"uid\": \"a30c58c3-f072-4750-8a2e-14f9482be286\"}, {\"histfunc\": \"count\", \"histnorm\": \"\", \"marker\": {\"color\": \"rgba(128, 177, 211, 0.5102040816326532)\", \"line\": {\"color\": \"#4D5663\", \"width\": 1.3}}, \"name\": \"GTEX-131YS-0226-SM-5IJEH\", \"opacity\": 0.8, \"orientation\": \"v\", \"x\": [0.0284, 31.8], \"type\": \"histogram\", \"uid\": \"d018c396-886a-46cb-be98-8bbc064bc212\"}, {\"histfunc\": \"count\", \"histnorm\": \"\", \"marker\": {\"color\": \"rgba(255, 153, 51, 0.5102040816326532)\", \"line\": {\"color\": \"#4D5663\", \"width\": 1.3}}, \"name\": \"GTEX-132AR-0226-SM-5IJBE\", \"opacity\": 0.8, \"orientation\": \"v\", \"x\": [0.0, 30.77], \"type\": \"histogram\", \"uid\": \"b953ad75-58ee-4950-bc2b-6e0bbe2dbf5f\"}, {\"histfunc\": \"count\", \"histnorm\": \"\", \"marker\": {\"color\": \"rgba(55, 128, 191, 0.5102040816326532)\", \"line\": {\"color\": \"#4D5663\", \"width\": 1.3}}, \"name\": \"GTEX-132QS-2526-SM-62LFJ\", \"opacity\": 0.8, \"orientation\": \"v\", \"x\": [0.0, 28.06], \"type\": \"histogram\", \"uid\": \"85c500d5-437b-4604-bd75-0b743224fc96\"}, {\"histfunc\": \"count\", \"histnorm\": \"\", \"marker\": {\"color\": \"rgba(50, 171, 96, 0.5102040816326532)\", \"line\": {\"color\": \"#4D5663\", \"width\": 1.3}}, \"name\": \"GTEX-133LE-1926-SM-5N9FV\", \"opacity\": 0.8, \"orientation\": \"v\", \"x\": [0.02647, 43.71], \"type\": \"histogram\", \"uid\": \"ddc539f4-d92f-42bc-b47c-37e142cf1aa6\"}, {\"histfunc\": \"count\", \"histnorm\": \"\", \"marker\": {\"color\": \"rgba(128, 0, 128, 0.5102040816326532)\", \"line\": {\"color\": \"#4D5663\", \"width\": 1.3}}, \"name\": \"GTEX-1399R-2626-SM-5KLZ7\", \"opacity\": 0.8, \"orientation\": \"v\", \"x\": [0.1117, 26.11], \"type\": \"histogram\", \"uid\": \"5aa82a62-92ac-4cd9-9eba-5f8579698473\"}, {\"histfunc\": \"count\", \"histnorm\": \"\", \"marker\": {\"color\": \"rgba(128, 0, 128, 0.42857142857142866)\", \"line\": {\"color\": \"#4D5663\", \"width\": 1.3}}, \"name\": \"GTEX-1399T-2726-SM-5K7XK\", \"opacity\": 0.8, \"orientation\": \"v\", \"x\": [0.1231, 37.92], \"type\": \"histogram\", \"uid\": \"9fd3d223-aaea-4549-9609-77c117e2a486\"}, {\"histfunc\": \"count\", \"histnorm\": \"\", \"marker\": {\"color\": \"rgba(219, 64, 82, 0.42857142857142866)\", \"line\": {\"color\": \"#4D5663\", \"width\": 1.3}}, \"name\": \"GTEX-1399U-2426-SM-5K7XB\", \"opacity\": 0.8, \"orientation\": \"v\", \"x\": [0.0, 27.58], \"type\": \"histogram\", \"uid\": \"500a1197-772a-4995-b378-8ea06c5ead16\"}, {\"histfunc\": \"count\", \"histnorm\": \"\", \"marker\": {\"color\": \"rgba(0, 128, 128, 0.42857142857142866)\", \"line\": {\"color\": \"#4D5663\", \"width\": 1.3}}, \"name\": \"GTEX-139D8-0326-SM-5IJCJ\", \"opacity\": 0.8, \"orientation\": \"v\", \"x\": [0.07404, 18.86], \"type\": \"histogram\", \"uid\": \"ca4d19b8-b3ad-4f67-be83-553823bc7e6c\"}, {\"histfunc\": \"count\", \"histnorm\": \"\", \"marker\": {\"color\": \"rgba(255, 255, 51, 0.42857142857142866)\", \"line\": {\"color\": \"#4D5663\", \"width\": 1.3}}, \"name\": \"GTEX-139T4-0126-SM-5HL5G\", \"opacity\": 0.8, \"orientation\": \"v\", \"x\": [0.0, 38.54], \"type\": \"histogram\", \"uid\": \"e1d49a4f-0fc5-4bb6-be28-ae737ba08f7e\"}, {\"histfunc\": \"count\", \"histnorm\": \"\", \"marker\": {\"color\": \"rgba(128, 128, 0, 0.42857142857142866)\", \"line\": {\"color\": \"#4D5663\", \"width\": 1.3}}, \"name\": \"GTEX-139T6-2126-SM-5KM37\", \"opacity\": 0.8, \"orientation\": \"v\", \"x\": [0.08957000000000001, 23.14], \"type\": \"histogram\", \"uid\": \"afa66db8-947f-4300-96a5-dce7b77e52be\"}, {\"histfunc\": \"count\", \"histnorm\": \"\", \"marker\": {\"color\": \"rgba(251, 128, 114, 0.42857142857142866)\", \"line\": {\"color\": \"#4D5663\", \"width\": 1.3}}, \"name\": \"GTEX-139T8-0226-SM-5L3EA\", \"opacity\": 0.8, \"orientation\": \"v\", \"x\": [0.0, 22.73], \"type\": \"histogram\", \"uid\": \"b07b27cf-d837-4aa2-a437-dd7dcbfc0b30\"}, {\"histfunc\": \"count\", \"histnorm\": \"\", \"marker\": {\"color\": \"rgba(128, 177, 211, 0.42857142857142866)\", \"line\": {\"color\": \"#4D5663\", \"width\": 1.3}}, \"name\": \"GTEX-139TT-0226-SM-5K7YH\", \"opacity\": 0.8, \"orientation\": \"v\", \"x\": [0.0, 30.17], \"type\": \"histogram\", \"uid\": \"12fde548-e0d6-4fa0-8f15-af68fc1f4bda\"}, {\"histfunc\": \"count\", \"histnorm\": \"\", \"marker\": {\"color\": \"rgba(255, 153, 51, 0.42857142857142866)\", \"line\": {\"color\": \"#4D5663\", \"width\": 1.3}}, \"name\": \"GTEX-139TU-0226-SM-5J1NM\", \"opacity\": 0.8, \"orientation\": \"v\", \"x\": [0.0, 46.89], \"type\": \"histogram\", \"uid\": \"612056d9-613b-4af2-b03f-7ab6bd422534\"}, {\"histfunc\": \"count\", \"histnorm\": \"\", \"marker\": {\"color\": \"rgba(55, 128, 191, 0.42857142857142866)\", \"line\": {\"color\": \"#4D5663\", \"width\": 1.3}}, \"name\": \"GTEX-139YR-2426-SM-5J1OB\", \"opacity\": 0.8, \"orientation\": \"v\", \"x\": [0.08592999999999999, 26.95], \"type\": \"histogram\", \"uid\": \"6d857714-4c1a-4cde-8bc2-87527b731568\"}, {\"histfunc\": \"count\", \"histnorm\": \"\", \"marker\": {\"color\": \"rgba(50, 171, 96, 0.42857142857142866)\", \"line\": {\"color\": \"#4D5663\", \"width\": 1.3}}, \"name\": \"GTEX-13CF2-2626-SM-5LZZA\", \"opacity\": 0.8, \"orientation\": \"v\", \"x\": [0.1001, 39.83], \"type\": \"histogram\", \"uid\": \"bb3669d5-679f-482f-b695-0b9839ed6175\"}, {\"histfunc\": \"count\", \"histnorm\": \"\", \"marker\": {\"color\": \"rgba(50, 171, 96, 0.3469387755102043)\", \"line\": {\"color\": \"#4D5663\", \"width\": 1.3}}, \"name\": \"GTEX-13CF3-2326-SM-5IFGL\", \"opacity\": 0.8, \"orientation\": \"v\", \"x\": [0.07153, 24.02], \"type\": \"histogram\", \"uid\": \"529443df-bad5-4fea-8c5e-ed2a35dbbc42\"}, {\"histfunc\": \"count\", \"histnorm\": \"\", \"marker\": {\"color\": \"rgba(128, 0, 128, 0.3469387755102043)\", \"line\": {\"color\": \"#4D5663\", \"width\": 1.3}}, \"name\": \"GTEX-13D11-2326-SM-5IJCY\", \"opacity\": 0.8, \"orientation\": \"v\", \"x\": [0.07486, 19.83], \"type\": \"histogram\", \"uid\": \"19af42bf-e2a7-40d1-890d-e00e3a40161f\"}, {\"histfunc\": \"count\", \"histnorm\": \"\", \"marker\": {\"color\": \"rgba(219, 64, 82, 0.3469387755102043)\", \"line\": {\"color\": \"#4D5663\", \"width\": 1.3}}, \"name\": \"GTEX-13FH7-2226-SM-5IJD4\", \"opacity\": 0.8, \"orientation\": \"v\", \"x\": [0.04097, 25.81], \"type\": \"histogram\", \"uid\": \"b6fefef5-5a4c-4ed2-917a-0284188e5020\"}, {\"histfunc\": \"count\", \"histnorm\": \"\", \"marker\": {\"color\": \"rgba(0, 128, 128, 0.3469387755102043)\", \"line\": {\"color\": \"#4D5663\", \"width\": 1.3}}, \"name\": \"GTEX-13FHO-0326-SM-5IJBH\", \"opacity\": 0.8, \"orientation\": \"v\", \"x\": [0.0346, 38.34], \"type\": \"histogram\", \"uid\": \"e1f5c22d-2c79-4d68-b327-d574fa4046cd\"}, {\"histfunc\": \"count\", \"histnorm\": \"\", \"marker\": {\"color\": \"rgba(255, 255, 51, 0.3469387755102043)\", \"line\": {\"color\": \"#4D5663\", \"width\": 1.3}}, \"name\": \"GTEX-13FHP-0226-SM-5K7WD\", \"opacity\": 0.8, \"orientation\": \"v\", \"x\": [0.0, 58.05], \"type\": \"histogram\", \"uid\": \"7edb4c7d-3b83-410a-99f4-4a50761ddf5a\"}, {\"histfunc\": \"count\", \"histnorm\": \"\", \"marker\": {\"color\": \"rgba(128, 128, 0, 0.3469387755102043)\", \"line\": {\"color\": \"#4D5663\", \"width\": 1.3}}, \"name\": \"GTEX-13FTW-2526-SM-5IJC8\", \"opacity\": 0.8, \"orientation\": \"v\", \"x\": [0.0, 37.64], \"type\": \"histogram\", \"uid\": \"04f557b7-8a3e-4f17-b162-bedd84e1e8e3\"}, {\"histfunc\": \"count\", \"histnorm\": \"\", \"marker\": {\"color\": \"rgba(251, 128, 114, 0.3469387755102043)\", \"line\": {\"color\": \"#4D5663\", \"width\": 1.3}}, \"name\": \"GTEX-13FTY-0626-SM-5L3F8\", \"opacity\": 0.8, \"orientation\": \"v\", \"x\": [0.0, 34.93], \"type\": \"histogram\", \"uid\": \"ccfadb30-7791-466b-a674-5e4318acad17\"}, {\"histfunc\": \"count\", \"histnorm\": \"\", \"marker\": {\"color\": \"rgba(128, 177, 211, 0.3469387755102043)\", \"line\": {\"color\": \"#4D5663\", \"width\": 1.3}}, \"name\": \"GTEX-13G51-2626-SM-5LZYW\", \"opacity\": 0.8, \"orientation\": \"v\", \"x\": [0.04133, 34.11], \"type\": \"histogram\", \"uid\": \"4fab6c89-db7b-4573-9021-4608f7e78811\"}, {\"histfunc\": \"count\", \"histnorm\": \"\", \"marker\": {\"color\": \"rgba(255, 153, 51, 0.3469387755102043)\", \"line\": {\"color\": \"#4D5663\", \"width\": 1.3}}, \"name\": \"GTEX-13IVO-0226-SM-5LZXU\", \"opacity\": 0.8, \"orientation\": \"v\", \"x\": [0.060360000000000004, 30.19], \"type\": \"histogram\", \"uid\": \"b545cbef-e3ab-46d2-b206-8b757488f7f3\"}, {\"histfunc\": \"count\", \"histnorm\": \"\", \"marker\": {\"color\": \"rgba(55, 128, 191, 0.3469387755102043)\", \"line\": {\"color\": \"#4D5663\", \"width\": 1.3}}, \"name\": \"GTEX-13JUV-2826-SM-5LZWU\", \"opacity\": 0.8, \"orientation\": \"v\", \"x\": [0.0411, 38.78], \"type\": \"histogram\", \"uid\": \"0db3e91d-0b85-4094-902f-dffb05062a67\"}, {\"histfunc\": \"count\", \"histnorm\": \"\", \"marker\": {\"color\": \"rgba(55, 128, 191, 0.2653061224489797)\", \"line\": {\"color\": \"#4D5663\", \"width\": 1.3}}, \"name\": \"GTEX-13JVG-0226-SM-5J1MW\", \"opacity\": 0.8, \"orientation\": \"v\", \"x\": [0.061470000000000004, 24.45], \"type\": \"histogram\", \"uid\": \"e889e88f-16d8-41b3-9f12-dfe103c11d91\"}, {\"histfunc\": \"count\", \"histnorm\": \"\", \"marker\": {\"color\": \"rgba(50, 171, 96, 0.2653061224489797)\", \"line\": {\"color\": \"#4D5663\", \"width\": 1.3}}, \"name\": \"GTEX-13N11-2626-SM-5K7UQ\", \"opacity\": 0.8, \"orientation\": \"v\", \"x\": [0.032, 26.6], \"type\": \"histogram\", \"uid\": \"c228ee99-8296-4e0f-b85a-97820aee5fb4\"}, {\"histfunc\": \"count\", \"histnorm\": \"\", \"marker\": {\"color\": \"rgba(128, 0, 128, 0.2653061224489797)\", \"line\": {\"color\": \"#4D5663\", \"width\": 1.3}}, \"name\": \"GTEX-13N1W-0226-SM-5K7W6\", \"opacity\": 0.8, \"orientation\": \"v\", \"x\": [0.029419999999999998, 22.83], \"type\": \"histogram\", \"uid\": \"ed869b97-3db2-4f09-9e03-b1201de3e6b6\"}, {\"histfunc\": \"count\", \"histnorm\": \"\", \"marker\": {\"color\": \"rgba(219, 64, 82, 0.2653061224489797)\", \"line\": {\"color\": \"#4D5663\", \"width\": 1.3}}, \"name\": \"GTEX-13N2G-2726-SM-5J1MG\", \"opacity\": 0.8, \"orientation\": \"v\", \"x\": [0.0, 27.28], \"type\": \"histogram\", \"uid\": \"c9ee000b-d28b-4153-9cd8-a1d48c75e00e\"}, {\"histfunc\": \"count\", \"histnorm\": \"\", \"marker\": {\"color\": \"rgba(0, 128, 128, 0.2653061224489797)\", \"line\": {\"color\": \"#4D5663\", \"width\": 1.3}}, \"name\": \"GTEX-13NYS-0226-SM-5MR49\", \"opacity\": 0.8, \"orientation\": \"v\", \"x\": [0.0, 21.28], \"type\": \"histogram\", \"uid\": \"568e61c7-02ec-4120-82c8-f9241721aa56\"}, {\"histfunc\": \"count\", \"histnorm\": \"\", \"marker\": {\"color\": \"rgba(255, 255, 51, 0.2653061224489797)\", \"line\": {\"color\": \"#4D5663\", \"width\": 1.3}}, \"name\": \"GTEX-13NZ8-0926-SM-5MR3U\", \"opacity\": 0.8, \"orientation\": \"v\", \"x\": [0.0, 25.23], \"type\": \"histogram\", \"uid\": \"3ce1bef4-3b0c-40da-90ff-db5c73d9bbcd\"}, {\"histfunc\": \"count\", \"histnorm\": \"\", \"marker\": {\"color\": \"rgba(128, 128, 0, 0.2653061224489797)\", \"line\": {\"color\": \"#4D5663\", \"width\": 1.3}}, \"name\": \"GTEX-13NZ9-0526-SM-5J1OX\", \"opacity\": 0.8, \"orientation\": \"v\", \"x\": [0.037219999999999996, 40.54], \"type\": \"histogram\", \"uid\": \"90844803-441a-4005-a573-12326d0b29b8\"}, {\"histfunc\": \"count\", \"histnorm\": \"\", \"marker\": {\"color\": \"rgba(251, 128, 114, 0.2653061224489797)\", \"line\": {\"color\": \"#4D5663\", \"width\": 1.3}}, \"name\": \"GTEX-13NZA-0126-SM-5K7UH\", \"opacity\": 0.8, \"orientation\": \"v\", \"x\": [0.06112000000000001, 26.52], \"type\": \"histogram\", \"uid\": \"a064f2a7-7159-4b1a-b16b-cf730e32a7c8\"}], {\"barmode\": \"overlay\", \"legend\": {\"bgcolor\": \"#F5F6F9\", \"font\": {\"color\": \"#4D5663\"}}, \"paper_bgcolor\": \"#F5F6F9\", \"plot_bgcolor\": \"#F5F6F9\", \"title\": {\"font\": {\"color\": \"#4D5663\"}}, \"xaxis\": {\"gridcolor\": \"#E1E5ED\", \"showgrid\": true, \"tickfont\": {\"color\": \"#4D5663\"}, \"title\": {\"text\": \"\", \"font\": {\"color\": \"#4D5663\"}}, \"zerolinecolor\": \"#E1E5ED\"}, \"yaxis\": {\"gridcolor\": \"#E1E5ED\", \"showgrid\": true, \"tickfont\": {\"color\": \"#4D5663\"}, \"title\": {\"text\": \"TPM\", \"font\": {\"color\": \"#4D5663\"}}, \"zerolinecolor\": \"#E1E5ED\"}}, {\"showLink\": true, \"linkText\": \"Export to plot.ly\", \"plotlyServerURL\": \"https://plot.ly\"})});</script><script type=\"text/javascript\">window.addEventListener(\"resize\", function(){window._Plotly.Plots.resize(document.getElementById(\"11a6f2da-b29f-4ae1-a3ce-c94246b07449\"));});</script>"
      ]
     },
     "metadata": {},
     "output_type": "display_data"
    }
   ],
   "source": [
    "print(gt.head())\n",
    "gt.iplot(kind='hist', yTitle='TPM')\n"
   ]
  },
  {
   "cell_type": "code",
   "execution_count": 16,
   "metadata": {},
   "outputs": [
    {
     "data": {
      "application/vnd.plotly.v1+json": {
       "config": {
        "linkText": "Export to plot.ly",
        "plotlyServerURL": "https://plot.ly",
        "showLink": true
       },
       "data": [
        {
         "histfunc": "count",
         "histnorm": "",
         "marker": {
          "color": "rgba(255, 153, 51, 1.0)",
          "line": {
           "color": "#4D5663",
           "width": 1.3
          }
         },
         "name": "TP53",
         "opacity": 0.8,
         "orientation": "v",
         "type": "histogram",
         "uid": "1de94962-b7ab-40e2-85c6-b6bcf287f1bf",
         "x": [
          24.98,
          35.05,
          40.62,
          29.15,
          20.39,
          19.8,
          25.29,
          35.17,
          18.94,
          32.63,
          26.12,
          49.64,
          32.93,
          20.3,
          32.6,
          43.81,
          17,
          27.56,
          22.77,
          36.67,
          30.1,
          37.39,
          39.21,
          35.51,
          29.21,
          21.13,
          29.03,
          27.05,
          36.6,
          14.49,
          28.01,
          28.42,
          36.02,
          30.37,
          29.76,
          32.71,
          28.62,
          22.16,
          25.78,
          26.58,
          26.43,
          31.96,
          26.2,
          40.93,
          35.03,
          19.77,
          28.25,
          34.9,
          22.95,
          26.49,
          28.08,
          33,
          35.31,
          42.74,
          30.49,
          28.72,
          31.26,
          27.18,
          25.46,
          18.37,
          24.37,
          23.27,
          52.56,
          27.11,
          34.35,
          31.8,
          30.77,
          28.06,
          43.71,
          26.11,
          37.92,
          27.58,
          18.86,
          38.54,
          23.14,
          22.73,
          30.17,
          46.89,
          26.95,
          39.83,
          24.02,
          19.83,
          25.81,
          38.34,
          58.05,
          37.64,
          34.93,
          34.11,
          30.19,
          38.78,
          24.45,
          26.6,
          22.83,
          27.28,
          21.28,
          25.23,
          40.54,
          26.52
         ]
        }
       ],
       "layout": {
        "barmode": "overlay",
        "legend": {
         "bgcolor": "#F5F6F9",
         "font": {
          "color": "#4D5663"
         }
        },
        "paper_bgcolor": "#F5F6F9",
        "plot_bgcolor": "#F5F6F9",
        "title": {
         "font": {
          "color": "#4D5663"
         }
        },
        "xaxis": {
         "gridcolor": "#E1E5ED",
         "showgrid": true,
         "tickfont": {
          "color": "#4D5663"
         },
         "title": {
          "font": {
           "color": "#4D5663"
          },
          "text": ""
         },
         "zerolinecolor": "#E1E5ED"
        },
        "yaxis": {
         "gridcolor": "#E1E5ED",
         "showgrid": true,
         "tickfont": {
          "color": "#4D5663"
         },
         "title": {
          "font": {
           "color": "#4D5663"
          },
          "text": "TPM"
         },
         "zerolinecolor": "#E1E5ED"
        }
       }
      },
      "text/html": [
       "<div id=\"e06d3712-d7c0-4253-8acc-b712fb18e1c1\" style=\"height: 525px; width: 100%;\" class=\"plotly-graph-div\"></div><script type=\"text/javascript\">require([\"plotly\"], function(Plotly) { window.PLOTLYENV=window.PLOTLYENV || {};window.PLOTLYENV.BASE_URL=\"https://plot.ly\";Plotly.newPlot(\"e06d3712-d7c0-4253-8acc-b712fb18e1c1\", [{\"histfunc\": \"count\", \"histnorm\": \"\", \"marker\": {\"color\": \"rgba(255, 153, 51, 1.0)\", \"line\": {\"color\": \"#4D5663\", \"width\": 1.3}}, \"name\": \"TP53\", \"opacity\": 0.8, \"orientation\": \"v\", \"x\": [24.98, 35.05, 40.62, 29.15, 20.39, 19.8, 25.29, 35.17, 18.94, 32.63, 26.12, 49.64, 32.93, 20.3, 32.6, 43.81, 17.0, 27.56, 22.77, 36.67, 30.1, 37.39, 39.21, 35.51, 29.21, 21.13, 29.03, 27.05, 36.6, 14.49, 28.01, 28.42, 36.02, 30.37, 29.76, 32.71, 28.62, 22.16, 25.78, 26.58, 26.43, 31.96, 26.2, 40.93, 35.03, 19.77, 28.25, 34.9, 22.95, 26.49, 28.08, 33.0, 35.31, 42.74, 30.49, 28.72, 31.26, 27.18, 25.46, 18.37, 24.37, 23.27, 52.56, 27.11, 34.35, 31.8, 30.77, 28.06, 43.71, 26.11, 37.92, 27.58, 18.86, 38.54, 23.14, 22.73, 30.17, 46.89, 26.95, 39.83, 24.02, 19.83, 25.81, 38.34, 58.05, 37.64, 34.93, 34.11, 30.19, 38.78, 24.45, 26.6, 22.83, 27.28, 21.28, 25.23, 40.54, 26.52], \"type\": \"histogram\", \"uid\": \"f11947e6-4eb3-473c-bd38-227b8f5e31b9\"}], {\"barmode\": \"overlay\", \"legend\": {\"bgcolor\": \"#F5F6F9\", \"font\": {\"color\": \"#4D5663\"}}, \"paper_bgcolor\": \"#F5F6F9\", \"plot_bgcolor\": \"#F5F6F9\", \"title\": {\"font\": {\"color\": \"#4D5663\"}}, \"xaxis\": {\"gridcolor\": \"#E1E5ED\", \"showgrid\": true, \"tickfont\": {\"color\": \"#4D5663\"}, \"title\": {\"text\": \"\", \"font\": {\"color\": \"#4D5663\"}}, \"zerolinecolor\": \"#E1E5ED\"}, \"yaxis\": {\"gridcolor\": \"#E1E5ED\", \"showgrid\": true, \"tickfont\": {\"color\": \"#4D5663\"}, \"title\": {\"text\": \"TPM\", \"font\": {\"color\": \"#4D5663\"}}, \"zerolinecolor\": \"#E1E5ED\"}}, {\"showLink\": true, \"linkText\": \"Export to plot.ly\", \"plotlyServerURL\": \"https://plot.ly\"})});</script><script type=\"text/javascript\">window.addEventListener(\"resize\", function(){window._Plotly.Plots.resize(document.getElementById(\"e06d3712-d7c0-4253-8acc-b712fb18e1c1\"));});</script>"
      ],
      "text/vnd.plotly.v1+html": [
       "<div id=\"e06d3712-d7c0-4253-8acc-b712fb18e1c1\" style=\"height: 525px; width: 100%;\" class=\"plotly-graph-div\"></div><script type=\"text/javascript\">require([\"plotly\"], function(Plotly) { window.PLOTLYENV=window.PLOTLYENV || {};window.PLOTLYENV.BASE_URL=\"https://plot.ly\";Plotly.newPlot(\"e06d3712-d7c0-4253-8acc-b712fb18e1c1\", [{\"histfunc\": \"count\", \"histnorm\": \"\", \"marker\": {\"color\": \"rgba(255, 153, 51, 1.0)\", \"line\": {\"color\": \"#4D5663\", \"width\": 1.3}}, \"name\": \"TP53\", \"opacity\": 0.8, \"orientation\": \"v\", \"x\": [24.98, 35.05, 40.62, 29.15, 20.39, 19.8, 25.29, 35.17, 18.94, 32.63, 26.12, 49.64, 32.93, 20.3, 32.6, 43.81, 17.0, 27.56, 22.77, 36.67, 30.1, 37.39, 39.21, 35.51, 29.21, 21.13, 29.03, 27.05, 36.6, 14.49, 28.01, 28.42, 36.02, 30.37, 29.76, 32.71, 28.62, 22.16, 25.78, 26.58, 26.43, 31.96, 26.2, 40.93, 35.03, 19.77, 28.25, 34.9, 22.95, 26.49, 28.08, 33.0, 35.31, 42.74, 30.49, 28.72, 31.26, 27.18, 25.46, 18.37, 24.37, 23.27, 52.56, 27.11, 34.35, 31.8, 30.77, 28.06, 43.71, 26.11, 37.92, 27.58, 18.86, 38.54, 23.14, 22.73, 30.17, 46.89, 26.95, 39.83, 24.02, 19.83, 25.81, 38.34, 58.05, 37.64, 34.93, 34.11, 30.19, 38.78, 24.45, 26.6, 22.83, 27.28, 21.28, 25.23, 40.54, 26.52], \"type\": \"histogram\", \"uid\": \"f11947e6-4eb3-473c-bd38-227b8f5e31b9\"}], {\"barmode\": \"overlay\", \"legend\": {\"bgcolor\": \"#F5F6F9\", \"font\": {\"color\": \"#4D5663\"}}, \"paper_bgcolor\": \"#F5F6F9\", \"plot_bgcolor\": \"#F5F6F9\", \"title\": {\"font\": {\"color\": \"#4D5663\"}}, \"xaxis\": {\"gridcolor\": \"#E1E5ED\", \"showgrid\": true, \"tickfont\": {\"color\": \"#4D5663\"}, \"title\": {\"text\": \"\", \"font\": {\"color\": \"#4D5663\"}}, \"zerolinecolor\": \"#E1E5ED\"}, \"yaxis\": {\"gridcolor\": \"#E1E5ED\", \"showgrid\": true, \"tickfont\": {\"color\": \"#4D5663\"}, \"title\": {\"text\": \"TPM\", \"font\": {\"color\": \"#4D5663\"}}, \"zerolinecolor\": \"#E1E5ED\"}}, {\"showLink\": true, \"linkText\": \"Export to plot.ly\", \"plotlyServerURL\": \"https://plot.ly\"})});</script><script type=\"text/javascript\">window.addEventListener(\"resize\", function(){window._Plotly.Plots.resize(document.getElementById(\"e06d3712-d7c0-4253-8acc-b712fb18e1c1\"));});</script>"
      ]
     },
     "metadata": {},
     "output_type": "display_data"
    }
   ],
   "source": [
    "gtt['TP53'].iplot(kind='hist', yTitle='TPM')"
   ]
  }
 ],
 "metadata": {
  "kernelspec": {
   "display_name": "Python 3",
   "language": "python",
   "name": "python3"
  },
  "language_info": {
   "codemirror_mode": {
    "name": "ipython",
    "version": 3
   },
   "file_extension": ".py",
   "mimetype": "text/x-python",
   "name": "python",
   "nbconvert_exporter": "python",
   "pygments_lexer": "ipython3",
   "version": "3.7.1"
  }
 },
 "nbformat": 4,
 "nbformat_minor": 2
}
