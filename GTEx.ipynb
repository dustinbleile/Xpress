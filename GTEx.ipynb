{
 "cells": [
  {
   "cell_type": "code",
   "execution_count": 1,
   "metadata": {},
   "outputs": [],
   "source": [
    "import os, sys, glob, logging\n",
    "import inspect, urllib\n",
    "\n",
    "import pandas, scipy, numpy\n",
    "\n",
    "import time, datetime, pprint\n"
   ]
  },
  {
   "cell_type": "code",
   "execution_count": 2,
   "metadata": {},
   "outputs": [
    {
     "data": {
      "text/html": [
       "<script type=\"text/javascript\">window.PlotlyConfig = {MathJaxConfig: 'local'};</script><script type=\"text/javascript\">if (window.MathJax) {MathJax.Hub.Config({SVG: {font: \"STIX-Web\"}});}</script><script>requirejs.config({paths: { 'plotly': ['https://cdn.plot.ly/plotly-latest.min']},});if(!window._Plotly) {require(['plotly'],function(plotly) {window._Plotly=plotly;});}</script>"
      ],
      "text/vnd.plotly.v1+html": [
       "<script type=\"text/javascript\">window.PlotlyConfig = {MathJaxConfig: 'local'};</script><script type=\"text/javascript\">if (window.MathJax) {MathJax.Hub.Config({SVG: {font: \"STIX-Web\"}});}</script><script>requirejs.config({paths: { 'plotly': ['https://cdn.plot.ly/plotly-latest.min']},});if(!window._Plotly) {require(['plotly'],function(plotly) {window._Plotly=plotly;});}</script>"
      ]
     },
     "metadata": {},
     "output_type": "display_data"
    },
    {
     "data": {
      "text/html": [
       "<script type=\"text/javascript\">window.PlotlyConfig = {MathJaxConfig: 'local'};</script><script type=\"text/javascript\">if (window.MathJax) {MathJax.Hub.Config({SVG: {font: \"STIX-Web\"}});}</script><script>requirejs.config({paths: { 'plotly': ['https://cdn.plot.ly/plotly-latest.min']},});if(!window._Plotly) {require(['plotly'],function(plotly) {window._Plotly=plotly;});}</script>"
      ],
      "text/vnd.plotly.v1+html": [
       "<script type=\"text/javascript\">window.PlotlyConfig = {MathJaxConfig: 'local'};</script><script type=\"text/javascript\">if (window.MathJax) {MathJax.Hub.Config({SVG: {font: \"STIX-Web\"}});}</script><script>requirejs.config({paths: { 'plotly': ['https://cdn.plot.ly/plotly-latest.min']},});if(!window._Plotly) {require(['plotly'],function(plotly) {window._Plotly=plotly;});}</script>"
      ]
     },
     "metadata": {},
     "output_type": "display_data"
    },
    {
     "name": "stdout",
     "output_type": "stream",
     "text": [
      "Work out which source or compiled file an object was defined in.\n",
      "\n",
      "/mnt/c/git_work/Xpress/<ipython-input-2-e8f0a355878d>\n"
     ]
    }
   ],
   "source": [
    "logging.basicConfig(level=logging.INFO)\n",
    "# logging.info('logging info')\n",
    "# logging.warning('logging.warning')\n",
    "\n",
    "\n",
    "import plotly\n",
    "import plotly.plotly as py\n",
    "import plotly.graph_objs as go\n",
    "from plotly.offline import iplot, init_notebook_mode\n",
    "\n",
    "# Using plotly + cufflinks in offline mode\n",
    "import cufflinks\n",
    "cufflinks.go_offline(connected=True)\n",
    "init_notebook_mode(connected=True)\n",
    "\n",
    "# __file__ does not work in a jupyter notebook\n",
    "# make something equivalent - actually only for this particular cell\n",
    "\n",
    "import inspect\n",
    "print(inspect.getfile.__doc__)\n",
    "print()\n",
    "src_fn = inspect.getfile(lambda: None)\n",
    "print(os.path.abspath(src_fn))"
   ]
  },
  {
   "cell_type": "code",
   "execution_count": 15,
   "metadata": {},
   "outputs": [
    {
     "name": "stderr",
     "output_type": "stream",
     "text": [
      "INFO:root:logging\n"
     ]
    },
    {
     "name": "stdout",
     "output_type": "stream",
     "text": [
      "['Adipose Tissue', 'Adrenal Gland', 'Bladder', 'Blood', 'Blood Vessel', 'Bone Marrow', 'Brain', 'Breast', 'Cervix Uteri', 'Colon', 'Esophagus', 'Fallopian Tube', 'Heart', 'Kidney', 'Liver', 'Lung', 'Muscle', 'Nerve', 'Ovary', 'Pancreas', 'Pituitary', 'Prostate', 'Salivary Gland', 'Skin', 'Small Intestine', 'Spleen', 'Stomach', 'Testis', 'Thyroid', 'Uterus', 'Vagina']\n"
     ]
    }
   ],
   "source": [
    "\n",
    "logging.info(\"logging\")\n",
    "\n",
    "# __file__ does not work in a jupyter notebook\n",
    "# make something equivalent - actually only for this particular cell\n",
    "__file__ = os.path.abspath(inspect.getfile(lambda: None))\n",
    "\n",
    "# GTEx data from https://gtexportal.org/home/datasets\n",
    "# Gene transcripts per million data\n",
    "download_dir = '/home/zeno/c_drive/Users/Zeno/Downloads'\n",
    "cache_dir = os.path.join(os.path.dirname(__file__), 'data_cache')\n",
    "if not os.path.exists(cache_dir):\n",
    "    logging.info('Createing {}'.format(cache_dir))\n",
    "    os.makedirs(cache_dir, mode=0o777)\n",
    "\n",
    "# Detailed data file:\n",
    "# This file is quite large ~ 1GB\n",
    "gtex_tpm_link = 'https://storage.googleapis.com/gtex_analysis_v7/rna_seq_data/GTEx_Analysis_2016-01-15_v7_RNASeQCv1.1.8_gene_tpm.gct.gz'\n",
    "gtex_tpm_fn = os.path.join(cache_dir, 'GTEx_Analysis_2016-01-15_v7_RNASeQCv1.1.8_gene_tpm.gct.gz')\n",
    "if not os.path.exists(gtex_tpm_fn):\n",
    "    print(\"downloading {}\".format(gtex_tpm_link))\n",
    "    #urllib.request.urlretrieve(gtex_tpm_link, gtex_tpm_fn)\n",
    "# Just looking at median values by tissue (SMTSD) greatly reduces file size\n",
    "gtex_tpm_med_link = 'https://storage.googleapis.com/gtex_analysis_v7/rna_seq_data/GTEx_Analysis_2016-01-15_v7_RNASeQCv1.1.8_gene_median_tpm.gct.gz'\n",
    "gtex_tpm_med_fn = os.path.join(cache_dir, 'GTEx_Analysis_2016-01-15_v7_RNASeQCv1.1.8_gene_median_tpm.gct.gz')\n",
    "if not os.path.exists(gtex_tpm_med_fn):\n",
    "    print(\"downloading {}\".format(gtex_tpm_med_link))\n",
    "    urllib.request.urlretrieve(gtex_tpm_med_link, gtex_tpm_med_fn)\n",
    "gtpm_med = pandas.read_csv(gtex_tpm_med_fn, sep='\\t', skiprows=2, low_memory=False)\n",
    "\n",
    "# Sample annotation data\n",
    "# Main sample data of interest is:\n",
    "# 'SMTS': 'Tissue Type, area from which the tissue sample was taken.  This is a parent value to SMTSD.'\n",
    "# 'SMTSD': 'SMTS Detailed'\n",
    "gtex_attr_link = 'https://storage.googleapis.com/gtex_analysis_v7/annotations/GTEx_v7_Annotations_SampleAttributesDS.txt'\n",
    "gtex_attr_fn = os.path.join(cache_dir, 'GTEx_v7_Annotations_SampleAttributesDS.txt')\n",
    "gtex_attr_desc_link = 'https://storage.googleapis.com/gtex_analysis_v7/annotations/GTEx_Analysis_v7_Annotations_SampleAttributesDD.xlsx'\n",
    "gtex_attr_desc_fn = os.path.join(cache_dir, 'GTEx_Analysis_v7_Annotations_SampleAttributesDD.xlsx')\n",
    "if not os.path.exists(gtex_attr_fn):\n",
    "    print('downloading {}'.format(gtex_attr_link))\n",
    "    urllib.request.urlretrieve(gtex_attr_link, gtex_attr_fn)\n",
    "if not os.path.exists(gtex_attr_desc_fn):\n",
    "    print('downloading {}'.format(gtex_attr_desc_link))\n",
    "    urllib.request.urlretrieve(gtex_attr_desc_link, gtex_attr_desc_fn)\n",
    "\n",
    "    \n",
    "gs = pandas.read_csv(gtex_attr_fn, sep='\\t')\n",
    "\n",
    "tissue_types = sorted(gs['SMTS'].unique())\n",
    "\n",
    "tissue_dict = dict()\n",
    "for tissue in tissue_types:\n",
    "    tissue_dict[tissue] = sorted(gs[gs['SMTS'] == tissue]['SMTSD'].unique())\n",
    "\n",
    "tissue_subtypes = sorted(gs['SMTSD'].unique())\n",
    "\n",
    "print(tissue_types)\n",
    "\n",
    "# Subject Phenotype data\n",
    "# Age, sex and Hardy Scale death circumstances\n",
    "gtex_pheno_link = 'https://storage.googleapis.com/gtex_analysis_v7/annotations/GTEx_v7_Annotations_SubjectPhenotypesDS.txt'\n",
    "gtex_pheno_fn = os.path.join(cache_dir, 'GTEx_v7_Annotations_SubjectPhenotypesDS.txt')\n",
    "\n",
    "\n",
    "# Just getting a few rows of this giant file\n",
    "#gtpm_head = pandas.read_table(gtex_tpm_fn, skiprows=2, sep='\\t', nrows=1000, usecols=range(3))\n",
    "GTPM_SKIP = 2\n",
    "gtpm_ = pandas.read_table(gtex_tpm_fn, skiprows=2, sep='\\t', usecols=range(4))\n",
    "\n",
    "# Other annotation data\n",
    "\n",
    "# Mutually exclusive \n",
    "# Which study was this from?\n",
    "mut_info_fn = os.path.join(cache_dir, 'enrichments-analysis-result.txt')\n",
    "#mut_info = pandas.read_csv(mut_info_fn, sep='\\t')\n",
    "\n",
    "\n",
    "# Genes of interest\n",
    "TEST_GENES = [\n",
    "    'FAM138A',  # highly expressed\n",
    "    'TP53',\n",
    "    'ERBB2',  # Herceptin target\n",
    "    'EGFR',\n",
    "    'AKT1',\n",
    "    'IL6',\n",
    "    'APOE',\n",
    "]"
   ]
  },
  {
   "cell_type": "code",
   "execution_count": 16,
   "metadata": {},
   "outputs": [
    {
     "name": "stdout",
     "output_type": "stream",
     "text": [
      "['FAM138A', 'TP53', 'ERBB2', 'EGFR', 'AKT1', 'IL6', 'APOE']\n",
      "[2, 6, 43806, 44842, 21315, 39030, 20796, 49176]\n"
     ]
    }
   ],
   "source": [
    "def gtpm_row_by_genename(gene_name):\n",
    "    sub_table = gtpm_[gtpm_['Description'] == gene_name]\n",
    "    return [GTPM_SKIP + 1 + i for i in sub_table.index][0]\n",
    "\n",
    "def gtpm_skip_rows(row_ndx, gene_list=TEST_GENES):\n",
    "    if row_ndx == GTPM_SKIP:\n",
    "        return False  # header\n",
    "    if row_ndx in range(GTPM_SKIP):\n",
    "        return True\n",
    "    for gn in gene_list:\n",
    "        if row_ndx in gtpm_row_by_genename(gn):\n",
    "            return False\n",
    "    return True\n",
    "\n",
    "def gtpm_keep_rows(gene_list=TEST_GENES):\n",
    "    print(gene_list)\n",
    "    return [GTPM_SKIP] + [gtpm_row_by_genename(gene) for gene in gene_list]\n",
    "\n",
    "keep_rows = gtpm_keep_rows()\n",
    "print(keep_rows)"
   ]
  },
  {
   "cell_type": "code",
   "execution_count": 17,
   "metadata": {},
   "outputs": [
    {
     "name": "stdout",
     "output_type": "stream",
     "text": [
      "[2, 6, 43806, 44842, 21315, 39030, 20796, 49176]\n",
      "Tmp table took 0.5383188088734945 minutes\n"
     ]
    }
   ],
   "source": [
    "print(keep_rows)\n",
    "\n",
    "start_time = time.time()\n",
    "gtpm = pandas.read_table(gtex_tpm_fn, skiprows=lambda x: x not in keep_rows, sep='\\t', header=0, usecols=range(100))\n",
    "\n",
    "#gtpm = pandas.read_table(gtex_tpm_fn, skiprows=gtpm_skip_rows, sep='\\t',)\n",
    "end_time = time.time()\n",
    "\n",
    "print(\"Tmp table took {} minutes\".format((end_time - start_time)/60))\n"
   ]
  },
  {
   "cell_type": "code",
   "execution_count": 22,
   "metadata": {
    "scrolled": true
   },
   "outputs": [],
   "source": [
    "# Find some representative gene sets.\n",
    "\n",
    "# First find a set of benchmork genes.  Gene with consistent expression that can be used for scaling."
   ]
  },
  {
   "cell_type": "code",
   "execution_count": 23,
   "metadata": {},
   "outputs": [
    {
     "data": {
      "text/html": [
       "<div>\n",
       "<style scoped>\n",
       "    .dataframe tbody tr th:only-of-type {\n",
       "        vertical-align: middle;\n",
       "    }\n",
       "\n",
       "    .dataframe tbody tr th {\n",
       "        vertical-align: top;\n",
       "    }\n",
       "\n",
       "    .dataframe thead th {\n",
       "        text-align: right;\n",
       "    }\n",
       "</style>\n",
       "<table border=\"1\" class=\"dataframe\">\n",
       "  <thead>\n",
       "    <tr style=\"text-align: right;\">\n",
       "      <th></th>\n",
       "      <th>Adipose Tissue</th>\n",
       "      <th>Adrenal Gland</th>\n",
       "      <th>Bladder</th>\n",
       "      <th>Blood</th>\n",
       "      <th>Blood Vessel</th>\n",
       "      <th>Brain</th>\n",
       "      <th>Breast</th>\n",
       "      <th>Cervix Uteri</th>\n",
       "      <th>Colon</th>\n",
       "      <th>Esophagus</th>\n",
       "      <th>Fallopian Tube</th>\n",
       "      <th>Heart</th>\n",
       "      <th>Kidney</th>\n",
       "      <th>Liver</th>\n",
       "      <th>Lung</th>\n",
       "      <th>Muscle</th>\n",
       "      <th>Nerve</th>\n",
       "      <th>Ovary</th>\n",
       "      <th>Pancreas</th>\n",
       "      <th>Pituitary</th>\n",
       "      <th>Prostate</th>\n",
       "      <th>Salivary Gland</th>\n",
       "      <th>Skin</th>\n",
       "      <th>Small Intestine</th>\n",
       "      <th>Spleen</th>\n",
       "      <th>Stomach</th>\n",
       "      <th>Testis</th>\n",
       "      <th>Thyroid</th>\n",
       "      <th>Uterus</th>\n",
       "      <th>Vagina</th>\n",
       "    </tr>\n",
       "  </thead>\n",
       "  <tbody>\n",
       "    <tr>\n",
       "      <th>count</th>\n",
       "      <td>56202.000000</td>\n",
       "      <td>56202.000000</td>\n",
       "      <td>56202.000000</td>\n",
       "      <td>56202.000000</td>\n",
       "      <td>56202.000000</td>\n",
       "      <td>56202.000000</td>\n",
       "      <td>56202.000000</td>\n",
       "      <td>56202.000000</td>\n",
       "      <td>56202.000000</td>\n",
       "      <td>56202.000000</td>\n",
       "      <td>56202.000000</td>\n",
       "      <td>56202.000000</td>\n",
       "      <td>56202.000000</td>\n",
       "      <td>56202.000000</td>\n",
       "      <td>56202.000000</td>\n",
       "      <td>56202.000000</td>\n",
       "      <td>56202.000000</td>\n",
       "      <td>56202.000000</td>\n",
       "      <td>56202.000000</td>\n",
       "      <td>56202.000000</td>\n",
       "      <td>56202.000000</td>\n",
       "      <td>56202.000000</td>\n",
       "      <td>56202.000000</td>\n",
       "      <td>56202.000000</td>\n",
       "      <td>56202.000000</td>\n",
       "      <td>56202.000000</td>\n",
       "      <td>56202.000000</td>\n",
       "      <td>56202.000000</td>\n",
       "      <td>56202.000000</td>\n",
       "      <td>56202.000000</td>\n",
       "    </tr>\n",
       "    <tr>\n",
       "      <th>mean</th>\n",
       "      <td>16.701955</td>\n",
       "      <td>17.107780</td>\n",
       "      <td>16.663300</td>\n",
       "      <td>16.778048</td>\n",
       "      <td>16.730996</td>\n",
       "      <td>17.055343</td>\n",
       "      <td>16.138433</td>\n",
       "      <td>15.397327</td>\n",
       "      <td>17.005512</td>\n",
       "      <td>16.871584</td>\n",
       "      <td>16.455277</td>\n",
       "      <td>16.846769</td>\n",
       "      <td>15.812127</td>\n",
       "      <td>15.895570</td>\n",
       "      <td>16.124924</td>\n",
       "      <td>16.570206</td>\n",
       "      <td>16.956319</td>\n",
       "      <td>16.813498</td>\n",
       "      <td>16.520740</td>\n",
       "      <td>15.984667</td>\n",
       "      <td>16.227906</td>\n",
       "      <td>14.989199</td>\n",
       "      <td>16.591146</td>\n",
       "      <td>15.809636</td>\n",
       "      <td>16.516674</td>\n",
       "      <td>15.245102</td>\n",
       "      <td>17.319775</td>\n",
       "      <td>16.608929</td>\n",
       "      <td>16.584184</td>\n",
       "      <td>15.826178</td>\n",
       "    </tr>\n",
       "    <tr>\n",
       "      <th>std</th>\n",
       "      <td>375.574426</td>\n",
       "      <td>582.642470</td>\n",
       "      <td>351.055527</td>\n",
       "      <td>252.584699</td>\n",
       "      <td>221.139552</td>\n",
       "      <td>793.467821</td>\n",
       "      <td>375.471731</td>\n",
       "      <td>223.420193</td>\n",
       "      <td>411.394293</td>\n",
       "      <td>417.448540</td>\n",
       "      <td>283.742232</td>\n",
       "      <td>668.212704</td>\n",
       "      <td>674.529828</td>\n",
       "      <td>548.738421</td>\n",
       "      <td>262.732642</td>\n",
       "      <td>534.055278</td>\n",
       "      <td>270.164095</td>\n",
       "      <td>235.579980</td>\n",
       "      <td>668.747311</td>\n",
       "      <td>432.003382</td>\n",
       "      <td>410.755096</td>\n",
       "      <td>341.015132</td>\n",
       "      <td>243.072342</td>\n",
       "      <td>464.867976</td>\n",
       "      <td>287.035114</td>\n",
       "      <td>506.661336</td>\n",
       "      <td>359.338580</td>\n",
       "      <td>343.872469</td>\n",
       "      <td>247.546841</td>\n",
       "      <td>246.663196</td>\n",
       "    </tr>\n",
       "    <tr>\n",
       "      <th>min</th>\n",
       "      <td>0.000000</td>\n",
       "      <td>0.000000</td>\n",
       "      <td>0.000000</td>\n",
       "      <td>0.000000</td>\n",
       "      <td>0.000000</td>\n",
       "      <td>0.000000</td>\n",
       "      <td>0.000000</td>\n",
       "      <td>0.000000</td>\n",
       "      <td>0.000000</td>\n",
       "      <td>0.000000</td>\n",
       "      <td>0.000000</td>\n",
       "      <td>0.000000</td>\n",
       "      <td>0.000000</td>\n",
       "      <td>0.000000</td>\n",
       "      <td>0.000000</td>\n",
       "      <td>0.000000</td>\n",
       "      <td>0.000000</td>\n",
       "      <td>0.000000</td>\n",
       "      <td>0.000000</td>\n",
       "      <td>0.000000</td>\n",
       "      <td>0.000000</td>\n",
       "      <td>0.000000</td>\n",
       "      <td>0.000000</td>\n",
       "      <td>0.000000</td>\n",
       "      <td>0.000000</td>\n",
       "      <td>0.000000</td>\n",
       "      <td>0.000000</td>\n",
       "      <td>0.000000</td>\n",
       "      <td>0.000000</td>\n",
       "      <td>0.000000</td>\n",
       "    </tr>\n",
       "    <tr>\n",
       "      <th>25%</th>\n",
       "      <td>0.000000</td>\n",
       "      <td>0.000000</td>\n",
       "      <td>0.000000</td>\n",
       "      <td>0.000000</td>\n",
       "      <td>0.000000</td>\n",
       "      <td>0.000000</td>\n",
       "      <td>0.000000</td>\n",
       "      <td>0.000000</td>\n",
       "      <td>0.000000</td>\n",
       "      <td>0.000000</td>\n",
       "      <td>0.000000</td>\n",
       "      <td>0.000000</td>\n",
       "      <td>0.000000</td>\n",
       "      <td>0.000000</td>\n",
       "      <td>0.000000</td>\n",
       "      <td>0.000000</td>\n",
       "      <td>0.000000</td>\n",
       "      <td>0.000000</td>\n",
       "      <td>0.000000</td>\n",
       "      <td>0.000000</td>\n",
       "      <td>0.000000</td>\n",
       "      <td>0.000000</td>\n",
       "      <td>0.000000</td>\n",
       "      <td>0.000000</td>\n",
       "      <td>0.000000</td>\n",
       "      <td>0.000000</td>\n",
       "      <td>0.000000</td>\n",
       "      <td>0.000000</td>\n",
       "      <td>0.000000</td>\n",
       "      <td>0.000000</td>\n",
       "    </tr>\n",
       "    <tr>\n",
       "      <th>50%</th>\n",
       "      <td>0.000000</td>\n",
       "      <td>0.000000</td>\n",
       "      <td>0.000000</td>\n",
       "      <td>0.000000</td>\n",
       "      <td>0.000000</td>\n",
       "      <td>0.000000</td>\n",
       "      <td>0.028010</td>\n",
       "      <td>0.040505</td>\n",
       "      <td>0.000000</td>\n",
       "      <td>0.000000</td>\n",
       "      <td>0.045795</td>\n",
       "      <td>0.000000</td>\n",
       "      <td>0.013365</td>\n",
       "      <td>0.000000</td>\n",
       "      <td>0.041920</td>\n",
       "      <td>0.000000</td>\n",
       "      <td>0.042262</td>\n",
       "      <td>0.025535</td>\n",
       "      <td>0.000000</td>\n",
       "      <td>0.064940</td>\n",
       "      <td>0.049133</td>\n",
       "      <td>0.034170</td>\n",
       "      <td>0.000000</td>\n",
       "      <td>0.040825</td>\n",
       "      <td>0.032045</td>\n",
       "      <td>0.000000</td>\n",
       "      <td>0.521350</td>\n",
       "      <td>0.045683</td>\n",
       "      <td>0.016190</td>\n",
       "      <td>0.030570</td>\n",
       "    </tr>\n",
       "    <tr>\n",
       "      <th>75%</th>\n",
       "      <td>2.021500</td>\n",
       "      <td>1.492375</td>\n",
       "      <td>2.668000</td>\n",
       "      <td>1.170500</td>\n",
       "      <td>2.032000</td>\n",
       "      <td>1.411375</td>\n",
       "      <td>2.360500</td>\n",
       "      <td>2.504750</td>\n",
       "      <td>2.003500</td>\n",
       "      <td>1.880625</td>\n",
       "      <td>3.076750</td>\n",
       "      <td>1.112000</td>\n",
       "      <td>1.533750</td>\n",
       "      <td>0.828750</td>\n",
       "      <td>2.897500</td>\n",
       "      <td>0.633325</td>\n",
       "      <td>3.209625</td>\n",
       "      <td>2.686750</td>\n",
       "      <td>0.935762</td>\n",
       "      <td>3.281750</td>\n",
       "      <td>3.038500</td>\n",
       "      <td>2.283750</td>\n",
       "      <td>1.306000</td>\n",
       "      <td>2.487750</td>\n",
       "      <td>2.704750</td>\n",
       "      <td>1.625875</td>\n",
       "      <td>6.391500</td>\n",
       "      <td>3.350125</td>\n",
       "      <td>2.806750</td>\n",
       "      <td>2.784000</td>\n",
       "    </tr>\n",
       "    <tr>\n",
       "      <th>max</th>\n",
       "      <td>34400.000000</td>\n",
       "      <td>60775.000000</td>\n",
       "      <td>34110.000000</td>\n",
       "      <td>24400.000000</td>\n",
       "      <td>17890.000000</td>\n",
       "      <td>87070.000000</td>\n",
       "      <td>34805.000000</td>\n",
       "      <td>19265.000000</td>\n",
       "      <td>37680.000000</td>\n",
       "      <td>37755.000000</td>\n",
       "      <td>25190.000000</td>\n",
       "      <td>66460.000000</td>\n",
       "      <td>76160.000000</td>\n",
       "      <td>55510.000000</td>\n",
       "      <td>24080.000000</td>\n",
       "      <td>49600.000000</td>\n",
       "      <td>24250.000000</td>\n",
       "      <td>21320.000000</td>\n",
       "      <td>99095.000000</td>\n",
       "      <td>54500.000000</td>\n",
       "      <td>40380.000000</td>\n",
       "      <td>29230.000000</td>\n",
       "      <td>23150.000000</td>\n",
       "      <td>45570.000000</td>\n",
       "      <td>26200.000000</td>\n",
       "      <td>44110.000000</td>\n",
       "      <td>35450.000000</td>\n",
       "      <td>34950.000000</td>\n",
       "      <td>22430.000000</td>\n",
       "      <td>21010.000000</td>\n",
       "    </tr>\n",
       "  </tbody>\n",
       "</table>\n",
       "</div>"
      ],
      "text/plain": [
       "       Adipose Tissue  Adrenal Gland       Bladder         Blood  \\\n",
       "count    56202.000000   56202.000000  56202.000000  56202.000000   \n",
       "mean        16.701955      17.107780     16.663300     16.778048   \n",
       "std        375.574426     582.642470    351.055527    252.584699   \n",
       "min          0.000000       0.000000      0.000000      0.000000   \n",
       "25%          0.000000       0.000000      0.000000      0.000000   \n",
       "50%          0.000000       0.000000      0.000000      0.000000   \n",
       "75%          2.021500       1.492375      2.668000      1.170500   \n",
       "max      34400.000000   60775.000000  34110.000000  24400.000000   \n",
       "\n",
       "       Blood Vessel         Brain        Breast  Cervix Uteri         Colon  \\\n",
       "count  56202.000000  56202.000000  56202.000000  56202.000000  56202.000000   \n",
       "mean      16.730996     17.055343     16.138433     15.397327     17.005512   \n",
       "std      221.139552    793.467821    375.471731    223.420193    411.394293   \n",
       "min        0.000000      0.000000      0.000000      0.000000      0.000000   \n",
       "25%        0.000000      0.000000      0.000000      0.000000      0.000000   \n",
       "50%        0.000000      0.000000      0.028010      0.040505      0.000000   \n",
       "75%        2.032000      1.411375      2.360500      2.504750      2.003500   \n",
       "max    17890.000000  87070.000000  34805.000000  19265.000000  37680.000000   \n",
       "\n",
       "          Esophagus  Fallopian Tube         Heart        Kidney         Liver  \\\n",
       "count  56202.000000    56202.000000  56202.000000  56202.000000  56202.000000   \n",
       "mean      16.871584       16.455277     16.846769     15.812127     15.895570   \n",
       "std      417.448540      283.742232    668.212704    674.529828    548.738421   \n",
       "min        0.000000        0.000000      0.000000      0.000000      0.000000   \n",
       "25%        0.000000        0.000000      0.000000      0.000000      0.000000   \n",
       "50%        0.000000        0.045795      0.000000      0.013365      0.000000   \n",
       "75%        1.880625        3.076750      1.112000      1.533750      0.828750   \n",
       "max    37755.000000    25190.000000  66460.000000  76160.000000  55510.000000   \n",
       "\n",
       "               Lung        Muscle         Nerve         Ovary      Pancreas  \\\n",
       "count  56202.000000  56202.000000  56202.000000  56202.000000  56202.000000   \n",
       "mean      16.124924     16.570206     16.956319     16.813498     16.520740   \n",
       "std      262.732642    534.055278    270.164095    235.579980    668.747311   \n",
       "min        0.000000      0.000000      0.000000      0.000000      0.000000   \n",
       "25%        0.000000      0.000000      0.000000      0.000000      0.000000   \n",
       "50%        0.041920      0.000000      0.042262      0.025535      0.000000   \n",
       "75%        2.897500      0.633325      3.209625      2.686750      0.935762   \n",
       "max    24080.000000  49600.000000  24250.000000  21320.000000  99095.000000   \n",
       "\n",
       "          Pituitary      Prostate  Salivary Gland          Skin  \\\n",
       "count  56202.000000  56202.000000    56202.000000  56202.000000   \n",
       "mean      15.984667     16.227906       14.989199     16.591146   \n",
       "std      432.003382    410.755096      341.015132    243.072342   \n",
       "min        0.000000      0.000000        0.000000      0.000000   \n",
       "25%        0.000000      0.000000        0.000000      0.000000   \n",
       "50%        0.064940      0.049133        0.034170      0.000000   \n",
       "75%        3.281750      3.038500        2.283750      1.306000   \n",
       "max    54500.000000  40380.000000    29230.000000  23150.000000   \n",
       "\n",
       "       Small Intestine        Spleen       Stomach        Testis  \\\n",
       "count     56202.000000  56202.000000  56202.000000  56202.000000   \n",
       "mean         15.809636     16.516674     15.245102     17.319775   \n",
       "std         464.867976    287.035114    506.661336    359.338580   \n",
       "min           0.000000      0.000000      0.000000      0.000000   \n",
       "25%           0.000000      0.000000      0.000000      0.000000   \n",
       "50%           0.040825      0.032045      0.000000      0.521350   \n",
       "75%           2.487750      2.704750      1.625875      6.391500   \n",
       "max       45570.000000  26200.000000  44110.000000  35450.000000   \n",
       "\n",
       "            Thyroid        Uterus        Vagina  \n",
       "count  56202.000000  56202.000000  56202.000000  \n",
       "mean      16.608929     16.584184     15.826178  \n",
       "std      343.872469    247.546841    246.663196  \n",
       "min        0.000000      0.000000      0.000000  \n",
       "25%        0.000000      0.000000      0.000000  \n",
       "50%        0.045683      0.016190      0.030570  \n",
       "75%        3.350125      2.806750      2.784000  \n",
       "max    34950.000000  22430.000000  21010.000000  "
      ]
     },
     "execution_count": 23,
     "metadata": {},
     "output_type": "execute_result"
    }
   ],
   "source": [
    "# Do something with the median values\n",
    "# pick a single tissue per tissue type\n",
    "sample_columns = [tissue_dict[t][0] for t in tissue_dict.keys()\n",
    "                  if tissue_dict[t][0] != 'Cells - Leukemia cell line (CML)']\n",
    "#print(gtpm_med.head())\n",
    "gm = gtpm_med.drop('gene_id', axis=1).set_index('Description')\n",
    "rename_cols = dict([(tissue_dict[t][0], t) for t in tissue_dict.keys()])\n",
    "gm = gm[sample_columns].rename(columns=rename_cols)\n",
    "# Copy table so we can add and modify values\n",
    "gm = gm.copy()\n",
    "gm.head()\n",
    "# Using gm table we can chacterize the genes a bit.\n",
    "# the spread includes extreme values, most of the tissues are similar\n",
    "# Mean is ~ 16 - 17 TPM, but 50th percentile is 0 and 75th percentile is ~ 2\n",
    "pandas.set_option('max_columns', 60)\n",
    "gm.describe()"
   ]
  },
  {
   "cell_type": "code",
   "execution_count": 34,
   "metadata": {},
   "outputs": [
    {
     "name": "stdout",
     "output_type": "stream",
     "text": [
      "Of 56202 genes, the top 15 in stable cross-tissue expression are:\n"
     ]
    },
    {
     "data": {
      "text/html": [
       "<div>\n",
       "<style scoped>\n",
       "    .dataframe tbody tr th:only-of-type {\n",
       "        vertical-align: middle;\n",
       "    }\n",
       "\n",
       "    .dataframe tbody tr th {\n",
       "        vertical-align: top;\n",
       "    }\n",
       "\n",
       "    .dataframe thead th {\n",
       "        text-align: right;\n",
       "    }\n",
       "</style>\n",
       "<table border=\"1\" class=\"dataframe\">\n",
       "  <thead>\n",
       "    <tr style=\"text-align: right;\">\n",
       "      <th></th>\n",
       "      <th>Adipose Tissue</th>\n",
       "      <th>Adrenal Gland</th>\n",
       "      <th>Bladder</th>\n",
       "      <th>Blood</th>\n",
       "      <th>Blood Vessel</th>\n",
       "      <th>Brain</th>\n",
       "      <th>Breast</th>\n",
       "      <th>Cervix Uteri</th>\n",
       "      <th>Colon</th>\n",
       "      <th>Esophagus</th>\n",
       "      <th>Fallopian Tube</th>\n",
       "      <th>Heart</th>\n",
       "      <th>Kidney</th>\n",
       "      <th>Liver</th>\n",
       "      <th>Lung</th>\n",
       "      <th>Muscle</th>\n",
       "      <th>Nerve</th>\n",
       "      <th>Ovary</th>\n",
       "      <th>Pancreas</th>\n",
       "      <th>Pituitary</th>\n",
       "      <th>Prostate</th>\n",
       "      <th>Salivary Gland</th>\n",
       "      <th>Skin</th>\n",
       "      <th>Small Intestine</th>\n",
       "      <th>Spleen</th>\n",
       "      <th>Stomach</th>\n",
       "      <th>Testis</th>\n",
       "      <th>Thyroid</th>\n",
       "      <th>Uterus</th>\n",
       "      <th>Vagina</th>\n",
       "      <th>mean</th>\n",
       "      <th>median</th>\n",
       "      <th>std</th>\n",
       "    </tr>\n",
       "    <tr>\n",
       "      <th>Description</th>\n",
       "      <th></th>\n",
       "      <th></th>\n",
       "      <th></th>\n",
       "      <th></th>\n",
       "      <th></th>\n",
       "      <th></th>\n",
       "      <th></th>\n",
       "      <th></th>\n",
       "      <th></th>\n",
       "      <th></th>\n",
       "      <th></th>\n",
       "      <th></th>\n",
       "      <th></th>\n",
       "      <th></th>\n",
       "      <th></th>\n",
       "      <th></th>\n",
       "      <th></th>\n",
       "      <th></th>\n",
       "      <th></th>\n",
       "      <th></th>\n",
       "      <th></th>\n",
       "      <th></th>\n",
       "      <th></th>\n",
       "      <th></th>\n",
       "      <th></th>\n",
       "      <th></th>\n",
       "      <th></th>\n",
       "      <th></th>\n",
       "      <th></th>\n",
       "      <th></th>\n",
       "      <th></th>\n",
       "      <th></th>\n",
       "      <th></th>\n",
       "    </tr>\n",
       "  </thead>\n",
       "  <tbody>\n",
       "    <tr>\n",
       "      <th>MRPL20</th>\n",
       "      <td>70.695</td>\n",
       "      <td>66.140</td>\n",
       "      <td>72.74</td>\n",
       "      <td>94.785</td>\n",
       "      <td>83.84</td>\n",
       "      <td>47.690</td>\n",
       "      <td>75.685</td>\n",
       "      <td>73.540</td>\n",
       "      <td>87.92</td>\n",
       "      <td>81.295</td>\n",
       "      <td>79.47</td>\n",
       "      <td>53.440</td>\n",
       "      <td>49.190</td>\n",
       "      <td>41.430</td>\n",
       "      <td>71.72</td>\n",
       "      <td>73.765</td>\n",
       "      <td>83.250</td>\n",
       "      <td>72.90</td>\n",
       "      <td>35.5200</td>\n",
       "      <td>86.81</td>\n",
       "      <td>87.425</td>\n",
       "      <td>59.93</td>\n",
       "      <td>82.39</td>\n",
       "      <td>56.56</td>\n",
       "      <td>73.240</td>\n",
       "      <td>57.875</td>\n",
       "      <td>56.49</td>\n",
       "      <td>90.250</td>\n",
       "      <td>78.63</td>\n",
       "      <td>67.28</td>\n",
       "      <td>68.811336</td>\n",
       "      <td>72.900000</td>\n",
       "      <td>17.167726</td>\n",
       "    </tr>\n",
       "    <tr>\n",
       "      <th>SSU72</th>\n",
       "      <td>116.950</td>\n",
       "      <td>84.020</td>\n",
       "      <td>130.70</td>\n",
       "      <td>136.350</td>\n",
       "      <td>112.10</td>\n",
       "      <td>85.165</td>\n",
       "      <td>135.100</td>\n",
       "      <td>147.850</td>\n",
       "      <td>135.10</td>\n",
       "      <td>119.650</td>\n",
       "      <td>142.90</td>\n",
       "      <td>79.230</td>\n",
       "      <td>90.460</td>\n",
       "      <td>63.320</td>\n",
       "      <td>147.50</td>\n",
       "      <td>147.300</td>\n",
       "      <td>116.250</td>\n",
       "      <td>138.60</td>\n",
       "      <td>63.8550</td>\n",
       "      <td>156.40</td>\n",
       "      <td>134.650</td>\n",
       "      <td>116.80</td>\n",
       "      <td>151.00</td>\n",
       "      <td>113.10</td>\n",
       "      <td>151.700</td>\n",
       "      <td>100.400</td>\n",
       "      <td>111.30</td>\n",
       "      <td>188.400</td>\n",
       "      <td>142.70</td>\n",
       "      <td>139.60</td>\n",
       "      <td>120.663136</td>\n",
       "      <td>130.700000</td>\n",
       "      <td>32.070338</td>\n",
       "    </tr>\n",
       "    <tr>\n",
       "      <th>LAMTOR2</th>\n",
       "      <td>38.945</td>\n",
       "      <td>46.730</td>\n",
       "      <td>39.00</td>\n",
       "      <td>51.950</td>\n",
       "      <td>39.83</td>\n",
       "      <td>25.075</td>\n",
       "      <td>37.905</td>\n",
       "      <td>36.720</td>\n",
       "      <td>39.80</td>\n",
       "      <td>34.090</td>\n",
       "      <td>37.99</td>\n",
       "      <td>23.540</td>\n",
       "      <td>34.860</td>\n",
       "      <td>42.850</td>\n",
       "      <td>44.38</td>\n",
       "      <td>23.470</td>\n",
       "      <td>41.985</td>\n",
       "      <td>22.07</td>\n",
       "      <td>23.6650</td>\n",
       "      <td>33.08</td>\n",
       "      <td>38.690</td>\n",
       "      <td>35.29</td>\n",
       "      <td>56.56</td>\n",
       "      <td>33.45</td>\n",
       "      <td>46.845</td>\n",
       "      <td>37.820</td>\n",
       "      <td>26.83</td>\n",
       "      <td>38.905</td>\n",
       "      <td>32.65</td>\n",
       "      <td>34.47</td>\n",
       "      <td>35.829203</td>\n",
       "      <td>37.820000</td>\n",
       "      <td>9.269480</td>\n",
       "    </tr>\n",
       "    <tr>\n",
       "      <th>NDUFA10</th>\n",
       "      <td>36.365</td>\n",
       "      <td>47.125</td>\n",
       "      <td>34.45</td>\n",
       "      <td>47.730</td>\n",
       "      <td>29.08</td>\n",
       "      <td>20.490</td>\n",
       "      <td>36.180</td>\n",
       "      <td>36.130</td>\n",
       "      <td>34.55</td>\n",
       "      <td>36.270</td>\n",
       "      <td>34.23</td>\n",
       "      <td>41.190</td>\n",
       "      <td>31.050</td>\n",
       "      <td>22.060</td>\n",
       "      <td>29.92</td>\n",
       "      <td>38.515</td>\n",
       "      <td>51.375</td>\n",
       "      <td>45.87</td>\n",
       "      <td>16.8600</td>\n",
       "      <td>39.06</td>\n",
       "      <td>33.365</td>\n",
       "      <td>31.72</td>\n",
       "      <td>40.60</td>\n",
       "      <td>33.43</td>\n",
       "      <td>33.360</td>\n",
       "      <td>34.030</td>\n",
       "      <td>39.13</td>\n",
       "      <td>38.020</td>\n",
       "      <td>40.79</td>\n",
       "      <td>38.20</td>\n",
       "      <td>34.871357</td>\n",
       "      <td>36.130000</td>\n",
       "      <td>8.608415</td>\n",
       "    </tr>\n",
       "    <tr>\n",
       "      <th>SMIM20</th>\n",
       "      <td>31.340</td>\n",
       "      <td>33.805</td>\n",
       "      <td>36.26</td>\n",
       "      <td>28.415</td>\n",
       "      <td>29.02</td>\n",
       "      <td>21.070</td>\n",
       "      <td>30.800</td>\n",
       "      <td>27.105</td>\n",
       "      <td>32.57</td>\n",
       "      <td>29.270</td>\n",
       "      <td>30.37</td>\n",
       "      <td>21.850</td>\n",
       "      <td>27.230</td>\n",
       "      <td>15.760</td>\n",
       "      <td>26.40</td>\n",
       "      <td>35.875</td>\n",
       "      <td>32.200</td>\n",
       "      <td>43.97</td>\n",
       "      <td>19.5450</td>\n",
       "      <td>20.81</td>\n",
       "      <td>28.915</td>\n",
       "      <td>25.19</td>\n",
       "      <td>38.95</td>\n",
       "      <td>28.95</td>\n",
       "      <td>27.670</td>\n",
       "      <td>30.980</td>\n",
       "      <td>30.39</td>\n",
       "      <td>36.365</td>\n",
       "      <td>33.89</td>\n",
       "      <td>23.61</td>\n",
       "      <td>28.579764</td>\n",
       "      <td>29.020000</td>\n",
       "      <td>6.957453</td>\n",
       "    </tr>\n",
       "    <tr>\n",
       "      <th>MAPK9</th>\n",
       "      <td>14.900</td>\n",
       "      <td>14.280</td>\n",
       "      <td>17.94</td>\n",
       "      <td>16.700</td>\n",
       "      <td>17.77</td>\n",
       "      <td>19.440</td>\n",
       "      <td>13.205</td>\n",
       "      <td>14.840</td>\n",
       "      <td>18.61</td>\n",
       "      <td>15.620</td>\n",
       "      <td>14.33</td>\n",
       "      <td>9.805</td>\n",
       "      <td>7.936</td>\n",
       "      <td>5.535</td>\n",
       "      <td>15.22</td>\n",
       "      <td>13.125</td>\n",
       "      <td>15.660</td>\n",
       "      <td>12.62</td>\n",
       "      <td>10.5050</td>\n",
       "      <td>14.76</td>\n",
       "      <td>14.855</td>\n",
       "      <td>12.06</td>\n",
       "      <td>16.02</td>\n",
       "      <td>11.68</td>\n",
       "      <td>11.165</td>\n",
       "      <td>11.845</td>\n",
       "      <td>14.53</td>\n",
       "      <td>18.190</td>\n",
       "      <td>15.96</td>\n",
       "      <td>12.59</td>\n",
       "      <td>13.742108</td>\n",
       "      <td>14.530000</td>\n",
       "      <td>3.521462</td>\n",
       "    </tr>\n",
       "    <tr>\n",
       "      <th>MRPL2</th>\n",
       "      <td>31.755</td>\n",
       "      <td>33.640</td>\n",
       "      <td>33.22</td>\n",
       "      <td>47.835</td>\n",
       "      <td>30.86</td>\n",
       "      <td>15.255</td>\n",
       "      <td>33.710</td>\n",
       "      <td>31.555</td>\n",
       "      <td>31.03</td>\n",
       "      <td>30.740</td>\n",
       "      <td>34.08</td>\n",
       "      <td>26.810</td>\n",
       "      <td>29.420</td>\n",
       "      <td>30.880</td>\n",
       "      <td>26.20</td>\n",
       "      <td>38.980</td>\n",
       "      <td>34.625</td>\n",
       "      <td>32.16</td>\n",
       "      <td>15.3300</td>\n",
       "      <td>35.51</td>\n",
       "      <td>29.475</td>\n",
       "      <td>26.88</td>\n",
       "      <td>35.84</td>\n",
       "      <td>27.54</td>\n",
       "      <td>27.075</td>\n",
       "      <td>24.655</td>\n",
       "      <td>44.30</td>\n",
       "      <td>41.105</td>\n",
       "      <td>33.89</td>\n",
       "      <td>29.14</td>\n",
       "      <td>30.694066</td>\n",
       "      <td>31.030000</td>\n",
       "      <td>7.685099</td>\n",
       "    </tr>\n",
       "    <tr>\n",
       "      <th>POLR2J</th>\n",
       "      <td>60.865</td>\n",
       "      <td>77.315</td>\n",
       "      <td>61.73</td>\n",
       "      <td>80.575</td>\n",
       "      <td>77.56</td>\n",
       "      <td>53.210</td>\n",
       "      <td>61.495</td>\n",
       "      <td>68.050</td>\n",
       "      <td>69.07</td>\n",
       "      <td>67.150</td>\n",
       "      <td>67.46</td>\n",
       "      <td>53.940</td>\n",
       "      <td>49.140</td>\n",
       "      <td>44.010</td>\n",
       "      <td>60.03</td>\n",
       "      <td>88.770</td>\n",
       "      <td>66.285</td>\n",
       "      <td>79.25</td>\n",
       "      <td>26.3200</td>\n",
       "      <td>85.07</td>\n",
       "      <td>78.435</td>\n",
       "      <td>55.01</td>\n",
       "      <td>77.21</td>\n",
       "      <td>51.97</td>\n",
       "      <td>71.890</td>\n",
       "      <td>53.790</td>\n",
       "      <td>65.93</td>\n",
       "      <td>80.545</td>\n",
       "      <td>71.99</td>\n",
       "      <td>64.79</td>\n",
       "      <td>64.084680</td>\n",
       "      <td>66.285000</td>\n",
       "      <td>15.569742</td>\n",
       "    </tr>\n",
       "    <tr>\n",
       "      <th>SURF1</th>\n",
       "      <td>49.135</td>\n",
       "      <td>52.440</td>\n",
       "      <td>59.86</td>\n",
       "      <td>40.215</td>\n",
       "      <td>62.39</td>\n",
       "      <td>38.855</td>\n",
       "      <td>47.055</td>\n",
       "      <td>43.305</td>\n",
       "      <td>60.99</td>\n",
       "      <td>58.805</td>\n",
       "      <td>51.81</td>\n",
       "      <td>28.550</td>\n",
       "      <td>43.240</td>\n",
       "      <td>42.530</td>\n",
       "      <td>47.29</td>\n",
       "      <td>35.370</td>\n",
       "      <td>56.945</td>\n",
       "      <td>47.22</td>\n",
       "      <td>37.6750</td>\n",
       "      <td>57.11</td>\n",
       "      <td>57.705</td>\n",
       "      <td>44.60</td>\n",
       "      <td>35.63</td>\n",
       "      <td>46.01</td>\n",
       "      <td>54.705</td>\n",
       "      <td>54.625</td>\n",
       "      <td>53.50</td>\n",
       "      <td>66.290</td>\n",
       "      <td>48.69</td>\n",
       "      <td>41.43</td>\n",
       "      <td>47.577690</td>\n",
       "      <td>47.577434</td>\n",
       "      <td>10.933614</td>\n",
       "    </tr>\n",
       "    <tr>\n",
       "      <th>AP3S2</th>\n",
       "      <td>18.780</td>\n",
       "      <td>20.835</td>\n",
       "      <td>19.02</td>\n",
       "      <td>11.820</td>\n",
       "      <td>16.24</td>\n",
       "      <td>13.510</td>\n",
       "      <td>18.310</td>\n",
       "      <td>16.435</td>\n",
       "      <td>16.48</td>\n",
       "      <td>16.945</td>\n",
       "      <td>15.70</td>\n",
       "      <td>12.590</td>\n",
       "      <td>15.460</td>\n",
       "      <td>12.130</td>\n",
       "      <td>16.37</td>\n",
       "      <td>21.060</td>\n",
       "      <td>19.200</td>\n",
       "      <td>18.23</td>\n",
       "      <td>9.9435</td>\n",
       "      <td>18.42</td>\n",
       "      <td>19.025</td>\n",
       "      <td>14.01</td>\n",
       "      <td>19.13</td>\n",
       "      <td>12.84</td>\n",
       "      <td>14.440</td>\n",
       "      <td>11.975</td>\n",
       "      <td>18.10</td>\n",
       "      <td>19.835</td>\n",
       "      <td>18.00</td>\n",
       "      <td>14.23</td>\n",
       "      <td>15.909062</td>\n",
       "      <td>16.435000</td>\n",
       "      <td>3.591466</td>\n",
       "    </tr>\n",
       "    <tr>\n",
       "      <th>TUFM</th>\n",
       "      <td>138.350</td>\n",
       "      <td>199.700</td>\n",
       "      <td>159.10</td>\n",
       "      <td>217.750</td>\n",
       "      <td>128.40</td>\n",
       "      <td>74.180</td>\n",
       "      <td>144.600</td>\n",
       "      <td>159.950</td>\n",
       "      <td>135.30</td>\n",
       "      <td>125.450</td>\n",
       "      <td>170.50</td>\n",
       "      <td>125.700</td>\n",
       "      <td>135.500</td>\n",
       "      <td>129.500</td>\n",
       "      <td>152.00</td>\n",
       "      <td>179.650</td>\n",
       "      <td>151.300</td>\n",
       "      <td>159.10</td>\n",
       "      <td>90.6250</td>\n",
       "      <td>145.10</td>\n",
       "      <td>151.400</td>\n",
       "      <td>150.60</td>\n",
       "      <td>222.70</td>\n",
       "      <td>152.70</td>\n",
       "      <td>160.250</td>\n",
       "      <td>152.050</td>\n",
       "      <td>213.50</td>\n",
       "      <td>178.050</td>\n",
       "      <td>164.50</td>\n",
       "      <td>145.90</td>\n",
       "      <td>150.056555</td>\n",
       "      <td>151.400000</td>\n",
       "      <td>37.004726</td>\n",
       "    </tr>\n",
       "    <tr>\n",
       "      <th>MRPL27</th>\n",
       "      <td>18.980</td>\n",
       "      <td>30.120</td>\n",
       "      <td>26.76</td>\n",
       "      <td>27.090</td>\n",
       "      <td>20.21</td>\n",
       "      <td>17.380</td>\n",
       "      <td>20.155</td>\n",
       "      <td>23.030</td>\n",
       "      <td>23.94</td>\n",
       "      <td>22.005</td>\n",
       "      <td>24.06</td>\n",
       "      <td>18.380</td>\n",
       "      <td>21.140</td>\n",
       "      <td>16.810</td>\n",
       "      <td>19.04</td>\n",
       "      <td>21.410</td>\n",
       "      <td>24.680</td>\n",
       "      <td>25.42</td>\n",
       "      <td>10.2150</td>\n",
       "      <td>24.09</td>\n",
       "      <td>27.160</td>\n",
       "      <td>18.99</td>\n",
       "      <td>31.55</td>\n",
       "      <td>20.57</td>\n",
       "      <td>20.305</td>\n",
       "      <td>28.050</td>\n",
       "      <td>24.43</td>\n",
       "      <td>27.570</td>\n",
       "      <td>24.72</td>\n",
       "      <td>23.21</td>\n",
       "      <td>22.178455</td>\n",
       "      <td>23.030000</td>\n",
       "      <td>5.210543</td>\n",
       "    </tr>\n",
       "    <tr>\n",
       "      <th>NDUFB7</th>\n",
       "      <td>246.350</td>\n",
       "      <td>223.200</td>\n",
       "      <td>204.10</td>\n",
       "      <td>194.850</td>\n",
       "      <td>328.30</td>\n",
       "      <td>196.500</td>\n",
       "      <td>239.200</td>\n",
       "      <td>257.200</td>\n",
       "      <td>312.40</td>\n",
       "      <td>267.700</td>\n",
       "      <td>268.40</td>\n",
       "      <td>308.500</td>\n",
       "      <td>230.000</td>\n",
       "      <td>160.800</td>\n",
       "      <td>191.10</td>\n",
       "      <td>312.950</td>\n",
       "      <td>255.750</td>\n",
       "      <td>207.30</td>\n",
       "      <td>104.6500</td>\n",
       "      <td>261.80</td>\n",
       "      <td>236.900</td>\n",
       "      <td>214.40</td>\n",
       "      <td>236.30</td>\n",
       "      <td>178.70</td>\n",
       "      <td>194.000</td>\n",
       "      <td>209.550</td>\n",
       "      <td>227.20</td>\n",
       "      <td>298.700</td>\n",
       "      <td>251.90</td>\n",
       "      <td>230.30</td>\n",
       "      <td>229.232502</td>\n",
       "      <td>230.300000</td>\n",
       "      <td>56.140013</td>\n",
       "    </tr>\n",
       "    <tr>\n",
       "      <th>USE1</th>\n",
       "      <td>21.090</td>\n",
       "      <td>20.610</td>\n",
       "      <td>21.44</td>\n",
       "      <td>19.815</td>\n",
       "      <td>19.23</td>\n",
       "      <td>21.200</td>\n",
       "      <td>21.000</td>\n",
       "      <td>24.975</td>\n",
       "      <td>19.55</td>\n",
       "      <td>16.605</td>\n",
       "      <td>20.81</td>\n",
       "      <td>10.590</td>\n",
       "      <td>13.720</td>\n",
       "      <td>11.620</td>\n",
       "      <td>20.94</td>\n",
       "      <td>13.290</td>\n",
       "      <td>22.750</td>\n",
       "      <td>25.42</td>\n",
       "      <td>11.4300</td>\n",
       "      <td>17.66</td>\n",
       "      <td>21.330</td>\n",
       "      <td>14.24</td>\n",
       "      <td>21.39</td>\n",
       "      <td>14.06</td>\n",
       "      <td>27.840</td>\n",
       "      <td>15.265</td>\n",
       "      <td>18.40</td>\n",
       "      <td>22.795</td>\n",
       "      <td>24.15</td>\n",
       "      <td>19.33</td>\n",
       "      <td>18.663507</td>\n",
       "      <td>19.815000</td>\n",
       "      <td>4.872213</td>\n",
       "    </tr>\n",
       "    <tr>\n",
       "      <th>CHMP2A</th>\n",
       "      <td>113.350</td>\n",
       "      <td>131.150</td>\n",
       "      <td>105.90</td>\n",
       "      <td>124.850</td>\n",
       "      <td>133.80</td>\n",
       "      <td>68.170</td>\n",
       "      <td>108.000</td>\n",
       "      <td>115.700</td>\n",
       "      <td>110.70</td>\n",
       "      <td>112.700</td>\n",
       "      <td>113.90</td>\n",
       "      <td>63.290</td>\n",
       "      <td>86.300</td>\n",
       "      <td>55.650</td>\n",
       "      <td>115.90</td>\n",
       "      <td>73.085</td>\n",
       "      <td>127.150</td>\n",
       "      <td>103.40</td>\n",
       "      <td>41.6750</td>\n",
       "      <td>111.10</td>\n",
       "      <td>104.950</td>\n",
       "      <td>102.00</td>\n",
       "      <td>122.10</td>\n",
       "      <td>92.18</td>\n",
       "      <td>104.800</td>\n",
       "      <td>90.375</td>\n",
       "      <td>83.44</td>\n",
       "      <td>131.450</td>\n",
       "      <td>113.90</td>\n",
       "      <td>107.50</td>\n",
       "      <td>100.054409</td>\n",
       "      <td>107.500000</td>\n",
       "      <td>25.776075</td>\n",
       "    </tr>\n",
       "  </tbody>\n",
       "</table>\n",
       "</div>"
      ],
      "text/plain": [
       "             Adipose Tissue  Adrenal Gland  Bladder    Blood  Blood Vessel  \\\n",
       "Description                                                                  \n",
       "MRPL20               70.695         66.140    72.74   94.785         83.84   \n",
       "SSU72               116.950         84.020   130.70  136.350        112.10   \n",
       "LAMTOR2              38.945         46.730    39.00   51.950         39.83   \n",
       "NDUFA10              36.365         47.125    34.45   47.730         29.08   \n",
       "SMIM20               31.340         33.805    36.26   28.415         29.02   \n",
       "MAPK9                14.900         14.280    17.94   16.700         17.77   \n",
       "MRPL2                31.755         33.640    33.22   47.835         30.86   \n",
       "POLR2J               60.865         77.315    61.73   80.575         77.56   \n",
       "SURF1                49.135         52.440    59.86   40.215         62.39   \n",
       "AP3S2                18.780         20.835    19.02   11.820         16.24   \n",
       "TUFM                138.350        199.700   159.10  217.750        128.40   \n",
       "MRPL27               18.980         30.120    26.76   27.090         20.21   \n",
       "NDUFB7              246.350        223.200   204.10  194.850        328.30   \n",
       "USE1                 21.090         20.610    21.44   19.815         19.23   \n",
       "CHMP2A              113.350        131.150   105.90  124.850        133.80   \n",
       "\n",
       "               Brain   Breast  Cervix Uteri   Colon  Esophagus  \\\n",
       "Description                                                      \n",
       "MRPL20        47.690   75.685        73.540   87.92     81.295   \n",
       "SSU72         85.165  135.100       147.850  135.10    119.650   \n",
       "LAMTOR2       25.075   37.905        36.720   39.80     34.090   \n",
       "NDUFA10       20.490   36.180        36.130   34.55     36.270   \n",
       "SMIM20        21.070   30.800        27.105   32.57     29.270   \n",
       "MAPK9         19.440   13.205        14.840   18.61     15.620   \n",
       "MRPL2         15.255   33.710        31.555   31.03     30.740   \n",
       "POLR2J        53.210   61.495        68.050   69.07     67.150   \n",
       "SURF1         38.855   47.055        43.305   60.99     58.805   \n",
       "AP3S2         13.510   18.310        16.435   16.48     16.945   \n",
       "TUFM          74.180  144.600       159.950  135.30    125.450   \n",
       "MRPL27        17.380   20.155        23.030   23.94     22.005   \n",
       "NDUFB7       196.500  239.200       257.200  312.40    267.700   \n",
       "USE1          21.200   21.000        24.975   19.55     16.605   \n",
       "CHMP2A        68.170  108.000       115.700  110.70    112.700   \n",
       "\n",
       "             Fallopian Tube    Heart   Kidney    Liver    Lung   Muscle  \\\n",
       "Description                                                               \n",
       "MRPL20                79.47   53.440   49.190   41.430   71.72   73.765   \n",
       "SSU72                142.90   79.230   90.460   63.320  147.50  147.300   \n",
       "LAMTOR2               37.99   23.540   34.860   42.850   44.38   23.470   \n",
       "NDUFA10               34.23   41.190   31.050   22.060   29.92   38.515   \n",
       "SMIM20                30.37   21.850   27.230   15.760   26.40   35.875   \n",
       "MAPK9                 14.33    9.805    7.936    5.535   15.22   13.125   \n",
       "MRPL2                 34.08   26.810   29.420   30.880   26.20   38.980   \n",
       "POLR2J                67.46   53.940   49.140   44.010   60.03   88.770   \n",
       "SURF1                 51.81   28.550   43.240   42.530   47.29   35.370   \n",
       "AP3S2                 15.70   12.590   15.460   12.130   16.37   21.060   \n",
       "TUFM                 170.50  125.700  135.500  129.500  152.00  179.650   \n",
       "MRPL27                24.06   18.380   21.140   16.810   19.04   21.410   \n",
       "NDUFB7               268.40  308.500  230.000  160.800  191.10  312.950   \n",
       "USE1                  20.81   10.590   13.720   11.620   20.94   13.290   \n",
       "CHMP2A               113.90   63.290   86.300   55.650  115.90   73.085   \n",
       "\n",
       "               Nerve   Ovary  Pancreas  Pituitary  Prostate  Salivary Gland  \\\n",
       "Description                                                                   \n",
       "MRPL20        83.250   72.90   35.5200      86.81    87.425           59.93   \n",
       "SSU72        116.250  138.60   63.8550     156.40   134.650          116.80   \n",
       "LAMTOR2       41.985   22.07   23.6650      33.08    38.690           35.29   \n",
       "NDUFA10       51.375   45.87   16.8600      39.06    33.365           31.72   \n",
       "SMIM20        32.200   43.97   19.5450      20.81    28.915           25.19   \n",
       "MAPK9         15.660   12.62   10.5050      14.76    14.855           12.06   \n",
       "MRPL2         34.625   32.16   15.3300      35.51    29.475           26.88   \n",
       "POLR2J        66.285   79.25   26.3200      85.07    78.435           55.01   \n",
       "SURF1         56.945   47.22   37.6750      57.11    57.705           44.60   \n",
       "AP3S2         19.200   18.23    9.9435      18.42    19.025           14.01   \n",
       "TUFM         151.300  159.10   90.6250     145.10   151.400          150.60   \n",
       "MRPL27        24.680   25.42   10.2150      24.09    27.160           18.99   \n",
       "NDUFB7       255.750  207.30  104.6500     261.80   236.900          214.40   \n",
       "USE1          22.750   25.42   11.4300      17.66    21.330           14.24   \n",
       "CHMP2A       127.150  103.40   41.6750     111.10   104.950          102.00   \n",
       "\n",
       "               Skin  Small Intestine   Spleen  Stomach  Testis  Thyroid  \\\n",
       "Description                                                               \n",
       "MRPL20        82.39            56.56   73.240   57.875   56.49   90.250   \n",
       "SSU72        151.00           113.10  151.700  100.400  111.30  188.400   \n",
       "LAMTOR2       56.56            33.45   46.845   37.820   26.83   38.905   \n",
       "NDUFA10       40.60            33.43   33.360   34.030   39.13   38.020   \n",
       "SMIM20        38.95            28.95   27.670   30.980   30.39   36.365   \n",
       "MAPK9         16.02            11.68   11.165   11.845   14.53   18.190   \n",
       "MRPL2         35.84            27.54   27.075   24.655   44.30   41.105   \n",
       "POLR2J        77.21            51.97   71.890   53.790   65.93   80.545   \n",
       "SURF1         35.63            46.01   54.705   54.625   53.50   66.290   \n",
       "AP3S2         19.13            12.84   14.440   11.975   18.10   19.835   \n",
       "TUFM         222.70           152.70  160.250  152.050  213.50  178.050   \n",
       "MRPL27        31.55            20.57   20.305   28.050   24.43   27.570   \n",
       "NDUFB7       236.30           178.70  194.000  209.550  227.20  298.700   \n",
       "USE1          21.39            14.06   27.840   15.265   18.40   22.795   \n",
       "CHMP2A       122.10            92.18  104.800   90.375   83.44  131.450   \n",
       "\n",
       "             Uterus  Vagina        mean      median        std  \n",
       "Description                                                     \n",
       "MRPL20        78.63   67.28   68.811336   72.900000  17.167726  \n",
       "SSU72        142.70  139.60  120.663136  130.700000  32.070338  \n",
       "LAMTOR2       32.65   34.47   35.829203   37.820000   9.269480  \n",
       "NDUFA10       40.79   38.20   34.871357   36.130000   8.608415  \n",
       "SMIM20        33.89   23.61   28.579764   29.020000   6.957453  \n",
       "MAPK9         15.96   12.59   13.742108   14.530000   3.521462  \n",
       "MRPL2         33.89   29.14   30.694066   31.030000   7.685099  \n",
       "POLR2J        71.99   64.79   64.084680   66.285000  15.569742  \n",
       "SURF1         48.69   41.43   47.577690   47.577434  10.933614  \n",
       "AP3S2         18.00   14.23   15.909062   16.435000   3.591466  \n",
       "TUFM         164.50  145.90  150.056555  151.400000  37.004726  \n",
       "MRPL27        24.72   23.21   22.178455   23.030000   5.210543  \n",
       "NDUFB7       251.90  230.30  229.232502  230.300000  56.140013  \n",
       "USE1          24.15   19.33   18.663507   19.815000   4.872213  \n",
       "CHMP2A       113.90  107.50  100.054409  107.500000  25.776075  "
      ]
     },
     "execution_count": 34,
     "metadata": {},
     "output_type": "execute_result"
    }
   ],
   "source": [
    "import math\n",
    "# Apply some known values\n",
    "gm['mean'] = gm.apply(lambda row: row.mean(), axis=1)\n",
    "gm['median'] = gm.apply(lambda row: row.median(), axis=1)\n",
    "gm['std'] = gm.apply(lambda row: row.std(), axis=1)\n",
    "gm.head()\n",
    "\n",
    "# high expression # low deviation among tissues\n",
    "gm_bench = gm[(gm['median'] >= 1)  # high expression\n",
    "             & (gm['median'] - 4.0*gm['std'] > 0)\n",
    "            ]\n",
    "\n",
    "#cross_tissue_genes = sorted(gm_bench['Description'].tolist())\n",
    "\n",
    "print(\"Of {} genes, the top {} in stable cross-tissue expression are:\".format(len(gm), len(gm_bench)))\n",
    "#for gene in cross_tissue_genes:\n",
    "#    print('\\t{}'.format(gene))\n",
    "gm_bench"
   ]
  },
  {
   "cell_type": "code",
   "execution_count": null,
   "metadata": {},
   "outputs": [],
   "source": []
  },
  {
   "cell_type": "code",
   "execution_count": 10,
   "metadata": {},
   "outputs": [
    {
     "data": {
      "text/html": [
       "<div>\n",
       "<style scoped>\n",
       "    .dataframe tbody tr th:only-of-type {\n",
       "        vertical-align: middle;\n",
       "    }\n",
       "\n",
       "    .dataframe tbody tr th {\n",
       "        vertical-align: top;\n",
       "    }\n",
       "\n",
       "    .dataframe thead th {\n",
       "        text-align: right;\n",
       "    }\n",
       "</style>\n",
       "<table border=\"1\" class=\"dataframe\">\n",
       "  <thead>\n",
       "    <tr style=\"text-align: right;\">\n",
       "      <th></th>\n",
       "      <th>Adipose Tissue</th>\n",
       "      <th>Adrenal Gland</th>\n",
       "      <th>Bladder</th>\n",
       "      <th>Blood</th>\n",
       "      <th>Blood Vessel</th>\n",
       "      <th>Brain</th>\n",
       "      <th>Breast</th>\n",
       "      <th>Cervix Uteri</th>\n",
       "      <th>Colon</th>\n",
       "      <th>Esophagus</th>\n",
       "      <th>Fallopian Tube</th>\n",
       "      <th>Heart</th>\n",
       "      <th>Kidney</th>\n",
       "      <th>Liver</th>\n",
       "      <th>Lung</th>\n",
       "      <th>Muscle</th>\n",
       "      <th>Nerve</th>\n",
       "      <th>Ovary</th>\n",
       "      <th>Pancreas</th>\n",
       "      <th>Pituitary</th>\n",
       "      <th>Prostate</th>\n",
       "      <th>Salivary Gland</th>\n",
       "      <th>Skin</th>\n",
       "      <th>Small Intestine</th>\n",
       "      <th>Spleen</th>\n",
       "      <th>Stomach</th>\n",
       "      <th>Testis</th>\n",
       "      <th>Thyroid</th>\n",
       "      <th>Uterus</th>\n",
       "      <th>Vagina</th>\n",
       "      <th>mean</th>\n",
       "      <th>median</th>\n",
       "      <th>std</th>\n",
       "    </tr>\n",
       "  </thead>\n",
       "  <tbody>\n",
       "    <tr>\n",
       "      <th>count</th>\n",
       "      <td>101.000000</td>\n",
       "      <td>101.000000</td>\n",
       "      <td>101.000000</td>\n",
       "      <td>101.000000</td>\n",
       "      <td>101.000000</td>\n",
       "      <td>101.000000</td>\n",
       "      <td>101.000000</td>\n",
       "      <td>101.000000</td>\n",
       "      <td>101.000000</td>\n",
       "      <td>101.000000</td>\n",
       "      <td>101.000000</td>\n",
       "      <td>101.000000</td>\n",
       "      <td>101.000000</td>\n",
       "      <td>101.000000</td>\n",
       "      <td>101.000000</td>\n",
       "      <td>101.000000</td>\n",
       "      <td>101.000000</td>\n",
       "      <td>101.000000</td>\n",
       "      <td>101.000000</td>\n",
       "      <td>101.000000</td>\n",
       "      <td>101.000000</td>\n",
       "      <td>101.000000</td>\n",
       "      <td>101.000000</td>\n",
       "      <td>101.000000</td>\n",
       "      <td>101.000000</td>\n",
       "      <td>101.000000</td>\n",
       "      <td>101.000000</td>\n",
       "      <td>101.000000</td>\n",
       "      <td>101.000000</td>\n",
       "      <td>101.000000</td>\n",
       "      <td>101.000000</td>\n",
       "      <td>101.000000</td>\n",
       "      <td>101.000000</td>\n",
       "    </tr>\n",
       "    <tr>\n",
       "      <th>mean</th>\n",
       "      <td>57.482084</td>\n",
       "      <td>61.009490</td>\n",
       "      <td>61.054772</td>\n",
       "      <td>70.413728</td>\n",
       "      <td>67.232188</td>\n",
       "      <td>44.460777</td>\n",
       "      <td>58.187767</td>\n",
       "      <td>65.094688</td>\n",
       "      <td>65.553277</td>\n",
       "      <td>62.208163</td>\n",
       "      <td>64.307267</td>\n",
       "      <td>48.227327</td>\n",
       "      <td>49.869198</td>\n",
       "      <td>39.082465</td>\n",
       "      <td>58.160931</td>\n",
       "      <td>55.997941</td>\n",
       "      <td>68.502634</td>\n",
       "      <td>64.845020</td>\n",
       "      <td>28.889570</td>\n",
       "      <td>66.407485</td>\n",
       "      <td>65.541609</td>\n",
       "      <td>51.124396</td>\n",
       "      <td>68.409851</td>\n",
       "      <td>51.391554</td>\n",
       "      <td>61.023248</td>\n",
       "      <td>50.520064</td>\n",
       "      <td>58.558376</td>\n",
       "      <td>71.660262</td>\n",
       "      <td>68.506822</td>\n",
       "      <td>60.646030</td>\n",
       "      <td>58.812300</td>\n",
       "      <td>59.437609</td>\n",
       "      <td>13.860251</td>\n",
       "    </tr>\n",
       "    <tr>\n",
       "      <th>std</th>\n",
       "      <td>58.020063</td>\n",
       "      <td>61.888289</td>\n",
       "      <td>57.782149</td>\n",
       "      <td>75.223936</td>\n",
       "      <td>76.139214</td>\n",
       "      <td>53.960162</td>\n",
       "      <td>58.470301</td>\n",
       "      <td>66.911595</td>\n",
       "      <td>69.775224</td>\n",
       "      <td>65.171923</td>\n",
       "      <td>65.520329</td>\n",
       "      <td>64.914681</td>\n",
       "      <td>53.124755</td>\n",
       "      <td>41.817030</td>\n",
       "      <td>58.780595</td>\n",
       "      <td>61.838328</td>\n",
       "      <td>69.461484</td>\n",
       "      <td>69.351918</td>\n",
       "      <td>32.633336</td>\n",
       "      <td>77.577985</td>\n",
       "      <td>70.398163</td>\n",
       "      <td>53.042895</td>\n",
       "      <td>70.917735</td>\n",
       "      <td>53.854307</td>\n",
       "      <td>64.197171</td>\n",
       "      <td>52.147076</td>\n",
       "      <td>60.890007</td>\n",
       "      <td>76.380409</td>\n",
       "      <td>68.532964</td>\n",
       "      <td>63.499728</td>\n",
       "      <td>60.652899</td>\n",
       "      <td>60.174968</td>\n",
       "      <td>14.217148</td>\n",
       "    </tr>\n",
       "    <tr>\n",
       "      <th>min</th>\n",
       "      <td>2.008500</td>\n",
       "      <td>2.365500</td>\n",
       "      <td>2.416000</td>\n",
       "      <td>1.808500</td>\n",
       "      <td>3.669000</td>\n",
       "      <td>1.274000</td>\n",
       "      <td>1.900000</td>\n",
       "      <td>2.212500</td>\n",
       "      <td>2.070000</td>\n",
       "      <td>2.237500</td>\n",
       "      <td>2.173000</td>\n",
       "      <td>1.548000</td>\n",
       "      <td>1.633000</td>\n",
       "      <td>1.914000</td>\n",
       "      <td>1.839000</td>\n",
       "      <td>1.990000</td>\n",
       "      <td>2.596000</td>\n",
       "      <td>2.043000</td>\n",
       "      <td>0.929600</td>\n",
       "      <td>2.236000</td>\n",
       "      <td>2.203500</td>\n",
       "      <td>1.695000</td>\n",
       "      <td>2.055000</td>\n",
       "      <td>1.529000</td>\n",
       "      <td>1.587500</td>\n",
       "      <td>2.016500</td>\n",
       "      <td>3.066000</td>\n",
       "      <td>2.360500</td>\n",
       "      <td>2.372000</td>\n",
       "      <td>2.093000</td>\n",
       "      <td>2.061370</td>\n",
       "      <td>2.055000</td>\n",
       "      <td>0.493947</td>\n",
       "    </tr>\n",
       "    <tr>\n",
       "      <th>25%</th>\n",
       "      <td>21.090000</td>\n",
       "      <td>20.835000</td>\n",
       "      <td>23.290000</td>\n",
       "      <td>25.270000</td>\n",
       "      <td>21.970000</td>\n",
       "      <td>14.515000</td>\n",
       "      <td>21.515000</td>\n",
       "      <td>24.875000</td>\n",
       "      <td>24.200000</td>\n",
       "      <td>22.895000</td>\n",
       "      <td>24.080000</td>\n",
       "      <td>13.830000</td>\n",
       "      <td>15.460000</td>\n",
       "      <td>13.700000</td>\n",
       "      <td>20.940000</td>\n",
       "      <td>16.510000</td>\n",
       "      <td>24.680000</td>\n",
       "      <td>22.070000</td>\n",
       "      <td>10.215000</td>\n",
       "      <td>21.880000</td>\n",
       "      <td>24.025000</td>\n",
       "      <td>18.990000</td>\n",
       "      <td>25.520000</td>\n",
       "      <td>19.140000</td>\n",
       "      <td>24.185000</td>\n",
       "      <td>16.985000</td>\n",
       "      <td>20.220000</td>\n",
       "      <td>27.570000</td>\n",
       "      <td>25.310000</td>\n",
       "      <td>23.210000</td>\n",
       "      <td>22.780450</td>\n",
       "      <td>23.466050</td>\n",
       "      <td>5.395549</td>\n",
       "    </tr>\n",
       "    <tr>\n",
       "      <th>50%</th>\n",
       "      <td>37.940000</td>\n",
       "      <td>44.750000</td>\n",
       "      <td>40.770000</td>\n",
       "      <td>47.835000</td>\n",
       "      <td>40.950000</td>\n",
       "      <td>23.960000</td>\n",
       "      <td>37.510000</td>\n",
       "      <td>40.660000</td>\n",
       "      <td>38.150000</td>\n",
       "      <td>36.960000</td>\n",
       "      <td>42.050000</td>\n",
       "      <td>27.310000</td>\n",
       "      <td>31.050000</td>\n",
       "      <td>25.770000</td>\n",
       "      <td>37.440000</td>\n",
       "      <td>33.560000</td>\n",
       "      <td>43.550000</td>\n",
       "      <td>40.580000</td>\n",
       "      <td>17.585000</td>\n",
       "      <td>41.480000</td>\n",
       "      <td>40.530000</td>\n",
       "      <td>33.920000</td>\n",
       "      <td>42.030000</td>\n",
       "      <td>33.430000</td>\n",
       "      <td>40.780000</td>\n",
       "      <td>34.030000</td>\n",
       "      <td>35.480000</td>\n",
       "      <td>44.550000</td>\n",
       "      <td>42.280000</td>\n",
       "      <td>39.740000</td>\n",
       "      <td>37.308667</td>\n",
       "      <td>39.590000</td>\n",
       "      <td>9.287707</td>\n",
       "    </tr>\n",
       "    <tr>\n",
       "      <th>75%</th>\n",
       "      <td>68.815000</td>\n",
       "      <td>69.085000</td>\n",
       "      <td>74.950000</td>\n",
       "      <td>76.940000</td>\n",
       "      <td>78.750000</td>\n",
       "      <td>53.210000</td>\n",
       "      <td>67.915000</td>\n",
       "      <td>81.790000</td>\n",
       "      <td>77.090000</td>\n",
       "      <td>75.035000</td>\n",
       "      <td>79.470000</td>\n",
       "      <td>51.380000</td>\n",
       "      <td>54.080000</td>\n",
       "      <td>42.850000</td>\n",
       "      <td>68.860000</td>\n",
       "      <td>64.510000</td>\n",
       "      <td>83.250000</td>\n",
       "      <td>78.810000</td>\n",
       "      <td>36.115000</td>\n",
       "      <td>83.150000</td>\n",
       "      <td>80.325000</td>\n",
       "      <td>59.930000</td>\n",
       "      <td>84.060000</td>\n",
       "      <td>57.650000</td>\n",
       "      <td>72.690000</td>\n",
       "      <td>57.055000</td>\n",
       "      <td>73.630000</td>\n",
       "      <td>81.855000</td>\n",
       "      <td>78.800000</td>\n",
       "      <td>70.560000</td>\n",
       "      <td>67.735667</td>\n",
       "      <td>68.520000</td>\n",
       "      <td>16.263994</td>\n",
       "    </tr>\n",
       "    <tr>\n",
       "      <th>max</th>\n",
       "      <td>276.050000</td>\n",
       "      <td>355.000000</td>\n",
       "      <td>290.700000</td>\n",
       "      <td>420.450000</td>\n",
       "      <td>407.200000</td>\n",
       "      <td>281.600000</td>\n",
       "      <td>277.150000</td>\n",
       "      <td>335.000000</td>\n",
       "      <td>359.700000</td>\n",
       "      <td>343.600000</td>\n",
       "      <td>340.200000</td>\n",
       "      <td>341.100000</td>\n",
       "      <td>265.700000</td>\n",
       "      <td>206.900000</td>\n",
       "      <td>292.700000</td>\n",
       "      <td>312.950000</td>\n",
       "      <td>370.550000</td>\n",
       "      <td>389.100000</td>\n",
       "      <td>222.900000</td>\n",
       "      <td>471.400000</td>\n",
       "      <td>395.650000</td>\n",
       "      <td>290.200000</td>\n",
       "      <td>381.500000</td>\n",
       "      <td>291.700000</td>\n",
       "      <td>387.650000</td>\n",
       "      <td>245.400000</td>\n",
       "      <td>380.100000</td>\n",
       "      <td>420.350000</td>\n",
       "      <td>361.800000</td>\n",
       "      <td>309.200000</td>\n",
       "      <td>299.504500</td>\n",
       "      <td>300.600000</td>\n",
       "      <td>75.012766</td>\n",
       "    </tr>\n",
       "  </tbody>\n",
       "</table>\n",
       "</div>"
      ],
      "text/plain": [
       "       Adipose Tissue  Adrenal Gland     Bladder       Blood  Blood Vessel  \\\n",
       "count      101.000000     101.000000  101.000000  101.000000    101.000000   \n",
       "mean        57.482084      61.009490   61.054772   70.413728     67.232188   \n",
       "std         58.020063      61.888289   57.782149   75.223936     76.139214   \n",
       "min          2.008500       2.365500    2.416000    1.808500      3.669000   \n",
       "25%         21.090000      20.835000   23.290000   25.270000     21.970000   \n",
       "50%         37.940000      44.750000   40.770000   47.835000     40.950000   \n",
       "75%         68.815000      69.085000   74.950000   76.940000     78.750000   \n",
       "max        276.050000     355.000000  290.700000  420.450000    407.200000   \n",
       "\n",
       "            Brain      Breast  Cervix Uteri       Colon   Esophagus  \\\n",
       "count  101.000000  101.000000    101.000000  101.000000  101.000000   \n",
       "mean    44.460777   58.187767     65.094688   65.553277   62.208163   \n",
       "std     53.960162   58.470301     66.911595   69.775224   65.171923   \n",
       "min      1.274000    1.900000      2.212500    2.070000    2.237500   \n",
       "25%     14.515000   21.515000     24.875000   24.200000   22.895000   \n",
       "50%     23.960000   37.510000     40.660000   38.150000   36.960000   \n",
       "75%     53.210000   67.915000     81.790000   77.090000   75.035000   \n",
       "max    281.600000  277.150000    335.000000  359.700000  343.600000   \n",
       "\n",
       "       Fallopian Tube       Heart      Kidney       Liver        Lung  \\\n",
       "count      101.000000  101.000000  101.000000  101.000000  101.000000   \n",
       "mean        64.307267   48.227327   49.869198   39.082465   58.160931   \n",
       "std         65.520329   64.914681   53.124755   41.817030   58.780595   \n",
       "min          2.173000    1.548000    1.633000    1.914000    1.839000   \n",
       "25%         24.080000   13.830000   15.460000   13.700000   20.940000   \n",
       "50%         42.050000   27.310000   31.050000   25.770000   37.440000   \n",
       "75%         79.470000   51.380000   54.080000   42.850000   68.860000   \n",
       "max        340.200000  341.100000  265.700000  206.900000  292.700000   \n",
       "\n",
       "           Muscle       Nerve       Ovary    Pancreas   Pituitary    Prostate  \\\n",
       "count  101.000000  101.000000  101.000000  101.000000  101.000000  101.000000   \n",
       "mean    55.997941   68.502634   64.845020   28.889570   66.407485   65.541609   \n",
       "std     61.838328   69.461484   69.351918   32.633336   77.577985   70.398163   \n",
       "min      1.990000    2.596000    2.043000    0.929600    2.236000    2.203500   \n",
       "25%     16.510000   24.680000   22.070000   10.215000   21.880000   24.025000   \n",
       "50%     33.560000   43.550000   40.580000   17.585000   41.480000   40.530000   \n",
       "75%     64.510000   83.250000   78.810000   36.115000   83.150000   80.325000   \n",
       "max    312.950000  370.550000  389.100000  222.900000  471.400000  395.650000   \n",
       "\n",
       "       Salivary Gland        Skin  Small Intestine      Spleen     Stomach  \\\n",
       "count      101.000000  101.000000       101.000000  101.000000  101.000000   \n",
       "mean        51.124396   68.409851        51.391554   61.023248   50.520064   \n",
       "std         53.042895   70.917735        53.854307   64.197171   52.147076   \n",
       "min          1.695000    2.055000         1.529000    1.587500    2.016500   \n",
       "25%         18.990000   25.520000        19.140000   24.185000   16.985000   \n",
       "50%         33.920000   42.030000        33.430000   40.780000   34.030000   \n",
       "75%         59.930000   84.060000        57.650000   72.690000   57.055000   \n",
       "max        290.200000  381.500000       291.700000  387.650000  245.400000   \n",
       "\n",
       "           Testis     Thyroid      Uterus      Vagina        mean      median  \\\n",
       "count  101.000000  101.000000  101.000000  101.000000  101.000000  101.000000   \n",
       "mean    58.558376   71.660262   68.506822   60.646030   58.812300   59.437609   \n",
       "std     60.890007   76.380409   68.532964   63.499728   60.652899   60.174968   \n",
       "min      3.066000    2.360500    2.372000    2.093000    2.061370    2.055000   \n",
       "25%     20.220000   27.570000   25.310000   23.210000   22.780450   23.466050   \n",
       "50%     35.480000   44.550000   42.280000   39.740000   37.308667   39.590000   \n",
       "75%     73.630000   81.855000   78.800000   70.560000   67.735667   68.520000   \n",
       "max    380.100000  420.350000  361.800000  309.200000  299.504500  300.600000   \n",
       "\n",
       "              std  \n",
       "count  101.000000  \n",
       "mean    13.860251  \n",
       "std     14.217148  \n",
       "min      0.493947  \n",
       "25%      5.395549  \n",
       "50%      9.287707  \n",
       "75%     16.263994  \n",
       "max     75.012766  "
      ]
     },
     "execution_count": 10,
     "metadata": {},
     "output_type": "execute_result"
    }
   ],
   "source": [
    "gm_high.describe()"
   ]
  },
  {
   "cell_type": "code",
   "execution_count": 11,
   "metadata": {},
   "outputs": [
    {
     "data": {
      "text/html": [
       "<div>\n",
       "<style scoped>\n",
       "    .dataframe tbody tr th:only-of-type {\n",
       "        vertical-align: middle;\n",
       "    }\n",
       "\n",
       "    .dataframe tbody tr th {\n",
       "        vertical-align: top;\n",
       "    }\n",
       "\n",
       "    .dataframe thead th {\n",
       "        text-align: right;\n",
       "    }\n",
       "</style>\n",
       "<table border=\"1\" class=\"dataframe\">\n",
       "  <thead>\n",
       "    <tr style=\"text-align: right;\">\n",
       "      <th>Description</th>\n",
       "      <th>FAM138A</th>\n",
       "      <th>TP53</th>\n",
       "    </tr>\n",
       "  </thead>\n",
       "  <tbody>\n",
       "    <tr>\n",
       "      <th>GTEX-1117F-0226-SM-5GZZ7</th>\n",
       "      <td>0.05045</td>\n",
       "      <td>24.98</td>\n",
       "    </tr>\n",
       "    <tr>\n",
       "      <th>GTEX-111CU-1826-SM-5GZYN</th>\n",
       "      <td>0.00000</td>\n",
       "      <td>35.05</td>\n",
       "    </tr>\n",
       "    <tr>\n",
       "      <th>GTEX-111FC-0226-SM-5N9B8</th>\n",
       "      <td>0.02945</td>\n",
       "      <td>40.62</td>\n",
       "    </tr>\n",
       "    <tr>\n",
       "      <th>GTEX-111VG-2326-SM-5N9BK</th>\n",
       "      <td>0.03260</td>\n",
       "      <td>29.15</td>\n",
       "    </tr>\n",
       "    <tr>\n",
       "      <th>GTEX-111YS-2426-SM-5GZZQ</th>\n",
       "      <td>0.00000</td>\n",
       "      <td>20.39</td>\n",
       "    </tr>\n",
       "  </tbody>\n",
       "</table>\n",
       "</div>"
      ],
      "text/plain": [
       "Description               FAM138A   TP53\n",
       "GTEX-1117F-0226-SM-5GZZ7  0.05045  24.98\n",
       "GTEX-111CU-1826-SM-5GZYN  0.00000  35.05\n",
       "GTEX-111FC-0226-SM-5N9B8  0.02945  40.62\n",
       "GTEX-111VG-2326-SM-5N9BK  0.03260  29.15\n",
       "GTEX-111YS-2426-SM-5GZZQ  0.00000  20.39"
      ]
     },
     "execution_count": 11,
     "metadata": {},
     "output_type": "execute_result"
    }
   ],
   "source": [
    "\n",
    "gt = gtpm[gtpm.columns[1:]]\n",
    "gt.set_index('Description', inplace=True)\n",
    "gtt = gt.transpose()\n",
    "gtt.head()"
   ]
  },
  {
   "cell_type": "code",
   "execution_count": 12,
   "metadata": {},
   "outputs": [
    {
     "data": {
      "application/vnd.plotly.v1+json": {
       "config": {
        "linkText": "Export to plot.ly",
        "plotlyServerURL": "https://plot.ly",
        "showLink": true
       },
       "data": [
        {
         "histfunc": "count",
         "histnorm": "",
         "marker": {
          "color": "rgba(255, 153, 51, 1.0)",
          "line": {
           "color": "#4D5663",
           "width": 1.3
          }
         },
         "name": "FAM138A",
         "opacity": 0.8,
         "orientation": "v",
         "type": "histogram",
         "uid": "b6223f87-4a61-4e2e-bdf2-fe94f3a6d550",
         "x": [
          0.05045,
          0,
          0.02945,
          0.0326,
          0
         ]
        },
        {
         "histfunc": "count",
         "histnorm": "",
         "marker": {
          "color": "rgba(55, 128, 191, 1.0)",
          "line": {
           "color": "#4D5663",
           "width": 1.3
          }
         },
         "name": "TP53",
         "opacity": 0.8,
         "orientation": "v",
         "type": "histogram",
         "uid": "ea3df2b4-4d1f-4899-acf2-2a108849e756",
         "x": [
          24.98,
          35.05,
          40.62,
          29.15,
          20.39
         ]
        }
       ],
       "layout": {
        "barmode": "overlay",
        "legend": {
         "bgcolor": "#F5F6F9",
         "font": {
          "color": "#4D5663"
         }
        },
        "paper_bgcolor": "#F5F6F9",
        "plot_bgcolor": "#F5F6F9",
        "title": {
         "font": {
          "color": "#4D5663"
         }
        },
        "xaxis": {
         "gridcolor": "#E1E5ED",
         "showgrid": true,
         "tickfont": {
          "color": "#4D5663"
         },
         "title": {
          "font": {
           "color": "#4D5663"
          },
          "text": ""
         },
         "zerolinecolor": "#E1E5ED"
        },
        "yaxis": {
         "gridcolor": "#E1E5ED",
         "showgrid": true,
         "tickfont": {
          "color": "#4D5663"
         },
         "title": {
          "font": {
           "color": "#4D5663"
          },
          "text": "TPM"
         },
         "zerolinecolor": "#E1E5ED"
        }
       }
      },
      "text/html": [
       "<div id=\"976702e2-0905-4614-aecd-34dc3f89145a\" style=\"height: 525px; width: 100%;\" class=\"plotly-graph-div\"></div><script type=\"text/javascript\">require([\"plotly\"], function(Plotly) { window.PLOTLYENV=window.PLOTLYENV || {};window.PLOTLYENV.BASE_URL=\"https://plot.ly\";Plotly.newPlot(\"976702e2-0905-4614-aecd-34dc3f89145a\", [{\"histfunc\": \"count\", \"histnorm\": \"\", \"marker\": {\"color\": \"rgba(255, 153, 51, 1.0)\", \"line\": {\"color\": \"#4D5663\", \"width\": 1.3}}, \"name\": \"FAM138A\", \"opacity\": 0.8, \"orientation\": \"v\", \"x\": [0.05045, 0.0, 0.02945, 0.0326, 0.0], \"type\": \"histogram\", \"uid\": \"0d2ff78e-e645-4d2e-b6ff-c09a2656bf4c\"}, {\"histfunc\": \"count\", \"histnorm\": \"\", \"marker\": {\"color\": \"rgba(55, 128, 191, 1.0)\", \"line\": {\"color\": \"#4D5663\", \"width\": 1.3}}, \"name\": \"TP53\", \"opacity\": 0.8, \"orientation\": \"v\", \"x\": [24.98, 35.05, 40.62, 29.15, 20.39], \"type\": \"histogram\", \"uid\": \"225b172b-bebc-471f-b3f2-e9aac98cd573\"}], {\"barmode\": \"overlay\", \"legend\": {\"bgcolor\": \"#F5F6F9\", \"font\": {\"color\": \"#4D5663\"}}, \"paper_bgcolor\": \"#F5F6F9\", \"plot_bgcolor\": \"#F5F6F9\", \"title\": {\"font\": {\"color\": \"#4D5663\"}}, \"xaxis\": {\"gridcolor\": \"#E1E5ED\", \"showgrid\": true, \"tickfont\": {\"color\": \"#4D5663\"}, \"title\": {\"text\": \"\", \"font\": {\"color\": \"#4D5663\"}}, \"zerolinecolor\": \"#E1E5ED\"}, \"yaxis\": {\"gridcolor\": \"#E1E5ED\", \"showgrid\": true, \"tickfont\": {\"color\": \"#4D5663\"}, \"title\": {\"text\": \"TPM\", \"font\": {\"color\": \"#4D5663\"}}, \"zerolinecolor\": \"#E1E5ED\"}}, {\"showLink\": true, \"linkText\": \"Export to plot.ly\", \"plotlyServerURL\": \"https://plot.ly\"})});</script><script type=\"text/javascript\">window.addEventListener(\"resize\", function(){window._Plotly.Plots.resize(document.getElementById(\"976702e2-0905-4614-aecd-34dc3f89145a\"));});</script>"
      ],
      "text/vnd.plotly.v1+html": [
       "<div id=\"976702e2-0905-4614-aecd-34dc3f89145a\" style=\"height: 525px; width: 100%;\" class=\"plotly-graph-div\"></div><script type=\"text/javascript\">require([\"plotly\"], function(Plotly) { window.PLOTLYENV=window.PLOTLYENV || {};window.PLOTLYENV.BASE_URL=\"https://plot.ly\";Plotly.newPlot(\"976702e2-0905-4614-aecd-34dc3f89145a\", [{\"histfunc\": \"count\", \"histnorm\": \"\", \"marker\": {\"color\": \"rgba(255, 153, 51, 1.0)\", \"line\": {\"color\": \"#4D5663\", \"width\": 1.3}}, \"name\": \"FAM138A\", \"opacity\": 0.8, \"orientation\": \"v\", \"x\": [0.05045, 0.0, 0.02945, 0.0326, 0.0], \"type\": \"histogram\", \"uid\": \"0d2ff78e-e645-4d2e-b6ff-c09a2656bf4c\"}, {\"histfunc\": \"count\", \"histnorm\": \"\", \"marker\": {\"color\": \"rgba(55, 128, 191, 1.0)\", \"line\": {\"color\": \"#4D5663\", \"width\": 1.3}}, \"name\": \"TP53\", \"opacity\": 0.8, \"orientation\": \"v\", \"x\": [24.98, 35.05, 40.62, 29.15, 20.39], \"type\": \"histogram\", \"uid\": \"225b172b-bebc-471f-b3f2-e9aac98cd573\"}], {\"barmode\": \"overlay\", \"legend\": {\"bgcolor\": \"#F5F6F9\", \"font\": {\"color\": \"#4D5663\"}}, \"paper_bgcolor\": \"#F5F6F9\", \"plot_bgcolor\": \"#F5F6F9\", \"title\": {\"font\": {\"color\": \"#4D5663\"}}, \"xaxis\": {\"gridcolor\": \"#E1E5ED\", \"showgrid\": true, \"tickfont\": {\"color\": \"#4D5663\"}, \"title\": {\"text\": \"\", \"font\": {\"color\": \"#4D5663\"}}, \"zerolinecolor\": \"#E1E5ED\"}, \"yaxis\": {\"gridcolor\": \"#E1E5ED\", \"showgrid\": true, \"tickfont\": {\"color\": \"#4D5663\"}, \"title\": {\"text\": \"TPM\", \"font\": {\"color\": \"#4D5663\"}}, \"zerolinecolor\": \"#E1E5ED\"}}, {\"showLink\": true, \"linkText\": \"Export to plot.ly\", \"plotlyServerURL\": \"https://plot.ly\"})});</script><script type=\"text/javascript\">window.addEventListener(\"resize\", function(){window._Plotly.Plots.resize(document.getElementById(\"976702e2-0905-4614-aecd-34dc3f89145a\"));});</script>"
      ]
     },
     "metadata": {},
     "output_type": "display_data"
    }
   ],
   "source": [
    "gtt.head().iplot(kind='hist', yTitle='TPM')"
   ]
  },
  {
   "cell_type": "code",
   "execution_count": 13,
   "metadata": {},
   "outputs": [
    {
     "name": "stdout",
     "output_type": "stream",
     "text": [
      "             GTEX-1117F-0226-SM-5GZZ7  GTEX-111CU-1826-SM-5GZYN  \\\n",
      "Description                                                       \n",
      "FAM138A                       0.05045                      0.00   \n",
      "TP53                         24.98000                     35.05   \n",
      "\n",
      "             GTEX-111FC-0226-SM-5N9B8  GTEX-111VG-2326-SM-5N9BK  \\\n",
      "Description                                                       \n",
      "FAM138A                       0.02945                    0.0326   \n",
      "TP53                         40.62000                   29.1500   \n",
      "\n",
      "             GTEX-111YS-2426-SM-5GZZQ  GTEX-1122O-2026-SM-5NQ91  \\\n",
      "Description                                                       \n",
      "FAM138A                          0.00                       0.0   \n",
      "TP53                            20.39                      19.8   \n",
      "\n",
      "             GTEX-1128S-2126-SM-5H12U  GTEX-113IC-0226-SM-5HL5C  \\\n",
      "Description                                                       \n",
      "FAM138A                        0.0861                     0.131   \n",
      "TP53                          25.2900                    35.170   \n",
      "\n",
      "             GTEX-117YX-2226-SM-5EGJJ  GTEX-11DXW-0326-SM-5H11W  \\\n",
      "Description                                                       \n",
      "FAM138A                       0.06773                      0.00   \n",
      "TP53                         18.94000                     32.63   \n",
      "\n",
      "             GTEX-11DXX-2326-SM-5Q5A2  GTEX-11DZ1-0226-SM-5A5KF  \\\n",
      "Description                                                       \n",
      "FAM138A                       0.03199                   0.06642   \n",
      "TP53                         26.12000                  49.64000   \n",
      "\n",
      "             GTEX-11EI6-0226-SM-5EQ64  GTEX-11EM3-2326-SM-5H12B  \\\n",
      "Description                                                       \n",
      "FAM138A                          0.00                   0.06246   \n",
      "TP53                            32.93                  20.30000   \n",
      "\n",
      "             GTEX-11EMC-2826-SM-5PNY6  GTEX-11EQ8-0226-SM-5EQ5G  \\\n",
      "Description                                                       \n",
      "FAM138A                       0.02645                   0.08686   \n",
      "TP53                         32.60000                  43.81000   \n",
      "\n",
      "             GTEX-11EQ9-2526-SM-5HL66  GTEX-11GS4-2626-SM-5A5LD  \\\n",
      "Description                                                       \n",
      "FAM138A                             0                   0.07443   \n",
      "TP53                               17                  27.56000   \n",
      "\n",
      "             GTEX-11GSO-2326-SM-5A5LX  GTEX-11H98-0226-SM-5NQ89  \\\n",
      "Description                                                       \n",
      "FAM138A                       0.08205                      0.00   \n",
      "TP53                         22.77000                     36.67   \n",
      "\n",
      "             GTEX-11I78-2626-SM-5Q5AI  GTEX-11LCK-1126-SM-5A5KC  \\\n",
      "Description                                                       \n",
      "FAM138A                           0.0                      0.00   \n",
      "TP53                             30.1                     37.39   \n",
      "\n",
      "             GTEX-11O72-0226-SM-59869  GTEX-11OF3-2426-SM-5Q5AS  \\\n",
      "Description                                                       \n",
      "FAM138A                       0.03653                    0.1083   \n",
      "TP53                         39.21000                   35.5100   \n",
      "\n",
      "             GTEX-11ONC-2526-SM-5986W  GTEX-11P7K-2026-SM-5GU74  \\\n",
      "Description                                                       \n",
      "FAM138A                       0.09918                    0.0879   \n",
      "TP53                         29.21000                   21.1300   \n",
      "\n",
      "             GTEX-11P81-2426-SM-5GU65  GTEX-11P82-1726-SM-5Q5AT  \\\n",
      "Description                                                       \n",
      "FAM138A                          0.00                      0.00   \n",
      "TP53                            29.03                     27.05   \n",
      "\n",
      "             GTEX-11PRG-0626-SM-5BC56  GTEX-11TT1-2426-SM-5EQMK  \\\n",
      "Description                                                       \n",
      "FAM138A                       0.04738                   0.04128   \n",
      "TP53                         36.60000                  14.49000   \n",
      "\n",
      "                       ...             GTEX-133LE-1926-SM-5N9FV  \\\n",
      "Description            ...                                        \n",
      "FAM138A                ...                              0.02647   \n",
      "TP53                   ...                             43.71000   \n",
      "\n",
      "             GTEX-1399R-2626-SM-5KLZ7  GTEX-1399T-2726-SM-5K7XK  \\\n",
      "Description                                                       \n",
      "FAM138A                        0.1117                    0.1231   \n",
      "TP53                          26.1100                   37.9200   \n",
      "\n",
      "             GTEX-1399U-2426-SM-5K7XB  GTEX-139D8-0326-SM-5IJCJ  \\\n",
      "Description                                                       \n",
      "FAM138A                          0.00                   0.07404   \n",
      "TP53                            27.58                  18.86000   \n",
      "\n",
      "             GTEX-139T4-0126-SM-5HL5G  GTEX-139T6-2126-SM-5KM37  \\\n",
      "Description                                                       \n",
      "FAM138A                          0.00                   0.08957   \n",
      "TP53                            38.54                  23.14000   \n",
      "\n",
      "             GTEX-139T8-0226-SM-5L3EA  GTEX-139TT-0226-SM-5K7YH  \\\n",
      "Description                                                       \n",
      "FAM138A                          0.00                      0.00   \n",
      "TP53                            22.73                     30.17   \n",
      "\n",
      "             GTEX-139TU-0226-SM-5J1NM  GTEX-139YR-2426-SM-5J1OB  \\\n",
      "Description                                                       \n",
      "FAM138A                          0.00                   0.08593   \n",
      "TP53                            46.89                  26.95000   \n",
      "\n",
      "             GTEX-13CF2-2626-SM-5LZZA  GTEX-13CF3-2326-SM-5IFGL  \\\n",
      "Description                                                       \n",
      "FAM138A                        0.1001                   0.07153   \n",
      "TP53                          39.8300                  24.02000   \n",
      "\n",
      "             GTEX-13D11-2326-SM-5IJCY  GTEX-13FH7-2226-SM-5IJD4  \\\n",
      "Description                                                       \n",
      "FAM138A                       0.07486                   0.04097   \n",
      "TP53                         19.83000                  25.81000   \n",
      "\n",
      "             GTEX-13FHO-0326-SM-5IJBH  GTEX-13FHP-0226-SM-5K7WD  \\\n",
      "Description                                                       \n",
      "FAM138A                        0.0346                      0.00   \n",
      "TP53                          38.3400                     58.05   \n",
      "\n",
      "             GTEX-13FTW-2526-SM-5IJC8  GTEX-13FTY-0626-SM-5L3F8  \\\n",
      "Description                                                       \n",
      "FAM138A                          0.00                      0.00   \n",
      "TP53                            37.64                     34.93   \n",
      "\n",
      "             GTEX-13G51-2626-SM-5LZYW  GTEX-13IVO-0226-SM-5LZXU  \\\n",
      "Description                                                       \n",
      "FAM138A                       0.04133                   0.06036   \n",
      "TP53                         34.11000                  30.19000   \n",
      "\n",
      "             GTEX-13JUV-2826-SM-5LZWU  GTEX-13JVG-0226-SM-5J1MW  \\\n",
      "Description                                                       \n",
      "FAM138A                        0.0411                   0.06147   \n",
      "TP53                          38.7800                  24.45000   \n",
      "\n",
      "             GTEX-13N11-2626-SM-5K7UQ  GTEX-13N1W-0226-SM-5K7W6  \\\n",
      "Description                                                       \n",
      "FAM138A                         0.032                   0.02942   \n",
      "TP53                           26.600                  22.83000   \n",
      "\n",
      "             GTEX-13N2G-2726-SM-5J1MG  GTEX-13NYS-0226-SM-5MR49  \\\n",
      "Description                                                       \n",
      "FAM138A                          0.00                      0.00   \n",
      "TP53                            27.28                     21.28   \n",
      "\n",
      "             GTEX-13NZ8-0926-SM-5MR3U  GTEX-13NZ9-0526-SM-5J1OX  \\\n",
      "Description                                                       \n",
      "FAM138A                          0.00                   0.03722   \n",
      "TP53                            25.23                  40.54000   \n",
      "\n",
      "             GTEX-13NZA-0126-SM-5K7UH  \n",
      "Description                            \n",
      "FAM138A                       0.06112  \n",
      "TP53                         26.52000  \n",
      "\n",
      "[2 rows x 98 columns]\n"
     ]
    },
    {
     "data": {
      "application/vnd.plotly.v1+json": {
       "config": {
        "linkText": "Export to plot.ly",
        "plotlyServerURL": "https://plot.ly",
        "showLink": true
       },
       "data": [
        {
         "histfunc": "count",
         "histnorm": "",
         "marker": {
          "color": "rgba(255, 153, 51, 1.0)",
          "line": {
           "color": "#4D5663",
           "width": 1.3
          }
         },
         "name": "GTEX-1117F-0226-SM-5GZZ7",
         "opacity": 0.8,
         "orientation": "v",
         "type": "histogram",
         "uid": "17d18b86-1bac-4b8e-ad72-509f1bf6610a",
         "x": [
          0.05045,
          24.98
         ]
        },
        {
         "histfunc": "count",
         "histnorm": "",
         "marker": {
          "color": "rgba(55, 128, 191, 1.0)",
          "line": {
           "color": "#4D5663",
           "width": 1.3
          }
         },
         "name": "GTEX-111CU-1826-SM-5GZYN",
         "opacity": 0.8,
         "orientation": "v",
         "type": "histogram",
         "uid": "4aeea2e7-df2f-4e7f-90a6-a98883176463",
         "x": [
          0,
          35.05
         ]
        },
        {
         "histfunc": "count",
         "histnorm": "",
         "marker": {
          "color": "rgba(50, 171, 96, 1.0)",
          "line": {
           "color": "#4D5663",
           "width": 1.3
          }
         },
         "name": "GTEX-111FC-0226-SM-5N9B8",
         "opacity": 0.8,
         "orientation": "v",
         "type": "histogram",
         "uid": "d8012152-53d0-4966-abc9-6be7fb862d6d",
         "x": [
          0.02945,
          40.62
         ]
        },
        {
         "histfunc": "count",
         "histnorm": "",
         "marker": {
          "color": "rgba(128, 0, 128, 1.0)",
          "line": {
           "color": "#4D5663",
           "width": 1.3
          }
         },
         "name": "GTEX-111VG-2326-SM-5N9BK",
         "opacity": 0.8,
         "orientation": "v",
         "type": "histogram",
         "uid": "83a324c1-4354-4172-84c1-366def2bfdcb",
         "x": [
          0.0326,
          29.15
         ]
        },
        {
         "histfunc": "count",
         "histnorm": "",
         "marker": {
          "color": "rgba(219, 64, 82, 1.0)",
          "line": {
           "color": "#4D5663",
           "width": 1.3
          }
         },
         "name": "GTEX-111YS-2426-SM-5GZZQ",
         "opacity": 0.8,
         "orientation": "v",
         "type": "histogram",
         "uid": "6a647f9e-579c-4419-a479-d2fad5a7b75c",
         "x": [
          0,
          20.39
         ]
        },
        {
         "histfunc": "count",
         "histnorm": "",
         "marker": {
          "color": "rgba(0, 128, 128, 1.0)",
          "line": {
           "color": "#4D5663",
           "width": 1.3
          }
         },
         "name": "GTEX-1122O-2026-SM-5NQ91",
         "opacity": 0.8,
         "orientation": "v",
         "type": "histogram",
         "uid": "e6cdfc65-65cf-4314-8ac9-5a41d8b264e6",
         "x": [
          0,
          19.8
         ]
        },
        {
         "histfunc": "count",
         "histnorm": "",
         "marker": {
          "color": "rgba(255, 255, 51, 1.0)",
          "line": {
           "color": "#4D5663",
           "width": 1.3
          }
         },
         "name": "GTEX-1128S-2126-SM-5H12U",
         "opacity": 0.8,
         "orientation": "v",
         "type": "histogram",
         "uid": "ba6faf5e-3876-4405-ba5e-f3bde53da123",
         "x": [
          0.0861,
          25.29
         ]
        },
        {
         "histfunc": "count",
         "histnorm": "",
         "marker": {
          "color": "rgba(128, 128, 0, 1.0)",
          "line": {
           "color": "#4D5663",
           "width": 1.3
          }
         },
         "name": "GTEX-113IC-0226-SM-5HL5C",
         "opacity": 0.8,
         "orientation": "v",
         "type": "histogram",
         "uid": "c5f4c407-d912-4b94-96f8-177ab8f66b93",
         "x": [
          0.131,
          35.17
         ]
        },
        {
         "histfunc": "count",
         "histnorm": "",
         "marker": {
          "color": "rgba(251, 128, 114, 1.0)",
          "line": {
           "color": "#4D5663",
           "width": 1.3
          }
         },
         "name": "GTEX-117YX-2226-SM-5EGJJ",
         "opacity": 0.8,
         "orientation": "v",
         "type": "histogram",
         "uid": "a3d6da70-fc6c-4342-b88d-f0101cbf53fe",
         "x": [
          0.06773,
          18.94
         ]
        },
        {
         "histfunc": "count",
         "histnorm": "",
         "marker": {
          "color": "rgba(128, 177, 211, 1.0)",
          "line": {
           "color": "#4D5663",
           "width": 1.3
          }
         },
         "name": "GTEX-11DXW-0326-SM-5H11W",
         "opacity": 0.8,
         "orientation": "v",
         "type": "histogram",
         "uid": "c7dc2e2d-2e7c-4184-81b9-2ceb55526abb",
         "x": [
          0,
          32.63
         ]
        },
        {
         "histfunc": "count",
         "histnorm": "",
         "marker": {
          "color": "rgba(128, 177, 211, 0.9183673469387754)",
          "line": {
           "color": "#4D5663",
           "width": 1.3
          }
         },
         "name": "GTEX-11DXX-2326-SM-5Q5A2",
         "opacity": 0.8,
         "orientation": "v",
         "type": "histogram",
         "uid": "8e8f2576-899e-4c93-9523-a80bd19e292b",
         "x": [
          0.03199,
          26.12
         ]
        },
        {
         "histfunc": "count",
         "histnorm": "",
         "marker": {
          "color": "rgba(255, 153, 51, 0.9183673469387754)",
          "line": {
           "color": "#4D5663",
           "width": 1.3
          }
         },
         "name": "GTEX-11DZ1-0226-SM-5A5KF",
         "opacity": 0.8,
         "orientation": "v",
         "type": "histogram",
         "uid": "cbc095f8-7f19-4259-a1a4-2487d1cb628d",
         "x": [
          0.06642,
          49.64
         ]
        },
        {
         "histfunc": "count",
         "histnorm": "",
         "marker": {
          "color": "rgba(55, 128, 191, 0.9183673469387754)",
          "line": {
           "color": "#4D5663",
           "width": 1.3
          }
         },
         "name": "GTEX-11EI6-0226-SM-5EQ64",
         "opacity": 0.8,
         "orientation": "v",
         "type": "histogram",
         "uid": "87c5ac0f-6ac6-45e2-8f4e-bba42b056e27",
         "x": [
          0,
          32.93
         ]
        },
        {
         "histfunc": "count",
         "histnorm": "",
         "marker": {
          "color": "rgba(50, 171, 96, 0.9183673469387754)",
          "line": {
           "color": "#4D5663",
           "width": 1.3
          }
         },
         "name": "GTEX-11EM3-2326-SM-5H12B",
         "opacity": 0.8,
         "orientation": "v",
         "type": "histogram",
         "uid": "7f53596b-097e-4fbf-b631-30725d1ad531",
         "x": [
          0.06246,
          20.3
         ]
        },
        {
         "histfunc": "count",
         "histnorm": "",
         "marker": {
          "color": "rgba(128, 0, 128, 0.9183673469387754)",
          "line": {
           "color": "#4D5663",
           "width": 1.3
          }
         },
         "name": "GTEX-11EMC-2826-SM-5PNY6",
         "opacity": 0.8,
         "orientation": "v",
         "type": "histogram",
         "uid": "abbdbb22-a80b-41b6-8e23-ae98aaf880bf",
         "x": [
          0.02645,
          32.6
         ]
        },
        {
         "histfunc": "count",
         "histnorm": "",
         "marker": {
          "color": "rgba(219, 64, 82, 0.9183673469387754)",
          "line": {
           "color": "#4D5663",
           "width": 1.3
          }
         },
         "name": "GTEX-11EQ8-0226-SM-5EQ5G",
         "opacity": 0.8,
         "orientation": "v",
         "type": "histogram",
         "uid": "d4e6ab62-e977-464b-986e-d31966172e44",
         "x": [
          0.08686,
          43.81
         ]
        },
        {
         "histfunc": "count",
         "histnorm": "",
         "marker": {
          "color": "rgba(0, 128, 128, 0.9183673469387754)",
          "line": {
           "color": "#4D5663",
           "width": 1.3
          }
         },
         "name": "GTEX-11EQ9-2526-SM-5HL66",
         "opacity": 0.8,
         "orientation": "v",
         "type": "histogram",
         "uid": "245140c0-23d1-471b-a99c-9fc5a01b069f",
         "x": [
          0,
          17
         ]
        },
        {
         "histfunc": "count",
         "histnorm": "",
         "marker": {
          "color": "rgba(255, 255, 51, 0.9183673469387754)",
          "line": {
           "color": "#4D5663",
           "width": 1.3
          }
         },
         "name": "GTEX-11GS4-2626-SM-5A5LD",
         "opacity": 0.8,
         "orientation": "v",
         "type": "histogram",
         "uid": "d4f74a08-3686-405c-974a-bc5ee6ae4249",
         "x": [
          0.07443,
          27.56
         ]
        },
        {
         "histfunc": "count",
         "histnorm": "",
         "marker": {
          "color": "rgba(128, 128, 0, 0.9183673469387754)",
          "line": {
           "color": "#4D5663",
           "width": 1.3
          }
         },
         "name": "GTEX-11GSO-2326-SM-5A5LX",
         "opacity": 0.8,
         "orientation": "v",
         "type": "histogram",
         "uid": "28944e6d-11eb-4f4c-9004-a0ec174e5bfc",
         "x": [
          0.08205,
          22.77
         ]
        },
        {
         "histfunc": "count",
         "histnorm": "",
         "marker": {
          "color": "rgba(251, 128, 114, 0.9183673469387754)",
          "line": {
           "color": "#4D5663",
           "width": 1.3
          }
         },
         "name": "GTEX-11H98-0226-SM-5NQ89",
         "opacity": 0.8,
         "orientation": "v",
         "type": "histogram",
         "uid": "40ebddec-62fd-4c2a-aa1a-2cc87f623562",
         "x": [
          0,
          36.67
         ]
        },
        {
         "histfunc": "count",
         "histnorm": "",
         "marker": {
          "color": "rgba(251, 128, 114, 0.8367346938775511)",
          "line": {
           "color": "#4D5663",
           "width": 1.3
          }
         },
         "name": "GTEX-11I78-2626-SM-5Q5AI",
         "opacity": 0.8,
         "orientation": "v",
         "type": "histogram",
         "uid": "68a3578c-59c6-445e-85dd-f456e7dbc568",
         "x": [
          0,
          30.1
         ]
        },
        {
         "histfunc": "count",
         "histnorm": "",
         "marker": {
          "color": "rgba(128, 177, 211, 0.8367346938775511)",
          "line": {
           "color": "#4D5663",
           "width": 1.3
          }
         },
         "name": "GTEX-11LCK-1126-SM-5A5KC",
         "opacity": 0.8,
         "orientation": "v",
         "type": "histogram",
         "uid": "a4e9a1e2-dd5e-4cda-b495-1d95515e2c1b",
         "x": [
          0,
          37.39
         ]
        },
        {
         "histfunc": "count",
         "histnorm": "",
         "marker": {
          "color": "rgba(255, 153, 51, 0.8367346938775511)",
          "line": {
           "color": "#4D5663",
           "width": 1.3
          }
         },
         "name": "GTEX-11O72-0226-SM-59869",
         "opacity": 0.8,
         "orientation": "v",
         "type": "histogram",
         "uid": "6d51060a-1f3d-4ea0-afff-285c6396d733",
         "x": [
          0.03653,
          39.21
         ]
        },
        {
         "histfunc": "count",
         "histnorm": "",
         "marker": {
          "color": "rgba(55, 128, 191, 0.8367346938775511)",
          "line": {
           "color": "#4D5663",
           "width": 1.3
          }
         },
         "name": "GTEX-11OF3-2426-SM-5Q5AS",
         "opacity": 0.8,
         "orientation": "v",
         "type": "histogram",
         "uid": "98c7fe8c-6015-42a8-a69e-bef8e10a347b",
         "x": [
          0.1083,
          35.51
         ]
        },
        {
         "histfunc": "count",
         "histnorm": "",
         "marker": {
          "color": "rgba(50, 171, 96, 0.8367346938775511)",
          "line": {
           "color": "#4D5663",
           "width": 1.3
          }
         },
         "name": "GTEX-11ONC-2526-SM-5986W",
         "opacity": 0.8,
         "orientation": "v",
         "type": "histogram",
         "uid": "fb231eb6-0ffe-4535-9eef-50335befdcd7",
         "x": [
          0.09917999999999999,
          29.21
         ]
        },
        {
         "histfunc": "count",
         "histnorm": "",
         "marker": {
          "color": "rgba(128, 0, 128, 0.8367346938775511)",
          "line": {
           "color": "#4D5663",
           "width": 1.3
          }
         },
         "name": "GTEX-11P7K-2026-SM-5GU74",
         "opacity": 0.8,
         "orientation": "v",
         "type": "histogram",
         "uid": "6b82e5e9-9d80-4a5a-b264-944c69d54d60",
         "x": [
          0.0879,
          21.13
         ]
        },
        {
         "histfunc": "count",
         "histnorm": "",
         "marker": {
          "color": "rgba(219, 64, 82, 0.8367346938775511)",
          "line": {
           "color": "#4D5663",
           "width": 1.3
          }
         },
         "name": "GTEX-11P81-2426-SM-5GU65",
         "opacity": 0.8,
         "orientation": "v",
         "type": "histogram",
         "uid": "af190bb9-8d73-44cf-aa0a-e73b8c8205c8",
         "x": [
          0,
          29.03
         ]
        },
        {
         "histfunc": "count",
         "histnorm": "",
         "marker": {
          "color": "rgba(0, 128, 128, 0.8367346938775511)",
          "line": {
           "color": "#4D5663",
           "width": 1.3
          }
         },
         "name": "GTEX-11P82-1726-SM-5Q5AT",
         "opacity": 0.8,
         "orientation": "v",
         "type": "histogram",
         "uid": "5cb960ff-57f0-4020-8fb0-ca72fe2d550f",
         "x": [
          0,
          27.05
         ]
        },
        {
         "histfunc": "count",
         "histnorm": "",
         "marker": {
          "color": "rgba(255, 255, 51, 0.8367346938775511)",
          "line": {
           "color": "#4D5663",
           "width": 1.3
          }
         },
         "name": "GTEX-11PRG-0626-SM-5BC56",
         "opacity": 0.8,
         "orientation": "v",
         "type": "histogram",
         "uid": "5c26ccc9-e45f-4d94-90e6-a9f6d89afbf5",
         "x": [
          0.04738,
          36.6
         ]
        },
        {
         "histfunc": "count",
         "histnorm": "",
         "marker": {
          "color": "rgba(128, 128, 0, 0.8367346938775511)",
          "line": {
           "color": "#4D5663",
           "width": 1.3
          }
         },
         "name": "GTEX-11TT1-2426-SM-5EQMK",
         "opacity": 0.8,
         "orientation": "v",
         "type": "histogram",
         "uid": "03d91db7-7f50-49ac-9bb2-a40190ea6d10",
         "x": [
          0.041280000000000004,
          14.49
         ]
        },
        {
         "histfunc": "count",
         "histnorm": "",
         "marker": {
          "color": "rgba(128, 128, 0, 0.7551020408163265)",
          "line": {
           "color": "#4D5663",
           "width": 1.3
          }
         },
         "name": "GTEX-11TTK-0226-SM-5N9EC",
         "opacity": 0.8,
         "orientation": "v",
         "type": "histogram",
         "uid": "d40cc251-524b-43d0-ae85-cc01ce167666",
         "x": [
          0.08281000000000001,
          28.01
         ]
        },
        {
         "histfunc": "count",
         "histnorm": "",
         "marker": {
          "color": "rgba(251, 128, 114, 0.7551020408163265)",
          "line": {
           "color": "#4D5663",
           "width": 1.3
          }
         },
         "name": "GTEX-11TUW-2626-SM-5EQKZ",
         "opacity": 0.8,
         "orientation": "v",
         "type": "histogram",
         "uid": "5dbeeb4c-9008-4f80-8790-5f7407b81879",
         "x": [
          0,
          28.42
         ]
        },
        {
         "histfunc": "count",
         "histnorm": "",
         "marker": {
          "color": "rgba(128, 177, 211, 0.7551020408163265)",
          "line": {
           "color": "#4D5663",
           "width": 1.3
          }
         },
         "name": "GTEX-11UD1-0226-SM-5EQKL",
         "opacity": 0.8,
         "orientation": "v",
         "type": "histogram",
         "uid": "ad16157f-c671-4b37-97e0-7e447deaa062",
         "x": [
          0,
          36.02
         ]
        },
        {
         "histfunc": "count",
         "histnorm": "",
         "marker": {
          "color": "rgba(255, 153, 51, 0.7551020408163265)",
          "line": {
           "color": "#4D5663",
           "width": 1.3
          }
         },
         "name": "GTEX-11UD2-0126-SM-5EQL2",
         "opacity": 0.8,
         "orientation": "v",
         "type": "histogram",
         "uid": "0646bdc8-e67c-4806-aa1b-433adb7cf8dd",
         "x": [
          0,
          30.37
         ]
        },
        {
         "histfunc": "count",
         "histnorm": "",
         "marker": {
          "color": "rgba(55, 128, 191, 0.7551020408163265)",
          "line": {
           "color": "#4D5663",
           "width": 1.3
          }
         },
         "name": "GTEX-11WQC-2426-SM-5EQKQ",
         "opacity": 0.8,
         "orientation": "v",
         "type": "histogram",
         "uid": "76a1e781-09c6-4cec-9846-7653f0c6455b",
         "x": [
          0.03901,
          29.76
         ]
        },
        {
         "histfunc": "count",
         "histnorm": "",
         "marker": {
          "color": "rgba(50, 171, 96, 0.7551020408163265)",
          "line": {
           "color": "#4D5663",
           "width": 1.3
          }
         },
         "name": "GTEX-11XUK-2126-SM-5EQLR",
         "opacity": 0.8,
         "orientation": "v",
         "type": "histogram",
         "uid": "2fdb5f88-f2a7-4750-9d53-b7ed4e6cbe6c",
         "x": [
          0,
          32.71
         ]
        },
        {
         "histfunc": "count",
         "histnorm": "",
         "marker": {
          "color": "rgba(128, 0, 128, 0.7551020408163265)",
          "line": {
           "color": "#4D5663",
           "width": 1.3
          }
         },
         "name": "GTEX-11ZTS-0226-SM-5EQKD",
         "opacity": 0.8,
         "orientation": "v",
         "type": "histogram",
         "uid": "5fea5168-3715-44a3-b754-2485e85e3d34",
         "x": [
          0.037239999999999995,
          28.62
         ]
        },
        {
         "histfunc": "count",
         "histnorm": "",
         "marker": {
          "color": "rgba(219, 64, 82, 0.7551020408163265)",
          "line": {
           "color": "#4D5663",
           "width": 1.3
          }
         },
         "name": "GTEX-11ZTT-2526-SM-5EQM9",
         "opacity": 0.8,
         "orientation": "v",
         "type": "histogram",
         "uid": "efe7db84-a39e-402d-bbef-9230662dd32b",
         "x": [
          0.030010000000000002,
          22.16
         ]
        },
        {
         "histfunc": "count",
         "histnorm": "",
         "marker": {
          "color": "rgba(0, 128, 128, 0.7551020408163265)",
          "line": {
           "color": "#4D5663",
           "width": 1.3
          }
         },
         "name": "GTEX-11ZU8-2426-SM-5EQMV",
         "opacity": 0.8,
         "orientation": "v",
         "type": "histogram",
         "uid": "e53a8897-ddc8-4c4b-9ce7-e4d2b5f12ec8",
         "x": [
          0.0401,
          25.78
         ]
        },
        {
         "histfunc": "count",
         "histnorm": "",
         "marker": {
          "color": "rgba(255, 255, 51, 0.7551020408163265)",
          "line": {
           "color": "#4D5663",
           "width": 1.3
          }
         },
         "name": "GTEX-11ZUS-0726-SM-59886",
         "opacity": 0.8,
         "orientation": "v",
         "type": "histogram",
         "uid": "d9529da9-bca6-40e9-8f67-b1155addb541",
         "x": [
          0.03687,
          26.58
         ]
        },
        {
         "histfunc": "count",
         "histnorm": "",
         "marker": {
          "color": "rgba(255, 255, 51, 0.6734693877551021)",
          "line": {
           "color": "#4D5663",
           "width": 1.3
          }
         },
         "name": "GTEX-11ZVC-2626-SM-5FQTA",
         "opacity": 0.8,
         "orientation": "v",
         "type": "histogram",
         "uid": "4f719758-2913-4f0d-a165-821dde211b7d",
         "x": [
          0.1009,
          26.43
         ]
        },
        {
         "histfunc": "count",
         "histnorm": "",
         "marker": {
          "color": "rgba(128, 128, 0, 0.6734693877551021)",
          "line": {
           "color": "#4D5663",
           "width": 1.3
          }
         },
         "name": "GTEX-1211K-2226-SM-5FQU6",
         "opacity": 0.8,
         "orientation": "v",
         "type": "histogram",
         "uid": "c4882f4e-8201-4ef9-b162-b7d0fe10d61c",
         "x": [
          0.1369,
          31.96
         ]
        },
        {
         "histfunc": "count",
         "histnorm": "",
         "marker": {
          "color": "rgba(251, 128, 114, 0.6734693877551021)",
          "line": {
           "color": "#4D5663",
           "width": 1.3
          }
         },
         "name": "GTEX-12126-0426-SM-5Q5AP",
         "opacity": 0.8,
         "orientation": "v",
         "type": "histogram",
         "uid": "8038e696-9899-4593-877a-0c23f117ac11",
         "x": [
          0.04272,
          26.2
         ]
        },
        {
         "histfunc": "count",
         "histnorm": "",
         "marker": {
          "color": "rgba(128, 177, 211, 0.6734693877551021)",
          "line": {
           "color": "#4D5663",
           "width": 1.3
          }
         },
         "name": "GTEX-1212Z-2426-SM-5EQ5D",
         "opacity": 0.8,
         "orientation": "v",
         "type": "histogram",
         "uid": "3ed0806b-6680-426c-a8bf-95e835aa01e4",
         "x": [
          0.06779,
          40.93
         ]
        },
        {
         "histfunc": "count",
         "histnorm": "",
         "marker": {
          "color": "rgba(255, 153, 51, 0.6734693877551021)",
          "line": {
           "color": "#4D5663",
           "width": 1.3
          }
         },
         "name": "GTEX-12584-0226-SM-5EQL5",
         "opacity": 0.8,
         "orientation": "v",
         "type": "histogram",
         "uid": "b493afe6-7560-427f-9e26-55f45bd581cd",
         "x": [
          0.03108,
          35.03
         ]
        },
        {
         "histfunc": "count",
         "histnorm": "",
         "marker": {
          "color": "rgba(55, 128, 191, 0.6734693877551021)",
          "line": {
           "color": "#4D5663",
           "width": 1.3
          }
         },
         "name": "GTEX-12696-2526-SM-5EQLN",
         "opacity": 0.8,
         "orientation": "v",
         "type": "histogram",
         "uid": "7ebdb8df-98d7-4b82-8ea8-0033220295b2",
         "x": [
          0.08313999999999999,
          19.77
         ]
        },
        {
         "histfunc": "count",
         "histnorm": "",
         "marker": {
          "color": "rgba(50, 171, 96, 0.6734693877551021)",
          "line": {
           "color": "#4D5663",
           "width": 1.3
          }
         },
         "name": "GTEX-1269C-2726-SM-5EGJ4",
         "opacity": 0.8,
         "orientation": "v",
         "type": "histogram",
         "uid": "6fa81c96-11ce-4c35-9638-5e23e6617dd6",
         "x": [
          0.06559,
          28.25
         ]
        },
        {
         "histfunc": "count",
         "histnorm": "",
         "marker": {
          "color": "rgba(128, 0, 128, 0.6734693877551021)",
          "line": {
           "color": "#4D5663",
           "width": 1.3
          }
         },
         "name": "GTEX-12C56-1626-SM-5FQUO",
         "opacity": 0.8,
         "orientation": "v",
         "type": "histogram",
         "uid": "0a7d1526-0457-46b5-be22-d1387d6becf1",
         "x": [
          0.02792,
          34.9
         ]
        },
        {
         "histfunc": "count",
         "histnorm": "",
         "marker": {
          "color": "rgba(219, 64, 82, 0.6734693877551021)",
          "line": {
           "color": "#4D5663",
           "width": 1.3
          }
         },
         "name": "GTEX-12KS4-0426-SM-5EQMC",
         "opacity": 0.8,
         "orientation": "v",
         "type": "histogram",
         "uid": "af95a719-430c-46f9-85a0-a66e0bfe48db",
         "x": [
          0.035519999999999996,
          22.95
         ]
        },
        {
         "histfunc": "count",
         "histnorm": "",
         "marker": {
          "color": "rgba(0, 128, 128, 0.6734693877551021)",
          "line": {
           "color": "#4D5663",
           "width": 1.3
          }
         },
         "name": "GTEX-12WSA-0326-SM-5BC6I",
         "opacity": 0.8,
         "orientation": "v",
         "type": "histogram",
         "uid": "f5675110-ade7-4a5c-9017-6221dbb69b71",
         "x": [
          0.04585,
          26.49
         ]
        },
        {
         "histfunc": "count",
         "histnorm": "",
         "marker": {
          "color": "rgba(0, 128, 128, 0.5918367346938775)",
          "line": {
           "color": "#4D5663",
           "width": 1.3
          }
         },
         "name": "GTEX-12WSC-0226-SM-5EQ52",
         "opacity": 0.8,
         "orientation": "v",
         "type": "histogram",
         "uid": "f6698ea9-0e1e-4bc4-824c-eb84c1973fec",
         "x": [
          0.03925,
          28.08
         ]
        },
        {
         "histfunc": "count",
         "histnorm": "",
         "marker": {
          "color": "rgba(255, 255, 51, 0.5918367346938775)",
          "line": {
           "color": "#4D5663",
           "width": 1.3
          }
         },
         "name": "GTEX-12WSD-0226-SM-59HKO",
         "opacity": 0.8,
         "orientation": "v",
         "type": "histogram",
         "uid": "a3372781-4124-459d-99c7-df8c6e3b1f69",
         "x": [
          0.1092,
          33
         ]
        },
        {
         "histfunc": "count",
         "histnorm": "",
         "marker": {
          "color": "rgba(128, 128, 0, 0.5918367346938775)",
          "line": {
           "color": "#4D5663",
           "width": 1.3
          }
         },
         "name": "GTEX-12WSL-2426-SM-5GCN7",
         "opacity": 0.8,
         "orientation": "v",
         "type": "histogram",
         "uid": "80d35803-e192-4e55-8e82-cd1f8a182b7b",
         "x": [
          0.036289999999999996,
          35.31
         ]
        },
        {
         "histfunc": "count",
         "histnorm": "",
         "marker": {
          "color": "rgba(251, 128, 114, 0.5918367346938775)",
          "line": {
           "color": "#4D5663",
           "width": 1.3
          }
         },
         "name": "GTEX-12WSM-0226-SM-5LZV6",
         "opacity": 0.8,
         "orientation": "v",
         "type": "histogram",
         "uid": "fe889f65-d49e-424d-ba38-3aaeae62273d",
         "x": [
          0.036160000000000005,
          42.74
         ]
        },
        {
         "histfunc": "count",
         "histnorm": "",
         "marker": {
          "color": "rgba(128, 177, 211, 0.5918367346938775)",
          "line": {
           "color": "#4D5663",
           "width": 1.3
          }
         },
         "name": "GTEX-12ZZX-0226-SM-5DUXU",
         "opacity": 0.8,
         "orientation": "v",
         "type": "histogram",
         "uid": "538b113b-1145-4ff7-a3f7-965737e0d411",
         "x": [
          0.08207,
          30.49
         ]
        },
        {
         "histfunc": "count",
         "histnorm": "",
         "marker": {
          "color": "rgba(255, 153, 51, 0.5918367346938775)",
          "line": {
           "color": "#4D5663",
           "width": 1.3
          }
         },
         "name": "GTEX-12ZZY-0326-SM-5LZVQ",
         "opacity": 0.8,
         "orientation": "v",
         "type": "histogram",
         "uid": "afc75264-8257-4278-b62a-a264b029f97b",
         "x": [
          0,
          28.72
         ]
        },
        {
         "histfunc": "count",
         "histnorm": "",
         "marker": {
          "color": "rgba(55, 128, 191, 0.5918367346938775)",
          "line": {
           "color": "#4D5663",
           "width": 1.3
          }
         },
         "name": "GTEX-12ZZZ-0526-SM-5DUX6",
         "opacity": 0.8,
         "orientation": "v",
         "type": "histogram",
         "uid": "9c91cd0c-40c9-4292-87dc-8fecb3a06cd4",
         "x": [
          0,
          31.26
         ]
        },
        {
         "histfunc": "count",
         "histnorm": "",
         "marker": {
          "color": "rgba(50, 171, 96, 0.5918367346938775)",
          "line": {
           "color": "#4D5663",
           "width": 1.3
          }
         },
         "name": "GTEX-13111-1726-SM-5EGJZ",
         "opacity": 0.8,
         "orientation": "v",
         "type": "histogram",
         "uid": "ad3fc593-b1f7-4c5a-861c-048f90cfee26",
         "x": [
          0,
          27.18
         ]
        },
        {
         "histfunc": "count",
         "histnorm": "",
         "marker": {
          "color": "rgba(128, 0, 128, 0.5918367346938775)",
          "line": {
           "color": "#4D5663",
           "width": 1.3
          }
         },
         "name": "GTEX-13112-2726-SM-5DUW5",
         "opacity": 0.8,
         "orientation": "v",
         "type": "histogram",
         "uid": "e8967119-44fd-44fe-909c-b9647764345f",
         "x": [
          0.07969,
          25.46
         ]
        },
        {
         "histfunc": "count",
         "histnorm": "",
         "marker": {
          "color": "rgba(219, 64, 82, 0.5918367346938775)",
          "line": {
           "color": "#4D5663",
           "width": 1.3
          }
         },
         "name": "GTEX-13113-1826-SM-5LZW4",
         "opacity": 0.8,
         "orientation": "v",
         "type": "histogram",
         "uid": "d6724149-708d-4da3-863f-aab9fb24f69d",
         "x": [
          0.08229,
          18.37
         ]
        },
        {
         "histfunc": "count",
         "histnorm": "",
         "marker": {
          "color": "rgba(219, 64, 82, 0.5102040816326532)",
          "line": {
           "color": "#4D5663",
           "width": 1.3
          }
         },
         "name": "GTEX-1313W-0226-SM-5LZV7",
         "opacity": 0.8,
         "orientation": "v",
         "type": "histogram",
         "uid": "ae2256e1-c47d-4705-b2ef-1ac2723b01ca",
         "x": [
          0,
          24.37
         ]
        },
        {
         "histfunc": "count",
         "histnorm": "",
         "marker": {
          "color": "rgba(0, 128, 128, 0.5102040816326532)",
          "line": {
           "color": "#4D5663",
           "width": 1.3
          }
         },
         "name": "GTEX-1314G-1626-SM-5EQ67",
         "opacity": 0.8,
         "orientation": "v",
         "type": "histogram",
         "uid": "67813011-c068-475f-830d-311feb6878da",
         "x": [
          0,
          23.27
         ]
        },
        {
         "histfunc": "count",
         "histnorm": "",
         "marker": {
          "color": "rgba(255, 255, 51, 0.5102040816326532)",
          "line": {
           "color": "#4D5663",
           "width": 1.3
          }
         },
         "name": "GTEX-131XE-2426-SM-5EQ5V",
         "opacity": 0.8,
         "orientation": "v",
         "type": "histogram",
         "uid": "d6f5d388-9ac4-4125-bbc6-bbfe28898c6b",
         "x": [
          0,
          52.56
         ]
        },
        {
         "histfunc": "count",
         "histnorm": "",
         "marker": {
          "color": "rgba(128, 128, 0, 0.5102040816326532)",
          "line": {
           "color": "#4D5663",
           "width": 1.3
          }
         },
         "name": "GTEX-131XF-2226-SM-5EQKG",
         "opacity": 0.8,
         "orientation": "v",
         "type": "histogram",
         "uid": "67e5f1eb-4050-43dd-893b-1c9bec5e94f5",
         "x": [
          0,
          27.11
         ]
        },
        {
         "histfunc": "count",
         "histnorm": "",
         "marker": {
          "color": "rgba(251, 128, 114, 0.5102040816326532)",
          "line": {
           "color": "#4D5663",
           "width": 1.3
          }
         },
         "name": "GTEX-131XW-0526-SM-5PNXZ",
         "opacity": 0.8,
         "orientation": "v",
         "type": "histogram",
         "uid": "a146459a-c61a-4152-9aca-ebb387e2746c",
         "x": [
          0,
          34.35
         ]
        },
        {
         "histfunc": "count",
         "histnorm": "",
         "marker": {
          "color": "rgba(128, 177, 211, 0.5102040816326532)",
          "line": {
           "color": "#4D5663",
           "width": 1.3
          }
         },
         "name": "GTEX-131YS-0226-SM-5IJEH",
         "opacity": 0.8,
         "orientation": "v",
         "type": "histogram",
         "uid": "c99829e1-88ec-46ca-bad0-7c22d010de2d",
         "x": [
          0.0284,
          31.8
         ]
        },
        {
         "histfunc": "count",
         "histnorm": "",
         "marker": {
          "color": "rgba(255, 153, 51, 0.5102040816326532)",
          "line": {
           "color": "#4D5663",
           "width": 1.3
          }
         },
         "name": "GTEX-132AR-0226-SM-5IJBE",
         "opacity": 0.8,
         "orientation": "v",
         "type": "histogram",
         "uid": "ddbc118a-54ae-4794-9f2f-f442848d9172",
         "x": [
          0,
          30.77
         ]
        },
        {
         "histfunc": "count",
         "histnorm": "",
         "marker": {
          "color": "rgba(55, 128, 191, 0.5102040816326532)",
          "line": {
           "color": "#4D5663",
           "width": 1.3
          }
         },
         "name": "GTEX-132QS-2526-SM-62LFJ",
         "opacity": 0.8,
         "orientation": "v",
         "type": "histogram",
         "uid": "47e6a640-4b6e-43bf-a726-27c09a51b3e2",
         "x": [
          0,
          28.06
         ]
        },
        {
         "histfunc": "count",
         "histnorm": "",
         "marker": {
          "color": "rgba(50, 171, 96, 0.5102040816326532)",
          "line": {
           "color": "#4D5663",
           "width": 1.3
          }
         },
         "name": "GTEX-133LE-1926-SM-5N9FV",
         "opacity": 0.8,
         "orientation": "v",
         "type": "histogram",
         "uid": "fd84edba-ded0-44af-b757-e83f8ac3954f",
         "x": [
          0.02647,
          43.71
         ]
        },
        {
         "histfunc": "count",
         "histnorm": "",
         "marker": {
          "color": "rgba(128, 0, 128, 0.5102040816326532)",
          "line": {
           "color": "#4D5663",
           "width": 1.3
          }
         },
         "name": "GTEX-1399R-2626-SM-5KLZ7",
         "opacity": 0.8,
         "orientation": "v",
         "type": "histogram",
         "uid": "d9426f80-53e6-43f0-8aaa-45e765020362",
         "x": [
          0.1117,
          26.11
         ]
        },
        {
         "histfunc": "count",
         "histnorm": "",
         "marker": {
          "color": "rgba(128, 0, 128, 0.42857142857142866)",
          "line": {
           "color": "#4D5663",
           "width": 1.3
          }
         },
         "name": "GTEX-1399T-2726-SM-5K7XK",
         "opacity": 0.8,
         "orientation": "v",
         "type": "histogram",
         "uid": "c6da5a05-00cf-424e-8773-df870ab8a6d4",
         "x": [
          0.1231,
          37.92
         ]
        },
        {
         "histfunc": "count",
         "histnorm": "",
         "marker": {
          "color": "rgba(219, 64, 82, 0.42857142857142866)",
          "line": {
           "color": "#4D5663",
           "width": 1.3
          }
         },
         "name": "GTEX-1399U-2426-SM-5K7XB",
         "opacity": 0.8,
         "orientation": "v",
         "type": "histogram",
         "uid": "1de8521b-53c1-427c-b44b-163af3fde04a",
         "x": [
          0,
          27.58
         ]
        },
        {
         "histfunc": "count",
         "histnorm": "",
         "marker": {
          "color": "rgba(0, 128, 128, 0.42857142857142866)",
          "line": {
           "color": "#4D5663",
           "width": 1.3
          }
         },
         "name": "GTEX-139D8-0326-SM-5IJCJ",
         "opacity": 0.8,
         "orientation": "v",
         "type": "histogram",
         "uid": "a96059bf-1e10-41ef-abc3-f677dcdb8d9e",
         "x": [
          0.07404,
          18.86
         ]
        },
        {
         "histfunc": "count",
         "histnorm": "",
         "marker": {
          "color": "rgba(255, 255, 51, 0.42857142857142866)",
          "line": {
           "color": "#4D5663",
           "width": 1.3
          }
         },
         "name": "GTEX-139T4-0126-SM-5HL5G",
         "opacity": 0.8,
         "orientation": "v",
         "type": "histogram",
         "uid": "5c6e47c9-8288-40de-a4d6-ceda87b68745",
         "x": [
          0,
          38.54
         ]
        },
        {
         "histfunc": "count",
         "histnorm": "",
         "marker": {
          "color": "rgba(128, 128, 0, 0.42857142857142866)",
          "line": {
           "color": "#4D5663",
           "width": 1.3
          }
         },
         "name": "GTEX-139T6-2126-SM-5KM37",
         "opacity": 0.8,
         "orientation": "v",
         "type": "histogram",
         "uid": "e10e2776-bcff-4387-953d-ff840ff0150e",
         "x": [
          0.08957000000000001,
          23.14
         ]
        },
        {
         "histfunc": "count",
         "histnorm": "",
         "marker": {
          "color": "rgba(251, 128, 114, 0.42857142857142866)",
          "line": {
           "color": "#4D5663",
           "width": 1.3
          }
         },
         "name": "GTEX-139T8-0226-SM-5L3EA",
         "opacity": 0.8,
         "orientation": "v",
         "type": "histogram",
         "uid": "56c28d2f-36e5-43ca-ab50-14c3cd92e831",
         "x": [
          0,
          22.73
         ]
        },
        {
         "histfunc": "count",
         "histnorm": "",
         "marker": {
          "color": "rgba(128, 177, 211, 0.42857142857142866)",
          "line": {
           "color": "#4D5663",
           "width": 1.3
          }
         },
         "name": "GTEX-139TT-0226-SM-5K7YH",
         "opacity": 0.8,
         "orientation": "v",
         "type": "histogram",
         "uid": "7f3dbfd4-1ed7-40d3-9b70-6c16cfebace5",
         "x": [
          0,
          30.17
         ]
        },
        {
         "histfunc": "count",
         "histnorm": "",
         "marker": {
          "color": "rgba(255, 153, 51, 0.42857142857142866)",
          "line": {
           "color": "#4D5663",
           "width": 1.3
          }
         },
         "name": "GTEX-139TU-0226-SM-5J1NM",
         "opacity": 0.8,
         "orientation": "v",
         "type": "histogram",
         "uid": "2dc75434-2634-4c87-9d21-d76eeee22d44",
         "x": [
          0,
          46.89
         ]
        },
        {
         "histfunc": "count",
         "histnorm": "",
         "marker": {
          "color": "rgba(55, 128, 191, 0.42857142857142866)",
          "line": {
           "color": "#4D5663",
           "width": 1.3
          }
         },
         "name": "GTEX-139YR-2426-SM-5J1OB",
         "opacity": 0.8,
         "orientation": "v",
         "type": "histogram",
         "uid": "cd191613-6113-4f75-9079-535c6c15067a",
         "x": [
          0.08592999999999999,
          26.95
         ]
        },
        {
         "histfunc": "count",
         "histnorm": "",
         "marker": {
          "color": "rgba(50, 171, 96, 0.42857142857142866)",
          "line": {
           "color": "#4D5663",
           "width": 1.3
          }
         },
         "name": "GTEX-13CF2-2626-SM-5LZZA",
         "opacity": 0.8,
         "orientation": "v",
         "type": "histogram",
         "uid": "8a0736a0-4a86-4556-8c2d-c49ed9110d1d",
         "x": [
          0.1001,
          39.83
         ]
        },
        {
         "histfunc": "count",
         "histnorm": "",
         "marker": {
          "color": "rgba(50, 171, 96, 0.3469387755102043)",
          "line": {
           "color": "#4D5663",
           "width": 1.3
          }
         },
         "name": "GTEX-13CF3-2326-SM-5IFGL",
         "opacity": 0.8,
         "orientation": "v",
         "type": "histogram",
         "uid": "3e94bf15-5403-41d1-9426-fe86b6356bef",
         "x": [
          0.07153,
          24.02
         ]
        },
        {
         "histfunc": "count",
         "histnorm": "",
         "marker": {
          "color": "rgba(128, 0, 128, 0.3469387755102043)",
          "line": {
           "color": "#4D5663",
           "width": 1.3
          }
         },
         "name": "GTEX-13D11-2326-SM-5IJCY",
         "opacity": 0.8,
         "orientation": "v",
         "type": "histogram",
         "uid": "c070bfb5-5c60-49ea-9d73-bc8dd897d472",
         "x": [
          0.07486,
          19.83
         ]
        },
        {
         "histfunc": "count",
         "histnorm": "",
         "marker": {
          "color": "rgba(219, 64, 82, 0.3469387755102043)",
          "line": {
           "color": "#4D5663",
           "width": 1.3
          }
         },
         "name": "GTEX-13FH7-2226-SM-5IJD4",
         "opacity": 0.8,
         "orientation": "v",
         "type": "histogram",
         "uid": "e5414a53-6bce-4291-b7e9-1429ba88ecac",
         "x": [
          0.04097,
          25.81
         ]
        },
        {
         "histfunc": "count",
         "histnorm": "",
         "marker": {
          "color": "rgba(0, 128, 128, 0.3469387755102043)",
          "line": {
           "color": "#4D5663",
           "width": 1.3
          }
         },
         "name": "GTEX-13FHO-0326-SM-5IJBH",
         "opacity": 0.8,
         "orientation": "v",
         "type": "histogram",
         "uid": "9399d510-b217-461c-bbde-ddbd9fe43aac",
         "x": [
          0.0346,
          38.34
         ]
        },
        {
         "histfunc": "count",
         "histnorm": "",
         "marker": {
          "color": "rgba(255, 255, 51, 0.3469387755102043)",
          "line": {
           "color": "#4D5663",
           "width": 1.3
          }
         },
         "name": "GTEX-13FHP-0226-SM-5K7WD",
         "opacity": 0.8,
         "orientation": "v",
         "type": "histogram",
         "uid": "8631535a-91ab-472e-859a-0a7d0d53ac9b",
         "x": [
          0,
          58.05
         ]
        },
        {
         "histfunc": "count",
         "histnorm": "",
         "marker": {
          "color": "rgba(128, 128, 0, 0.3469387755102043)",
          "line": {
           "color": "#4D5663",
           "width": 1.3
          }
         },
         "name": "GTEX-13FTW-2526-SM-5IJC8",
         "opacity": 0.8,
         "orientation": "v",
         "type": "histogram",
         "uid": "46bd9af1-55c7-4332-8a67-ad99c08363c2",
         "x": [
          0,
          37.64
         ]
        },
        {
         "histfunc": "count",
         "histnorm": "",
         "marker": {
          "color": "rgba(251, 128, 114, 0.3469387755102043)",
          "line": {
           "color": "#4D5663",
           "width": 1.3
          }
         },
         "name": "GTEX-13FTY-0626-SM-5L3F8",
         "opacity": 0.8,
         "orientation": "v",
         "type": "histogram",
         "uid": "c11a6a51-e3e7-4c50-8d24-9b759eaeaf1b",
         "x": [
          0,
          34.93
         ]
        },
        {
         "histfunc": "count",
         "histnorm": "",
         "marker": {
          "color": "rgba(128, 177, 211, 0.3469387755102043)",
          "line": {
           "color": "#4D5663",
           "width": 1.3
          }
         },
         "name": "GTEX-13G51-2626-SM-5LZYW",
         "opacity": 0.8,
         "orientation": "v",
         "type": "histogram",
         "uid": "d70176bd-054b-4e7d-9b0e-6a3ece09fcea",
         "x": [
          0.04133,
          34.11
         ]
        },
        {
         "histfunc": "count",
         "histnorm": "",
         "marker": {
          "color": "rgba(255, 153, 51, 0.3469387755102043)",
          "line": {
           "color": "#4D5663",
           "width": 1.3
          }
         },
         "name": "GTEX-13IVO-0226-SM-5LZXU",
         "opacity": 0.8,
         "orientation": "v",
         "type": "histogram",
         "uid": "f9bc1b07-4bbd-4b7d-88a7-2086c510ac3a",
         "x": [
          0.060360000000000004,
          30.19
         ]
        },
        {
         "histfunc": "count",
         "histnorm": "",
         "marker": {
          "color": "rgba(55, 128, 191, 0.3469387755102043)",
          "line": {
           "color": "#4D5663",
           "width": 1.3
          }
         },
         "name": "GTEX-13JUV-2826-SM-5LZWU",
         "opacity": 0.8,
         "orientation": "v",
         "type": "histogram",
         "uid": "1a45c3f6-21f0-4ca9-82d5-8d7a132425f9",
         "x": [
          0.0411,
          38.78
         ]
        },
        {
         "histfunc": "count",
         "histnorm": "",
         "marker": {
          "color": "rgba(55, 128, 191, 0.2653061224489797)",
          "line": {
           "color": "#4D5663",
           "width": 1.3
          }
         },
         "name": "GTEX-13JVG-0226-SM-5J1MW",
         "opacity": 0.8,
         "orientation": "v",
         "type": "histogram",
         "uid": "198b3aee-c0d5-49de-ac67-8f352b0cc653",
         "x": [
          0.061470000000000004,
          24.45
         ]
        },
        {
         "histfunc": "count",
         "histnorm": "",
         "marker": {
          "color": "rgba(50, 171, 96, 0.2653061224489797)",
          "line": {
           "color": "#4D5663",
           "width": 1.3
          }
         },
         "name": "GTEX-13N11-2626-SM-5K7UQ",
         "opacity": 0.8,
         "orientation": "v",
         "type": "histogram",
         "uid": "de167e02-16f4-49b5-8eff-77c2c2a550fe",
         "x": [
          0.032,
          26.6
         ]
        },
        {
         "histfunc": "count",
         "histnorm": "",
         "marker": {
          "color": "rgba(128, 0, 128, 0.2653061224489797)",
          "line": {
           "color": "#4D5663",
           "width": 1.3
          }
         },
         "name": "GTEX-13N1W-0226-SM-5K7W6",
         "opacity": 0.8,
         "orientation": "v",
         "type": "histogram",
         "uid": "b6588a6c-04e4-4ccb-b867-6b3e330f5eb9",
         "x": [
          0.029419999999999998,
          22.83
         ]
        },
        {
         "histfunc": "count",
         "histnorm": "",
         "marker": {
          "color": "rgba(219, 64, 82, 0.2653061224489797)",
          "line": {
           "color": "#4D5663",
           "width": 1.3
          }
         },
         "name": "GTEX-13N2G-2726-SM-5J1MG",
         "opacity": 0.8,
         "orientation": "v",
         "type": "histogram",
         "uid": "ea1ffba9-f1b6-41b3-862c-8f885f3fb89a",
         "x": [
          0,
          27.28
         ]
        },
        {
         "histfunc": "count",
         "histnorm": "",
         "marker": {
          "color": "rgba(0, 128, 128, 0.2653061224489797)",
          "line": {
           "color": "#4D5663",
           "width": 1.3
          }
         },
         "name": "GTEX-13NYS-0226-SM-5MR49",
         "opacity": 0.8,
         "orientation": "v",
         "type": "histogram",
         "uid": "28b0eb51-06dc-4847-b016-b9a4754802fb",
         "x": [
          0,
          21.28
         ]
        },
        {
         "histfunc": "count",
         "histnorm": "",
         "marker": {
          "color": "rgba(255, 255, 51, 0.2653061224489797)",
          "line": {
           "color": "#4D5663",
           "width": 1.3
          }
         },
         "name": "GTEX-13NZ8-0926-SM-5MR3U",
         "opacity": 0.8,
         "orientation": "v",
         "type": "histogram",
         "uid": "32cf8f34-19be-4835-86ee-a15d00f46949",
         "x": [
          0,
          25.23
         ]
        },
        {
         "histfunc": "count",
         "histnorm": "",
         "marker": {
          "color": "rgba(128, 128, 0, 0.2653061224489797)",
          "line": {
           "color": "#4D5663",
           "width": 1.3
          }
         },
         "name": "GTEX-13NZ9-0526-SM-5J1OX",
         "opacity": 0.8,
         "orientation": "v",
         "type": "histogram",
         "uid": "2589fa8c-fb9e-4d99-8b3d-620e4ea4670f",
         "x": [
          0.037219999999999996,
          40.54
         ]
        },
        {
         "histfunc": "count",
         "histnorm": "",
         "marker": {
          "color": "rgba(251, 128, 114, 0.2653061224489797)",
          "line": {
           "color": "#4D5663",
           "width": 1.3
          }
         },
         "name": "GTEX-13NZA-0126-SM-5K7UH",
         "opacity": 0.8,
         "orientation": "v",
         "type": "histogram",
         "uid": "9fb6b071-1767-4b81-b0ad-b18104ed9a0d",
         "x": [
          0.06112000000000001,
          26.52
         ]
        }
       ],
       "layout": {
        "barmode": "overlay",
        "legend": {
         "bgcolor": "#F5F6F9",
         "font": {
          "color": "#4D5663"
         }
        },
        "paper_bgcolor": "#F5F6F9",
        "plot_bgcolor": "#F5F6F9",
        "title": {
         "font": {
          "color": "#4D5663"
         }
        },
        "xaxis": {
         "gridcolor": "#E1E5ED",
         "showgrid": true,
         "tickfont": {
          "color": "#4D5663"
         },
         "title": {
          "font": {
           "color": "#4D5663"
          },
          "text": ""
         },
         "zerolinecolor": "#E1E5ED"
        },
        "yaxis": {
         "gridcolor": "#E1E5ED",
         "showgrid": true,
         "tickfont": {
          "color": "#4D5663"
         },
         "title": {
          "font": {
           "color": "#4D5663"
          },
          "text": "TPM"
         },
         "zerolinecolor": "#E1E5ED"
        }
       }
      },
      "text/html": [
       "<div id=\"c8c3eb96-6075-473d-a94b-f810607f4605\" style=\"height: 525px; width: 100%;\" class=\"plotly-graph-div\"></div><script type=\"text/javascript\">require([\"plotly\"], function(Plotly) { window.PLOTLYENV=window.PLOTLYENV || {};window.PLOTLYENV.BASE_URL=\"https://plot.ly\";Plotly.newPlot(\"c8c3eb96-6075-473d-a94b-f810607f4605\", [{\"histfunc\": \"count\", \"histnorm\": \"\", \"marker\": {\"color\": \"rgba(255, 153, 51, 1.0)\", \"line\": {\"color\": \"#4D5663\", \"width\": 1.3}}, \"name\": \"GTEX-1117F-0226-SM-5GZZ7\", \"opacity\": 0.8, \"orientation\": \"v\", \"x\": [0.05045, 24.98], \"type\": \"histogram\", \"uid\": \"ac8e6f93-9722-4337-9bf7-c044682c65d7\"}, {\"histfunc\": \"count\", \"histnorm\": \"\", \"marker\": {\"color\": \"rgba(55, 128, 191, 1.0)\", \"line\": {\"color\": \"#4D5663\", \"width\": 1.3}}, \"name\": \"GTEX-111CU-1826-SM-5GZYN\", \"opacity\": 0.8, \"orientation\": \"v\", \"x\": [0.0, 35.05], \"type\": \"histogram\", \"uid\": \"e5c7d1b6-d5e4-4136-9bdb-58403242f7ba\"}, {\"histfunc\": \"count\", \"histnorm\": \"\", \"marker\": {\"color\": \"rgba(50, 171, 96, 1.0)\", \"line\": {\"color\": \"#4D5663\", \"width\": 1.3}}, \"name\": \"GTEX-111FC-0226-SM-5N9B8\", \"opacity\": 0.8, \"orientation\": \"v\", \"x\": [0.02945, 40.62], \"type\": \"histogram\", \"uid\": \"b5012c2f-5083-4f25-8a12-83847137631c\"}, {\"histfunc\": \"count\", \"histnorm\": \"\", \"marker\": {\"color\": \"rgba(128, 0, 128, 1.0)\", \"line\": {\"color\": \"#4D5663\", \"width\": 1.3}}, \"name\": \"GTEX-111VG-2326-SM-5N9BK\", \"opacity\": 0.8, \"orientation\": \"v\", \"x\": [0.0326, 29.15], \"type\": \"histogram\", \"uid\": \"0c6f0b62-1e8c-4939-ac78-c6e76fc4e625\"}, {\"histfunc\": \"count\", \"histnorm\": \"\", \"marker\": {\"color\": \"rgba(219, 64, 82, 1.0)\", \"line\": {\"color\": \"#4D5663\", \"width\": 1.3}}, \"name\": \"GTEX-111YS-2426-SM-5GZZQ\", \"opacity\": 0.8, \"orientation\": \"v\", \"x\": [0.0, 20.39], \"type\": \"histogram\", \"uid\": \"478a18cc-05dd-43aa-8f4a-18ef37cd4ab8\"}, {\"histfunc\": \"count\", \"histnorm\": \"\", \"marker\": {\"color\": \"rgba(0, 128, 128, 1.0)\", \"line\": {\"color\": \"#4D5663\", \"width\": 1.3}}, \"name\": \"GTEX-1122O-2026-SM-5NQ91\", \"opacity\": 0.8, \"orientation\": \"v\", \"x\": [0.0, 19.8], \"type\": \"histogram\", \"uid\": \"c1d3451c-8a1c-4498-8bc0-1841bd1ddfa5\"}, {\"histfunc\": \"count\", \"histnorm\": \"\", \"marker\": {\"color\": \"rgba(255, 255, 51, 1.0)\", \"line\": {\"color\": \"#4D5663\", \"width\": 1.3}}, \"name\": \"GTEX-1128S-2126-SM-5H12U\", \"opacity\": 0.8, \"orientation\": \"v\", \"x\": [0.0861, 25.29], \"type\": \"histogram\", \"uid\": \"c912101f-dde7-4595-a235-b38153597b0f\"}, {\"histfunc\": \"count\", \"histnorm\": \"\", \"marker\": {\"color\": \"rgba(128, 128, 0, 1.0)\", \"line\": {\"color\": \"#4D5663\", \"width\": 1.3}}, \"name\": \"GTEX-113IC-0226-SM-5HL5C\", \"opacity\": 0.8, \"orientation\": \"v\", \"x\": [0.131, 35.17], \"type\": \"histogram\", \"uid\": \"4e42f53c-2bc1-4bd8-b141-cd7bdfdc0c03\"}, {\"histfunc\": \"count\", \"histnorm\": \"\", \"marker\": {\"color\": \"rgba(251, 128, 114, 1.0)\", \"line\": {\"color\": \"#4D5663\", \"width\": 1.3}}, \"name\": \"GTEX-117YX-2226-SM-5EGJJ\", \"opacity\": 0.8, \"orientation\": \"v\", \"x\": [0.06773, 18.94], \"type\": \"histogram\", \"uid\": \"162f6eff-287b-4466-9a58-a92bf1256caa\"}, {\"histfunc\": \"count\", \"histnorm\": \"\", \"marker\": {\"color\": \"rgba(128, 177, 211, 1.0)\", \"line\": {\"color\": \"#4D5663\", \"width\": 1.3}}, \"name\": \"GTEX-11DXW-0326-SM-5H11W\", \"opacity\": 0.8, \"orientation\": \"v\", \"x\": [0.0, 32.63], \"type\": \"histogram\", \"uid\": \"da02fe1b-f888-4fdd-b9cf-5d21cda1fb43\"}, {\"histfunc\": \"count\", \"histnorm\": \"\", \"marker\": {\"color\": \"rgba(128, 177, 211, 0.9183673469387754)\", \"line\": {\"color\": \"#4D5663\", \"width\": 1.3}}, \"name\": \"GTEX-11DXX-2326-SM-5Q5A2\", \"opacity\": 0.8, \"orientation\": \"v\", \"x\": [0.03199, 26.12], \"type\": \"histogram\", \"uid\": \"26a71c88-9648-4cce-9125-47eabf738f7a\"}, {\"histfunc\": \"count\", \"histnorm\": \"\", \"marker\": {\"color\": \"rgba(255, 153, 51, 0.9183673469387754)\", \"line\": {\"color\": \"#4D5663\", \"width\": 1.3}}, \"name\": \"GTEX-11DZ1-0226-SM-5A5KF\", \"opacity\": 0.8, \"orientation\": \"v\", \"x\": [0.06642, 49.64], \"type\": \"histogram\", \"uid\": \"facc0110-7b84-43d3-8fdb-547d62d27851\"}, {\"histfunc\": \"count\", \"histnorm\": \"\", \"marker\": {\"color\": \"rgba(55, 128, 191, 0.9183673469387754)\", \"line\": {\"color\": \"#4D5663\", \"width\": 1.3}}, \"name\": \"GTEX-11EI6-0226-SM-5EQ64\", \"opacity\": 0.8, \"orientation\": \"v\", \"x\": [0.0, 32.93], \"type\": \"histogram\", \"uid\": \"92babf5d-58c9-48fc-a84f-bdc4d77222cb\"}, {\"histfunc\": \"count\", \"histnorm\": \"\", \"marker\": {\"color\": \"rgba(50, 171, 96, 0.9183673469387754)\", \"line\": {\"color\": \"#4D5663\", \"width\": 1.3}}, \"name\": \"GTEX-11EM3-2326-SM-5H12B\", \"opacity\": 0.8, \"orientation\": \"v\", \"x\": [0.06246, 20.3], \"type\": \"histogram\", \"uid\": \"9ce6fc9c-1ea0-499e-97c5-4c4c2935e3e7\"}, {\"histfunc\": \"count\", \"histnorm\": \"\", \"marker\": {\"color\": \"rgba(128, 0, 128, 0.9183673469387754)\", \"line\": {\"color\": \"#4D5663\", \"width\": 1.3}}, \"name\": \"GTEX-11EMC-2826-SM-5PNY6\", \"opacity\": 0.8, \"orientation\": \"v\", \"x\": [0.02645, 32.6], \"type\": \"histogram\", \"uid\": \"7b753249-d598-483b-a1e9-ac0b722562eb\"}, {\"histfunc\": \"count\", \"histnorm\": \"\", \"marker\": {\"color\": \"rgba(219, 64, 82, 0.9183673469387754)\", \"line\": {\"color\": \"#4D5663\", \"width\": 1.3}}, \"name\": \"GTEX-11EQ8-0226-SM-5EQ5G\", \"opacity\": 0.8, \"orientation\": \"v\", \"x\": [0.08686, 43.81], \"type\": \"histogram\", \"uid\": \"cb7daccb-022e-48a4-95d8-298869a47d1e\"}, {\"histfunc\": \"count\", \"histnorm\": \"\", \"marker\": {\"color\": \"rgba(0, 128, 128, 0.9183673469387754)\", \"line\": {\"color\": \"#4D5663\", \"width\": 1.3}}, \"name\": \"GTEX-11EQ9-2526-SM-5HL66\", \"opacity\": 0.8, \"orientation\": \"v\", \"x\": [0, 17], \"type\": \"histogram\", \"uid\": \"58e7be7d-7e47-4201-a3e8-1b1381efdbfe\"}, {\"histfunc\": \"count\", \"histnorm\": \"\", \"marker\": {\"color\": \"rgba(255, 255, 51, 0.9183673469387754)\", \"line\": {\"color\": \"#4D5663\", \"width\": 1.3}}, \"name\": \"GTEX-11GS4-2626-SM-5A5LD\", \"opacity\": 0.8, \"orientation\": \"v\", \"x\": [0.07443, 27.56], \"type\": \"histogram\", \"uid\": \"14ddd1da-f65a-45af-acaa-1e364699f2be\"}, {\"histfunc\": \"count\", \"histnorm\": \"\", \"marker\": {\"color\": \"rgba(128, 128, 0, 0.9183673469387754)\", \"line\": {\"color\": \"#4D5663\", \"width\": 1.3}}, \"name\": \"GTEX-11GSO-2326-SM-5A5LX\", \"opacity\": 0.8, \"orientation\": \"v\", \"x\": [0.08205, 22.77], \"type\": \"histogram\", \"uid\": \"580d775e-3ec0-4568-bd6a-fa0c0681eadf\"}, {\"histfunc\": \"count\", \"histnorm\": \"\", \"marker\": {\"color\": \"rgba(251, 128, 114, 0.9183673469387754)\", \"line\": {\"color\": \"#4D5663\", \"width\": 1.3}}, \"name\": \"GTEX-11H98-0226-SM-5NQ89\", \"opacity\": 0.8, \"orientation\": \"v\", \"x\": [0.0, 36.67], \"type\": \"histogram\", \"uid\": \"8749fd7b-a97e-49ff-a7bd-86f39f033b46\"}, {\"histfunc\": \"count\", \"histnorm\": \"\", \"marker\": {\"color\": \"rgba(251, 128, 114, 0.8367346938775511)\", \"line\": {\"color\": \"#4D5663\", \"width\": 1.3}}, \"name\": \"GTEX-11I78-2626-SM-5Q5AI\", \"opacity\": 0.8, \"orientation\": \"v\", \"x\": [0.0, 30.1], \"type\": \"histogram\", \"uid\": \"80b29b4b-05b4-4f88-bcd9-e87037f7a63f\"}, {\"histfunc\": \"count\", \"histnorm\": \"\", \"marker\": {\"color\": \"rgba(128, 177, 211, 0.8367346938775511)\", \"line\": {\"color\": \"#4D5663\", \"width\": 1.3}}, \"name\": \"GTEX-11LCK-1126-SM-5A5KC\", \"opacity\": 0.8, \"orientation\": \"v\", \"x\": [0.0, 37.39], \"type\": \"histogram\", \"uid\": \"1398c55b-0404-43e6-b3ce-099f6c25eed5\"}, {\"histfunc\": \"count\", \"histnorm\": \"\", \"marker\": {\"color\": \"rgba(255, 153, 51, 0.8367346938775511)\", \"line\": {\"color\": \"#4D5663\", \"width\": 1.3}}, \"name\": \"GTEX-11O72-0226-SM-59869\", \"opacity\": 0.8, \"orientation\": \"v\", \"x\": [0.03653, 39.21], \"type\": \"histogram\", \"uid\": \"f03ac243-1516-4fe2-a4e1-d6c8b153c22f\"}, {\"histfunc\": \"count\", \"histnorm\": \"\", \"marker\": {\"color\": \"rgba(55, 128, 191, 0.8367346938775511)\", \"line\": {\"color\": \"#4D5663\", \"width\": 1.3}}, \"name\": \"GTEX-11OF3-2426-SM-5Q5AS\", \"opacity\": 0.8, \"orientation\": \"v\", \"x\": [0.1083, 35.51], \"type\": \"histogram\", \"uid\": \"c21ad321-8c67-4631-a131-1dc7a4447395\"}, {\"histfunc\": \"count\", \"histnorm\": \"\", \"marker\": {\"color\": \"rgba(50, 171, 96, 0.8367346938775511)\", \"line\": {\"color\": \"#4D5663\", \"width\": 1.3}}, \"name\": \"GTEX-11ONC-2526-SM-5986W\", \"opacity\": 0.8, \"orientation\": \"v\", \"x\": [0.09917999999999999, 29.21], \"type\": \"histogram\", \"uid\": \"2f8e0e0d-5e4b-4705-abc8-c693d3fd37cb\"}, {\"histfunc\": \"count\", \"histnorm\": \"\", \"marker\": {\"color\": \"rgba(128, 0, 128, 0.8367346938775511)\", \"line\": {\"color\": \"#4D5663\", \"width\": 1.3}}, \"name\": \"GTEX-11P7K-2026-SM-5GU74\", \"opacity\": 0.8, \"orientation\": \"v\", \"x\": [0.0879, 21.13], \"type\": \"histogram\", \"uid\": \"de7665f6-f811-4d25-a77f-ecae936b1881\"}, {\"histfunc\": \"count\", \"histnorm\": \"\", \"marker\": {\"color\": \"rgba(219, 64, 82, 0.8367346938775511)\", \"line\": {\"color\": \"#4D5663\", \"width\": 1.3}}, \"name\": \"GTEX-11P81-2426-SM-5GU65\", \"opacity\": 0.8, \"orientation\": \"v\", \"x\": [0.0, 29.03], \"type\": \"histogram\", \"uid\": \"e5ad8159-b2af-49f4-bdaf-29a0658e3524\"}, {\"histfunc\": \"count\", \"histnorm\": \"\", \"marker\": {\"color\": \"rgba(0, 128, 128, 0.8367346938775511)\", \"line\": {\"color\": \"#4D5663\", \"width\": 1.3}}, \"name\": \"GTEX-11P82-1726-SM-5Q5AT\", \"opacity\": 0.8, \"orientation\": \"v\", \"x\": [0.0, 27.05], \"type\": \"histogram\", \"uid\": \"00e937f6-6f0c-4e7f-b85b-7ef1a1e5bdab\"}, {\"histfunc\": \"count\", \"histnorm\": \"\", \"marker\": {\"color\": \"rgba(255, 255, 51, 0.8367346938775511)\", \"line\": {\"color\": \"#4D5663\", \"width\": 1.3}}, \"name\": \"GTEX-11PRG-0626-SM-5BC56\", \"opacity\": 0.8, \"orientation\": \"v\", \"x\": [0.04738, 36.6], \"type\": \"histogram\", \"uid\": \"1077ceb9-a3b0-4295-8d7a-ca6bfdc5a26a\"}, {\"histfunc\": \"count\", \"histnorm\": \"\", \"marker\": {\"color\": \"rgba(128, 128, 0, 0.8367346938775511)\", \"line\": {\"color\": \"#4D5663\", \"width\": 1.3}}, \"name\": \"GTEX-11TT1-2426-SM-5EQMK\", \"opacity\": 0.8, \"orientation\": \"v\", \"x\": [0.041280000000000004, 14.49], \"type\": \"histogram\", \"uid\": \"683df9ef-1b85-4c0b-825d-6152f80332ba\"}, {\"histfunc\": \"count\", \"histnorm\": \"\", \"marker\": {\"color\": \"rgba(128, 128, 0, 0.7551020408163265)\", \"line\": {\"color\": \"#4D5663\", \"width\": 1.3}}, \"name\": \"GTEX-11TTK-0226-SM-5N9EC\", \"opacity\": 0.8, \"orientation\": \"v\", \"x\": [0.08281000000000001, 28.01], \"type\": \"histogram\", \"uid\": \"dc9d791e-6e8c-44b8-8c31-cfab4b6fc753\"}, {\"histfunc\": \"count\", \"histnorm\": \"\", \"marker\": {\"color\": \"rgba(251, 128, 114, 0.7551020408163265)\", \"line\": {\"color\": \"#4D5663\", \"width\": 1.3}}, \"name\": \"GTEX-11TUW-2626-SM-5EQKZ\", \"opacity\": 0.8, \"orientation\": \"v\", \"x\": [0.0, 28.42], \"type\": \"histogram\", \"uid\": \"fe2fd552-992d-4289-a501-41253652e8e5\"}, {\"histfunc\": \"count\", \"histnorm\": \"\", \"marker\": {\"color\": \"rgba(128, 177, 211, 0.7551020408163265)\", \"line\": {\"color\": \"#4D5663\", \"width\": 1.3}}, \"name\": \"GTEX-11UD1-0226-SM-5EQKL\", \"opacity\": 0.8, \"orientation\": \"v\", \"x\": [0.0, 36.02], \"type\": \"histogram\", \"uid\": \"f902718e-6157-4665-9e65-68938223a9f0\"}, {\"histfunc\": \"count\", \"histnorm\": \"\", \"marker\": {\"color\": \"rgba(255, 153, 51, 0.7551020408163265)\", \"line\": {\"color\": \"#4D5663\", \"width\": 1.3}}, \"name\": \"GTEX-11UD2-0126-SM-5EQL2\", \"opacity\": 0.8, \"orientation\": \"v\", \"x\": [0.0, 30.37], \"type\": \"histogram\", \"uid\": \"dd17f336-eb2c-411d-9b6c-61eb182bbfa9\"}, {\"histfunc\": \"count\", \"histnorm\": \"\", \"marker\": {\"color\": \"rgba(55, 128, 191, 0.7551020408163265)\", \"line\": {\"color\": \"#4D5663\", \"width\": 1.3}}, \"name\": \"GTEX-11WQC-2426-SM-5EQKQ\", \"opacity\": 0.8, \"orientation\": \"v\", \"x\": [0.03901, 29.76], \"type\": \"histogram\", \"uid\": \"e227c9b7-130f-4ab3-87e7-071a8f1df6e1\"}, {\"histfunc\": \"count\", \"histnorm\": \"\", \"marker\": {\"color\": \"rgba(50, 171, 96, 0.7551020408163265)\", \"line\": {\"color\": \"#4D5663\", \"width\": 1.3}}, \"name\": \"GTEX-11XUK-2126-SM-5EQLR\", \"opacity\": 0.8, \"orientation\": \"v\", \"x\": [0.0, 32.71], \"type\": \"histogram\", \"uid\": \"8f65f2b8-eb92-4045-b9cc-86a28c2d366e\"}, {\"histfunc\": \"count\", \"histnorm\": \"\", \"marker\": {\"color\": \"rgba(128, 0, 128, 0.7551020408163265)\", \"line\": {\"color\": \"#4D5663\", \"width\": 1.3}}, \"name\": \"GTEX-11ZTS-0226-SM-5EQKD\", \"opacity\": 0.8, \"orientation\": \"v\", \"x\": [0.037239999999999995, 28.62], \"type\": \"histogram\", \"uid\": \"015cd167-890b-412f-b038-e2e1bd9145e8\"}, {\"histfunc\": \"count\", \"histnorm\": \"\", \"marker\": {\"color\": \"rgba(219, 64, 82, 0.7551020408163265)\", \"line\": {\"color\": \"#4D5663\", \"width\": 1.3}}, \"name\": \"GTEX-11ZTT-2526-SM-5EQM9\", \"opacity\": 0.8, \"orientation\": \"v\", \"x\": [0.030010000000000002, 22.16], \"type\": \"histogram\", \"uid\": \"8063ee79-7967-4b59-8e37-3e8ab8898cca\"}, {\"histfunc\": \"count\", \"histnorm\": \"\", \"marker\": {\"color\": \"rgba(0, 128, 128, 0.7551020408163265)\", \"line\": {\"color\": \"#4D5663\", \"width\": 1.3}}, \"name\": \"GTEX-11ZU8-2426-SM-5EQMV\", \"opacity\": 0.8, \"orientation\": \"v\", \"x\": [0.0401, 25.78], \"type\": \"histogram\", \"uid\": \"249caf5f-a746-49d0-94b4-42295efc79b7\"}, {\"histfunc\": \"count\", \"histnorm\": \"\", \"marker\": {\"color\": \"rgba(255, 255, 51, 0.7551020408163265)\", \"line\": {\"color\": \"#4D5663\", \"width\": 1.3}}, \"name\": \"GTEX-11ZUS-0726-SM-59886\", \"opacity\": 0.8, \"orientation\": \"v\", \"x\": [0.03687, 26.58], \"type\": \"histogram\", \"uid\": \"7577c17e-cfe7-4947-b0c6-94798f9231d1\"}, {\"histfunc\": \"count\", \"histnorm\": \"\", \"marker\": {\"color\": \"rgba(255, 255, 51, 0.6734693877551021)\", \"line\": {\"color\": \"#4D5663\", \"width\": 1.3}}, \"name\": \"GTEX-11ZVC-2626-SM-5FQTA\", \"opacity\": 0.8, \"orientation\": \"v\", \"x\": [0.1009, 26.43], \"type\": \"histogram\", \"uid\": \"d92fcf90-b325-4b46-b76c-cd3d44f36b30\"}, {\"histfunc\": \"count\", \"histnorm\": \"\", \"marker\": {\"color\": \"rgba(128, 128, 0, 0.6734693877551021)\", \"line\": {\"color\": \"#4D5663\", \"width\": 1.3}}, \"name\": \"GTEX-1211K-2226-SM-5FQU6\", \"opacity\": 0.8, \"orientation\": \"v\", \"x\": [0.1369, 31.96], \"type\": \"histogram\", \"uid\": \"c7c29486-6beb-4a48-9d81-f4daf919174c\"}, {\"histfunc\": \"count\", \"histnorm\": \"\", \"marker\": {\"color\": \"rgba(251, 128, 114, 0.6734693877551021)\", \"line\": {\"color\": \"#4D5663\", \"width\": 1.3}}, \"name\": \"GTEX-12126-0426-SM-5Q5AP\", \"opacity\": 0.8, \"orientation\": \"v\", \"x\": [0.04272, 26.2], \"type\": \"histogram\", \"uid\": \"8986ca46-425a-42b9-9610-16a630cefca4\"}, {\"histfunc\": \"count\", \"histnorm\": \"\", \"marker\": {\"color\": \"rgba(128, 177, 211, 0.6734693877551021)\", \"line\": {\"color\": \"#4D5663\", \"width\": 1.3}}, \"name\": \"GTEX-1212Z-2426-SM-5EQ5D\", \"opacity\": 0.8, \"orientation\": \"v\", \"x\": [0.06779, 40.93], \"type\": \"histogram\", \"uid\": \"1e77d360-cd64-4cac-9141-0d0aca1a5edc\"}, {\"histfunc\": \"count\", \"histnorm\": \"\", \"marker\": {\"color\": \"rgba(255, 153, 51, 0.6734693877551021)\", \"line\": {\"color\": \"#4D5663\", \"width\": 1.3}}, \"name\": \"GTEX-12584-0226-SM-5EQL5\", \"opacity\": 0.8, \"orientation\": \"v\", \"x\": [0.03108, 35.03], \"type\": \"histogram\", \"uid\": \"c7121cba-9f96-4c2b-918e-8e7ed0679434\"}, {\"histfunc\": \"count\", \"histnorm\": \"\", \"marker\": {\"color\": \"rgba(55, 128, 191, 0.6734693877551021)\", \"line\": {\"color\": \"#4D5663\", \"width\": 1.3}}, \"name\": \"GTEX-12696-2526-SM-5EQLN\", \"opacity\": 0.8, \"orientation\": \"v\", \"x\": [0.08313999999999999, 19.77], \"type\": \"histogram\", \"uid\": \"8b65daf1-39e5-4906-b1e1-34769412f2d5\"}, {\"histfunc\": \"count\", \"histnorm\": \"\", \"marker\": {\"color\": \"rgba(50, 171, 96, 0.6734693877551021)\", \"line\": {\"color\": \"#4D5663\", \"width\": 1.3}}, \"name\": \"GTEX-1269C-2726-SM-5EGJ4\", \"opacity\": 0.8, \"orientation\": \"v\", \"x\": [0.06559, 28.25], \"type\": \"histogram\", \"uid\": \"f665943d-ddda-4927-a92d-5ae1b36a8855\"}, {\"histfunc\": \"count\", \"histnorm\": \"\", \"marker\": {\"color\": \"rgba(128, 0, 128, 0.6734693877551021)\", \"line\": {\"color\": \"#4D5663\", \"width\": 1.3}}, \"name\": \"GTEX-12C56-1626-SM-5FQUO\", \"opacity\": 0.8, \"orientation\": \"v\", \"x\": [0.02792, 34.9], \"type\": \"histogram\", \"uid\": \"ef558558-1046-4660-9080-c0014f455801\"}, {\"histfunc\": \"count\", \"histnorm\": \"\", \"marker\": {\"color\": \"rgba(219, 64, 82, 0.6734693877551021)\", \"line\": {\"color\": \"#4D5663\", \"width\": 1.3}}, \"name\": \"GTEX-12KS4-0426-SM-5EQMC\", \"opacity\": 0.8, \"orientation\": \"v\", \"x\": [0.035519999999999996, 22.95], \"type\": \"histogram\", \"uid\": \"584e50ce-076a-4680-9019-6fe54de12800\"}, {\"histfunc\": \"count\", \"histnorm\": \"\", \"marker\": {\"color\": \"rgba(0, 128, 128, 0.6734693877551021)\", \"line\": {\"color\": \"#4D5663\", \"width\": 1.3}}, \"name\": \"GTEX-12WSA-0326-SM-5BC6I\", \"opacity\": 0.8, \"orientation\": \"v\", \"x\": [0.04585, 26.49], \"type\": \"histogram\", \"uid\": \"48df2cb4-c871-43da-b379-d6b27a8bb66f\"}, {\"histfunc\": \"count\", \"histnorm\": \"\", \"marker\": {\"color\": \"rgba(0, 128, 128, 0.5918367346938775)\", \"line\": {\"color\": \"#4D5663\", \"width\": 1.3}}, \"name\": \"GTEX-12WSC-0226-SM-5EQ52\", \"opacity\": 0.8, \"orientation\": \"v\", \"x\": [0.03925, 28.08], \"type\": \"histogram\", \"uid\": \"2ac5b31e-9506-49f8-8779-138548e30741\"}, {\"histfunc\": \"count\", \"histnorm\": \"\", \"marker\": {\"color\": \"rgba(255, 255, 51, 0.5918367346938775)\", \"line\": {\"color\": \"#4D5663\", \"width\": 1.3}}, \"name\": \"GTEX-12WSD-0226-SM-59HKO\", \"opacity\": 0.8, \"orientation\": \"v\", \"x\": [0.1092, 33.0], \"type\": \"histogram\", \"uid\": \"4b133160-fbdf-4398-a261-c50bdc7b0ba7\"}, {\"histfunc\": \"count\", \"histnorm\": \"\", \"marker\": {\"color\": \"rgba(128, 128, 0, 0.5918367346938775)\", \"line\": {\"color\": \"#4D5663\", \"width\": 1.3}}, \"name\": \"GTEX-12WSL-2426-SM-5GCN7\", \"opacity\": 0.8, \"orientation\": \"v\", \"x\": [0.036289999999999996, 35.31], \"type\": \"histogram\", \"uid\": \"19a83977-fafd-4c63-956f-4d6a66c34004\"}, {\"histfunc\": \"count\", \"histnorm\": \"\", \"marker\": {\"color\": \"rgba(251, 128, 114, 0.5918367346938775)\", \"line\": {\"color\": \"#4D5663\", \"width\": 1.3}}, \"name\": \"GTEX-12WSM-0226-SM-5LZV6\", \"opacity\": 0.8, \"orientation\": \"v\", \"x\": [0.036160000000000005, 42.74], \"type\": \"histogram\", \"uid\": \"eed39689-2df2-4ec5-97b5-e7a4aac6ed61\"}, {\"histfunc\": \"count\", \"histnorm\": \"\", \"marker\": {\"color\": \"rgba(128, 177, 211, 0.5918367346938775)\", \"line\": {\"color\": \"#4D5663\", \"width\": 1.3}}, \"name\": \"GTEX-12ZZX-0226-SM-5DUXU\", \"opacity\": 0.8, \"orientation\": \"v\", \"x\": [0.08207, 30.49], \"type\": \"histogram\", \"uid\": \"26c10160-1cf6-4046-af2d-e52f81313a7a\"}, {\"histfunc\": \"count\", \"histnorm\": \"\", \"marker\": {\"color\": \"rgba(255, 153, 51, 0.5918367346938775)\", \"line\": {\"color\": \"#4D5663\", \"width\": 1.3}}, \"name\": \"GTEX-12ZZY-0326-SM-5LZVQ\", \"opacity\": 0.8, \"orientation\": \"v\", \"x\": [0.0, 28.72], \"type\": \"histogram\", \"uid\": \"bf38160c-4153-470c-b668-7f01fe2a5b41\"}, {\"histfunc\": \"count\", \"histnorm\": \"\", \"marker\": {\"color\": \"rgba(55, 128, 191, 0.5918367346938775)\", \"line\": {\"color\": \"#4D5663\", \"width\": 1.3}}, \"name\": \"GTEX-12ZZZ-0526-SM-5DUX6\", \"opacity\": 0.8, \"orientation\": \"v\", \"x\": [0.0, 31.26], \"type\": \"histogram\", \"uid\": \"755f0353-1bd3-4473-af29-83f4c5c8b81a\"}, {\"histfunc\": \"count\", \"histnorm\": \"\", \"marker\": {\"color\": \"rgba(50, 171, 96, 0.5918367346938775)\", \"line\": {\"color\": \"#4D5663\", \"width\": 1.3}}, \"name\": \"GTEX-13111-1726-SM-5EGJZ\", \"opacity\": 0.8, \"orientation\": \"v\", \"x\": [0.0, 27.18], \"type\": \"histogram\", \"uid\": \"70b4683b-0b2a-4bd2-8468-122b1715f0af\"}, {\"histfunc\": \"count\", \"histnorm\": \"\", \"marker\": {\"color\": \"rgba(128, 0, 128, 0.5918367346938775)\", \"line\": {\"color\": \"#4D5663\", \"width\": 1.3}}, \"name\": \"GTEX-13112-2726-SM-5DUW5\", \"opacity\": 0.8, \"orientation\": \"v\", \"x\": [0.07969, 25.46], \"type\": \"histogram\", \"uid\": \"4a9eae52-b5bf-439f-9cb1-e62e643f0abb\"}, {\"histfunc\": \"count\", \"histnorm\": \"\", \"marker\": {\"color\": \"rgba(219, 64, 82, 0.5918367346938775)\", \"line\": {\"color\": \"#4D5663\", \"width\": 1.3}}, \"name\": \"GTEX-13113-1826-SM-5LZW4\", \"opacity\": 0.8, \"orientation\": \"v\", \"x\": [0.08229, 18.37], \"type\": \"histogram\", \"uid\": \"3c31c2ab-4510-4c47-9cfd-0cc3f2b8a0c4\"}, {\"histfunc\": \"count\", \"histnorm\": \"\", \"marker\": {\"color\": \"rgba(219, 64, 82, 0.5102040816326532)\", \"line\": {\"color\": \"#4D5663\", \"width\": 1.3}}, \"name\": \"GTEX-1313W-0226-SM-5LZV7\", \"opacity\": 0.8, \"orientation\": \"v\", \"x\": [0.0, 24.37], \"type\": \"histogram\", \"uid\": \"81d60986-ae79-4ef5-b557-de8989cb676a\"}, {\"histfunc\": \"count\", \"histnorm\": \"\", \"marker\": {\"color\": \"rgba(0, 128, 128, 0.5102040816326532)\", \"line\": {\"color\": \"#4D5663\", \"width\": 1.3}}, \"name\": \"GTEX-1314G-1626-SM-5EQ67\", \"opacity\": 0.8, \"orientation\": \"v\", \"x\": [0.0, 23.27], \"type\": \"histogram\", \"uid\": \"b19ae020-a844-43a0-93da-226a054eca84\"}, {\"histfunc\": \"count\", \"histnorm\": \"\", \"marker\": {\"color\": \"rgba(255, 255, 51, 0.5102040816326532)\", \"line\": {\"color\": \"#4D5663\", \"width\": 1.3}}, \"name\": \"GTEX-131XE-2426-SM-5EQ5V\", \"opacity\": 0.8, \"orientation\": \"v\", \"x\": [0.0, 52.56], \"type\": \"histogram\", \"uid\": \"1d1ddfc9-3667-4157-a937-6bf9daf63a48\"}, {\"histfunc\": \"count\", \"histnorm\": \"\", \"marker\": {\"color\": \"rgba(128, 128, 0, 0.5102040816326532)\", \"line\": {\"color\": \"#4D5663\", \"width\": 1.3}}, \"name\": \"GTEX-131XF-2226-SM-5EQKG\", \"opacity\": 0.8, \"orientation\": \"v\", \"x\": [0.0, 27.11], \"type\": \"histogram\", \"uid\": \"4e5c2538-4e71-4480-a7ac-b7a320525a7c\"}, {\"histfunc\": \"count\", \"histnorm\": \"\", \"marker\": {\"color\": \"rgba(251, 128, 114, 0.5102040816326532)\", \"line\": {\"color\": \"#4D5663\", \"width\": 1.3}}, \"name\": \"GTEX-131XW-0526-SM-5PNXZ\", \"opacity\": 0.8, \"orientation\": \"v\", \"x\": [0.0, 34.35], \"type\": \"histogram\", \"uid\": \"c9465a2a-2aa5-4b59-8435-876c2c5d5464\"}, {\"histfunc\": \"count\", \"histnorm\": \"\", \"marker\": {\"color\": \"rgba(128, 177, 211, 0.5102040816326532)\", \"line\": {\"color\": \"#4D5663\", \"width\": 1.3}}, \"name\": \"GTEX-131YS-0226-SM-5IJEH\", \"opacity\": 0.8, \"orientation\": \"v\", \"x\": [0.0284, 31.8], \"type\": \"histogram\", \"uid\": \"1f8ee9fb-e795-4275-941f-518a19faa752\"}, {\"histfunc\": \"count\", \"histnorm\": \"\", \"marker\": {\"color\": \"rgba(255, 153, 51, 0.5102040816326532)\", \"line\": {\"color\": \"#4D5663\", \"width\": 1.3}}, \"name\": \"GTEX-132AR-0226-SM-5IJBE\", \"opacity\": 0.8, \"orientation\": \"v\", \"x\": [0.0, 30.77], \"type\": \"histogram\", \"uid\": \"9fa6b4d8-03d7-45d3-82bc-6f284540d3cd\"}, {\"histfunc\": \"count\", \"histnorm\": \"\", \"marker\": {\"color\": \"rgba(55, 128, 191, 0.5102040816326532)\", \"line\": {\"color\": \"#4D5663\", \"width\": 1.3}}, \"name\": \"GTEX-132QS-2526-SM-62LFJ\", \"opacity\": 0.8, \"orientation\": \"v\", \"x\": [0.0, 28.06], \"type\": \"histogram\", \"uid\": \"8e0387c0-6435-492a-88ae-03fc848dbc76\"}, {\"histfunc\": \"count\", \"histnorm\": \"\", \"marker\": {\"color\": \"rgba(50, 171, 96, 0.5102040816326532)\", \"line\": {\"color\": \"#4D5663\", \"width\": 1.3}}, \"name\": \"GTEX-133LE-1926-SM-5N9FV\", \"opacity\": 0.8, \"orientation\": \"v\", \"x\": [0.02647, 43.71], \"type\": \"histogram\", \"uid\": \"9d447d73-6a33-4dd2-8d80-16d02ede55c6\"}, {\"histfunc\": \"count\", \"histnorm\": \"\", \"marker\": {\"color\": \"rgba(128, 0, 128, 0.5102040816326532)\", \"line\": {\"color\": \"#4D5663\", \"width\": 1.3}}, \"name\": \"GTEX-1399R-2626-SM-5KLZ7\", \"opacity\": 0.8, \"orientation\": \"v\", \"x\": [0.1117, 26.11], \"type\": \"histogram\", \"uid\": \"6d99b037-36c1-4470-9783-e32ace809cfb\"}, {\"histfunc\": \"count\", \"histnorm\": \"\", \"marker\": {\"color\": \"rgba(128, 0, 128, 0.42857142857142866)\", \"line\": {\"color\": \"#4D5663\", \"width\": 1.3}}, \"name\": \"GTEX-1399T-2726-SM-5K7XK\", \"opacity\": 0.8, \"orientation\": \"v\", \"x\": [0.1231, 37.92], \"type\": \"histogram\", \"uid\": \"bc1d728e-8ce3-4a6d-af32-172eafa3cdca\"}, {\"histfunc\": \"count\", \"histnorm\": \"\", \"marker\": {\"color\": \"rgba(219, 64, 82, 0.42857142857142866)\", \"line\": {\"color\": \"#4D5663\", \"width\": 1.3}}, \"name\": \"GTEX-1399U-2426-SM-5K7XB\", \"opacity\": 0.8, \"orientation\": \"v\", \"x\": [0.0, 27.58], \"type\": \"histogram\", \"uid\": \"ae15e175-edd5-4de3-a802-684c99b713bf\"}, {\"histfunc\": \"count\", \"histnorm\": \"\", \"marker\": {\"color\": \"rgba(0, 128, 128, 0.42857142857142866)\", \"line\": {\"color\": \"#4D5663\", \"width\": 1.3}}, \"name\": \"GTEX-139D8-0326-SM-5IJCJ\", \"opacity\": 0.8, \"orientation\": \"v\", \"x\": [0.07404, 18.86], \"type\": \"histogram\", \"uid\": \"405e4cb6-19d7-4bf2-b54a-12ffa98095bd\"}, {\"histfunc\": \"count\", \"histnorm\": \"\", \"marker\": {\"color\": \"rgba(255, 255, 51, 0.42857142857142866)\", \"line\": {\"color\": \"#4D5663\", \"width\": 1.3}}, \"name\": \"GTEX-139T4-0126-SM-5HL5G\", \"opacity\": 0.8, \"orientation\": \"v\", \"x\": [0.0, 38.54], \"type\": \"histogram\", \"uid\": \"47abab8d-feca-48e9-81b8-afda7e25e213\"}, {\"histfunc\": \"count\", \"histnorm\": \"\", \"marker\": {\"color\": \"rgba(128, 128, 0, 0.42857142857142866)\", \"line\": {\"color\": \"#4D5663\", \"width\": 1.3}}, \"name\": \"GTEX-139T6-2126-SM-5KM37\", \"opacity\": 0.8, \"orientation\": \"v\", \"x\": [0.08957000000000001, 23.14], \"type\": \"histogram\", \"uid\": \"910fb3b6-129b-47b0-b404-219af46353cd\"}, {\"histfunc\": \"count\", \"histnorm\": \"\", \"marker\": {\"color\": \"rgba(251, 128, 114, 0.42857142857142866)\", \"line\": {\"color\": \"#4D5663\", \"width\": 1.3}}, \"name\": \"GTEX-139T8-0226-SM-5L3EA\", \"opacity\": 0.8, \"orientation\": \"v\", \"x\": [0.0, 22.73], \"type\": \"histogram\", \"uid\": \"2ab7e1a8-3fd1-4ca2-a495-5d250fbb08c6\"}, {\"histfunc\": \"count\", \"histnorm\": \"\", \"marker\": {\"color\": \"rgba(128, 177, 211, 0.42857142857142866)\", \"line\": {\"color\": \"#4D5663\", \"width\": 1.3}}, \"name\": \"GTEX-139TT-0226-SM-5K7YH\", \"opacity\": 0.8, \"orientation\": \"v\", \"x\": [0.0, 30.17], \"type\": \"histogram\", \"uid\": \"d32df186-f5ec-49b6-89ba-4611bd1141cc\"}, {\"histfunc\": \"count\", \"histnorm\": \"\", \"marker\": {\"color\": \"rgba(255, 153, 51, 0.42857142857142866)\", \"line\": {\"color\": \"#4D5663\", \"width\": 1.3}}, \"name\": \"GTEX-139TU-0226-SM-5J1NM\", \"opacity\": 0.8, \"orientation\": \"v\", \"x\": [0.0, 46.89], \"type\": \"histogram\", \"uid\": \"0fc9d4a4-5c71-4344-b3e9-ac4c89e9aea9\"}, {\"histfunc\": \"count\", \"histnorm\": \"\", \"marker\": {\"color\": \"rgba(55, 128, 191, 0.42857142857142866)\", \"line\": {\"color\": \"#4D5663\", \"width\": 1.3}}, \"name\": \"GTEX-139YR-2426-SM-5J1OB\", \"opacity\": 0.8, \"orientation\": \"v\", \"x\": [0.08592999999999999, 26.95], \"type\": \"histogram\", \"uid\": \"9b2ebfb7-50c9-4192-8ed9-f93afea3c76b\"}, {\"histfunc\": \"count\", \"histnorm\": \"\", \"marker\": {\"color\": \"rgba(50, 171, 96, 0.42857142857142866)\", \"line\": {\"color\": \"#4D5663\", \"width\": 1.3}}, \"name\": \"GTEX-13CF2-2626-SM-5LZZA\", \"opacity\": 0.8, \"orientation\": \"v\", \"x\": [0.1001, 39.83], \"type\": \"histogram\", \"uid\": \"a2760877-c74e-42dc-81e4-68ea70f13a2c\"}, {\"histfunc\": \"count\", \"histnorm\": \"\", \"marker\": {\"color\": \"rgba(50, 171, 96, 0.3469387755102043)\", \"line\": {\"color\": \"#4D5663\", \"width\": 1.3}}, \"name\": \"GTEX-13CF3-2326-SM-5IFGL\", \"opacity\": 0.8, \"orientation\": \"v\", \"x\": [0.07153, 24.02], \"type\": \"histogram\", \"uid\": \"bd0a8a82-65ed-48d4-8516-74c9cfe4cc45\"}, {\"histfunc\": \"count\", \"histnorm\": \"\", \"marker\": {\"color\": \"rgba(128, 0, 128, 0.3469387755102043)\", \"line\": {\"color\": \"#4D5663\", \"width\": 1.3}}, \"name\": \"GTEX-13D11-2326-SM-5IJCY\", \"opacity\": 0.8, \"orientation\": \"v\", \"x\": [0.07486, 19.83], \"type\": \"histogram\", \"uid\": \"4179e3cc-6abb-463e-b986-07a8497a4159\"}, {\"histfunc\": \"count\", \"histnorm\": \"\", \"marker\": {\"color\": \"rgba(219, 64, 82, 0.3469387755102043)\", \"line\": {\"color\": \"#4D5663\", \"width\": 1.3}}, \"name\": \"GTEX-13FH7-2226-SM-5IJD4\", \"opacity\": 0.8, \"orientation\": \"v\", \"x\": [0.04097, 25.81], \"type\": \"histogram\", \"uid\": \"fb15cbed-b6d7-47f0-8b31-b446ed2425cf\"}, {\"histfunc\": \"count\", \"histnorm\": \"\", \"marker\": {\"color\": \"rgba(0, 128, 128, 0.3469387755102043)\", \"line\": {\"color\": \"#4D5663\", \"width\": 1.3}}, \"name\": \"GTEX-13FHO-0326-SM-5IJBH\", \"opacity\": 0.8, \"orientation\": \"v\", \"x\": [0.0346, 38.34], \"type\": \"histogram\", \"uid\": \"b5083e0f-9487-4bb2-95f0-38bc49e2a23b\"}, {\"histfunc\": \"count\", \"histnorm\": \"\", \"marker\": {\"color\": \"rgba(255, 255, 51, 0.3469387755102043)\", \"line\": {\"color\": \"#4D5663\", \"width\": 1.3}}, \"name\": \"GTEX-13FHP-0226-SM-5K7WD\", \"opacity\": 0.8, \"orientation\": \"v\", \"x\": [0.0, 58.05], \"type\": \"histogram\", \"uid\": \"0578422b-6703-4002-83ea-e523c0ce15e1\"}, {\"histfunc\": \"count\", \"histnorm\": \"\", \"marker\": {\"color\": \"rgba(128, 128, 0, 0.3469387755102043)\", \"line\": {\"color\": \"#4D5663\", \"width\": 1.3}}, \"name\": \"GTEX-13FTW-2526-SM-5IJC8\", \"opacity\": 0.8, \"orientation\": \"v\", \"x\": [0.0, 37.64], \"type\": \"histogram\", \"uid\": \"13c0febe-1250-4418-bb92-75252c6cce6f\"}, {\"histfunc\": \"count\", \"histnorm\": \"\", \"marker\": {\"color\": \"rgba(251, 128, 114, 0.3469387755102043)\", \"line\": {\"color\": \"#4D5663\", \"width\": 1.3}}, \"name\": \"GTEX-13FTY-0626-SM-5L3F8\", \"opacity\": 0.8, \"orientation\": \"v\", \"x\": [0.0, 34.93], \"type\": \"histogram\", \"uid\": \"28cb2298-8b26-4ee1-878f-ff77ab94ddb7\"}, {\"histfunc\": \"count\", \"histnorm\": \"\", \"marker\": {\"color\": \"rgba(128, 177, 211, 0.3469387755102043)\", \"line\": {\"color\": \"#4D5663\", \"width\": 1.3}}, \"name\": \"GTEX-13G51-2626-SM-5LZYW\", \"opacity\": 0.8, \"orientation\": \"v\", \"x\": [0.04133, 34.11], \"type\": \"histogram\", \"uid\": \"b0dd0276-ee34-4dcf-ba1d-49e64b632718\"}, {\"histfunc\": \"count\", \"histnorm\": \"\", \"marker\": {\"color\": \"rgba(255, 153, 51, 0.3469387755102043)\", \"line\": {\"color\": \"#4D5663\", \"width\": 1.3}}, \"name\": \"GTEX-13IVO-0226-SM-5LZXU\", \"opacity\": 0.8, \"orientation\": \"v\", \"x\": [0.060360000000000004, 30.19], \"type\": \"histogram\", \"uid\": \"47ac6aa6-4d23-487c-85f1-23167ff488fe\"}, {\"histfunc\": \"count\", \"histnorm\": \"\", \"marker\": {\"color\": \"rgba(55, 128, 191, 0.3469387755102043)\", \"line\": {\"color\": \"#4D5663\", \"width\": 1.3}}, \"name\": \"GTEX-13JUV-2826-SM-5LZWU\", \"opacity\": 0.8, \"orientation\": \"v\", \"x\": [0.0411, 38.78], \"type\": \"histogram\", \"uid\": \"cd0a999f-bb29-4ce5-8cad-a424630fba01\"}, {\"histfunc\": \"count\", \"histnorm\": \"\", \"marker\": {\"color\": \"rgba(55, 128, 191, 0.2653061224489797)\", \"line\": {\"color\": \"#4D5663\", \"width\": 1.3}}, \"name\": \"GTEX-13JVG-0226-SM-5J1MW\", \"opacity\": 0.8, \"orientation\": \"v\", \"x\": [0.061470000000000004, 24.45], \"type\": \"histogram\", \"uid\": \"13578c7d-3a9a-4406-9bbe-4f10915b5aa9\"}, {\"histfunc\": \"count\", \"histnorm\": \"\", \"marker\": {\"color\": \"rgba(50, 171, 96, 0.2653061224489797)\", \"line\": {\"color\": \"#4D5663\", \"width\": 1.3}}, \"name\": \"GTEX-13N11-2626-SM-5K7UQ\", \"opacity\": 0.8, \"orientation\": \"v\", \"x\": [0.032, 26.6], \"type\": \"histogram\", \"uid\": \"d0017d3a-1c55-412e-94d9-ce92fcf9ee47\"}, {\"histfunc\": \"count\", \"histnorm\": \"\", \"marker\": {\"color\": \"rgba(128, 0, 128, 0.2653061224489797)\", \"line\": {\"color\": \"#4D5663\", \"width\": 1.3}}, \"name\": \"GTEX-13N1W-0226-SM-5K7W6\", \"opacity\": 0.8, \"orientation\": \"v\", \"x\": [0.029419999999999998, 22.83], \"type\": \"histogram\", \"uid\": \"a3e00f89-e088-4be4-8a82-c115f72134e7\"}, {\"histfunc\": \"count\", \"histnorm\": \"\", \"marker\": {\"color\": \"rgba(219, 64, 82, 0.2653061224489797)\", \"line\": {\"color\": \"#4D5663\", \"width\": 1.3}}, \"name\": \"GTEX-13N2G-2726-SM-5J1MG\", \"opacity\": 0.8, \"orientation\": \"v\", \"x\": [0.0, 27.28], \"type\": \"histogram\", \"uid\": \"fc1f25a7-0a7c-487c-9e5e-e760a4745252\"}, {\"histfunc\": \"count\", \"histnorm\": \"\", \"marker\": {\"color\": \"rgba(0, 128, 128, 0.2653061224489797)\", \"line\": {\"color\": \"#4D5663\", \"width\": 1.3}}, \"name\": \"GTEX-13NYS-0226-SM-5MR49\", \"opacity\": 0.8, \"orientation\": \"v\", \"x\": [0.0, 21.28], \"type\": \"histogram\", \"uid\": \"55294f76-ec15-4628-a7ca-139df4c46ef9\"}, {\"histfunc\": \"count\", \"histnorm\": \"\", \"marker\": {\"color\": \"rgba(255, 255, 51, 0.2653061224489797)\", \"line\": {\"color\": \"#4D5663\", \"width\": 1.3}}, \"name\": \"GTEX-13NZ8-0926-SM-5MR3U\", \"opacity\": 0.8, \"orientation\": \"v\", \"x\": [0.0, 25.23], \"type\": \"histogram\", \"uid\": \"e8c6f1e4-bd87-46e5-ac07-eeb9e3cbed38\"}, {\"histfunc\": \"count\", \"histnorm\": \"\", \"marker\": {\"color\": \"rgba(128, 128, 0, 0.2653061224489797)\", \"line\": {\"color\": \"#4D5663\", \"width\": 1.3}}, \"name\": \"GTEX-13NZ9-0526-SM-5J1OX\", \"opacity\": 0.8, \"orientation\": \"v\", \"x\": [0.037219999999999996, 40.54], \"type\": \"histogram\", \"uid\": \"0eddaebc-fbc9-4a82-b907-719a894fb506\"}, {\"histfunc\": \"count\", \"histnorm\": \"\", \"marker\": {\"color\": \"rgba(251, 128, 114, 0.2653061224489797)\", \"line\": {\"color\": \"#4D5663\", \"width\": 1.3}}, \"name\": \"GTEX-13NZA-0126-SM-5K7UH\", \"opacity\": 0.8, \"orientation\": \"v\", \"x\": [0.06112000000000001, 26.52], \"type\": \"histogram\", \"uid\": \"26635304-37f2-4240-8408-58f45e847aaf\"}], {\"barmode\": \"overlay\", \"legend\": {\"bgcolor\": \"#F5F6F9\", \"font\": {\"color\": \"#4D5663\"}}, \"paper_bgcolor\": \"#F5F6F9\", \"plot_bgcolor\": \"#F5F6F9\", \"title\": {\"font\": {\"color\": \"#4D5663\"}}, \"xaxis\": {\"gridcolor\": \"#E1E5ED\", \"showgrid\": true, \"tickfont\": {\"color\": \"#4D5663\"}, \"title\": {\"text\": \"\", \"font\": {\"color\": \"#4D5663\"}}, \"zerolinecolor\": \"#E1E5ED\"}, \"yaxis\": {\"gridcolor\": \"#E1E5ED\", \"showgrid\": true, \"tickfont\": {\"color\": \"#4D5663\"}, \"title\": {\"text\": \"TPM\", \"font\": {\"color\": \"#4D5663\"}}, \"zerolinecolor\": \"#E1E5ED\"}}, {\"showLink\": true, \"linkText\": \"Export to plot.ly\", \"plotlyServerURL\": \"https://plot.ly\"})});</script><script type=\"text/javascript\">window.addEventListener(\"resize\", function(){window._Plotly.Plots.resize(document.getElementById(\"c8c3eb96-6075-473d-a94b-f810607f4605\"));});</script>"
      ],
      "text/vnd.plotly.v1+html": [
       "<div id=\"c8c3eb96-6075-473d-a94b-f810607f4605\" style=\"height: 525px; width: 100%;\" class=\"plotly-graph-div\"></div><script type=\"text/javascript\">require([\"plotly\"], function(Plotly) { window.PLOTLYENV=window.PLOTLYENV || {};window.PLOTLYENV.BASE_URL=\"https://plot.ly\";Plotly.newPlot(\"c8c3eb96-6075-473d-a94b-f810607f4605\", [{\"histfunc\": \"count\", \"histnorm\": \"\", \"marker\": {\"color\": \"rgba(255, 153, 51, 1.0)\", \"line\": {\"color\": \"#4D5663\", \"width\": 1.3}}, \"name\": \"GTEX-1117F-0226-SM-5GZZ7\", \"opacity\": 0.8, \"orientation\": \"v\", \"x\": [0.05045, 24.98], \"type\": \"histogram\", \"uid\": \"ac8e6f93-9722-4337-9bf7-c044682c65d7\"}, {\"histfunc\": \"count\", \"histnorm\": \"\", \"marker\": {\"color\": \"rgba(55, 128, 191, 1.0)\", \"line\": {\"color\": \"#4D5663\", \"width\": 1.3}}, \"name\": \"GTEX-111CU-1826-SM-5GZYN\", \"opacity\": 0.8, \"orientation\": \"v\", \"x\": [0.0, 35.05], \"type\": \"histogram\", \"uid\": \"e5c7d1b6-d5e4-4136-9bdb-58403242f7ba\"}, {\"histfunc\": \"count\", \"histnorm\": \"\", \"marker\": {\"color\": \"rgba(50, 171, 96, 1.0)\", \"line\": {\"color\": \"#4D5663\", \"width\": 1.3}}, \"name\": \"GTEX-111FC-0226-SM-5N9B8\", \"opacity\": 0.8, \"orientation\": \"v\", \"x\": [0.02945, 40.62], \"type\": \"histogram\", \"uid\": \"b5012c2f-5083-4f25-8a12-83847137631c\"}, {\"histfunc\": \"count\", \"histnorm\": \"\", \"marker\": {\"color\": \"rgba(128, 0, 128, 1.0)\", \"line\": {\"color\": \"#4D5663\", \"width\": 1.3}}, \"name\": \"GTEX-111VG-2326-SM-5N9BK\", \"opacity\": 0.8, \"orientation\": \"v\", \"x\": [0.0326, 29.15], \"type\": \"histogram\", \"uid\": \"0c6f0b62-1e8c-4939-ac78-c6e76fc4e625\"}, {\"histfunc\": \"count\", \"histnorm\": \"\", \"marker\": {\"color\": \"rgba(219, 64, 82, 1.0)\", \"line\": {\"color\": \"#4D5663\", \"width\": 1.3}}, \"name\": \"GTEX-111YS-2426-SM-5GZZQ\", \"opacity\": 0.8, \"orientation\": \"v\", \"x\": [0.0, 20.39], \"type\": \"histogram\", \"uid\": \"478a18cc-05dd-43aa-8f4a-18ef37cd4ab8\"}, {\"histfunc\": \"count\", \"histnorm\": \"\", \"marker\": {\"color\": \"rgba(0, 128, 128, 1.0)\", \"line\": {\"color\": \"#4D5663\", \"width\": 1.3}}, \"name\": \"GTEX-1122O-2026-SM-5NQ91\", \"opacity\": 0.8, \"orientation\": \"v\", \"x\": [0.0, 19.8], \"type\": \"histogram\", \"uid\": \"c1d3451c-8a1c-4498-8bc0-1841bd1ddfa5\"}, {\"histfunc\": \"count\", \"histnorm\": \"\", \"marker\": {\"color\": \"rgba(255, 255, 51, 1.0)\", \"line\": {\"color\": \"#4D5663\", \"width\": 1.3}}, \"name\": \"GTEX-1128S-2126-SM-5H12U\", \"opacity\": 0.8, \"orientation\": \"v\", \"x\": [0.0861, 25.29], \"type\": \"histogram\", \"uid\": \"c912101f-dde7-4595-a235-b38153597b0f\"}, {\"histfunc\": \"count\", \"histnorm\": \"\", \"marker\": {\"color\": \"rgba(128, 128, 0, 1.0)\", \"line\": {\"color\": \"#4D5663\", \"width\": 1.3}}, \"name\": \"GTEX-113IC-0226-SM-5HL5C\", \"opacity\": 0.8, \"orientation\": \"v\", \"x\": [0.131, 35.17], \"type\": \"histogram\", \"uid\": \"4e42f53c-2bc1-4bd8-b141-cd7bdfdc0c03\"}, {\"histfunc\": \"count\", \"histnorm\": \"\", \"marker\": {\"color\": \"rgba(251, 128, 114, 1.0)\", \"line\": {\"color\": \"#4D5663\", \"width\": 1.3}}, \"name\": \"GTEX-117YX-2226-SM-5EGJJ\", \"opacity\": 0.8, \"orientation\": \"v\", \"x\": [0.06773, 18.94], \"type\": \"histogram\", \"uid\": \"162f6eff-287b-4466-9a58-a92bf1256caa\"}, {\"histfunc\": \"count\", \"histnorm\": \"\", \"marker\": {\"color\": \"rgba(128, 177, 211, 1.0)\", \"line\": {\"color\": \"#4D5663\", \"width\": 1.3}}, \"name\": \"GTEX-11DXW-0326-SM-5H11W\", \"opacity\": 0.8, \"orientation\": \"v\", \"x\": [0.0, 32.63], \"type\": \"histogram\", \"uid\": \"da02fe1b-f888-4fdd-b9cf-5d21cda1fb43\"}, {\"histfunc\": \"count\", \"histnorm\": \"\", \"marker\": {\"color\": \"rgba(128, 177, 211, 0.9183673469387754)\", \"line\": {\"color\": \"#4D5663\", \"width\": 1.3}}, \"name\": \"GTEX-11DXX-2326-SM-5Q5A2\", \"opacity\": 0.8, \"orientation\": \"v\", \"x\": [0.03199, 26.12], \"type\": \"histogram\", \"uid\": \"26a71c88-9648-4cce-9125-47eabf738f7a\"}, {\"histfunc\": \"count\", \"histnorm\": \"\", \"marker\": {\"color\": \"rgba(255, 153, 51, 0.9183673469387754)\", \"line\": {\"color\": \"#4D5663\", \"width\": 1.3}}, \"name\": \"GTEX-11DZ1-0226-SM-5A5KF\", \"opacity\": 0.8, \"orientation\": \"v\", \"x\": [0.06642, 49.64], \"type\": \"histogram\", \"uid\": \"facc0110-7b84-43d3-8fdb-547d62d27851\"}, {\"histfunc\": \"count\", \"histnorm\": \"\", \"marker\": {\"color\": \"rgba(55, 128, 191, 0.9183673469387754)\", \"line\": {\"color\": \"#4D5663\", \"width\": 1.3}}, \"name\": \"GTEX-11EI6-0226-SM-5EQ64\", \"opacity\": 0.8, \"orientation\": \"v\", \"x\": [0.0, 32.93], \"type\": \"histogram\", \"uid\": \"92babf5d-58c9-48fc-a84f-bdc4d77222cb\"}, {\"histfunc\": \"count\", \"histnorm\": \"\", \"marker\": {\"color\": \"rgba(50, 171, 96, 0.9183673469387754)\", \"line\": {\"color\": \"#4D5663\", \"width\": 1.3}}, \"name\": \"GTEX-11EM3-2326-SM-5H12B\", \"opacity\": 0.8, \"orientation\": \"v\", \"x\": [0.06246, 20.3], \"type\": \"histogram\", \"uid\": \"9ce6fc9c-1ea0-499e-97c5-4c4c2935e3e7\"}, {\"histfunc\": \"count\", \"histnorm\": \"\", \"marker\": {\"color\": \"rgba(128, 0, 128, 0.9183673469387754)\", \"line\": {\"color\": \"#4D5663\", \"width\": 1.3}}, \"name\": \"GTEX-11EMC-2826-SM-5PNY6\", \"opacity\": 0.8, \"orientation\": \"v\", \"x\": [0.02645, 32.6], \"type\": \"histogram\", \"uid\": \"7b753249-d598-483b-a1e9-ac0b722562eb\"}, {\"histfunc\": \"count\", \"histnorm\": \"\", \"marker\": {\"color\": \"rgba(219, 64, 82, 0.9183673469387754)\", \"line\": {\"color\": \"#4D5663\", \"width\": 1.3}}, \"name\": \"GTEX-11EQ8-0226-SM-5EQ5G\", \"opacity\": 0.8, \"orientation\": \"v\", \"x\": [0.08686, 43.81], \"type\": \"histogram\", \"uid\": \"cb7daccb-022e-48a4-95d8-298869a47d1e\"}, {\"histfunc\": \"count\", \"histnorm\": \"\", \"marker\": {\"color\": \"rgba(0, 128, 128, 0.9183673469387754)\", \"line\": {\"color\": \"#4D5663\", \"width\": 1.3}}, \"name\": \"GTEX-11EQ9-2526-SM-5HL66\", \"opacity\": 0.8, \"orientation\": \"v\", \"x\": [0, 17], \"type\": \"histogram\", \"uid\": \"58e7be7d-7e47-4201-a3e8-1b1381efdbfe\"}, {\"histfunc\": \"count\", \"histnorm\": \"\", \"marker\": {\"color\": \"rgba(255, 255, 51, 0.9183673469387754)\", \"line\": {\"color\": \"#4D5663\", \"width\": 1.3}}, \"name\": \"GTEX-11GS4-2626-SM-5A5LD\", \"opacity\": 0.8, \"orientation\": \"v\", \"x\": [0.07443, 27.56], \"type\": \"histogram\", \"uid\": \"14ddd1da-f65a-45af-acaa-1e364699f2be\"}, {\"histfunc\": \"count\", \"histnorm\": \"\", \"marker\": {\"color\": \"rgba(128, 128, 0, 0.9183673469387754)\", \"line\": {\"color\": \"#4D5663\", \"width\": 1.3}}, \"name\": \"GTEX-11GSO-2326-SM-5A5LX\", \"opacity\": 0.8, \"orientation\": \"v\", \"x\": [0.08205, 22.77], \"type\": \"histogram\", \"uid\": \"580d775e-3ec0-4568-bd6a-fa0c0681eadf\"}, {\"histfunc\": \"count\", \"histnorm\": \"\", \"marker\": {\"color\": \"rgba(251, 128, 114, 0.9183673469387754)\", \"line\": {\"color\": \"#4D5663\", \"width\": 1.3}}, \"name\": \"GTEX-11H98-0226-SM-5NQ89\", \"opacity\": 0.8, \"orientation\": \"v\", \"x\": [0.0, 36.67], \"type\": \"histogram\", \"uid\": \"8749fd7b-a97e-49ff-a7bd-86f39f033b46\"}, {\"histfunc\": \"count\", \"histnorm\": \"\", \"marker\": {\"color\": \"rgba(251, 128, 114, 0.8367346938775511)\", \"line\": {\"color\": \"#4D5663\", \"width\": 1.3}}, \"name\": \"GTEX-11I78-2626-SM-5Q5AI\", \"opacity\": 0.8, \"orientation\": \"v\", \"x\": [0.0, 30.1], \"type\": \"histogram\", \"uid\": \"80b29b4b-05b4-4f88-bcd9-e87037f7a63f\"}, {\"histfunc\": \"count\", \"histnorm\": \"\", \"marker\": {\"color\": \"rgba(128, 177, 211, 0.8367346938775511)\", \"line\": {\"color\": \"#4D5663\", \"width\": 1.3}}, \"name\": \"GTEX-11LCK-1126-SM-5A5KC\", \"opacity\": 0.8, \"orientation\": \"v\", \"x\": [0.0, 37.39], \"type\": \"histogram\", \"uid\": \"1398c55b-0404-43e6-b3ce-099f6c25eed5\"}, {\"histfunc\": \"count\", \"histnorm\": \"\", \"marker\": {\"color\": \"rgba(255, 153, 51, 0.8367346938775511)\", \"line\": {\"color\": \"#4D5663\", \"width\": 1.3}}, \"name\": \"GTEX-11O72-0226-SM-59869\", \"opacity\": 0.8, \"orientation\": \"v\", \"x\": [0.03653, 39.21], \"type\": \"histogram\", \"uid\": \"f03ac243-1516-4fe2-a4e1-d6c8b153c22f\"}, {\"histfunc\": \"count\", \"histnorm\": \"\", \"marker\": {\"color\": \"rgba(55, 128, 191, 0.8367346938775511)\", \"line\": {\"color\": \"#4D5663\", \"width\": 1.3}}, \"name\": \"GTEX-11OF3-2426-SM-5Q5AS\", \"opacity\": 0.8, \"orientation\": \"v\", \"x\": [0.1083, 35.51], \"type\": \"histogram\", \"uid\": \"c21ad321-8c67-4631-a131-1dc7a4447395\"}, {\"histfunc\": \"count\", \"histnorm\": \"\", \"marker\": {\"color\": \"rgba(50, 171, 96, 0.8367346938775511)\", \"line\": {\"color\": \"#4D5663\", \"width\": 1.3}}, \"name\": \"GTEX-11ONC-2526-SM-5986W\", \"opacity\": 0.8, \"orientation\": \"v\", \"x\": [0.09917999999999999, 29.21], \"type\": \"histogram\", \"uid\": \"2f8e0e0d-5e4b-4705-abc8-c693d3fd37cb\"}, {\"histfunc\": \"count\", \"histnorm\": \"\", \"marker\": {\"color\": \"rgba(128, 0, 128, 0.8367346938775511)\", \"line\": {\"color\": \"#4D5663\", \"width\": 1.3}}, \"name\": \"GTEX-11P7K-2026-SM-5GU74\", \"opacity\": 0.8, \"orientation\": \"v\", \"x\": [0.0879, 21.13], \"type\": \"histogram\", \"uid\": \"de7665f6-f811-4d25-a77f-ecae936b1881\"}, {\"histfunc\": \"count\", \"histnorm\": \"\", \"marker\": {\"color\": \"rgba(219, 64, 82, 0.8367346938775511)\", \"line\": {\"color\": \"#4D5663\", \"width\": 1.3}}, \"name\": \"GTEX-11P81-2426-SM-5GU65\", \"opacity\": 0.8, \"orientation\": \"v\", \"x\": [0.0, 29.03], \"type\": \"histogram\", \"uid\": \"e5ad8159-b2af-49f4-bdaf-29a0658e3524\"}, {\"histfunc\": \"count\", \"histnorm\": \"\", \"marker\": {\"color\": \"rgba(0, 128, 128, 0.8367346938775511)\", \"line\": {\"color\": \"#4D5663\", \"width\": 1.3}}, \"name\": \"GTEX-11P82-1726-SM-5Q5AT\", \"opacity\": 0.8, \"orientation\": \"v\", \"x\": [0.0, 27.05], \"type\": \"histogram\", \"uid\": \"00e937f6-6f0c-4e7f-b85b-7ef1a1e5bdab\"}, {\"histfunc\": \"count\", \"histnorm\": \"\", \"marker\": {\"color\": \"rgba(255, 255, 51, 0.8367346938775511)\", \"line\": {\"color\": \"#4D5663\", \"width\": 1.3}}, \"name\": \"GTEX-11PRG-0626-SM-5BC56\", \"opacity\": 0.8, \"orientation\": \"v\", \"x\": [0.04738, 36.6], \"type\": \"histogram\", \"uid\": \"1077ceb9-a3b0-4295-8d7a-ca6bfdc5a26a\"}, {\"histfunc\": \"count\", \"histnorm\": \"\", \"marker\": {\"color\": \"rgba(128, 128, 0, 0.8367346938775511)\", \"line\": {\"color\": \"#4D5663\", \"width\": 1.3}}, \"name\": \"GTEX-11TT1-2426-SM-5EQMK\", \"opacity\": 0.8, \"orientation\": \"v\", \"x\": [0.041280000000000004, 14.49], \"type\": \"histogram\", \"uid\": \"683df9ef-1b85-4c0b-825d-6152f80332ba\"}, {\"histfunc\": \"count\", \"histnorm\": \"\", \"marker\": {\"color\": \"rgba(128, 128, 0, 0.7551020408163265)\", \"line\": {\"color\": \"#4D5663\", \"width\": 1.3}}, \"name\": \"GTEX-11TTK-0226-SM-5N9EC\", \"opacity\": 0.8, \"orientation\": \"v\", \"x\": [0.08281000000000001, 28.01], \"type\": \"histogram\", \"uid\": \"dc9d791e-6e8c-44b8-8c31-cfab4b6fc753\"}, {\"histfunc\": \"count\", \"histnorm\": \"\", \"marker\": {\"color\": \"rgba(251, 128, 114, 0.7551020408163265)\", \"line\": {\"color\": \"#4D5663\", \"width\": 1.3}}, \"name\": \"GTEX-11TUW-2626-SM-5EQKZ\", \"opacity\": 0.8, \"orientation\": \"v\", \"x\": [0.0, 28.42], \"type\": \"histogram\", \"uid\": \"fe2fd552-992d-4289-a501-41253652e8e5\"}, {\"histfunc\": \"count\", \"histnorm\": \"\", \"marker\": {\"color\": \"rgba(128, 177, 211, 0.7551020408163265)\", \"line\": {\"color\": \"#4D5663\", \"width\": 1.3}}, \"name\": \"GTEX-11UD1-0226-SM-5EQKL\", \"opacity\": 0.8, \"orientation\": \"v\", \"x\": [0.0, 36.02], \"type\": \"histogram\", \"uid\": \"f902718e-6157-4665-9e65-68938223a9f0\"}, {\"histfunc\": \"count\", \"histnorm\": \"\", \"marker\": {\"color\": \"rgba(255, 153, 51, 0.7551020408163265)\", \"line\": {\"color\": \"#4D5663\", \"width\": 1.3}}, \"name\": \"GTEX-11UD2-0126-SM-5EQL2\", \"opacity\": 0.8, \"orientation\": \"v\", \"x\": [0.0, 30.37], \"type\": \"histogram\", \"uid\": \"dd17f336-eb2c-411d-9b6c-61eb182bbfa9\"}, {\"histfunc\": \"count\", \"histnorm\": \"\", \"marker\": {\"color\": \"rgba(55, 128, 191, 0.7551020408163265)\", \"line\": {\"color\": \"#4D5663\", \"width\": 1.3}}, \"name\": \"GTEX-11WQC-2426-SM-5EQKQ\", \"opacity\": 0.8, \"orientation\": \"v\", \"x\": [0.03901, 29.76], \"type\": \"histogram\", \"uid\": \"e227c9b7-130f-4ab3-87e7-071a8f1df6e1\"}, {\"histfunc\": \"count\", \"histnorm\": \"\", \"marker\": {\"color\": \"rgba(50, 171, 96, 0.7551020408163265)\", \"line\": {\"color\": \"#4D5663\", \"width\": 1.3}}, \"name\": \"GTEX-11XUK-2126-SM-5EQLR\", \"opacity\": 0.8, \"orientation\": \"v\", \"x\": [0.0, 32.71], \"type\": \"histogram\", \"uid\": \"8f65f2b8-eb92-4045-b9cc-86a28c2d366e\"}, {\"histfunc\": \"count\", \"histnorm\": \"\", \"marker\": {\"color\": \"rgba(128, 0, 128, 0.7551020408163265)\", \"line\": {\"color\": \"#4D5663\", \"width\": 1.3}}, \"name\": \"GTEX-11ZTS-0226-SM-5EQKD\", \"opacity\": 0.8, \"orientation\": \"v\", \"x\": [0.037239999999999995, 28.62], \"type\": \"histogram\", \"uid\": \"015cd167-890b-412f-b038-e2e1bd9145e8\"}, {\"histfunc\": \"count\", \"histnorm\": \"\", \"marker\": {\"color\": \"rgba(219, 64, 82, 0.7551020408163265)\", \"line\": {\"color\": \"#4D5663\", \"width\": 1.3}}, \"name\": \"GTEX-11ZTT-2526-SM-5EQM9\", \"opacity\": 0.8, \"orientation\": \"v\", \"x\": [0.030010000000000002, 22.16], \"type\": \"histogram\", \"uid\": \"8063ee79-7967-4b59-8e37-3e8ab8898cca\"}, {\"histfunc\": \"count\", \"histnorm\": \"\", \"marker\": {\"color\": \"rgba(0, 128, 128, 0.7551020408163265)\", \"line\": {\"color\": \"#4D5663\", \"width\": 1.3}}, \"name\": \"GTEX-11ZU8-2426-SM-5EQMV\", \"opacity\": 0.8, \"orientation\": \"v\", \"x\": [0.0401, 25.78], \"type\": \"histogram\", \"uid\": \"249caf5f-a746-49d0-94b4-42295efc79b7\"}, {\"histfunc\": \"count\", \"histnorm\": \"\", \"marker\": {\"color\": \"rgba(255, 255, 51, 0.7551020408163265)\", \"line\": {\"color\": \"#4D5663\", \"width\": 1.3}}, \"name\": \"GTEX-11ZUS-0726-SM-59886\", \"opacity\": 0.8, \"orientation\": \"v\", \"x\": [0.03687, 26.58], \"type\": \"histogram\", \"uid\": \"7577c17e-cfe7-4947-b0c6-94798f9231d1\"}, {\"histfunc\": \"count\", \"histnorm\": \"\", \"marker\": {\"color\": \"rgba(255, 255, 51, 0.6734693877551021)\", \"line\": {\"color\": \"#4D5663\", \"width\": 1.3}}, \"name\": \"GTEX-11ZVC-2626-SM-5FQTA\", \"opacity\": 0.8, \"orientation\": \"v\", \"x\": [0.1009, 26.43], \"type\": \"histogram\", \"uid\": \"d92fcf90-b325-4b46-b76c-cd3d44f36b30\"}, {\"histfunc\": \"count\", \"histnorm\": \"\", \"marker\": {\"color\": \"rgba(128, 128, 0, 0.6734693877551021)\", \"line\": {\"color\": \"#4D5663\", \"width\": 1.3}}, \"name\": \"GTEX-1211K-2226-SM-5FQU6\", \"opacity\": 0.8, \"orientation\": \"v\", \"x\": [0.1369, 31.96], \"type\": \"histogram\", \"uid\": \"c7c29486-6beb-4a48-9d81-f4daf919174c\"}, {\"histfunc\": \"count\", \"histnorm\": \"\", \"marker\": {\"color\": \"rgba(251, 128, 114, 0.6734693877551021)\", \"line\": {\"color\": \"#4D5663\", \"width\": 1.3}}, \"name\": \"GTEX-12126-0426-SM-5Q5AP\", \"opacity\": 0.8, \"orientation\": \"v\", \"x\": [0.04272, 26.2], \"type\": \"histogram\", \"uid\": \"8986ca46-425a-42b9-9610-16a630cefca4\"}, {\"histfunc\": \"count\", \"histnorm\": \"\", \"marker\": {\"color\": \"rgba(128, 177, 211, 0.6734693877551021)\", \"line\": {\"color\": \"#4D5663\", \"width\": 1.3}}, \"name\": \"GTEX-1212Z-2426-SM-5EQ5D\", \"opacity\": 0.8, \"orientation\": \"v\", \"x\": [0.06779, 40.93], \"type\": \"histogram\", \"uid\": \"1e77d360-cd64-4cac-9141-0d0aca1a5edc\"}, {\"histfunc\": \"count\", \"histnorm\": \"\", \"marker\": {\"color\": \"rgba(255, 153, 51, 0.6734693877551021)\", \"line\": {\"color\": \"#4D5663\", \"width\": 1.3}}, \"name\": \"GTEX-12584-0226-SM-5EQL5\", \"opacity\": 0.8, \"orientation\": \"v\", \"x\": [0.03108, 35.03], \"type\": \"histogram\", \"uid\": \"c7121cba-9f96-4c2b-918e-8e7ed0679434\"}, {\"histfunc\": \"count\", \"histnorm\": \"\", \"marker\": {\"color\": \"rgba(55, 128, 191, 0.6734693877551021)\", \"line\": {\"color\": \"#4D5663\", \"width\": 1.3}}, \"name\": \"GTEX-12696-2526-SM-5EQLN\", \"opacity\": 0.8, \"orientation\": \"v\", \"x\": [0.08313999999999999, 19.77], \"type\": \"histogram\", \"uid\": \"8b65daf1-39e5-4906-b1e1-34769412f2d5\"}, {\"histfunc\": \"count\", \"histnorm\": \"\", \"marker\": {\"color\": \"rgba(50, 171, 96, 0.6734693877551021)\", \"line\": {\"color\": \"#4D5663\", \"width\": 1.3}}, \"name\": \"GTEX-1269C-2726-SM-5EGJ4\", \"opacity\": 0.8, \"orientation\": \"v\", \"x\": [0.06559, 28.25], \"type\": \"histogram\", \"uid\": \"f665943d-ddda-4927-a92d-5ae1b36a8855\"}, {\"histfunc\": \"count\", \"histnorm\": \"\", \"marker\": {\"color\": \"rgba(128, 0, 128, 0.6734693877551021)\", \"line\": {\"color\": \"#4D5663\", \"width\": 1.3}}, \"name\": \"GTEX-12C56-1626-SM-5FQUO\", \"opacity\": 0.8, \"orientation\": \"v\", \"x\": [0.02792, 34.9], \"type\": \"histogram\", \"uid\": \"ef558558-1046-4660-9080-c0014f455801\"}, {\"histfunc\": \"count\", \"histnorm\": \"\", \"marker\": {\"color\": \"rgba(219, 64, 82, 0.6734693877551021)\", \"line\": {\"color\": \"#4D5663\", \"width\": 1.3}}, \"name\": \"GTEX-12KS4-0426-SM-5EQMC\", \"opacity\": 0.8, \"orientation\": \"v\", \"x\": [0.035519999999999996, 22.95], \"type\": \"histogram\", \"uid\": \"584e50ce-076a-4680-9019-6fe54de12800\"}, {\"histfunc\": \"count\", \"histnorm\": \"\", \"marker\": {\"color\": \"rgba(0, 128, 128, 0.6734693877551021)\", \"line\": {\"color\": \"#4D5663\", \"width\": 1.3}}, \"name\": \"GTEX-12WSA-0326-SM-5BC6I\", \"opacity\": 0.8, \"orientation\": \"v\", \"x\": [0.04585, 26.49], \"type\": \"histogram\", \"uid\": \"48df2cb4-c871-43da-b379-d6b27a8bb66f\"}, {\"histfunc\": \"count\", \"histnorm\": \"\", \"marker\": {\"color\": \"rgba(0, 128, 128, 0.5918367346938775)\", \"line\": {\"color\": \"#4D5663\", \"width\": 1.3}}, \"name\": \"GTEX-12WSC-0226-SM-5EQ52\", \"opacity\": 0.8, \"orientation\": \"v\", \"x\": [0.03925, 28.08], \"type\": \"histogram\", \"uid\": \"2ac5b31e-9506-49f8-8779-138548e30741\"}, {\"histfunc\": \"count\", \"histnorm\": \"\", \"marker\": {\"color\": \"rgba(255, 255, 51, 0.5918367346938775)\", \"line\": {\"color\": \"#4D5663\", \"width\": 1.3}}, \"name\": \"GTEX-12WSD-0226-SM-59HKO\", \"opacity\": 0.8, \"orientation\": \"v\", \"x\": [0.1092, 33.0], \"type\": \"histogram\", \"uid\": \"4b133160-fbdf-4398-a261-c50bdc7b0ba7\"}, {\"histfunc\": \"count\", \"histnorm\": \"\", \"marker\": {\"color\": \"rgba(128, 128, 0, 0.5918367346938775)\", \"line\": {\"color\": \"#4D5663\", \"width\": 1.3}}, \"name\": \"GTEX-12WSL-2426-SM-5GCN7\", \"opacity\": 0.8, \"orientation\": \"v\", \"x\": [0.036289999999999996, 35.31], \"type\": \"histogram\", \"uid\": \"19a83977-fafd-4c63-956f-4d6a66c34004\"}, {\"histfunc\": \"count\", \"histnorm\": \"\", \"marker\": {\"color\": \"rgba(251, 128, 114, 0.5918367346938775)\", \"line\": {\"color\": \"#4D5663\", \"width\": 1.3}}, \"name\": \"GTEX-12WSM-0226-SM-5LZV6\", \"opacity\": 0.8, \"orientation\": \"v\", \"x\": [0.036160000000000005, 42.74], \"type\": \"histogram\", \"uid\": \"eed39689-2df2-4ec5-97b5-e7a4aac6ed61\"}, {\"histfunc\": \"count\", \"histnorm\": \"\", \"marker\": {\"color\": \"rgba(128, 177, 211, 0.5918367346938775)\", \"line\": {\"color\": \"#4D5663\", \"width\": 1.3}}, \"name\": \"GTEX-12ZZX-0226-SM-5DUXU\", \"opacity\": 0.8, \"orientation\": \"v\", \"x\": [0.08207, 30.49], \"type\": \"histogram\", \"uid\": \"26c10160-1cf6-4046-af2d-e52f81313a7a\"}, {\"histfunc\": \"count\", \"histnorm\": \"\", \"marker\": {\"color\": \"rgba(255, 153, 51, 0.5918367346938775)\", \"line\": {\"color\": \"#4D5663\", \"width\": 1.3}}, \"name\": \"GTEX-12ZZY-0326-SM-5LZVQ\", \"opacity\": 0.8, \"orientation\": \"v\", \"x\": [0.0, 28.72], \"type\": \"histogram\", \"uid\": \"bf38160c-4153-470c-b668-7f01fe2a5b41\"}, {\"histfunc\": \"count\", \"histnorm\": \"\", \"marker\": {\"color\": \"rgba(55, 128, 191, 0.5918367346938775)\", \"line\": {\"color\": \"#4D5663\", \"width\": 1.3}}, \"name\": \"GTEX-12ZZZ-0526-SM-5DUX6\", \"opacity\": 0.8, \"orientation\": \"v\", \"x\": [0.0, 31.26], \"type\": \"histogram\", \"uid\": \"755f0353-1bd3-4473-af29-83f4c5c8b81a\"}, {\"histfunc\": \"count\", \"histnorm\": \"\", \"marker\": {\"color\": \"rgba(50, 171, 96, 0.5918367346938775)\", \"line\": {\"color\": \"#4D5663\", \"width\": 1.3}}, \"name\": \"GTEX-13111-1726-SM-5EGJZ\", \"opacity\": 0.8, \"orientation\": \"v\", \"x\": [0.0, 27.18], \"type\": \"histogram\", \"uid\": \"70b4683b-0b2a-4bd2-8468-122b1715f0af\"}, {\"histfunc\": \"count\", \"histnorm\": \"\", \"marker\": {\"color\": \"rgba(128, 0, 128, 0.5918367346938775)\", \"line\": {\"color\": \"#4D5663\", \"width\": 1.3}}, \"name\": \"GTEX-13112-2726-SM-5DUW5\", \"opacity\": 0.8, \"orientation\": \"v\", \"x\": [0.07969, 25.46], \"type\": \"histogram\", \"uid\": \"4a9eae52-b5bf-439f-9cb1-e62e643f0abb\"}, {\"histfunc\": \"count\", \"histnorm\": \"\", \"marker\": {\"color\": \"rgba(219, 64, 82, 0.5918367346938775)\", \"line\": {\"color\": \"#4D5663\", \"width\": 1.3}}, \"name\": \"GTEX-13113-1826-SM-5LZW4\", \"opacity\": 0.8, \"orientation\": \"v\", \"x\": [0.08229, 18.37], \"type\": \"histogram\", \"uid\": \"3c31c2ab-4510-4c47-9cfd-0cc3f2b8a0c4\"}, {\"histfunc\": \"count\", \"histnorm\": \"\", \"marker\": {\"color\": \"rgba(219, 64, 82, 0.5102040816326532)\", \"line\": {\"color\": \"#4D5663\", \"width\": 1.3}}, \"name\": \"GTEX-1313W-0226-SM-5LZV7\", \"opacity\": 0.8, \"orientation\": \"v\", \"x\": [0.0, 24.37], \"type\": \"histogram\", \"uid\": \"81d60986-ae79-4ef5-b557-de8989cb676a\"}, {\"histfunc\": \"count\", \"histnorm\": \"\", \"marker\": {\"color\": \"rgba(0, 128, 128, 0.5102040816326532)\", \"line\": {\"color\": \"#4D5663\", \"width\": 1.3}}, \"name\": \"GTEX-1314G-1626-SM-5EQ67\", \"opacity\": 0.8, \"orientation\": \"v\", \"x\": [0.0, 23.27], \"type\": \"histogram\", \"uid\": \"b19ae020-a844-43a0-93da-226a054eca84\"}, {\"histfunc\": \"count\", \"histnorm\": \"\", \"marker\": {\"color\": \"rgba(255, 255, 51, 0.5102040816326532)\", \"line\": {\"color\": \"#4D5663\", \"width\": 1.3}}, \"name\": \"GTEX-131XE-2426-SM-5EQ5V\", \"opacity\": 0.8, \"orientation\": \"v\", \"x\": [0.0, 52.56], \"type\": \"histogram\", \"uid\": \"1d1ddfc9-3667-4157-a937-6bf9daf63a48\"}, {\"histfunc\": \"count\", \"histnorm\": \"\", \"marker\": {\"color\": \"rgba(128, 128, 0, 0.5102040816326532)\", \"line\": {\"color\": \"#4D5663\", \"width\": 1.3}}, \"name\": \"GTEX-131XF-2226-SM-5EQKG\", \"opacity\": 0.8, \"orientation\": \"v\", \"x\": [0.0, 27.11], \"type\": \"histogram\", \"uid\": \"4e5c2538-4e71-4480-a7ac-b7a320525a7c\"}, {\"histfunc\": \"count\", \"histnorm\": \"\", \"marker\": {\"color\": \"rgba(251, 128, 114, 0.5102040816326532)\", \"line\": {\"color\": \"#4D5663\", \"width\": 1.3}}, \"name\": \"GTEX-131XW-0526-SM-5PNXZ\", \"opacity\": 0.8, \"orientation\": \"v\", \"x\": [0.0, 34.35], \"type\": \"histogram\", \"uid\": \"c9465a2a-2aa5-4b59-8435-876c2c5d5464\"}, {\"histfunc\": \"count\", \"histnorm\": \"\", \"marker\": {\"color\": \"rgba(128, 177, 211, 0.5102040816326532)\", \"line\": {\"color\": \"#4D5663\", \"width\": 1.3}}, \"name\": \"GTEX-131YS-0226-SM-5IJEH\", \"opacity\": 0.8, \"orientation\": \"v\", \"x\": [0.0284, 31.8], \"type\": \"histogram\", \"uid\": \"1f8ee9fb-e795-4275-941f-518a19faa752\"}, {\"histfunc\": \"count\", \"histnorm\": \"\", \"marker\": {\"color\": \"rgba(255, 153, 51, 0.5102040816326532)\", \"line\": {\"color\": \"#4D5663\", \"width\": 1.3}}, \"name\": \"GTEX-132AR-0226-SM-5IJBE\", \"opacity\": 0.8, \"orientation\": \"v\", \"x\": [0.0, 30.77], \"type\": \"histogram\", \"uid\": \"9fa6b4d8-03d7-45d3-82bc-6f284540d3cd\"}, {\"histfunc\": \"count\", \"histnorm\": \"\", \"marker\": {\"color\": \"rgba(55, 128, 191, 0.5102040816326532)\", \"line\": {\"color\": \"#4D5663\", \"width\": 1.3}}, \"name\": \"GTEX-132QS-2526-SM-62LFJ\", \"opacity\": 0.8, \"orientation\": \"v\", \"x\": [0.0, 28.06], \"type\": \"histogram\", \"uid\": \"8e0387c0-6435-492a-88ae-03fc848dbc76\"}, {\"histfunc\": \"count\", \"histnorm\": \"\", \"marker\": {\"color\": \"rgba(50, 171, 96, 0.5102040816326532)\", \"line\": {\"color\": \"#4D5663\", \"width\": 1.3}}, \"name\": \"GTEX-133LE-1926-SM-5N9FV\", \"opacity\": 0.8, \"orientation\": \"v\", \"x\": [0.02647, 43.71], \"type\": \"histogram\", \"uid\": \"9d447d73-6a33-4dd2-8d80-16d02ede55c6\"}, {\"histfunc\": \"count\", \"histnorm\": \"\", \"marker\": {\"color\": \"rgba(128, 0, 128, 0.5102040816326532)\", \"line\": {\"color\": \"#4D5663\", \"width\": 1.3}}, \"name\": \"GTEX-1399R-2626-SM-5KLZ7\", \"opacity\": 0.8, \"orientation\": \"v\", \"x\": [0.1117, 26.11], \"type\": \"histogram\", \"uid\": \"6d99b037-36c1-4470-9783-e32ace809cfb\"}, {\"histfunc\": \"count\", \"histnorm\": \"\", \"marker\": {\"color\": \"rgba(128, 0, 128, 0.42857142857142866)\", \"line\": {\"color\": \"#4D5663\", \"width\": 1.3}}, \"name\": \"GTEX-1399T-2726-SM-5K7XK\", \"opacity\": 0.8, \"orientation\": \"v\", \"x\": [0.1231, 37.92], \"type\": \"histogram\", \"uid\": \"bc1d728e-8ce3-4a6d-af32-172eafa3cdca\"}, {\"histfunc\": \"count\", \"histnorm\": \"\", \"marker\": {\"color\": \"rgba(219, 64, 82, 0.42857142857142866)\", \"line\": {\"color\": \"#4D5663\", \"width\": 1.3}}, \"name\": \"GTEX-1399U-2426-SM-5K7XB\", \"opacity\": 0.8, \"orientation\": \"v\", \"x\": [0.0, 27.58], \"type\": \"histogram\", \"uid\": \"ae15e175-edd5-4de3-a802-684c99b713bf\"}, {\"histfunc\": \"count\", \"histnorm\": \"\", \"marker\": {\"color\": \"rgba(0, 128, 128, 0.42857142857142866)\", \"line\": {\"color\": \"#4D5663\", \"width\": 1.3}}, \"name\": \"GTEX-139D8-0326-SM-5IJCJ\", \"opacity\": 0.8, \"orientation\": \"v\", \"x\": [0.07404, 18.86], \"type\": \"histogram\", \"uid\": \"405e4cb6-19d7-4bf2-b54a-12ffa98095bd\"}, {\"histfunc\": \"count\", \"histnorm\": \"\", \"marker\": {\"color\": \"rgba(255, 255, 51, 0.42857142857142866)\", \"line\": {\"color\": \"#4D5663\", \"width\": 1.3}}, \"name\": \"GTEX-139T4-0126-SM-5HL5G\", \"opacity\": 0.8, \"orientation\": \"v\", \"x\": [0.0, 38.54], \"type\": \"histogram\", \"uid\": \"47abab8d-feca-48e9-81b8-afda7e25e213\"}, {\"histfunc\": \"count\", \"histnorm\": \"\", \"marker\": {\"color\": \"rgba(128, 128, 0, 0.42857142857142866)\", \"line\": {\"color\": \"#4D5663\", \"width\": 1.3}}, \"name\": \"GTEX-139T6-2126-SM-5KM37\", \"opacity\": 0.8, \"orientation\": \"v\", \"x\": [0.08957000000000001, 23.14], \"type\": \"histogram\", \"uid\": \"910fb3b6-129b-47b0-b404-219af46353cd\"}, {\"histfunc\": \"count\", \"histnorm\": \"\", \"marker\": {\"color\": \"rgba(251, 128, 114, 0.42857142857142866)\", \"line\": {\"color\": \"#4D5663\", \"width\": 1.3}}, \"name\": \"GTEX-139T8-0226-SM-5L3EA\", \"opacity\": 0.8, \"orientation\": \"v\", \"x\": [0.0, 22.73], \"type\": \"histogram\", \"uid\": \"2ab7e1a8-3fd1-4ca2-a495-5d250fbb08c6\"}, {\"histfunc\": \"count\", \"histnorm\": \"\", \"marker\": {\"color\": \"rgba(128, 177, 211, 0.42857142857142866)\", \"line\": {\"color\": \"#4D5663\", \"width\": 1.3}}, \"name\": \"GTEX-139TT-0226-SM-5K7YH\", \"opacity\": 0.8, \"orientation\": \"v\", \"x\": [0.0, 30.17], \"type\": \"histogram\", \"uid\": \"d32df186-f5ec-49b6-89ba-4611bd1141cc\"}, {\"histfunc\": \"count\", \"histnorm\": \"\", \"marker\": {\"color\": \"rgba(255, 153, 51, 0.42857142857142866)\", \"line\": {\"color\": \"#4D5663\", \"width\": 1.3}}, \"name\": \"GTEX-139TU-0226-SM-5J1NM\", \"opacity\": 0.8, \"orientation\": \"v\", \"x\": [0.0, 46.89], \"type\": \"histogram\", \"uid\": \"0fc9d4a4-5c71-4344-b3e9-ac4c89e9aea9\"}, {\"histfunc\": \"count\", \"histnorm\": \"\", \"marker\": {\"color\": \"rgba(55, 128, 191, 0.42857142857142866)\", \"line\": {\"color\": \"#4D5663\", \"width\": 1.3}}, \"name\": \"GTEX-139YR-2426-SM-5J1OB\", \"opacity\": 0.8, \"orientation\": \"v\", \"x\": [0.08592999999999999, 26.95], \"type\": \"histogram\", \"uid\": \"9b2ebfb7-50c9-4192-8ed9-f93afea3c76b\"}, {\"histfunc\": \"count\", \"histnorm\": \"\", \"marker\": {\"color\": \"rgba(50, 171, 96, 0.42857142857142866)\", \"line\": {\"color\": \"#4D5663\", \"width\": 1.3}}, \"name\": \"GTEX-13CF2-2626-SM-5LZZA\", \"opacity\": 0.8, \"orientation\": \"v\", \"x\": [0.1001, 39.83], \"type\": \"histogram\", \"uid\": \"a2760877-c74e-42dc-81e4-68ea70f13a2c\"}, {\"histfunc\": \"count\", \"histnorm\": \"\", \"marker\": {\"color\": \"rgba(50, 171, 96, 0.3469387755102043)\", \"line\": {\"color\": \"#4D5663\", \"width\": 1.3}}, \"name\": \"GTEX-13CF3-2326-SM-5IFGL\", \"opacity\": 0.8, \"orientation\": \"v\", \"x\": [0.07153, 24.02], \"type\": \"histogram\", \"uid\": \"bd0a8a82-65ed-48d4-8516-74c9cfe4cc45\"}, {\"histfunc\": \"count\", \"histnorm\": \"\", \"marker\": {\"color\": \"rgba(128, 0, 128, 0.3469387755102043)\", \"line\": {\"color\": \"#4D5663\", \"width\": 1.3}}, \"name\": \"GTEX-13D11-2326-SM-5IJCY\", \"opacity\": 0.8, \"orientation\": \"v\", \"x\": [0.07486, 19.83], \"type\": \"histogram\", \"uid\": \"4179e3cc-6abb-463e-b986-07a8497a4159\"}, {\"histfunc\": \"count\", \"histnorm\": \"\", \"marker\": {\"color\": \"rgba(219, 64, 82, 0.3469387755102043)\", \"line\": {\"color\": \"#4D5663\", \"width\": 1.3}}, \"name\": \"GTEX-13FH7-2226-SM-5IJD4\", \"opacity\": 0.8, \"orientation\": \"v\", \"x\": [0.04097, 25.81], \"type\": \"histogram\", \"uid\": \"fb15cbed-b6d7-47f0-8b31-b446ed2425cf\"}, {\"histfunc\": \"count\", \"histnorm\": \"\", \"marker\": {\"color\": \"rgba(0, 128, 128, 0.3469387755102043)\", \"line\": {\"color\": \"#4D5663\", \"width\": 1.3}}, \"name\": \"GTEX-13FHO-0326-SM-5IJBH\", \"opacity\": 0.8, \"orientation\": \"v\", \"x\": [0.0346, 38.34], \"type\": \"histogram\", \"uid\": \"b5083e0f-9487-4bb2-95f0-38bc49e2a23b\"}, {\"histfunc\": \"count\", \"histnorm\": \"\", \"marker\": {\"color\": \"rgba(255, 255, 51, 0.3469387755102043)\", \"line\": {\"color\": \"#4D5663\", \"width\": 1.3}}, \"name\": \"GTEX-13FHP-0226-SM-5K7WD\", \"opacity\": 0.8, \"orientation\": \"v\", \"x\": [0.0, 58.05], \"type\": \"histogram\", \"uid\": \"0578422b-6703-4002-83ea-e523c0ce15e1\"}, {\"histfunc\": \"count\", \"histnorm\": \"\", \"marker\": {\"color\": \"rgba(128, 128, 0, 0.3469387755102043)\", \"line\": {\"color\": \"#4D5663\", \"width\": 1.3}}, \"name\": \"GTEX-13FTW-2526-SM-5IJC8\", \"opacity\": 0.8, \"orientation\": \"v\", \"x\": [0.0, 37.64], \"type\": \"histogram\", \"uid\": \"13c0febe-1250-4418-bb92-75252c6cce6f\"}, {\"histfunc\": \"count\", \"histnorm\": \"\", \"marker\": {\"color\": \"rgba(251, 128, 114, 0.3469387755102043)\", \"line\": {\"color\": \"#4D5663\", \"width\": 1.3}}, \"name\": \"GTEX-13FTY-0626-SM-5L3F8\", \"opacity\": 0.8, \"orientation\": \"v\", \"x\": [0.0, 34.93], \"type\": \"histogram\", \"uid\": \"28cb2298-8b26-4ee1-878f-ff77ab94ddb7\"}, {\"histfunc\": \"count\", \"histnorm\": \"\", \"marker\": {\"color\": \"rgba(128, 177, 211, 0.3469387755102043)\", \"line\": {\"color\": \"#4D5663\", \"width\": 1.3}}, \"name\": \"GTEX-13G51-2626-SM-5LZYW\", \"opacity\": 0.8, \"orientation\": \"v\", \"x\": [0.04133, 34.11], \"type\": \"histogram\", \"uid\": \"b0dd0276-ee34-4dcf-ba1d-49e64b632718\"}, {\"histfunc\": \"count\", \"histnorm\": \"\", \"marker\": {\"color\": \"rgba(255, 153, 51, 0.3469387755102043)\", \"line\": {\"color\": \"#4D5663\", \"width\": 1.3}}, \"name\": \"GTEX-13IVO-0226-SM-5LZXU\", \"opacity\": 0.8, \"orientation\": \"v\", \"x\": [0.060360000000000004, 30.19], \"type\": \"histogram\", \"uid\": \"47ac6aa6-4d23-487c-85f1-23167ff488fe\"}, {\"histfunc\": \"count\", \"histnorm\": \"\", \"marker\": {\"color\": \"rgba(55, 128, 191, 0.3469387755102043)\", \"line\": {\"color\": \"#4D5663\", \"width\": 1.3}}, \"name\": \"GTEX-13JUV-2826-SM-5LZWU\", \"opacity\": 0.8, \"orientation\": \"v\", \"x\": [0.0411, 38.78], \"type\": \"histogram\", \"uid\": \"cd0a999f-bb29-4ce5-8cad-a424630fba01\"}, {\"histfunc\": \"count\", \"histnorm\": \"\", \"marker\": {\"color\": \"rgba(55, 128, 191, 0.2653061224489797)\", \"line\": {\"color\": \"#4D5663\", \"width\": 1.3}}, \"name\": \"GTEX-13JVG-0226-SM-5J1MW\", \"opacity\": 0.8, \"orientation\": \"v\", \"x\": [0.061470000000000004, 24.45], \"type\": \"histogram\", \"uid\": \"13578c7d-3a9a-4406-9bbe-4f10915b5aa9\"}, {\"histfunc\": \"count\", \"histnorm\": \"\", \"marker\": {\"color\": \"rgba(50, 171, 96, 0.2653061224489797)\", \"line\": {\"color\": \"#4D5663\", \"width\": 1.3}}, \"name\": \"GTEX-13N11-2626-SM-5K7UQ\", \"opacity\": 0.8, \"orientation\": \"v\", \"x\": [0.032, 26.6], \"type\": \"histogram\", \"uid\": \"d0017d3a-1c55-412e-94d9-ce92fcf9ee47\"}, {\"histfunc\": \"count\", \"histnorm\": \"\", \"marker\": {\"color\": \"rgba(128, 0, 128, 0.2653061224489797)\", \"line\": {\"color\": \"#4D5663\", \"width\": 1.3}}, \"name\": \"GTEX-13N1W-0226-SM-5K7W6\", \"opacity\": 0.8, \"orientation\": \"v\", \"x\": [0.029419999999999998, 22.83], \"type\": \"histogram\", \"uid\": \"a3e00f89-e088-4be4-8a82-c115f72134e7\"}, {\"histfunc\": \"count\", \"histnorm\": \"\", \"marker\": {\"color\": \"rgba(219, 64, 82, 0.2653061224489797)\", \"line\": {\"color\": \"#4D5663\", \"width\": 1.3}}, \"name\": \"GTEX-13N2G-2726-SM-5J1MG\", \"opacity\": 0.8, \"orientation\": \"v\", \"x\": [0.0, 27.28], \"type\": \"histogram\", \"uid\": \"fc1f25a7-0a7c-487c-9e5e-e760a4745252\"}, {\"histfunc\": \"count\", \"histnorm\": \"\", \"marker\": {\"color\": \"rgba(0, 128, 128, 0.2653061224489797)\", \"line\": {\"color\": \"#4D5663\", \"width\": 1.3}}, \"name\": \"GTEX-13NYS-0226-SM-5MR49\", \"opacity\": 0.8, \"orientation\": \"v\", \"x\": [0.0, 21.28], \"type\": \"histogram\", \"uid\": \"55294f76-ec15-4628-a7ca-139df4c46ef9\"}, {\"histfunc\": \"count\", \"histnorm\": \"\", \"marker\": {\"color\": \"rgba(255, 255, 51, 0.2653061224489797)\", \"line\": {\"color\": \"#4D5663\", \"width\": 1.3}}, \"name\": \"GTEX-13NZ8-0926-SM-5MR3U\", \"opacity\": 0.8, \"orientation\": \"v\", \"x\": [0.0, 25.23], \"type\": \"histogram\", \"uid\": \"e8c6f1e4-bd87-46e5-ac07-eeb9e3cbed38\"}, {\"histfunc\": \"count\", \"histnorm\": \"\", \"marker\": {\"color\": \"rgba(128, 128, 0, 0.2653061224489797)\", \"line\": {\"color\": \"#4D5663\", \"width\": 1.3}}, \"name\": \"GTEX-13NZ9-0526-SM-5J1OX\", \"opacity\": 0.8, \"orientation\": \"v\", \"x\": [0.037219999999999996, 40.54], \"type\": \"histogram\", \"uid\": \"0eddaebc-fbc9-4a82-b907-719a894fb506\"}, {\"histfunc\": \"count\", \"histnorm\": \"\", \"marker\": {\"color\": \"rgba(251, 128, 114, 0.2653061224489797)\", \"line\": {\"color\": \"#4D5663\", \"width\": 1.3}}, \"name\": \"GTEX-13NZA-0126-SM-5K7UH\", \"opacity\": 0.8, \"orientation\": \"v\", \"x\": [0.06112000000000001, 26.52], \"type\": \"histogram\", \"uid\": \"26635304-37f2-4240-8408-58f45e847aaf\"}], {\"barmode\": \"overlay\", \"legend\": {\"bgcolor\": \"#F5F6F9\", \"font\": {\"color\": \"#4D5663\"}}, \"paper_bgcolor\": \"#F5F6F9\", \"plot_bgcolor\": \"#F5F6F9\", \"title\": {\"font\": {\"color\": \"#4D5663\"}}, \"xaxis\": {\"gridcolor\": \"#E1E5ED\", \"showgrid\": true, \"tickfont\": {\"color\": \"#4D5663\"}, \"title\": {\"text\": \"\", \"font\": {\"color\": \"#4D5663\"}}, \"zerolinecolor\": \"#E1E5ED\"}, \"yaxis\": {\"gridcolor\": \"#E1E5ED\", \"showgrid\": true, \"tickfont\": {\"color\": \"#4D5663\"}, \"title\": {\"text\": \"TPM\", \"font\": {\"color\": \"#4D5663\"}}, \"zerolinecolor\": \"#E1E5ED\"}}, {\"showLink\": true, \"linkText\": \"Export to plot.ly\", \"plotlyServerURL\": \"https://plot.ly\"})});</script><script type=\"text/javascript\">window.addEventListener(\"resize\", function(){window._Plotly.Plots.resize(document.getElementById(\"c8c3eb96-6075-473d-a94b-f810607f4605\"));});</script>"
      ]
     },
     "metadata": {},
     "output_type": "display_data"
    }
   ],
   "source": [
    "print(gt.head())\n",
    "gt.iplot(kind='hist', yTitle='TPM')\n"
   ]
  },
  {
   "cell_type": "code",
   "execution_count": 14,
   "metadata": {},
   "outputs": [
    {
     "data": {
      "application/vnd.plotly.v1+json": {
       "config": {
        "linkText": "Export to plot.ly",
        "plotlyServerURL": "https://plot.ly",
        "showLink": true
       },
       "data": [
        {
         "histfunc": "count",
         "histnorm": "",
         "marker": {
          "color": "rgba(255, 153, 51, 1.0)",
          "line": {
           "color": "#4D5663",
           "width": 1.3
          }
         },
         "name": "TP53",
         "opacity": 0.8,
         "orientation": "v",
         "type": "histogram",
         "uid": "500d7420-da62-4fa0-a4c8-9212f8bb86f1",
         "x": [
          24.98,
          35.05,
          40.62,
          29.15,
          20.39,
          19.8,
          25.29,
          35.17,
          18.94,
          32.63,
          26.12,
          49.64,
          32.93,
          20.3,
          32.6,
          43.81,
          17,
          27.56,
          22.77,
          36.67,
          30.1,
          37.39,
          39.21,
          35.51,
          29.21,
          21.13,
          29.03,
          27.05,
          36.6,
          14.49,
          28.01,
          28.42,
          36.02,
          30.37,
          29.76,
          32.71,
          28.62,
          22.16,
          25.78,
          26.58,
          26.43,
          31.96,
          26.2,
          40.93,
          35.03,
          19.77,
          28.25,
          34.9,
          22.95,
          26.49,
          28.08,
          33,
          35.31,
          42.74,
          30.49,
          28.72,
          31.26,
          27.18,
          25.46,
          18.37,
          24.37,
          23.27,
          52.56,
          27.11,
          34.35,
          31.8,
          30.77,
          28.06,
          43.71,
          26.11,
          37.92,
          27.58,
          18.86,
          38.54,
          23.14,
          22.73,
          30.17,
          46.89,
          26.95,
          39.83,
          24.02,
          19.83,
          25.81,
          38.34,
          58.05,
          37.64,
          34.93,
          34.11,
          30.19,
          38.78,
          24.45,
          26.6,
          22.83,
          27.28,
          21.28,
          25.23,
          40.54,
          26.52
         ]
        }
       ],
       "layout": {
        "barmode": "overlay",
        "legend": {
         "bgcolor": "#F5F6F9",
         "font": {
          "color": "#4D5663"
         }
        },
        "paper_bgcolor": "#F5F6F9",
        "plot_bgcolor": "#F5F6F9",
        "title": {
         "font": {
          "color": "#4D5663"
         }
        },
        "xaxis": {
         "gridcolor": "#E1E5ED",
         "showgrid": true,
         "tickfont": {
          "color": "#4D5663"
         },
         "title": {
          "font": {
           "color": "#4D5663"
          },
          "text": ""
         },
         "zerolinecolor": "#E1E5ED"
        },
        "yaxis": {
         "gridcolor": "#E1E5ED",
         "showgrid": true,
         "tickfont": {
          "color": "#4D5663"
         },
         "title": {
          "font": {
           "color": "#4D5663"
          },
          "text": "TPM"
         },
         "zerolinecolor": "#E1E5ED"
        }
       }
      },
      "text/html": [
       "<div id=\"b5bbde10-11de-4b91-9554-587ad58c97fd\" style=\"height: 525px; width: 100%;\" class=\"plotly-graph-div\"></div><script type=\"text/javascript\">require([\"plotly\"], function(Plotly) { window.PLOTLYENV=window.PLOTLYENV || {};window.PLOTLYENV.BASE_URL=\"https://plot.ly\";Plotly.newPlot(\"b5bbde10-11de-4b91-9554-587ad58c97fd\", [{\"histfunc\": \"count\", \"histnorm\": \"\", \"marker\": {\"color\": \"rgba(255, 153, 51, 1.0)\", \"line\": {\"color\": \"#4D5663\", \"width\": 1.3}}, \"name\": \"TP53\", \"opacity\": 0.8, \"orientation\": \"v\", \"x\": [24.98, 35.05, 40.62, 29.15, 20.39, 19.8, 25.29, 35.17, 18.94, 32.63, 26.12, 49.64, 32.93, 20.3, 32.6, 43.81, 17.0, 27.56, 22.77, 36.67, 30.1, 37.39, 39.21, 35.51, 29.21, 21.13, 29.03, 27.05, 36.6, 14.49, 28.01, 28.42, 36.02, 30.37, 29.76, 32.71, 28.62, 22.16, 25.78, 26.58, 26.43, 31.96, 26.2, 40.93, 35.03, 19.77, 28.25, 34.9, 22.95, 26.49, 28.08, 33.0, 35.31, 42.74, 30.49, 28.72, 31.26, 27.18, 25.46, 18.37, 24.37, 23.27, 52.56, 27.11, 34.35, 31.8, 30.77, 28.06, 43.71, 26.11, 37.92, 27.58, 18.86, 38.54, 23.14, 22.73, 30.17, 46.89, 26.95, 39.83, 24.02, 19.83, 25.81, 38.34, 58.05, 37.64, 34.93, 34.11, 30.19, 38.78, 24.45, 26.6, 22.83, 27.28, 21.28, 25.23, 40.54, 26.52], \"type\": \"histogram\", \"uid\": \"94b69d87-6ff6-4b20-95be-d320a022217a\"}], {\"barmode\": \"overlay\", \"legend\": {\"bgcolor\": \"#F5F6F9\", \"font\": {\"color\": \"#4D5663\"}}, \"paper_bgcolor\": \"#F5F6F9\", \"plot_bgcolor\": \"#F5F6F9\", \"title\": {\"font\": {\"color\": \"#4D5663\"}}, \"xaxis\": {\"gridcolor\": \"#E1E5ED\", \"showgrid\": true, \"tickfont\": {\"color\": \"#4D5663\"}, \"title\": {\"text\": \"\", \"font\": {\"color\": \"#4D5663\"}}, \"zerolinecolor\": \"#E1E5ED\"}, \"yaxis\": {\"gridcolor\": \"#E1E5ED\", \"showgrid\": true, \"tickfont\": {\"color\": \"#4D5663\"}, \"title\": {\"text\": \"TPM\", \"font\": {\"color\": \"#4D5663\"}}, \"zerolinecolor\": \"#E1E5ED\"}}, {\"showLink\": true, \"linkText\": \"Export to plot.ly\", \"plotlyServerURL\": \"https://plot.ly\"})});</script><script type=\"text/javascript\">window.addEventListener(\"resize\", function(){window._Plotly.Plots.resize(document.getElementById(\"b5bbde10-11de-4b91-9554-587ad58c97fd\"));});</script>"
      ],
      "text/vnd.plotly.v1+html": [
       "<div id=\"b5bbde10-11de-4b91-9554-587ad58c97fd\" style=\"height: 525px; width: 100%;\" class=\"plotly-graph-div\"></div><script type=\"text/javascript\">require([\"plotly\"], function(Plotly) { window.PLOTLYENV=window.PLOTLYENV || {};window.PLOTLYENV.BASE_URL=\"https://plot.ly\";Plotly.newPlot(\"b5bbde10-11de-4b91-9554-587ad58c97fd\", [{\"histfunc\": \"count\", \"histnorm\": \"\", \"marker\": {\"color\": \"rgba(255, 153, 51, 1.0)\", \"line\": {\"color\": \"#4D5663\", \"width\": 1.3}}, \"name\": \"TP53\", \"opacity\": 0.8, \"orientation\": \"v\", \"x\": [24.98, 35.05, 40.62, 29.15, 20.39, 19.8, 25.29, 35.17, 18.94, 32.63, 26.12, 49.64, 32.93, 20.3, 32.6, 43.81, 17.0, 27.56, 22.77, 36.67, 30.1, 37.39, 39.21, 35.51, 29.21, 21.13, 29.03, 27.05, 36.6, 14.49, 28.01, 28.42, 36.02, 30.37, 29.76, 32.71, 28.62, 22.16, 25.78, 26.58, 26.43, 31.96, 26.2, 40.93, 35.03, 19.77, 28.25, 34.9, 22.95, 26.49, 28.08, 33.0, 35.31, 42.74, 30.49, 28.72, 31.26, 27.18, 25.46, 18.37, 24.37, 23.27, 52.56, 27.11, 34.35, 31.8, 30.77, 28.06, 43.71, 26.11, 37.92, 27.58, 18.86, 38.54, 23.14, 22.73, 30.17, 46.89, 26.95, 39.83, 24.02, 19.83, 25.81, 38.34, 58.05, 37.64, 34.93, 34.11, 30.19, 38.78, 24.45, 26.6, 22.83, 27.28, 21.28, 25.23, 40.54, 26.52], \"type\": \"histogram\", \"uid\": \"94b69d87-6ff6-4b20-95be-d320a022217a\"}], {\"barmode\": \"overlay\", \"legend\": {\"bgcolor\": \"#F5F6F9\", \"font\": {\"color\": \"#4D5663\"}}, \"paper_bgcolor\": \"#F5F6F9\", \"plot_bgcolor\": \"#F5F6F9\", \"title\": {\"font\": {\"color\": \"#4D5663\"}}, \"xaxis\": {\"gridcolor\": \"#E1E5ED\", \"showgrid\": true, \"tickfont\": {\"color\": \"#4D5663\"}, \"title\": {\"text\": \"\", \"font\": {\"color\": \"#4D5663\"}}, \"zerolinecolor\": \"#E1E5ED\"}, \"yaxis\": {\"gridcolor\": \"#E1E5ED\", \"showgrid\": true, \"tickfont\": {\"color\": \"#4D5663\"}, \"title\": {\"text\": \"TPM\", \"font\": {\"color\": \"#4D5663\"}}, \"zerolinecolor\": \"#E1E5ED\"}}, {\"showLink\": true, \"linkText\": \"Export to plot.ly\", \"plotlyServerURL\": \"https://plot.ly\"})});</script><script type=\"text/javascript\">window.addEventListener(\"resize\", function(){window._Plotly.Plots.resize(document.getElementById(\"b5bbde10-11de-4b91-9554-587ad58c97fd\"));});</script>"
      ]
     },
     "metadata": {},
     "output_type": "display_data"
    }
   ],
   "source": [
    "gtt['TP53'].iplot(kind='hist', yTitle='TPM')"
   ]
  }
 ],
 "metadata": {
  "kernelspec": {
   "display_name": "Python 3",
   "language": "python",
   "name": "python3"
  },
  "language_info": {
   "codemirror_mode": {
    "name": "ipython",
    "version": 3
   },
   "file_extension": ".py",
   "mimetype": "text/x-python",
   "name": "python",
   "nbconvert_exporter": "python",
   "pygments_lexer": "ipython3",
   "version": "3.7.1"
  }
 },
 "nbformat": 4,
 "nbformat_minor": 2
}
