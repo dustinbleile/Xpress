{
 "cells": [
  {
   "cell_type": "markdown",
   "metadata": {},
   "source": [
    "# RNA Expression\n",
    "\n",
    "With RNA sequencing we have the promise of a measurement that should help us understand the actions and reactions of a cell.\n",
    "\n",
    "One of the findings of the genomic analysis found less protein coding differences than originally expected.  RNA expression levels and feed back control look like the major differences in human evolution between humans and chimps.\n",
    " * 'there are significant differences in how genes are expressed and regulated'\n",
    " * '.. those differences are most marked in the brain'\n",
    " * https://science.sciencemag.org/content/292/5514/44\n",
    " * '.. rapid change, along the five million years of the human lineage, that was concentrated on these specific groups of genes.'\n",
    " * 'Nearly half of the genes that had been pushed to express themselves more in humans involved transcription factors--gene-encoded proteins that control the expression of other proteins'\n",
    " * https://www.scientificamerican.com/article/separation-of-man-and-ape/\n"
   ]
  },
  {
   "cell_type": "markdown",
   "metadata": {},
   "source": [
    "## Expression Level Differences can complicated\n",
    "\n",
    "What is a 'significant' difference in expression?\n",
    "\n",
    "### Small differences can have a large effect\n",
    "\n",
    "Classic blond hair vs brunette in europeans is caused by 20% decrease in mRNA expression.\n",
    " * Caused by a SNP 350 kb away from KITLG coding region\n",
    " * SNP alters transcription factor binding\n",
    " * only 20% change is less than most check for significance.\n",
    " * https://www.nature.com/articles/ng.3019 Guether et al. 2014\n",
    "\n",
    "### But not always\n",
    " * [mRNA] / [protein] ratio varies by several orders of magnitude across genes.\n",
    " * but is consistent across cells and tissues, for each gene\n",
    " * Quantifying gene expression: the importance of being subtle\n",
    " * https://www.embopress.org/doi/pdf/10.15252/msb.20167325\n",
    "\n",
    "![Variations in mRNA vs Protein levels](img/Gene_expression_subtle.png)\n",
    "\n",
    "### Population at large can have outliers\n",
    "Can be large differences in normal population.\n",
    " * The impact of rare variation on gene expression across tissues\n",
    "  * 58% of underexpression and 28% of overexpression outliers have nearby conserved rare variants compared to 8% of non-outliers\n",
    "  * bayesian improved calling\n",
    " * https://www.ncbi.nlm.nih.gov/pubmed/29022581"
   ]
  },
  {
   "cell_type": "markdown",
   "metadata": {},
   "source": [
    "# Data Exploration - Nature of the beast\n",
    "\n",
    "Most uses of expression data will use a comparison of the gene expression pattern to known references.\n",
    "What would this involve.\n",
    "\n",
    "## Normal Tissue Expressions\n",
    "\n",
    "Genotype-Tissue Expression (GTEx) project is becoming a major resource for normal human tissue.\n",
    " * v8 to be released this month.\n",
    "\n",
    "The spread includes extreme values, most of the tissues are similar.\n",
    "\n",
    "Mean is ~ 16 - 17 TPM, but 50th percentile is 0 and 75th percentile is ~ 2.\n",
    "\n",
    "This indicates that the TPM is not a normal distribution, but has a small number of extreme values.  Almost half of the 56K gene set show no expression."
   ]
  },
  {
   "cell_type": "code",
   "execution_count": 1,
   "metadata": {},
   "outputs": [
    {
     "name": "stdout",
     "output_type": "stream",
     "text": [
      "  Unnamed: 0  Adipose Tissue  Adrenal Gland       Bladder          Blood\n",
      "0      count    56202.000000   56202.000000  56202.000000   56202.000000\n",
      "1       mean       16.335619      17.107780     16.663300      15.233666\n",
      "2        std      398.650451     582.642470    351.055527    1113.018285\n",
      "3        min        0.000000       0.000000      0.000000       0.000000\n",
      "4        25%        0.000000       0.000000      0.000000       0.000000\n",
      "5        50%        0.000000       0.000000      0.000000       0.000000\n",
      "6        75%        1.897000       1.492375      2.668000       0.492100\n",
      "7        max    38300.000000   60775.000000  34110.000000  246600.000000\n"
     ]
    }
   ],
   "source": [
    "import importlib\n",
    "import os, sys, glob\n",
    "\n",
    "import pandas as pd\n",
    "import numpy as np\n",
    "import seaborn as sns\n",
    "import pathlib\n",
    "script_dir = pathlib.Path().resolve()\n",
    "\n",
    "gm_fn = os.path.join(script_dir, 'tables', 'GTEX_tissue_medians_desc.tsv')\n",
    "gm = pd.read_csv(gm_fn, sep='\\t')\n",
    "print(gm[gm.columns[:5]])"
   ]
  },
  {
   "cell_type": "markdown",
   "metadata": {},
   "source": [
    "Most oncogenes and tumour suppressors are among genes with higher expression."
   ]
  },
  {
   "cell_type": "code",
   "execution_count": 3,
   "metadata": {},
   "outputs": [
    {
     "name": "stdout",
     "output_type": "stream",
     "text": [
      "  Unnamed: 0  Adipose Tissue  Adrenal Gland      Bladder        Blood\n",
      "0      count      779.000000     779.000000   779.000000   779.000000\n",
      "1       mean       50.191434      33.618767    49.578746    50.097736\n",
      "2        std      158.616941     101.872038   131.885045   360.652820\n",
      "3        min        0.000000       0.000000     0.000000     0.000000\n",
      "4        25%        4.507500       2.593250     5.602000     0.576500\n",
      "5        50%       14.680000      10.005000    18.820000     5.052000\n",
      "6        75%       33.765000      25.515000    41.905000    20.595000\n",
      "7        max     1979.000000    1084.500000  1770.000000  8644.000000\n"
     ]
    }
   ],
   "source": [
    "gmo_fn = os.path.join(script_dir, 'tables', 'GTEX_tissue_medians_onco_ts.tsv')\n",
    "gmo = pd.read_csv(gmo_fn, sep='\\t')\n",
    "print(gmo[gmo.columns[:5]])"
   ]
  },
  {
   "cell_type": "markdown",
   "metadata": {},
   "source": [
    "## Natural Distribution is log normal\n",
    "\n",
    "This means the log of the values shows a normal distribution.\n",
    "\n",
    "### PTEN shows the normal distribution after log transform\n",
    "\n",
    "![](img/PTEN_raw.png)\n",
    "![](img/PTEN_log2.png)"
   ]
  },
  {
   "cell_type": "markdown",
   "metadata": {},
   "source": [
    "### What's happening with TP53\n",
    "\n",
    "What does the camel like curve mean?\n",
    "\n",
    "![](img/TP53_raw.png)\n",
    "![](img/TP53_log2.png)"
   ]
  },
  {
   "cell_type": "markdown",
   "metadata": {},
   "source": [
    "### What's happening with TP53 - Different Expression by tissue\n",
    "\n",
    "![](img/TP53_by_tissue.png)"
   ]
  },
  {
   "cell_type": "markdown",
   "metadata": {},
   "source": [
    "# Experimental Variantions\n",
    "\n",
    "\n",
    "### Units RPKM, FPKM, TPM\n",
    "\n",
    " * RPKM (single-end data) - Reads Per Kilobase of transcript per Million mapped reads\n",
    " * FPKM (paired-end data) - Fragments Per Kilobase of transcript per Million mapped reads\n",
    " * TPM  - Transcripts Per Million RNA molecules\n",
    "\n",
    "RPKM and FPKM are normalized within a sample\n",
    "\n",
    "TPM is more normalized for comparing between samples\n",
    "\n",
    "Convert to TPM simply by dividing each RPKM value by the sum of the RPKM values for all genes (or transcripts) and multiplying by one million.\n",
    "\n",
    "TPM = (mean transcript length in kilobases) x RPKM \n",
    "where \"mean transcript length\" is the expression-weighted mean of the lengths of all isoforms.  Because the mean transcript length can change from sample to sample, we have generally recommended the use of TPM instead of RPKM.\n",
    "\n",
    "If you have RPKM (single-end data) or FPKM (paired-end data) computed for a set of genes or transcripts you can convert to TPM with \n",
    "\n",
    "TPM = FPKM / (sum of FPKM over all genes/transcripts) * 10^6\n",
    "\n",
    "Since TPM is independent of the mean transcript length, it should be more comparable between samples\n",
    "\n",
    "\n",
    "### Experimental Differences\n",
    "\n",
    " * Gene models used\n",
    "  * Ensembl69 vs Ensembl75 vs Ensembl92\n",
    "  * Collapsed model, or individual transcripts?\n",
    " * Ribodepleted\n",
    " \n",
    " Other complications:\n",
    "  * known factors - age, gender\n",
    "  * sample treatment - FFPE samples\n",
    "  * tumour content - mixtures\n",
    "  * hidden factors - environment, temperature"
   ]
  },
  {
   "cell_type": "markdown",
   "metadata": {},
   "source": [
    "## GSC RNA Expression Uses\n",
    "\n",
    "### Spearman Correlation Against Known Cancer Types\n",
    "\n",
    "Identify cancer types by gene expression patterns using LOGANOVA spearman correlations.  By C Chng and P Eirew\n",
    "\n",
    "![Spearman correlation plot](img/Spearman_tcga.png)"
   ]
  },
  {
   "cell_type": "markdown",
   "metadata": {},
   "source": [
    "### Cibersort\n",
    "\n",
    "Uses patters of mRNA expression levels to quantify immune cell\n",
    "\n",
    "### Within Project Correlation (WPC)\n",
    "\n",
    "<can display>?\n",
    "\n",
    "### Report Outliers and KB matching\n",
    "\n",
    "Identify unusual gene expression.  Literature is reporting relevant gene expressions.\n",
    " \n",
    " Current method is a number of simple cutoff values, based on available data:\n",
    "  * 2 x illumina bodymap expression comparator\n",
    "  * TCGA top quartile\n",
    "  ** > 2 inter-quartile ranges ~ top 1%\n",
    "  * > TCGA adjacent normal\n",
    " \n",
    "#### TF4CN Problem Case\n",
    "\n",
    "Many outliers, but not obviously wrong.\n",
    "\n",
    " {Show histogram - 0 and 100 % too high} \n"
   ]
  },
  {
   "cell_type": "markdown",
   "metadata": {},
   "source": []
  },
  {
   "cell_type": "markdown",
   "metadata": {},
   "source": [
    "# Current Work\n",
    "\n",
    "## Improve Reference Values\n",
    "\n",
    "Which genes have strange behaviour in GTEX/TCGA?\n",
    " * Check for curves skew, and kurtosis outliers\n",
    "  * Can these cases be sub-divided into further subtypes?\n",
    "  ** Sex differences?\n",
    "  ** Age differences?\n",
    "  ** Drug? Caffeine? Medication?\n",
    "\n",
    "Separations of known values, like sex and age, can be used as tests for classification schemes.\n",
    "\n",
    "Current known methods:\n",
    " * TMM\n",
    " * PEER baysian score of significance\n",
    " "
   ]
  },
  {
   "cell_type": "markdown",
   "metadata": {},
   "source": [
    "# Expression Effects\n",
    "\n",
    "## Genes are highly correlated in expression\n",
    "\n",
    " * Expression as a pathway property\n",
    " * Altered pathway expression - re-wiring concept\n",
    " * Measure metabolite(s) cycle activity\n",
    " * Measure Transcription Factor Levels\n",
    " * Other genomic influences:\n",
    "  * Many SNPs, copy number changes alter expression\n",
    "  * Driver fusions creating inappropriate activity"
   ]
  },
  {
   "cell_type": "code",
   "execution_count": 2,
   "metadata": {},
   "outputs": [
    {
     "name": "stderr",
     "output_type": "stream",
     "text": [
      "2019-08-20 10:12:59 - root - INFO - logging\n",
      "2019-08-20 10:12:59 - root - INFO - logging\n",
      "2019-08-20 10:12:59 - root - INFO - Found: /home/dbleile/science/Xpress/gtex/data_cache/GTEx_Analysis_2016-01-15_v7_RNASeQCv1.1.8_gene_tpm.gct\n",
      "2019-08-20 10:12:59 - root - INFO - Found: /home/dbleile/science/Xpress/gtex/data_cache/GTEx_Analysis_2016-01-15_v7_RNASeQCv1.1.8_gene_median_tpm.gct\n",
      "2019-08-20 10:12:59 - root - INFO - Found: /home/dbleile/science/Xpress/gtex/data_cache/GTEx_v7_Annotations_SampleAttributesDS.txt\n",
      "2019-08-20 10:12:59 - root - INFO - Found: /home/dbleile/science/Xpress/gtex/data_cache/GTEx_Analysis_v7_Annotations_SampleAttributesDD.xlsx\n",
      "2019-08-20 10:12:59 - root - INFO - Found: /home/dbleile/science/Xpress/gtex/data_cache/GTEx_v7_Annotations_SubjectPhenotypesDS.txt\n"
     ]
    }
   ],
   "source": [
    "from gtex import GTEX_preprocess\n",
    "importlib.reload(GTEX_preprocess)\n",
    "gtex = GTEX_preprocess.GtexData()\n"
   ]
  },
  {
   "cell_type": "code",
   "execution_count": 3,
   "metadata": {},
   "outputs": [
    {
     "name": "stderr",
     "output_type": "stream",
     "text": [
      "2019-08-20 10:13:07 - root - INFO - Loading reference GTEX7 row table\n",
      "2019-08-20 10:13:20 - root - INFO - loading 3 GTEX TPM rows\n",
      "2019-08-20 10:13:31 - root - INFO - Gtex TPM partial table took 0.3966263214747111 minutes\n"
     ]
    }
   ],
   "source": [
    "tp53 = gtex.gtex_gene_table(['TP53', 'PTEN'])"
   ]
  },
  {
   "cell_type": "code",
   "execution_count": null,
   "metadata": {},
   "outputs": [],
   "source": []
  },
  {
   "cell_type": "code",
   "execution_count": null,
   "metadata": {},
   "outputs": [],
   "source": [
    "\n",
    "\n"
   ]
  },
  {
   "cell_type": "code",
   "execution_count": 6,
   "metadata": {},
   "outputs": [
    {
     "name": "stderr",
     "output_type": "stream",
     "text": [
      "2019-08-20 10:15:56 - root - INFO - loading all rows\n",
      "2019-08-20 10:19:41 - root - INFO - Gtex TPM partial table took 3.757295882701874 minutes\n"
     ]
    }
   ],
   "source": [
    "gtpm = gtex.gtex_gene_table(None)"
   ]
  },
  {
   "cell_type": "code",
   "execution_count": 7,
   "metadata": {},
   "outputs": [
    {
     "data": {
      "text/html": [
       "<div>\n",
       "<style scoped>\n",
       "    .dataframe tbody tr th:only-of-type {\n",
       "        vertical-align: middle;\n",
       "    }\n",
       "\n",
       "    .dataframe tbody tr th {\n",
       "        vertical-align: top;\n",
       "    }\n",
       "\n",
       "    .dataframe thead th {\n",
       "        text-align: right;\n",
       "    }\n",
       "</style>\n",
       "<table border=\"1\" class=\"dataframe\">\n",
       "  <thead>\n",
       "    <tr style=\"text-align: right;\">\n",
       "      <th></th>\n",
       "      <th>Name</th>\n",
       "      <th>Description</th>\n",
       "      <th>GTEX-1117F-0226-SM-5GZZ7</th>\n",
       "      <th>GTEX-111CU-1826-SM-5GZYN</th>\n",
       "      <th>GTEX-111FC-0226-SM-5N9B8</th>\n",
       "      <th>GTEX-111VG-2326-SM-5N9BK</th>\n",
       "      <th>GTEX-111YS-2426-SM-5GZZQ</th>\n",
       "      <th>GTEX-1122O-2026-SM-5NQ91</th>\n",
       "      <th>GTEX-1128S-2126-SM-5H12U</th>\n",
       "      <th>GTEX-113IC-0226-SM-5HL5C</th>\n",
       "      <th>...</th>\n",
       "      <th>GTEX-ZVE2-0006-SM-51MRW</th>\n",
       "      <th>GTEX-ZVP2-0005-SM-51MRK</th>\n",
       "      <th>GTEX-ZVT2-0005-SM-57WBW</th>\n",
       "      <th>GTEX-ZVT3-0006-SM-51MT9</th>\n",
       "      <th>GTEX-ZVT4-0006-SM-57WB8</th>\n",
       "      <th>GTEX-ZVTK-0006-SM-57WBK</th>\n",
       "      <th>GTEX-ZVZP-0006-SM-51MSW</th>\n",
       "      <th>GTEX-ZVZQ-0006-SM-51MR8</th>\n",
       "      <th>GTEX-ZXES-0005-SM-57WCB</th>\n",
       "      <th>GTEX-ZXG5-0005-SM-57WCN</th>\n",
       "    </tr>\n",
       "  </thead>\n",
       "  <tbody>\n",
       "    <tr>\n",
       "      <th>0</th>\n",
       "      <td>ENSG00000223972.4</td>\n",
       "      <td>DDX11L1</td>\n",
       "      <td>0.10820</td>\n",
       "      <td>0.11580</td>\n",
       "      <td>0.02104</td>\n",
       "      <td>0.02329</td>\n",
       "      <td>0.00000</td>\n",
       "      <td>0.04641</td>\n",
       "      <td>0.03076</td>\n",
       "      <td>0.09358</td>\n",
       "      <td>...</td>\n",
       "      <td>0.09012</td>\n",
       "      <td>0.14620</td>\n",
       "      <td>0.10450</td>\n",
       "      <td>0.00000</td>\n",
       "      <td>0.6603</td>\n",
       "      <td>0.69500</td>\n",
       "      <td>0.12130</td>\n",
       "      <td>0.41690</td>\n",
       "      <td>0.23550</td>\n",
       "      <td>0.14500</td>\n",
       "    </tr>\n",
       "    <tr>\n",
       "      <th>1</th>\n",
       "      <td>ENSG00000227232.4</td>\n",
       "      <td>WASH7P</td>\n",
       "      <td>21.40000</td>\n",
       "      <td>11.03000</td>\n",
       "      <td>16.75000</td>\n",
       "      <td>8.17200</td>\n",
       "      <td>7.65800</td>\n",
       "      <td>9.37200</td>\n",
       "      <td>10.08000</td>\n",
       "      <td>13.56000</td>\n",
       "      <td>...</td>\n",
       "      <td>3.92600</td>\n",
       "      <td>13.13000</td>\n",
       "      <td>5.53700</td>\n",
       "      <td>5.78900</td>\n",
       "      <td>8.4390</td>\n",
       "      <td>7.84300</td>\n",
       "      <td>12.39000</td>\n",
       "      <td>12.53000</td>\n",
       "      <td>8.02700</td>\n",
       "      <td>12.76000</td>\n",
       "    </tr>\n",
       "    <tr>\n",
       "      <th>2</th>\n",
       "      <td>ENSG00000243485.2</td>\n",
       "      <td>MIR1302-11</td>\n",
       "      <td>0.16020</td>\n",
       "      <td>0.06433</td>\n",
       "      <td>0.04674</td>\n",
       "      <td>0.00000</td>\n",
       "      <td>0.05864</td>\n",
       "      <td>0.00000</td>\n",
       "      <td>0.13670</td>\n",
       "      <td>0.20790</td>\n",
       "      <td>...</td>\n",
       "      <td>0.08008</td>\n",
       "      <td>0.03607</td>\n",
       "      <td>0.00000</td>\n",
       "      <td>0.10590</td>\n",
       "      <td>0.0000</td>\n",
       "      <td>0.06432</td>\n",
       "      <td>0.05388</td>\n",
       "      <td>0.00000</td>\n",
       "      <td>0.04756</td>\n",
       "      <td>0.05367</td>\n",
       "    </tr>\n",
       "    <tr>\n",
       "      <th>3</th>\n",
       "      <td>ENSG00000237613.2</td>\n",
       "      <td>FAM138A</td>\n",
       "      <td>0.05045</td>\n",
       "      <td>0.00000</td>\n",
       "      <td>0.02945</td>\n",
       "      <td>0.03260</td>\n",
       "      <td>0.00000</td>\n",
       "      <td>0.00000</td>\n",
       "      <td>0.08610</td>\n",
       "      <td>0.13100</td>\n",
       "      <td>...</td>\n",
       "      <td>0.00000</td>\n",
       "      <td>0.06818</td>\n",
       "      <td>0.07309</td>\n",
       "      <td>0.03336</td>\n",
       "      <td>0.0000</td>\n",
       "      <td>0.08105</td>\n",
       "      <td>0.00000</td>\n",
       "      <td>0.05304</td>\n",
       "      <td>0.02996</td>\n",
       "      <td>0.03381</td>\n",
       "    </tr>\n",
       "    <tr>\n",
       "      <th>4</th>\n",
       "      <td>ENSG00000268020.2</td>\n",
       "      <td>OR4G4P</td>\n",
       "      <td>0.00000</td>\n",
       "      <td>0.00000</td>\n",
       "      <td>0.00000</td>\n",
       "      <td>0.00000</td>\n",
       "      <td>0.00000</td>\n",
       "      <td>0.00000</td>\n",
       "      <td>0.11080</td>\n",
       "      <td>0.05619</td>\n",
       "      <td>...</td>\n",
       "      <td>0.00000</td>\n",
       "      <td>0.00000</td>\n",
       "      <td>0.00000</td>\n",
       "      <td>0.00000</td>\n",
       "      <td>0.0000</td>\n",
       "      <td>0.00000</td>\n",
       "      <td>0.08739</td>\n",
       "      <td>0.00000</td>\n",
       "      <td>0.00000</td>\n",
       "      <td>0.04353</td>\n",
       "    </tr>\n",
       "  </tbody>\n",
       "</table>\n",
       "<p>5 rows × 11690 columns</p>\n",
       "</div>"
      ],
      "text/plain": [
       "                Name Description  GTEX-1117F-0226-SM-5GZZ7  \\\n",
       "0  ENSG00000223972.4     DDX11L1                   0.10820   \n",
       "1  ENSG00000227232.4      WASH7P                  21.40000   \n",
       "2  ENSG00000243485.2  MIR1302-11                   0.16020   \n",
       "3  ENSG00000237613.2     FAM138A                   0.05045   \n",
       "4  ENSG00000268020.2      OR4G4P                   0.00000   \n",
       "\n",
       "   GTEX-111CU-1826-SM-5GZYN  GTEX-111FC-0226-SM-5N9B8  \\\n",
       "0                   0.11580                   0.02104   \n",
       "1                  11.03000                  16.75000   \n",
       "2                   0.06433                   0.04674   \n",
       "3                   0.00000                   0.02945   \n",
       "4                   0.00000                   0.00000   \n",
       "\n",
       "   GTEX-111VG-2326-SM-5N9BK  GTEX-111YS-2426-SM-5GZZQ  \\\n",
       "0                   0.02329                   0.00000   \n",
       "1                   8.17200                   7.65800   \n",
       "2                   0.00000                   0.05864   \n",
       "3                   0.03260                   0.00000   \n",
       "4                   0.00000                   0.00000   \n",
       "\n",
       "   GTEX-1122O-2026-SM-5NQ91  GTEX-1128S-2126-SM-5H12U  \\\n",
       "0                   0.04641                   0.03076   \n",
       "1                   9.37200                  10.08000   \n",
       "2                   0.00000                   0.13670   \n",
       "3                   0.00000                   0.08610   \n",
       "4                   0.00000                   0.11080   \n",
       "\n",
       "   GTEX-113IC-0226-SM-5HL5C  ...  GTEX-ZVE2-0006-SM-51MRW  \\\n",
       "0                   0.09358  ...                  0.09012   \n",
       "1                  13.56000  ...                  3.92600   \n",
       "2                   0.20790  ...                  0.08008   \n",
       "3                   0.13100  ...                  0.00000   \n",
       "4                   0.05619  ...                  0.00000   \n",
       "\n",
       "   GTEX-ZVP2-0005-SM-51MRK  GTEX-ZVT2-0005-SM-57WBW  GTEX-ZVT3-0006-SM-51MT9  \\\n",
       "0                  0.14620                  0.10450                  0.00000   \n",
       "1                 13.13000                  5.53700                  5.78900   \n",
       "2                  0.03607                  0.00000                  0.10590   \n",
       "3                  0.06818                  0.07309                  0.03336   \n",
       "4                  0.00000                  0.00000                  0.00000   \n",
       "\n",
       "   GTEX-ZVT4-0006-SM-57WB8  GTEX-ZVTK-0006-SM-57WBK  GTEX-ZVZP-0006-SM-51MSW  \\\n",
       "0                   0.6603                  0.69500                  0.12130   \n",
       "1                   8.4390                  7.84300                 12.39000   \n",
       "2                   0.0000                  0.06432                  0.05388   \n",
       "3                   0.0000                  0.08105                  0.00000   \n",
       "4                   0.0000                  0.00000                  0.08739   \n",
       "\n",
       "   GTEX-ZVZQ-0006-SM-51MR8  GTEX-ZXES-0005-SM-57WCB  GTEX-ZXG5-0005-SM-57WCN  \n",
       "0                  0.41690                  0.23550                  0.14500  \n",
       "1                 12.53000                  8.02700                 12.76000  \n",
       "2                  0.00000                  0.04756                  0.05367  \n",
       "3                  0.05304                  0.02996                  0.03381  \n",
       "4                  0.00000                  0.00000                  0.04353  \n",
       "\n",
       "[5 rows x 11690 columns]"
      ]
     },
     "execution_count": 7,
     "metadata": {},
     "output_type": "execute_result"
    }
   ],
   "source": [
    "gtpm = gtmp\n",
    "gtpm.head()"
   ]
  },
  {
   "cell_type": "code",
   "execution_count": null,
   "metadata": {},
   "outputs": [],
   "source": []
  }
 ],
 "metadata": {
  "kernelspec": {
   "display_name": "Python 3",
   "language": "python",
   "name": "python3"
  },
  "language_info": {
   "codemirror_mode": {
    "name": "ipython",
    "version": 3
   },
   "file_extension": ".py",
   "mimetype": "text/x-python",
   "name": "python",
   "nbconvert_exporter": "python",
   "pygments_lexer": "ipython3",
   "version": "3.7.3"
  }
 },
 "nbformat": 4,
 "nbformat_minor": 2
}
