{
 "cells": [
  {
   "cell_type": "markdown",
   "metadata": {
    "slideshow": {
     "slide_type": "slide"
    }
   },
   "source": [
    "# Simple Use of RNA Expression"
   ]
  },
  {
   "cell_type": "markdown",
   "metadata": {
    "slideshow": {
     "slide_type": "slide"
    }
   },
   "source": [
    "# RNA Expression\n",
    "\n",
    "RNASeq\n",
    " * Convert RNA to cDNA Library\n",
    " * Use NGS sequencing on cDNA\n",
    " * Allows a reading of mRNA transcripts and Expression levels\n",
    " \n",
    " \n",
    "With RNA sequencing we have the promise of a measurement that should help us understand the actions and reactions of a cell."
   ]
  },
  {
   "cell_type": "markdown",
   "metadata": {
    "slideshow": {
     "slide_type": "slide"
    }
   },
   "source": [
    "## Promise of Reading Transcripts\n",
    "One of the findings of the genomic analysis found less protein coding differences than originally expected.  Instead RNA expression levels and interactions appear to be major difference between mammals.\n",
    "\n",
    "Identified as a major factor in human evolution between humans and apes.\n",
    "\n",
    "<img src=\"img/chimp.jpg\" alt=\"Drawing\" style=\"width: 200px;\"/>"
   ]
  },
  {
   "cell_type": "markdown",
   "metadata": {
    "slideshow": {
     "slide_type": "slide"
    }
   },
   "source": [
    "## Promise of Reading Transcripts\n",
    "\n",
    "#### Gene expression differences contribute to human evolution\n",
    " * 'there are significant differences in how genes are expressed and regulated'\n",
    " * '.. those differences are most marked in the brain'\n",
    " * https://science.sciencemag.org/content/292/5514/44\n",
    " * '.. rapid change, along the five million years of the human lineage, that was concentrated on these specific groups of genes.'\n",
    "\n",
    " * https://www.scientificamerican.com/article/separation-of-man-and-ape/"
   ]
  },
  {
   "cell_type": "markdown",
   "metadata": {
    "slideshow": {
     "slide_type": "slide"
    }
   },
   "source": [
    "#### RNA expression is involved directly or indirectly in most cellular interactions."
   ]
  },
  {
   "cell_type": "markdown",
   "metadata": {
    "slideshow": {
     "slide_type": "slide"
    }
   },
   "source": [
    "## Growing Number of Resources\n",
    "\n",
    "GTEx v7 has over 15k samples\n",
    " * 53 non-diseased tissue sites\n",
    " * nearly 1000 indivduals\n",
    " * v8 to come out this month\n",
    " \n",
    "TCGA\n",
    " * RNA-Seq data for 9736 tumor samples across 33 cancer types\n",
    " * data for 726 adjacent normal tissues\n",
    " \n",
    "GSC\n",
    " * Over 600 cases from POG at GSC\n",
    " * Growing number of literature references in Knowledgebase"
   ]
  },
  {
   "cell_type": "markdown",
   "metadata": {
    "slideshow": {
     "slide_type": "slide"
    }
   },
   "source": [
    "## Some GSC uses of mRNA Expression"
   ]
  },
  {
   "cell_type": "markdown",
   "metadata": {
    "slideshow": {
     "slide_type": "slide"
    }
   },
   "source": [
    "### Cibersort\n",
    "\n",
    "Uses patters of mRNA expression levels to quantify immune cell\n",
    "\n",
    "![cibersort background](img/cibersort_background.png)\n",
    "\n",
    "https://www.nature.com/articles/nmeth.3337"
   ]
  },
  {
   "cell_type": "markdown",
   "metadata": {
    "slideshow": {
     "slide_type": "slide"
    }
   },
   "source": [
    "## GSC RNA Expression Uses\n",
    "\n",
    "Expression plots for Analysis\n",
    " * Visual analysis\n",
    "\n",
    "### Box_wiskers - Individual Genes over Cancer\n",
    "<img src=\"img/box_whisker.png\" alt=\"Drawing\" style=\"height: 400px;\"/>\n"
   ]
  },
  {
   "cell_type": "markdown",
   "metadata": {
    "slideshow": {
     "slide_type": "subslide"
    }
   },
   "source": [
    "## GSC RNA Expression Uses\n",
    "\n",
    "### Box_wiskers - Individual Genes over Cancer\n",
    "\n",
    "![box_whisker](img/box_whisker.png)"
   ]
  },
  {
   "cell_type": "markdown",
   "metadata": {
    "slideshow": {
     "slide_type": "slide"
    }
   },
   "source": [
    "## GSC RNA Expression Uses\n",
    "\n",
    "### Spearman Correlation Against Known Cancer Types\n",
    "\n",
    "Identify cancer types by gene expression patterns using LOGANOVA spearman correlations.  By C Chng and P Eirew\n",
    "\n",
    "![Spearman correlation plot](img/Spearman_tcga.png)"
   ]
  },
  {
   "cell_type": "markdown",
   "metadata": {
    "slideshow": {
     "slide_type": "slide"
    }
   },
   "source": [
    "### Moffitt Score - Pancreatic Subtype Classifier - New Tool\n",
    "\n",
    "Determines a probability that a Pancreatic Cancer is of a 'basal' vs 'classic' subtype.\n",
    "\n",
    "Compares the Expression Levels of a small set of genes:\n",
    " * Just compares if Gene A expressed higher than Gene B - unitless\n",
    " * Each True value increase basal probability by a pair-specific weight\n",
    " \n",
    " ```\n",
    "     Coefficient    Gene_A   Gene_B  basal_odds_increase\n",
    "0          0.87     CD109   GPR160                 2.38\n",
    "1          1.22    SLC2A1     AGR2                 3.39\n",
    "2          0.52     KRT16  SLC44A4                 1.68\n",
    "3          1.43      CTSV  TMEM45B                 4.17\n",
    "4          0.70     KRT6A    BCAS1                 2.01\n",
    "5          0.41    B3GNT5    VSIG2                 1.51\n",
    "6          0.72       MET     TFF3                 2.06\n",
    "7          0.80     CHST6  PLA2G10                 2.24\n",
    "8          0.76  SERPINB5     HPGD                 2.13\n",
    "9          1.40    DCBLD2     PLS1                 4.07\n",
    "10         1.33    IL20RB    FAM3D                 3.79\n",
    "11         1.58  PPP1R14C    SYTL2                 4.85\n",
    "12         0.41      NAB1  PLEKHA6                 1.50\n",
    "13         1.58      MSLN    CAPN9                 4.83\n",
    "```\n",
    " https://www.ncbi.nlm.nih.gov/pubmed/26343385\n",
    " "
   ]
  },
  {
   "cell_type": "markdown",
   "metadata": {
    "slideshow": {
     "slide_type": "subslide"
    }
   },
   "source": [
    "![moffit exampl](img/moffitt_hist.png)\n",
    " "
   ]
  },
  {
   "cell_type": "markdown",
   "metadata": {
    "slideshow": {
     "slide_type": "subslide"
    }
   },
   "source": [
    "![moffit scatter](img/moffitt_vs_GATA6.png)"
   ]
  },
  {
   "cell_type": "markdown",
   "metadata": {
    "slideshow": {
     "slide_type": "slide"
    }
   },
   "source": [
    "## GSC RNA Expression Uses\n",
    "\n",
    "Expression plots for Analysis\n",
    " * Visual analysis\n",
    "\n",
    "### Within Project Correlation (WPC)\n",
    "\n",
    "![WPC](img/WPC.png)"
   ]
  },
  {
   "cell_type": "markdown",
   "metadata": {
    "slideshow": {
     "slide_type": "slide"
    }
   },
   "source": [
    "## GSC RNA Expression Uses\n",
    "\n",
    "### Report Outliers and KB matching\n",
    "\n",
    "#### Goals\n",
    "For Reporting, we want to highlight relevant gene expressions.\n",
    " * Expressions with therapeutic or diagnositic significance\n",
    " * Expressions supporting other events, like copy number change\n",
    " * Expression levels similar to known loss-of-function or gain-of-function\n",
    " * Unusual, cancer-related gene expressions\n",
    " * Features, like activated pathways"
   ]
  },
  {
   "cell_type": "markdown",
   "metadata": {
    "slideshow": {
     "slide_type": "slide"
    }
   },
   "source": [
    "### Report Outliers and KB matching\n",
    "#### Current Method - Crude cutoffs\n",
    "\n",
    "Currently we use a number of cutoffs, depending on available data, to try to flag expression as relevant.\n",
    " \n",
    "For High Expression:\n",
    " * Higher expression than normal data:\n",
    "  * 2 x illumina bodymap expression comparator\n",
    "  * > TCGA adjacent normal (if sig. number available)\n",
    " * TCGA top quartile\n",
    "  * > 2xinter-quartile ranges ~ top 1% of proper normal distribution"
   ]
  },
  {
   "cell_type": "markdown",
   "metadata": {
    "slideshow": {
     "slide_type": "slide"
    }
   },
   "source": [
    "## TF4CN - COMPARISON Problem Case\n",
    "\n",
    "### External Expression Data Gave Strange Results\n",
    "\n",
    "*Report outliers flagged too many genes*\n",
    "\n",
    "But Spearman Correlation still very effectively identified Colorectal expression patterns\n",
    "\n",
    "\n",
    " * What is going wrong with the outlier calls?\n",
    " * Why does the Spearman Correlation still work?\n",
    " * How could outlier calling be improved?\n",
    " \n",
    " ![Comparison prob](img/TF4CN_percentile.png)"
   ]
  },
  {
   "cell_type": "markdown",
   "metadata": {
    "slideshow": {
     "slide_type": "slide"
    }
   },
   "source": [
    "# mRNA Expression\n",
    "## Expression Level Differences can complicated\n",
    "\n",
    "At a basic level mRNA expression is expected to correlate with protein expression.\n",
    "\n",
    "### Roughly Correlates to Protein Levels\n",
    "\n",
    "![Variations in mRNA vs Protein levels](img/rna_vs_protein.png)\n",
    "\n",
    "from: https://www.ncbi.nlm.nih.gov/pmc/articles/PMC4459080/\n"
   ]
  },
  {
   "cell_type": "markdown",
   "metadata": {
    "slideshow": {
     "slide_type": "slide"
    }
   },
   "source": [
    "### Roughly Correlates to Protein Levels - Different Genes Vary\n",
    " * [mRNA] / [protein] ratio varies by several orders of magnitude across genes.\n",
    " * but is generally consistent across cells and tissues, for each gene/protein.\n",
    "  * Quantifying gene expression: the importance of being subtle\n",
    "  * https://www.embopress.org/doi/pdf/10.15252/msb.20167325\n",
    "\n",
    "![Variations in mRNA vs Protein levels](img/Gene_expression_subtle.png)"
   ]
  },
  {
   "cell_type": "markdown",
   "metadata": {
    "slideshow": {
     "slide_type": "slide"
    }
   },
   "source": [
    "### Small differences can have a large effect\n",
    "\n",
    "What is a 'significant' difference in expression?\n",
    "\n",
    "Classic blond hair vs brunette in europeans is caused by 20% decrease in mRNA expression.\n",
    "<img src=\"img/blond.jpg\" alt=\"Drawing\" style=\"width: 200px;\"/>\n",
    "\n",
    " * Caused by a SNP 350 kb away from KITLG coding region\n",
    " * SNP alters transcription factor binding\n",
    " * only 20% change is less than most check for significance.\n",
    " * https://www.nature.com/articles/ng.3019 Guether et al. 2014\n",
    " \n"
   ]
  },
  {
   "cell_type": "markdown",
   "metadata": {
    "slideshow": {
     "slide_type": "slide"
    }
   },
   "source": [
    "### Population at large can have outliers\n",
    "Can be large differences in normal population.\n",
    " * The impact of rare variation on gene expression across tissues\n",
    "  * 58% of underexpression and 28% of overexpression outliers have nearby conserved rare variants compared to 8% of non-outliers\n",
    "  * bayesian improved calling\n",
    " * https://www.ncbi.nlm.nih.gov/pubmed/29022581"
   ]
  },
  {
   "cell_type": "markdown",
   "metadata": {
    "slideshow": {
     "slide_type": "slide"
    }
   },
   "source": [
    "# Good Comparisons are Required\n",
    "\n",
    "Most uses of expression data will use a comparison of the gene expression pattern to known references.\n",
    "What would this involve?\n",
    "\n",
    "## What does Typical Expression Look like\n",
    "\n",
    "Genotype-Tissue Expression (GTEx) project is becoming a major resource for normal human tissue.\n",
    " * v8 to be released this month.\n",
    "\n",
    "The spread includes extreme values, most of the tissues are similar.\n",
    "\n",
    "Mean is ~ 16 - 17 TPM, but 50th percentile is 0 and 75th percentile is ~ 2.\n",
    "\n",
    "This indicates that the TPM is not a normal distribution, but has a small number of extreme values.  Almost half of the 56K gene set show no expression.\n",
    "\n",
    "```\n",
    "  Unnamed: 0  Adipose Tissue  Adrenal Gland       Bladder          Blood\n",
    "0      count    56202.000000   56202.000000  56202.000000   56202.000000\n",
    "1       mean       16.335619      17.107780     16.663300      15.233666\n",
    "2        std      398.650451     582.642470    351.055527    1113.018285\n",
    "3        min        0.000000       0.000000      0.000000       0.000000\n",
    "4        25%        0.000000       0.000000      0.000000       0.000000\n",
    "5        50%        0.000000       0.000000      0.000000       0.000000\n",
    "6        75%        1.897000       1.492375      2.668000       0.492100\n",
    "7        max    38300.000000   60775.000000  34110.000000  246600.000000\n",
    "```\n",
    " * Spearman Correlation is removing all RPKM < 0.2"
   ]
  },
  {
   "cell_type": "markdown",
   "metadata": {
    "slideshow": {
     "slide_type": "slide"
    }
   },
   "source": [
    "## Natural Distribution is not a Normal distribution\n",
    "\n",
    "This means the log of the values shows a normal distribution.\n",
    "\n",
    "### PTEN shows a Skewed Curve over GTEX\n",
    "\n",
    "![](img/PTEN_raw.png)"
   ]
  },
  {
   "cell_type": "markdown",
   "metadata": {
    "slideshow": {
     "slide_type": "subslide"
    }
   },
   "source": [
    "### PTEN shows the normal distribution after log transform\n",
    "![](img/PTEN_log2.png)"
   ]
  },
  {
   "cell_type": "markdown",
   "metadata": {
    "slideshow": {
     "slide_type": "slide"
    }
   },
   "source": [
    "### What's happening with TP53\n",
    "\n",
    "What does the camel like curve mean?\n",
    "\n",
    "![](img/TP53_raw.png)"
   ]
  },
  {
   "cell_type": "markdown",
   "metadata": {
    "slideshow": {
     "slide_type": "subslide"
    }
   },
   "source": [
    "### What's happening with TP53\n",
    "\n",
    "What does the camel like curve mean?\n",
    "![](img/TP53_log2.png)"
   ]
  },
  {
   "cell_type": "markdown",
   "metadata": {
    "slideshow": {
     "slide_type": "subslide"
    }
   },
   "source": [
    "### What's happening with TP53 - Different Expression by tissue\n",
    "\n",
    "![](img/TP53_by_tissue.png)\n",
    "\n",
    "GTEx shows the range of expressions and importance of tissue effects."
   ]
  },
  {
   "cell_type": "markdown",
   "metadata": {
    "slideshow": {
     "slide_type": "slide"
    }
   },
   "source": [
    "# Reference Problems\n",
    "\n",
    "Directly trying to compare GTEx and TCGA Expression can result in problems - units and experimental differences.\n",
    "\n",
    "### Units RPKM, FPKM, TPM\n",
    "\n",
    " * RPKM (single-end data) - Reads Per Kilobase of transcript per Million mapped reads\n",
    " * FPKM (paired-end data) - Fragments Per Kilobase of transcript per Million mapped reads\n",
    " * TPM  - Transcripts Per Million RNA molecules\n",
    "\n",
    "RPKM and FPKM are normalized within a sample\n",
    "\n",
    "TPM is more normalized for comparing between samples"
   ]
  },
  {
   "cell_type": "markdown",
   "metadata": {
    "slideshow": {
     "slide_type": "subslide"
    }
   },
   "source": [
    "### Units RPKM, FPKM, TPM\n",
    "Convert to TPM simply by dividing each RPKM value by the sum of the RPKM values for all genes (or transcripts) and multiplying by one million.\n",
    "\n",
    "TPM = (mean transcript length in kilobases) x RPKM \n",
    "where \"mean transcript length\" is the expression-weighted mean of the lengths of all isoforms.  Because the mean transcript length can change from sample to sample, we have generally recommended the use of TPM instead of RPKM.\n",
    "\n",
    "If you have RPKM (single-end data) or FPKM (paired-end data) computed for a set of genes or transcripts you can convert to TPM with \n",
    "\n",
    "TPM = FPKM / (sum of FPKM over all genes/transcripts) * 10^6\n",
    "\n",
    "Since TPM is independent of the mean transcript length, it should be more comparable between samples"
   ]
  },
  {
   "cell_type": "markdown",
   "metadata": {
    "slideshow": {
     "slide_type": "slide"
    }
   },
   "source": [
    "# Reference Problems\n",
    "### Gene Models\n",
    "\n",
    " * Definitions of Gene / Transcript important for what is measured\n",
    "  * Ensembl69 vs Ensembl 74 for TF4CN\n",
    " * Also - what transcript is chosen\n",
    "  * collapsed model of all transcripts vs longest transcript\n",
    "  \n",
    "## Why was Spearman Correlation Robust to Gene Models?"
   ]
  },
  {
   "cell_type": "markdown",
   "metadata": {
    "slideshow": {
     "slide_type": "subslide"
    }
   },
   "source": [
    "## Spearman vs Pearson correlation\n",
    "![Spearman correlation uses rank order](img/spearman_vs_pearson_1.png)"
   ]
  },
  {
   "cell_type": "markdown",
   "metadata": {
    "slideshow": {
     "slide_type": "subslide"
    }
   },
   "source": [
    "## Spearman vs Pearson correlation\n",
    "![Spearman correlation shows a better relationship for curves](img/spearman_vs_pearson_2.png)"
   ]
  },
  {
   "cell_type": "markdown",
   "metadata": {
    "slideshow": {
     "slide_type": "subslide"
    }
   },
   "source": [
    "## Spearman vs Pearson correlation\n",
    "![Spearman only measures monotonic - both fail](img/spearman_vs_pearson_3.png)"
   ]
  },
  {
   "cell_type": "markdown",
   "metadata": {
    "slideshow": {
     "slide_type": "slide"
    }
   },
   "source": [
    "## Expression Patterns Still Correlate\n",
    "\n",
    "GTEx histograms of PTEN, with and without correction for GSC gene models and units.\n",
    "\n",
    "![model](img/PTEN_ENSG00000171862.png)"
   ]
  },
  {
   "cell_type": "markdown",
   "metadata": {
    "slideshow": {
     "slide_type": "slide"
    }
   },
   "source": [
    "## TF4CN Expression Outlier Post-mortem\n",
    "\n",
    "Among the problems identified were:\n",
    " * Different Gene model - effects only some genes\n",
    "  * Ensembl 74\n",
    "  * Longest Transcript vs collapsed model\n",
    " * Protocol difference - Ribodepleted vs PolyA\n",
    "  * Different extreme outliers based on read count distribution\n",
    " * Outlier cutoffs were not using log transform\n",
    "  * unlike Spearman Cancer types\n",
    "  * creates more outliers.\n",
    " * small number of illumnia reference values vs GTEx set\n",
    "  * makes identifying unusual behaviour much more difficult"
   ]
  },
  {
   "cell_type": "markdown",
   "metadata": {
    "slideshow": {
     "slide_type": "slide"
    }
   },
   "source": [
    "#### An Example of the greater problem\n",
    "\n",
    "\"RNA-seq expression levels of the majority of genes quantified are in the range of 4-10 (log2 of normalized_count) for TCGA, and 0-4 (log2 of RPKM) for GTEx,a consequence of the use of different analysis pipelines. \n",
    "\n",
    "This makes gene expression levels from the two projects not directly comparable.\"\n",
    "https://www.ncbi.nlm.nih.gov/pmc/articles/PMC5903355/"
   ]
  },
  {
   "cell_type": "markdown",
   "metadata": {
    "slideshow": {
     "slide_type": "slide"
    }
   },
   "source": [
    "# New Outlier Detection Methods\n",
    "\n",
    "Need methods to flag cancer related expression outliers, separate from confounding effects like gene models or RNAseq protocol.\n",
    "\n",
    "## PEER - Probabilistic Estimation of Expression Residuals\n",
    "\n",
    " * Used by GTEx\n",
    " * Bayesian framework to account for complex non-genetic factors in gene expression levels.\n",
    " \n",
    "![PEER factors](img/PEER_factors.png)\n",
    " \n",
    "https://www.sanger.ac.uk/science/tools/peer"
   ]
  },
  {
   "cell_type": "markdown",
   "metadata": {
    "slideshow": {
     "slide_type": "slide"
    }
   },
   "source": [
    "## PEER - Probabilistic Estimation of Expression Residuals\n",
    "\n",
    "Bayesian Method assigns probabilities and can be trained with labelled data:\n",
    " * Probability difference is experimental (Ribodepleted vs PolyA)\n",
    " * Probability of effect being FFPE processing\n",
    " * Probability of tumour content effect\n",
    " * Probability of gene being a cancer driver\n",
    " * Probability of drug response"
   ]
  },
  {
   "cell_type": "markdown",
   "metadata": {
    "slideshow": {
     "slide_type": "slide"
    }
   },
   "source": [
    "## OUTRIDER - Outlier in RNA-Seq Finder\n",
    "\n",
    "ML Autoencoder trained on typical gene covariations\n",
    "\n",
    "![outrider](img/OUTRIDER.png)\n",
    "https://doi.org/10.1016/j.ajhg.2018.10.025"
   ]
  },
  {
   "cell_type": "markdown",
   "metadata": {
    "slideshow": {
     "slide_type": "slide"
    }
   },
   "source": [
    "# Current Work\n",
    "\n",
    "## Make Use of GTEx Normals and Z-scores\n",
    "\n",
    " * GTEx offers a drastic increase in number of samples for comparison\n",
    "  * illumina bodymap ~ 1 reference for 16 tissues\n",
    "  * GTEx over 100 samples for > 30 tissues\n",
    " * to compare to a set of GTEx normals use:\n",
    "  * percentile rank\n",
    "  * Z-scores"
   ]
  },
  {
   "cell_type": "markdown",
   "metadata": {
    "slideshow": {
     "slide_type": "subslide"
    }
   },
   "source": [
    "## What is a Z-score?\n",
    " * Literature often refers to Z-score values\n",
    " * Preferred unit for cBioPortal expression\n",
    " \n",
    " Just means:\n",
    " #### Number of Standard Deviations away from Mean\n",
    "  * Z-score +2.5: Value is 2.5 std. above mean\n",
    "  * Z-score -1: Value is 1 std. below mean\n",
    "  * Z-score 0: Average"
   ]
  },
  {
   "cell_type": "markdown",
   "metadata": {
    "slideshow": {
     "slide_type": "subslide"
    }
   },
   "source": [
    "## Why use a Z-score?\n",
    "z = (x-mean)/std\n",
    "\n",
    "### Assuming the Reference is Normally Distributed\n",
    " * Standard statistical meaning:\n",
    "  * ~95% within 2 std of mean\n",
    "  * 99.7 within 3 std of mean\n",
    " * has no units:\n",
    "  * Compare between any types of experiments."
   ]
  },
  {
   "cell_type": "markdown",
   "metadata": {
    "slideshow": {
     "slide_type": "subslide"
    }
   },
   "source": [
    "## Using Z-score\n",
    "Statistical assumptions work better the more normalized the reference data\n",
    "![](img/PTEN_raw.png)"
   ]
  },
  {
   "cell_type": "markdown",
   "metadata": {
    "slideshow": {
     "slide_type": "subslide"
    }
   },
   "source": [
    "## Using Z-score\n",
    "Meaning is related to the quality of the reference\n",
    "![](img/TP53_by_tissue.png)"
   ]
  },
  {
   "cell_type": "markdown",
   "metadata": {
    "slideshow": {
     "slide_type": "subslide"
    }
   },
   "source": [
    "## Make Use of GTEx Z-scores\n",
    "\n",
    "Even simple statistics can flag outlier genes:\n",
    " * normal distribution deviance by skew and kurtosis\n",
    " * Chronic low / high vs our measurement - poor comparsion\n",
    "  * gene model problem\n",
    "  * experimental differences"
   ]
  },
  {
   "cell_type": "markdown",
   "metadata": {
    "slideshow": {
     "slide_type": "slide"
    }
   },
   "source": [
    "# Current Work\n",
    "\n",
    "## TMM -  trimmed mean of M-values normalization\n",
    " * per sample normalization\n",
    " * Assume most genes have standard expression\n",
    " * Ignore top / bottom quartile of differences\n",
    " * weighted fit of remaing genes"
   ]
  },
  {
   "cell_type": "markdown",
   "metadata": {
    "slideshow": {
     "slide_type": "subslide"
    }
   },
   "source": [
    "# Current Work\n",
    "\n",
    "## TMM-like -  Advanced\n",
    " * Some genes will have more consistent expression\n",
    "  * adjust fit weights to reflect this\n",
    "  * keep signal by omitting cancer genes from fitting"
   ]
  },
  {
   "cell_type": "markdown",
   "metadata": {
    "slideshow": {
     "slide_type": "slide"
    }
   },
   "source": [
    "#  Concepts Going Forward\n",
    "\n",
    " * Use log transform for statistics / machine learning\n",
    " * like mRNA -> protein expression, most relationships are probably gene specific\n",
    "  * mRNA to protein response is probably significant\n",
    "  * eg. Only some genes change with Ensembl version difference\n",
    "  * indivualistic responses to ribodepletion\n",
    " * Individual genes can be hit by experimental / modelling differences\n",
    "  * comparison to groups or scores of groups are more robust\n",
    " * Gene expression is highly correlated\n",
    " * Most genes express at very low levels"
   ]
  },
  {
   "cell_type": "markdown",
   "metadata": {
    "slideshow": {
     "slide_type": "slide"
    }
   },
   "source": [
    "# Thank You\n",
    "\n",
    "#### Many thanks to Karen Mungall\n",
    "\n",
    "#### All of the Clinical Informatics Team\n",
    " * For answering my many, many questions about expression\n",
    "\n",
    "#### Bioinformatics and PIPE\n",
    " * For supplying all many types of data\n",
    "\n",
    "#### SDEV\n",
    " * Great work by team members - letting me move on to this work\n",
    "\n",
    "#### Steve Jones Group\n",
    " * For ideas and advice"
   ]
  },
  {
   "cell_type": "markdown",
   "metadata": {
    "slideshow": {
     "slide_type": "notes"
    }
   },
   "source": [
    "## Going Forward\n",
    "\n",
    "### Statistical and ML Models\n",
    " * Pathway activation"
   ]
  },
  {
   "cell_type": "markdown",
   "metadata": {
    "slideshow": {
     "slide_type": "notes"
    }
   },
   "source": []
  },
  {
   "cell_type": "markdown",
   "metadata": {
    "slideshow": {
     "slide_type": "notes"
    }
   },
   "source": [
    "\n",
    "### Experimental Differences\n",
    "\n",
    " * Gene models used\n",
    "  * Ensembl69 vs Ensembl75 vs Ensembl92\n",
    "  * Collapsed model, or individual transcripts?\n",
    " * Ribodepleted\n",
    " \n",
    " Other complications:\n",
    "  * known factors - age, gender\n",
    "  * sample treatment - FFPE samples\n",
    "  * tumour content - mixtures\n",
    "  * hidden factors - environment, temperature"
   ]
  },
  {
   "cell_type": "markdown",
   "metadata": {
    "slideshow": {
     "slide_type": "notes"
    }
   },
   "source": [
    "# Expression Effects\n",
    "\n",
    "## Genes are highly correlated in expression\n",
    "\n",
    " * Expression as a pathway property\n",
    " * Altered pathway expression - re-wiring concept\n",
    " * Measure metabolite(s) cycle activity\n",
    " * Measure Transcription Factor Levels\n",
    " * Other genomic influences:\n",
    "  * Many SNPs, copy number changes alter expression\n",
    "  * Driver fusions creating inappropriate activity"
   ]
  },
  {
   "cell_type": "code",
   "execution_count": 3,
   "metadata": {
    "slideshow": {
     "slide_type": "skip"
    }
   },
   "outputs": [
    {
     "name": "stderr",
     "output_type": "stream",
     "text": [
      "2019-08-22 12:02:03 - root - INFO - logging\n",
      "2019-08-22 12:02:03 - root - INFO - logging\n",
      "2019-08-22 12:02:03 - root - INFO - Found: /home/dbleile/science/Xpress/gtex/data_cache/GTEx_Analysis_2016-01-15_v7_RNASeQCv1.1.8_gene_tpm.gct\n",
      "2019-08-22 12:02:03 - root - INFO - Found: /home/dbleile/science/Xpress/gtex/data_cache/GTEx_Analysis_2016-01-15_v7_RNASeQCv1.1.8_gene_median_tpm.gct\n",
      "2019-08-22 12:02:03 - root - INFO - Found: /home/dbleile/science/Xpress/gtex/data_cache/GTEx_v7_Annotations_SampleAttributesDS.txt\n",
      "2019-08-22 12:02:03 - root - INFO - Found: /home/dbleile/science/Xpress/gtex/data_cache/GTEx_Analysis_v7_Annotations_SampleAttributesDD.xlsx\n",
      "2019-08-22 12:02:03 - root - INFO - Found: /home/dbleile/science/Xpress/gtex/data_cache/GTEx_v7_Annotations_SubjectPhenotypesDS.txt\n"
     ]
    }
   ],
   "source": [
    "from gtex import GTEX_preprocess\n",
    "importlib.reload(GTEX_preprocess)\n",
    "gtex = GTEX_preprocess.GtexData()\n"
   ]
  },
  {
   "cell_type": "code",
   "execution_count": 4,
   "metadata": {
    "slideshow": {
     "slide_type": "skip"
    }
   },
   "outputs": [
    {
     "name": "stderr",
     "output_type": "stream",
     "text": [
      "2019-08-22 12:02:03 - root - INFO - Loading reference GTEX7 row table\n",
      "2019-08-22 12:02:34 - root - INFO - loading 3 GTEX TPM rows\n",
      "2019-08-22 12:02:44 - root - INFO - Gtex TPM partial table took 0.6869680285453796 minutes\n"
     ]
    }
   ],
   "source": [
    "tp53 = gtex.gtex_gene_table(['TP53', 'PTEN'])"
   ]
  },
  {
   "cell_type": "code",
   "execution_count": null,
   "metadata": {
    "slideshow": {
     "slide_type": "skip"
    }
   },
   "outputs": [],
   "source": []
  },
  {
   "cell_type": "code",
   "execution_count": null,
   "metadata": {
    "slideshow": {
     "slide_type": "skip"
    }
   },
   "outputs": [],
   "source": [
    "\n",
    "\n"
   ]
  },
  {
   "cell_type": "code",
   "execution_count": null,
   "metadata": {
    "slideshow": {
     "slide_type": "skip"
    }
   },
   "outputs": [
    {
     "name": "stderr",
     "output_type": "stream",
     "text": [
      "2019-08-22 12:02:44 - root - INFO - loading all rows\n"
     ]
    }
   ],
   "source": [
    "gtpm = gtex.gtex_gene_table(None)"
   ]
  },
  {
   "cell_type": "code",
   "execution_count": null,
   "metadata": {
    "slideshow": {
     "slide_type": "skip"
    }
   },
   "outputs": [],
   "source": [
    "gtpm = gtmp\n",
    "gtpm.head()"
   ]
  },
  {
   "cell_type": "code",
   "execution_count": null,
   "metadata": {
    "slideshow": {
     "slide_type": "skip"
    }
   },
   "outputs": [],
   "source": []
  },
  {
   "cell_type": "code",
   "execution_count": 1,
   "metadata": {
    "slideshow": {
     "slide_type": "notes"
    }
   },
   "outputs": [
    {
     "name": "stdout",
     "output_type": "stream",
     "text": [
      "  Unnamed: 0  Adipose Tissue  Adrenal Gland       Bladder          Blood\n",
      "0      count    56202.000000   56202.000000  56202.000000   56202.000000\n",
      "1       mean       16.335619      17.107780     16.663300      15.233666\n",
      "2        std      398.650451     582.642470    351.055527    1113.018285\n",
      "3        min        0.000000       0.000000      0.000000       0.000000\n",
      "4        25%        0.000000       0.000000      0.000000       0.000000\n",
      "5        50%        0.000000       0.000000      0.000000       0.000000\n",
      "6        75%        1.897000       1.492375      2.668000       0.492100\n",
      "7        max    38300.000000   60775.000000  34110.000000  246600.000000\n"
     ]
    }
   ],
   "source": [
    "import importlib\n",
    "import os, sys, glob\n",
    "\n",
    "import pandas as pd\n",
    "import numpy as np\n",
    "import seaborn as sns\n",
    "import pathlib\n",
    "script_dir = pathlib.Path().resolve()\n",
    "\n",
    "gm_fn = os.path.join(script_dir, 'tables', 'GTEX_tissue_medians_desc.tsv')\n",
    "gm = pd.read_csv(gm_fn, sep='\\t')\n",
    "print(gm[gm.columns[:5]])"
   ]
  },
  {
   "cell_type": "code",
   "execution_count": 2,
   "metadata": {
    "slideshow": {
     "slide_type": "notes"
    }
   },
   "outputs": [
    {
     "name": "stdout",
     "output_type": "stream",
     "text": [
      "  Unnamed: 0  Adipose Tissue  Adrenal Gland      Bladder        Blood\n",
      "0      count      779.000000     779.000000   779.000000   779.000000\n",
      "1       mean       50.191434      33.618767    49.578746    50.097736\n",
      "2        std      158.616941     101.872038   131.885045   360.652820\n",
      "3        min        0.000000       0.000000     0.000000     0.000000\n",
      "4        25%        4.507500       2.593250     5.602000     0.576500\n",
      "5        50%       14.680000      10.005000    18.820000     5.052000\n",
      "6        75%       33.765000      25.515000    41.905000    20.595000\n",
      "7        max     1979.000000    1084.500000  1770.000000  8644.000000\n"
     ]
    }
   ],
   "source": [
    "gmo_fn = os.path.join(script_dir, 'tables', 'GTEX_tissue_medians_onco_ts.tsv')\n",
    "gmo = pd.read_csv(gmo_fn, sep='\\t')\n",
    "print(gmo[gmo.columns[:5]])"
   ]
  }
 ],
 "metadata": {
  "celltoolbar": "Slideshow",
  "kernelspec": {
   "display_name": "Python 3",
   "language": "python",
   "name": "python3"
  },
  "language_info": {
   "codemirror_mode": {
    "name": "ipython",
    "version": 3
   },
   "file_extension": ".py",
   "mimetype": "text/x-python",
   "name": "python",
   "nbconvert_exporter": "python",
   "pygments_lexer": "ipython3",
   "version": "3.7.3"
  }
 },
 "nbformat": 4,
 "nbformat_minor": 2
}
